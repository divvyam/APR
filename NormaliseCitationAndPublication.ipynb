{
 "cells": [
  {
   "cell_type": "code",
   "execution_count": 49,
   "metadata": {},
   "outputs": [],
   "source": [
    "import pandas as pd\n",
    "import numpy as np"
   ]
  },
  {
   "cell_type": "code",
   "execution_count": 50,
   "metadata": {},
   "outputs": [],
   "source": [
    "df = pd.read_csv(\"Data/Author_Table.csv\")"
   ]
  },
  {
   "cell_type": "code",
   "execution_count": 51,
   "metadata": {},
   "outputs": [],
   "source": [
    "# df.head()\n"
   ]
  },
  {
   "cell_type": "code",
   "execution_count": 41,
   "metadata": {},
   "outputs": [],
   "source": [
    "# max_pub = max(df[\"Number Of Publications\"].tolist())\n",
    "# max_cit = max(df[\"Number Of Citations\"].tolist())"
   ]
  },
  {
   "cell_type": "code",
   "execution_count": 42,
   "metadata": {},
   "outputs": [],
   "source": [
    "# df[\"Number Of Citations\"] = df.apply(lambda row:row[\"Number Of Citations\"]/max_cit , axis = 1)\n",
    "# df[\"Number Of Publications\"] = df.apply(lambda row:row[\"Number Of Publications\"]/max_pub , axis=1)"
   ]
  },
  {
   "cell_type": "code",
   "execution_count": 43,
   "metadata": {},
   "outputs": [],
   "source": [
    "# df.to_csv(\"Data/Author_Table.csv\")"
   ]
  },
  {
   "cell_type": "code",
   "execution_count": 44,
   "metadata": {},
   "outputs": [],
   "source": [
    "# pub_list = df[\"Number Of Publications\"].tolist()\n",
    "# cit_list = df[\"Number Of Citations\"].tolist()\n",
    "# pap_list = df[\"Number Of Papers\"].tolist()\n",
    "# # score_list = df[\"Author Score\"].tolist()"
   ]
  },
  {
   "cell_type": "code",
   "execution_count": 45,
   "metadata": {},
   "outputs": [],
   "source": [
    "# pub_list = np.interp(pub_list, (min(pub_list), max(pub_list)), (0, 1))\n",
    "# cit_list = np.interp(pub_list, (min(cit_list), max(cit_list)), (0, 1))\n",
    "# pap_list = np.interp(pap_list, (min(pap_list), max(pap_list)), (0, 1))\n",
    "# # score_list = np.interp(score_list, (min(score_list), max(score_list)), (0, 2))"
   ]
  },
  {
   "cell_type": "code",
   "execution_count": 46,
   "metadata": {},
   "outputs": [],
   "source": [
    "# df[\"Number Of Publications\"] = pub_list\n",
    "# df[\"Number Of Citations\"] = cit_list\n",
    "# # df[\"Author Score\"] = score_list\n",
    "# df[\"Number Of Papers\"] = pap_list"
   ]
  },
  {
   "cell_type": "code",
   "execution_count": 47,
   "metadata": {},
   "outputs": [],
   "source": []
  },
  {
   "cell_type": "code",
   "execution_count": 52,
   "metadata": {},
   "outputs": [],
   "source": [
    "import math\n",
    "\n",
    "def sigmoid(x):\n",
    "  return 1 / (1 + math.exp(-x))"
   ]
  },
  {
   "cell_type": "code",
   "execution_count": 53,
   "metadata": {},
   "outputs": [],
   "source": [
    "df['Number Of Publications'] = df.apply (lambda row: sigmoid(row[\"Number Of Publications\"]),axis=1)\n",
    "df['Number Of Citations'] = df.apply (lambda row: sigmoid(row[\"Number Of Citations\"]),axis=1)\n",
    "df['Number Of Papers'] = df.apply (lambda row: sigmoid(row[\"Number Of Papers\"]),axis=1)"
   ]
  },
  {
   "cell_type": "code",
   "execution_count": 54,
   "metadata": {},
   "outputs": [],
   "source": [
    "df.to_csv(\"Data/Author_Table_Normalised.csv\")"
   ]
  },
  {
   "cell_type": "code",
   "execution_count": null,
   "metadata": {},
   "outputs": [],
   "source": []
  }
 ],
 "metadata": {
  "kernelspec": {
   "display_name": "Python 3",
   "language": "python",
   "name": "python3"
  },
  "language_info": {
   "codemirror_mode": {
    "name": "ipython",
    "version": 3
   },
   "file_extension": ".py",
   "mimetype": "text/x-python",
   "name": "python",
   "nbconvert_exporter": "python",
   "pygments_lexer": "ipython3",
   "version": "3.6.5"
  }
 },
 "nbformat": 4,
 "nbformat_minor": 2
}
