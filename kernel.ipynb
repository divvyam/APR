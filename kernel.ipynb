{
  "cells": [
    {
      "metadata": {
        "_uuid": "f9611f2ca8bcdc2cd69bd73cf7d487298d0db71b",
        "trusted": true
      },
      "cell_type": "code",
      "source": "import os\nimport csv\nimport pandas as pd\nimport numpy as np\n\nimport datetime\nfrom pandas.io.json import json_normalize\nimport matplotlib.pyplot as plt\nimport seaborn as sns\ncolor = sns.color_palette()\n\n%matplotlib inline\n\nfrom plotly import tools\nimport plotly.offline as py\npy.init_notebook_mode(connected=True)\nimport plotly.graph_objs as go\nimport squarify\n\nfrom sklearn import model_selection, preprocessing, metrics\nplt.style.use('fivethirtyeight')\n\nprint(os.getcwd())\nprint(os.listdir(\"../\"))",
      "execution_count": 23,
      "outputs": [
        {
          "output_type": "display_data",
          "data": {
            "text/html": "<script>requirejs.config({paths: { 'plotly': ['https://cdn.plot.ly/plotly-latest.min']},});if(!window.Plotly) {{require(['plotly'],function(plotly) {window.Plotly=plotly;});}}</script>",
            "text/vnd.plotly.v1+html": "<script>requirejs.config({paths: { 'plotly': ['https://cdn.plot.ly/plotly-latest.min']},});if(!window.Plotly) {{require(['plotly'],function(plotly) {window.Plotly=plotly;});}}</script>"
          },
          "metadata": {}
        },
        {
          "output_type": "stream",
          "text": "/kaggle/working\n['input', 'lib', 'working', 'config']\n",
          "name": "stdout"
        }
      ]
    },
    {
      "metadata": {
        "trusted": true,
        "_uuid": "5127f593b7904517534101518c7b81e7f2be74ee"
      },
      "cell_type": "code",
      "source": "def create_csv_file(txt_file, csv_file):\n    \"\"\"\n    converts a text file into csv_file.\n    function expects the column values and given starting expression in text for its identification to be \"same\".\n    \"\"\"\n    with open(txt_file,\"r\") as input_file, open(csv_file, \"w\") as csv_file:\n        column = {\"PaperTitle\":\"\", \"Authors\":\"\", \"Year\":\"\",\"Publication_Venue\":\"\", \"Index_Id\":\"\", \"References_Id\":\"\",\"Abstract\":\"\"}\n        writer = csv.writer(csv_file)\n        writer.writerow(column.keys())\n        for l in input_file.readlines():\n            l = l.strip()\n            if l.startswith(\"#*\"):\n                column[\"PaperTitle\"] = l[2:]\n            elif l.startswith(\"#@\"):\n                column[\"Authors\"] = l[2:]\n            elif l.startswith(\"#t\"):\n                column[\"Year\"] = l[2:]\n            elif l.startswith(\"#c\"):\n                column[\"Publication_Venue\"] = l[2:]\n            elif l.startswith(\"#index\"):\n                column[\"Index_Id\"] = l[6:]\n            elif l.startswith(\"#%\"):\n                references = column.get(\"References_Id\",\"\")\n                references += \":\" + l[2:]\n                column[\"References_Id\"] = references\n            elif l.startswith(\"#!\"):\n                column[\"Abstract\"] = l[2:]\n            elif l == \"\":\n                writer.writerow(column.values())\n                column = {\"PaperTitle\":\"\", \"Authors\":\"\", \"Year\":\"\",\"Publication_Venue\":\"\", \"Index_Id\":\"\", \"References_Id\":\"\",\"Abstract\":\"\"}\n            else:\n                print(\"dump of invalid data for {}:{}\".format(column[\"PaperTitle\"],l))",
      "execution_count": 24,
      "outputs": []
    },
    {
      "metadata": {
        "trusted": true,
        "_uuid": "3c3021e41122fdc6fdc0ccbbacfe473fd63c73cb"
      },
      "cell_type": "code",
      "source": "# CSV CONVERSION NOT NEEDED AS CSV FILE IS LOADED HERE\n# txt_file = \"../acm.txt\"\n# csv_file = \"../acm.csv\"\n# create_csv_file(txt_file, csv_file)",
      "execution_count": 25,
      "outputs": []
    },
    {
      "metadata": {
        "trusted": true,
        "_uuid": "0e688c6727cf4ab6a421bd687246277ece37b229"
      },
      "cell_type": "code",
      "source": "# CSV CONVERSION NOT NEEDED AS CSV FILE IS LOADED HERE\n# txt_file = \"../dblp.txt\"\n# csv_file = \"../dblp.csv\"\n# create_csv_file(txt_file, csv_file)",
      "execution_count": 28,
      "outputs": []
    },
    {
      "metadata": {
        "_uuid": "6a6e05230bb74b64a68ad8d2ab90ba592645ce4e",
        "trusted": true
      },
      "cell_type": "code",
      "source": "#load dataframe from csv\n%timeit\ndf = pd.read_csv(\"../input/acm.csv\")",
      "execution_count": 29,
      "outputs": []
    },
    {
      "metadata": {
        "trusted": false,
        "_uuid": "eb91e2d9e8304655d256125322bd90347d09be28"
      },
      "cell_type": "code",
      "source": "#DBLP indexid\n# %timeit\n# df2 = pd.read_csv(\"../dblp.csv\")",
      "execution_count": null,
      "outputs": []
    },
    {
      "metadata": {
        "_uuid": "c28973d6c010553658e801d04ce5cff6e4ddaff9",
        "trusted": false
      },
      "cell_type": "code",
      "source": "# df2.info()",
      "execution_count": null,
      "outputs": []
    },
    {
      "metadata": {
        "_uuid": "b506344c3ae7c626af27aebcc0f464a8baf0dd29"
      },
      "cell_type": "markdown",
      "source": "sample dataset"
    },
    {
      "metadata": {
        "trusted": false,
        "_uuid": "c49285a3d667e19f5a6df78b1faf58e1f3f65d09"
      },
      "cell_type": "code",
      "source": "# df2.head()",
      "execution_count": null,
      "outputs": []
    },
    {
      "metadata": {
        "_uuid": "43c2516f163f1294ba7a5f84fd6c3162e955a59d",
        "trusted": true
      },
      "cell_type": "code",
      "source": "df.head()",
      "execution_count": 30,
      "outputs": [
        {
          "output_type": "execute_result",
          "execution_count": 30,
          "data": {
            "text/plain": "                                          PaperTitle   ...    Abstract\n0  MOSFET table look-up models for circuit simula...   ...         NaN\n1  The verification of the protection mechanisms ...   ...         NaN\n2  Another view of functional and multivalued dep...   ...         NaN\n3     Entity-relationship diagrams which are in BCNF   ...         NaN\n4                          The computer comes of age   ...         NaN\n\n[5 rows x 7 columns]",
            "text/html": "<div>\n<style scoped>\n    .dataframe tbody tr th:only-of-type {\n        vertical-align: middle;\n    }\n\n    .dataframe tbody tr th {\n        vertical-align: top;\n    }\n\n    .dataframe thead th {\n        text-align: right;\n    }\n</style>\n<table border=\"1\" class=\"dataframe\">\n  <thead>\n    <tr style=\"text-align: right;\">\n      <th></th>\n      <th>PaperTitle</th>\n      <th>Authors</th>\n      <th>Year</th>\n      <th>Publication_Venue</th>\n      <th>Index_Id</th>\n      <th>References_Id</th>\n      <th>Abstract</th>\n    </tr>\n  </thead>\n  <tbody>\n    <tr>\n      <th>0</th>\n      <td>MOSFET table look-up models for circuit simula...</td>\n      <td>NaN</td>\n      <td>1984.0</td>\n      <td>Integration, the VLSI Journal</td>\n      <td>1</td>\n      <td>NaN</td>\n      <td>NaN</td>\n    </tr>\n    <tr>\n      <th>1</th>\n      <td>The verification of the protection mechanisms ...</td>\n      <td>Virgil D. Gligor</td>\n      <td>1984.0</td>\n      <td>International Journal of Parallel Programming</td>\n      <td>2</td>\n      <td>NaN</td>\n      <td>NaN</td>\n    </tr>\n    <tr>\n      <th>2</th>\n      <td>Another view of functional and multivalued dep...</td>\n      <td>M. Gyssens, J. Paredaens</td>\n      <td>1984.0</td>\n      <td>International Journal of Parallel Programming</td>\n      <td>3</td>\n      <td>NaN</td>\n      <td>NaN</td>\n    </tr>\n    <tr>\n      <th>3</th>\n      <td>Entity-relationship diagrams which are in BCNF</td>\n      <td>Sushil Jajodia, Peter A. Ng, Frederick N. Spri...</td>\n      <td>1984.0</td>\n      <td>International Journal of Parallel Programming</td>\n      <td>4</td>\n      <td>NaN</td>\n      <td>NaN</td>\n    </tr>\n    <tr>\n      <th>4</th>\n      <td>The computer comes of age</td>\n      <td>Rene Moreau</td>\n      <td>1984.0</td>\n      <td>The computer comes of age</td>\n      <td>5</td>\n      <td>NaN</td>\n      <td>NaN</td>\n    </tr>\n  </tbody>\n</table>\n</div>"
          },
          "metadata": {}
        }
      ]
    },
    {
      "metadata": {
        "trusted": false,
        "_uuid": "f9af68207acf0368fc218698720882651791bba7"
      },
      "cell_type": "code",
      "source": "###### TODO1: check if there are common \"research papers\" in DBLP and ACM dataset \n###### TODO2: combine the 2 datasets (indexid's format is different)",
      "execution_count": null,
      "outputs": []
    },
    {
      "metadata": {
        "_uuid": "9558cbbc5838ffd382a18ff88494c3fce65b3d0c"
      },
      "cell_type": "markdown",
      "source": "***count_reference*** represents the number of times particular paper got referred in our dataset"
    },
    {
      "metadata": {
        "_uuid": "af8e630e786f4413f46b15ba362feeff6c04588d",
        "trusted": true
      },
      "cell_type": "code",
      "source": "df[\"count_reference\"] = 0",
      "execution_count": 31,
      "outputs": []
    },
    {
      "metadata": {
        "_uuid": "e381429f3807f51ec3f452e9223236a7eaa691dd"
      },
      "cell_type": "markdown",
      "source": "####YEAR"
    },
    {
      "metadata": {
        "_uuid": "945612bc1754af22226f2bbe6923c94576d3b10a",
        "trusted": true
      },
      "cell_type": "code",
      "source": "df[\"Year\"] = df[\"Year\"].fillna(0)\ndf[\"Year\"] = df[\"Year\"].astype(int)",
      "execution_count": 32,
      "outputs": []
    },
    {
      "metadata": {
        "_uuid": "ec470afedc3fe7a2b42b801dfc18a415ca7125fd"
      },
      "cell_type": "markdown",
      "source": "**Rows with NaN year**"
    },
    {
      "metadata": {
        "_uuid": "90822b90afd5523486f03a082bc8c3cf4410b70e",
        "trusted": false
      },
      "cell_type": "code",
      "source": "df[df[\"Year\"] == 0].shape",
      "execution_count": null,
      "outputs": []
    },
    {
      "metadata": {
        "_uuid": "c93b816ebca64a2d17d03a9e0727a5c32834ed5f"
      },
      "cell_type": "markdown",
      "source": "***Year of publication distribution in the data***"
    },
    {
      "metadata": {
        "_uuid": "841951a6799cf34fc1bdd4e008a1f0fe23c4f06d",
        "trusted": false
      },
      "cell_type": "code",
      "source": "ydf = df[df[\"Year\"]!=0]\nplt.figure(figsize=(8,6))\nplt.scatter(range(ydf.shape[0]), np.sort(ydf[\"Year\"].values))\nplt.xlabel('index', fontsize=12)\nplt.ylabel('Year', fontsize=12)\nplt.title(\"Year Distribution\", fontsize=20) \nplt.show()",
      "execution_count": null,
      "outputs": []
    },
    {
      "metadata": {
        "_uuid": "9fa52401347933c30c141991e33f9f80a014b455",
        "trusted": true
      },
      "cell_type": "code",
      "source": "df.isna().sum()",
      "execution_count": 64,
      "outputs": [
        {
          "output_type": "execute_result",
          "execution_count": 64,
          "data": {
            "text/plain": "PaperTitle                46\nAuthors               151075\nYear                       0\nPublication_Venue        139\nIndex_Id                   0\nReferences_Id        1344739\nAbstract              713788\ncount_reference            0\ndtype: int64"
          },
          "metadata": {}
        }
      ]
    },
    {
      "metadata": {
        "trusted": false,
        "_uuid": "b1d735f9b259a102462c35d25cad6ef0549da7b0"
      },
      "cell_type": "code",
      "source": "###### TODO3: DATA-CLEAN",
      "execution_count": null,
      "outputs": []
    },
    {
      "metadata": {
        "_uuid": "9f678c04583087367ee85f99f458f3e7789ba1e2",
        "trusted": false
      },
      "cell_type": "code",
      "source": "print(df.dtypes)",
      "execution_count": null,
      "outputs": []
    },
    {
      "metadata": {
        "_uuid": "6398fea4893f846804cbba7e1e775fb23ca61917",
        "scrolled": true,
        "trusted": false
      },
      "cell_type": "code",
      "source": "df[\"Index_Id\"].unique()\nprint(any(df['Index_Id'].duplicated())) \nprint(len(df['Index_Id'].unique()))\nprint(len(df.index))",
      "execution_count": null,
      "outputs": []
    },
    {
      "metadata": {
        "_uuid": "f07695dcd1546f6eff08c888fc199eb4529ec39a"
      },
      "cell_type": "markdown",
      "source": "> Index_Id = 2381731 is duplicated 9 times , It points to 7 different papers and has 82080 references."
    },
    {
      "metadata": {
        "_uuid": "82ee9fde1dc5c6582d06a66467be6a30e0d4a0f5",
        "scrolled": true,
        "trusted": false
      },
      "cell_type": "code",
      "source": "df[df.duplicated(subset=\"Index_Id\")]",
      "execution_count": null,
      "outputs": []
    },
    {
      "metadata": {
        "trusted": false,
        "_uuid": "bcdae54f578d6dd2b12a0c388e3f13eb90cd1fd1"
      },
      "cell_type": "code",
      "source": "df.Index_Id.describe()",
      "execution_count": null,
      "outputs": []
    },
    {
      "metadata": {
        "_uuid": "4df5c6d9f93618118a9c86142f24cfa0de5dd76a",
        "trusted": true
      },
      "cell_type": "code",
      "source": "reference_count = {}\nfor references in df[df[\"References_Id\"].notnull()][\"References_Id\"]:\n    ref_list = map(int,references.strip(\":\").split(\":\"))\n    for ref in ref_list:\n        if ref in reference_count:\n            reference_count[ref] += 1\n        else:\n            reference_count[ref] = 1\nprint(reference_count[2381731])",
      "execution_count": 33,
      "outputs": [
        {
          "output_type": "stream",
          "text": "82080\n",
          "name": "stdout"
        }
      ]
    },
    {
      "metadata": {
        "_uuid": "57a7842f6d4e00ac95113cff132ca69786291e4d",
        "scrolled": true,
        "trusted": true
      },
      "cell_type": "code",
      "source": "def update_ref_count(row):\n    if row['Index_Id'] in reference_count:\n        return reference_count[row['Index_Id']]\n    else:\n        return 0\ndf[\"count_reference\"] = df.apply(lambda row: update_ref_count(row),axis=1)",
      "execution_count": 34,
      "outputs": []
    },
    {
      "metadata": {
        "_uuid": "e75728b3b73e1d770aac26483e15f3dbe7b8c086",
        "trusted": false
      },
      "cell_type": "code",
      "source": "print(df.head(5))",
      "execution_count": null,
      "outputs": []
    },
    {
      "metadata": {
        "_uuid": "f7a15b3c25aecce994483983ba8945b345c328f2",
        "trusted": false
      },
      "cell_type": "code",
      "source": "sorted_by_value = sorted(reference_count.items(), key=lambda kv: kv[1],reverse=True)\nprint(sorted_by_value[:10])\nprint([row[0] for row in sorted_by_value[:10]])\nprint([row[1] for row in sorted_by_value[:10]])",
      "execution_count": null,
      "outputs": []
    },
    {
      "metadata": {
        "_uuid": "fd3884ff9915ad460cb7a3cc42e6b0daf7933ebd",
        "trusted": false
      },
      "cell_type": "code",
      "source": "x_values = [row[0] for row in sorted_by_value[:10]]\ny_values = [row[1] for row in sorted_by_value[:10]]\nx_pos = np.arange(len(x_values))\nplt.figure(figsize=(13,7))\nplt.bar(x_pos,y_values, align='center', alpha=1)\nplt.xticks(x_pos,x_values)\nplt.ylabel('reference count')\nplt.title('Top 10 paper by reference')\n \nplt.show()",
      "execution_count": null,
      "outputs": []
    },
    {
      "metadata": {
        "_uuid": "b05c12bc8a957e296ac66079960fb20e65ab7800",
        "trusted": false
      },
      "cell_type": "code",
      "source": "df[\"Authors\"] = df[\"Authors\"].fillna('')\nprint(any(df[\"Authors\"].isna()))\ndf[df['Authors'].str.contains('-')]",
      "execution_count": null,
      "outputs": []
    },
    {
      "metadata": {
        "_uuid": "92095baeafab868d654d0db2a24cde58942631bb",
        "trusted": false
      },
      "cell_type": "code",
      "source": "print(df[\"Authors\"].shape)\nprint(df[df['Authors'].str.isalpha()].shape)",
      "execution_count": null,
      "outputs": []
    },
    {
      "metadata": {
        "_uuid": "1287fe413d39e628acb6ebea602464246c804743",
        "trusted": false
      },
      "cell_type": "code",
      "source": "df[df['Authors'].str.isalpha()]",
      "execution_count": null,
      "outputs": []
    },
    {
      "metadata": {
        "_uuid": "3efeaa8eb3d33cd2b7bd6626fdb1a314613e09af",
        "trusted": false
      },
      "cell_type": "code",
      "source": "df2 = df.filter(regex='spike')",
      "execution_count": null,
      "outputs": []
    },
    {
      "metadata": {
        "trusted": false,
        "_uuid": "57a529a0cdecfcb7be1aaf058e4e8b493c543eb0"
      },
      "cell_type": "code",
      "source": "df[df[\"Index_Id\"].isin(inlink[2135000])].shape",
      "execution_count": null,
      "outputs": []
    },
    {
      "metadata": {
        "_uuid": "8c40ee0b1e3b0b4e81d5c886cd434b51241886b6"
      },
      "cell_type": "markdown",
      "source": "Above paper is referenced by 9770 other papers"
    },
    {
      "metadata": {
        "trusted": true,
        "_uuid": "0c1d024662d34076d45f28d5564f221e4a361a68"
      },
      "cell_type": "code",
      "source": "inlink = {}\noutlink = {}\n#Test for smaller set\ntestset_len = 10000\nfor _t, row in df[df[\"References_Id\"].notnull()].iterrows():\n    ref = row[\"References_Id\"]\n    index = row[\"Index_Id\"]\n    ref_list = list(map(int,ref.strip(\":\").split(\":\")))\n    outlink[index] = ref_list\n    for r in ref_list:\n        inlist = inlink.get(r,[])\n        inlist.append(index)\n        inlink[r] = inlist\n    #Test for smaller set\n    testset_len -= 1\n    if not testset_len:\n        testset_len = 10000\n        break",
      "execution_count": 35,
      "outputs": []
    },
    {
      "metadata": {
        "trusted": true,
        "_uuid": "239e0a68c712213bd4b5ebb48b925ae6f0854c0b"
      },
      "cell_type": "code",
      "source": "#Test for smaller set\n#pagerank = { row[\"Index_Id\"]:1 for _t, row in df[:testset_len].iterrows()}\n#complete set\npagerank = { row[\"Index_Id\"]:1 for _t, row in df.iterrows()}",
      "execution_count": 36,
      "outputs": []
    },
    {
      "metadata": {
        "trusted": true,
        "_uuid": "de81823d93d9cf7b8a6993be7d498579c4d7e267"
      },
      "cell_type": "code",
      "source": "def create_pagerank(theta, pagerank,page_year, inlink, outlink):\n    updated_pagerank = {}\n    iterations = 0\n    year_citation_count = { page_year[index]:0 for index in page_year}\n    year_paper_count = { page_year[index]:0 for index in page_year}\n    avg_year_citation_count = {}\n    for index in page_year:\n        year = page_year[index]\n        len_outlink = len(outlink.get(index, []))\n        if len_outlink > 0:\n            year_citation_count[year] += len_outlink\n            year_paper_count[year] += 1\n    for year in year_citation_count:\n        if year_paper_count[year] > 0:\n            avg_year_citation_count[year] = year_citation_count[year]/year_paper_count[year]\n    while True:\n        flag = True\n        for index_id, current_score in pagerank.items():\n            if index_id in inlink:\n                inlink_list = inlink[index_id]\n                new_score = 0.0\n                for link in inlink_list:\n                    len_outlink = len(outlink.get(link, []))\n                    if link in pagerank:\n                        new_score += pagerank[link]/len_outlink\n                new_score = (1.0 - theta) + float(theta)**new_score\n                #new_score = (1.0 - theta) + float(theta)**(new_score/avg_year_citation_count[page_year[index_id]])\n                if current_score != new_score:\n                    flag = False\n                updated_pagerank[index_id] = new_score\n        iterations += 1\n        if flag == True:\n            break\n        pagerank = updated_pagerank\n        del updated_pagerank\n        updated_pagerank = {}\n    print(f\"number of iterations:{iterations}\")\n    #normalize the score\n    max_score = max(pagerank.values())\n    print(f\"max score is {max_score}\")\n    pagerank = { index:score/max_score for index, score in pagerank.items()}",
      "execution_count": 62,
      "outputs": []
    },
    {
      "metadata": {
        "trusted": true,
        "_uuid": "2a7c8fea0cf1a81c19a9649caaea84f543668aab"
      },
      "cell_type": "code",
      "source": "theta = 0.85\npage_year = {row[\"Index_Id\"]:row[\"Year\"] for _t, row in df.iterrows()}\ncreate_pagerank(theta, pagerank, page_year, inlink, outlink)",
      "execution_count": 63,
      "outputs": [
        {
          "output_type": "stream",
          "text": "number of iterations:16\nmax score is 1.15\n",
          "name": "stdout"
        }
      ]
    },
    {
      "metadata": {
        "trusted": true,
        "_uuid": "c8ae0d21412a6bd99af9b1e0df63b6d8cec02c52"
      },
      "cell_type": "code",
      "source": "df.shape",
      "execution_count": 65,
      "outputs": [
        {
          "output_type": "execute_result",
          "execution_count": 65,
          "data": {
            "text/plain": "(2385066, 8)"
          },
          "metadata": {}
        }
      ]
    },
    {
      "metadata": {
        "trusted": true,
        "_uuid": "e2893ddd671c8279223bd173b31b0118bcf6c3c7"
      },
      "cell_type": "code",
      "source": "import seaborn as sns\nsns.set(rc={'figure.figsize':(11.7,8.27)})\nsns.set(style=\"darkgrid\")\nax = sns.countplot(x=\"Year\", data=df)",
      "execution_count": 67,
      "outputs": [
        {
          "output_type": "display_data",
          "data": {
            "text/plain": "<Figure size 842.4x595.44 with 1 Axes>",
            "image/png": "[encoded data removed]"
          },
          "metadata": {}
        }
      ]
    },
    {
      "metadata": {
        "trusted": true,
        "_uuid": "ebd4b828ba1ac43e2dc1b6c07e865adfad0da612"
      },
      "cell_type": "code",
      "source": "    year_citation_count = { page_year[index]:0 for index in page_year}\n    year_paper_count = { page_year[index]:0 for index in page_year}\n    avg_year_citation_count = {}\n    for index in page_year:\n        year = page_year[index]\n        len_outlink = len(outlink.get(index, []))\n        if len_outlink > 0:\n            year_citation_count[year] += len_outlink\n            year_paper_count[year] += 1\n    for year in year_citation_count:\n        if year_paper_count[year] > 0:\n            avg_year_citation_count[year] = year_citation_count[year]/year_paper_count[year]",
      "execution_count": 60,
      "outputs": []
    },
    {
      "metadata": {
        "trusted": true,
        "_uuid": "1a4003540f1ef3ed26b8353a5e2bd28095584a3d"
      },
      "cell_type": "code",
      "source": "print(year_citation_count)",
      "execution_count": 61,
      "outputs": [
        {
          "output_type": "stream",
          "text": "{1984: 1126, 1983: 158, 1982: 19, 1981: 0, 1985: 3093, 2000: 423, 1986: 8909, 1979: 0, 1977: 0, 1987: 14225, 1978: 0, 1996: 0, 1976: 0, 1988: 18635, 1969: 0, 1980: 0, 1957: 0, 1989: 22705, 1999: 0, 1990: 5125, 1998: 0, 1971: 0, 1992: 0, 1991: 0, 1993: 0, 1994: 0, 1995: 0, 1970: 0, 1972: 0, 2010: 0, 2011: 0, 0: 0, 1997: 0, 2013: 0, 1954: 0, 1955: 0, 1956: 0, 1958: 0, 1959: 0, 1960: 0, 1961: 0, 1962: 0, 1963: 0, 1964: 0, 1965: 0, 1966: 0, 1967: 0, 1968: 0, 1973: 0, 1974: 0, 1975: 0, 2001: 0, 2002: 0, 2009: 0, 2003: 0, 2012: 0, 2004: 0, 1952: 0, 2005: 0, 1951: 0, 1941: 0, 1953: 0, 1950: 0, 1947: 0, 1949: 0, 1936: 0, 2008: 0, 2006: 0, 2007: 0, 1938: 0, 1945: 0, 2014: 0, 2015: 0, 2016: 0}\n",
          "name": "stdout"
        }
      ]
    },
    {
      "metadata": {
        "trusted": true,
        "_uuid": "b86d9ea604d1aed36b37ba0eb087e7388fc8d595"
      },
      "cell_type": "code",
      "source": "#TODO: Citation data is not in link with the papers published. Need to clean this to get better score on time-data independency.",
      "execution_count": null,
      "outputs": []
    },
    {
      "metadata": {
        "trusted": false,
        "_uuid": "8c78ab61fb14562422d6cfb1e47220e27f0829c4"
      },
      "cell_type": "code",
      "source": "len(set(pagerank.keys()))\ndel inlink\ndel outlink",
      "execution_count": null,
      "outputs": []
    },
    {
      "metadata": {
        "trusted": false,
        "_uuid": "f451f04a6bf78c23ad4e2f2f4206041b2092ad19"
      },
      "cell_type": "code",
      "source": "def update_rank(row):\n    if row[\"Index_Id\"] in page_rank:\n        return page_rank[row[\"Index_Id\"]]\n    else:\n        return 0",
      "execution_count": null,
      "outputs": []
    },
    {
      "metadata": {
        "trusted": false,
        "_uuid": "945b1d953d5fdd3318c5a336f80ff0d1cceb5377"
      },
      "cell_type": "code",
      "source": "df[\"page_rank\"] = 0\ndf[\"page_rank\"] = df.apply(lambda row: update_rank(row),axis = 1)\ndf.to_csv(\"ranked_acm_1.csv\")",
      "execution_count": null,
      "outputs": []
    }
  ],
  "metadata": {
    "kernelspec": {
      "display_name": "Python 3",
      "language": "python",
      "name": "python3"
    },
    "language_info": {
      "codemirror_mode": {
        "name": "ipython",
        "version": 3
      },
      "file_extension": ".py",
      "mimetype": "text/x-python",
      "name": "python",
      "nbconvert_exporter": "python",
      "pygments_lexer": "ipython3",
      "version": "3.6.5"
    }
  },
  "nbformat": 4,
  "nbformat_minor": 1
}