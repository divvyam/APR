{
 "cells": [
  {
   "cell_type": "code",
   "execution_count": 104,
   "metadata": {
    "_uuid": "f9611f2ca8bcdc2cd69bd73cf7d487298d0db71b"
   },
   "outputs": [
    {
     "data": {
      "text/html": [
       "<script>requirejs.config({paths: { 'plotly': ['https://cdn.plot.ly/plotly-latest.min']},});if(!window.Plotly) {{require(['plotly'],function(plotly) {window.Plotly=plotly;});}}</script>"
      ],
      "text/vnd.plotly.v1+html": [
       "<script>requirejs.config({paths: { 'plotly': ['https://cdn.plot.ly/plotly-latest.min']},});if(!window.Plotly) {{require(['plotly'],function(plotly) {window.Plotly=plotly;});}}</script>"
      ]
     },
     "metadata": {},
     "output_type": "display_data"
    },
    {
     "name": "stdout",
     "output_type": "stream",
     "text": [
      "/Users/divyam/Dev/Data_Science/DSF_Project/AcademicPaperRanking\n",
      "['AcademicPaperRanking', 'acm.csv']\n"
     ]
    }
   ],
   "source": [
    "import os\n",
    "import csv\n",
    "import pandas as pd\n",
    "import numpy as np\n",
    "\n",
    "import datetime\n",
    "from pandas.io.json import json_normalize\n",
    "import matplotlib.pyplot as plt\n",
    "import seaborn as sns\n",
    "color = sns.color_palette()\n",
    "\n",
    "%matplotlib inline\n",
    "\n",
    "from plotly import tools\n",
    "import plotly.offline as py\n",
    "py.init_notebook_mode(connected=True)\n",
    "import plotly.graph_objs as go\n",
    "import squarify\n",
    "\n",
    "from sklearn import model_selection, preprocessing, metrics\n",
    "plt.style.use('fivethirtyeight')\n",
    "\n",
    "print(os.getcwd())\n",
    "print(os.listdir(\"../\"))"
   ]
  },
  {
   "cell_type": "code",
   "execution_count": 116,
   "metadata": {},
   "outputs": [],
   "source": [
    "def create_csv_file(txt_file, csv_file):\n",
    "    \"\"\"\n",
    "    converts a text file into csv_file.\n",
    "    function expects the column values and given starting expression in text for its identification to be \"same\".\n",
    "    \"\"\"\n",
    "    with open(txt_file,\"r\") as input_file, open(csv_file, \"w\") as csv_file:\n",
    "        column = {\"PaperTitle\":\"\", \"Authors\":\"\", \"Year\":\"\",\"Publication_Venue\":\"\", \"Index_Id\":\"\", \"References_Id\":\"\",\"Abstract\":\"\"}\n",
    "        writer = csv.writer(csv_file)\n",
    "        writer.writerow(column.keys())\n",
    "        for l in input_file.readlines():\n",
    "            l = l.strip()\n",
    "            if l.startswith(\"#*\"):\n",
    "                column[\"PaperTitle\"] = l[2:]\n",
    "            elif l.startswith(\"#@\"):\n",
    "                column[\"Authors\"] = l[2:]\n",
    "            elif l.startswith(\"#t\"):\n",
    "                column[\"Year\"] = l[2:]\n",
    "            elif l.startswith(\"#c\"):\n",
    "                column[\"Publication_Venue\"] = l[2:]\n",
    "            elif l.startswith(\"#index\"):\n",
    "                column[\"Index_Id\"] = l[6:]\n",
    "            elif l.startswith(\"#%\"):\n",
    "                references = column.get(\"References_Id\",\"\")\n",
    "                references += \":\" + l[2:]\n",
    "                column[\"References_Id\"] = references\n",
    "            elif l.startswith(\"#!\"):\n",
    "                column[\"Abstract\"] = l[2:]\n",
    "            elif l == \"\":\n",
    "                writer.writerow(column.values())\n",
    "                column = {\"PaperTitle\":\"\", \"Authors\":\"\", \"Year\":\"\",\"Publication_Venue\":\"\", \"Index_Id\":\"\", \"References_Id\":\"\",\"Abstract\":\"\"}\n",
    "            else:\n",
    "                print(\"dump of invalid data for {}:{}\".format(column[\"PaperTitle\"],l))"
   ]
  },
  {
   "cell_type": "code",
   "execution_count": 117,
   "metadata": {},
   "outputs": [],
   "source": [
    "# CSV CONVERSION NOT NEEDED AS CSV FILE IS LOADED HERE\n",
    "# txt_file = \"../acm.txt\"\n",
    "# csv_file = \"../acm.csv\"\n",
    "# create_csv_file(txt_file, csv_file)"
   ]
  },
  {
   "cell_type": "code",
   "execution_count": 118,
   "metadata": {},
   "outputs": [],
   "source": [
    "# CSV CONVERSION NOT NEEDED AS CSV FILE IS LOADED HERE\n",
    "# txt_file = \"../dblp.txt\"\n",
    "# csv_file = \"../dblp.csv\"\n",
    "# create_csv_file(txt_file, csv_file)"
   ]
  },
  {
   "cell_type": "code",
   "execution_count": 119,
   "metadata": {
    "_uuid": "6a6e05230bb74b64a68ad8d2ab90ba592645ce4e"
   },
   "outputs": [
    {
     "name": "stdout",
     "output_type": "stream",
     "text": [
      "CPU times: user 12 µs, sys: 12 µs, total: 24 µs\n",
      "Wall time: 1.12 ms\n"
     ]
    },
    {
     "name": "stderr",
     "output_type": "stream",
     "text": [
      "/Users/divyam/anaconda3/lib/python3.6/site-packages/IPython/core/interactiveshell.py:2785: DtypeWarning:\n",
      "\n",
      "Columns (5) have mixed types. Specify dtype option on import or set low_memory=False.\n",
      "\n"
     ]
    }
   ],
   "source": [
    "#load dataframe from csv\n",
    "%timeit\n",
    "df = pd.read_csv(\"../acm.csv\")"
   ]
  },
  {
   "cell_type": "code",
   "execution_count": 121,
   "metadata": {},
   "outputs": [
    {
     "name": "stderr",
     "output_type": "stream",
     "text": [
      "/Users/divyam/anaconda3/lib/python3.6/site-packages/IPython/core/interactiveshell.py:2785: DtypeWarning:\n",
      "\n",
      "Columns (5) have mixed types. Specify dtype option on import or set low_memory=False.\n",
      "\n"
     ]
    }
   ],
   "source": [
    "#DBLP indexid\n",
    "%timeit\n",
    "df2 = pd.read_csv(\"../dblp.csv\")"
   ]
  },
  {
   "cell_type": "code",
   "execution_count": 122,
   "metadata": {
    "_uuid": "c28973d6c010553658e801d04ce5cff6e4ddaff9"
   },
   "outputs": [
    {
     "name": "stdout",
     "output_type": "stream",
     "text": [
      "<class 'pandas.core.frame.DataFrame'>\n",
      "RangeIndex: 3680006 entries, 0 to 3680005\n",
      "Data columns (total 7 columns):\n",
      "PaperTitle           object\n",
      "Authors              object\n",
      "Year                 int64\n",
      "Publication_Venue    object\n",
      "Index_Id             object\n",
      "References_Id        object\n",
      "Abstract             float64\n",
      "dtypes: float64(1), int64(1), object(5)\n",
      "memory usage: 196.5+ MB\n"
     ]
    }
   ],
   "source": [
    "df2.info()"
   ]
  },
  {
   "cell_type": "markdown",
   "metadata": {},
   "source": [
    "sample dataset"
   ]
  },
  {
   "cell_type": "code",
   "execution_count": 125,
   "metadata": {},
   "outputs": [
    {
     "data": {
      "text/html": [
       "<div>\n",
       "<style scoped>\n",
       "    .dataframe tbody tr th:only-of-type {\n",
       "        vertical-align: middle;\n",
       "    }\n",
       "\n",
       "    .dataframe tbody tr th {\n",
       "        vertical-align: top;\n",
       "    }\n",
       "\n",
       "    .dataframe thead th {\n",
       "        text-align: right;\n",
       "    }\n",
       "</style>\n",
       "<table border=\"1\" class=\"dataframe\">\n",
       "  <thead>\n",
       "    <tr style=\"text-align: right;\">\n",
       "      <th></th>\n",
       "      <th>PaperTitle</th>\n",
       "      <th>Authors</th>\n",
       "      <th>Year</th>\n",
       "      <th>Publication_Venue</th>\n",
       "      <th>Index_Id</th>\n",
       "      <th>References_Id</th>\n",
       "      <th>Abstract</th>\n",
       "    </tr>\n",
       "  </thead>\n",
       "  <tbody>\n",
       "    <tr>\n",
       "      <th>0</th>\n",
       "      <td>Approximate Distance Oracles with Improved Que...</td>\n",
       "      <td>Christian Wulff-Nilsen</td>\n",
       "      <td>2015</td>\n",
       "      <td>Encyclopedia of Algorithms</td>\n",
       "      <td>555036b37cea80f954149ffc</td>\n",
       "      <td>NaN</td>\n",
       "      <td>NaN</td>\n",
       "    </tr>\n",
       "    <tr>\n",
       "      <th>1</th>\n",
       "      <td>Subset Sum Algorithm for Bin Packing.</td>\n",
       "      <td>Julián Mestre</td>\n",
       "      <td>2015</td>\n",
       "      <td>Encyclopedia of Algorithms</td>\n",
       "      <td>555036b37cea80f954149ffd</td>\n",
       "      <td>NaN</td>\n",
       "      <td>NaN</td>\n",
       "    </tr>\n",
       "    <tr>\n",
       "      <th>2</th>\n",
       "      <td>Minimum Weighted Completion Time.</td>\n",
       "      <td>V. S. Anil Kumar, Madhav V. Marathe, Srinivasa...</td>\n",
       "      <td>2015</td>\n",
       "      <td>Encyclopedia of Algorithms</td>\n",
       "      <td>555036b37cea80f954149ffe</td>\n",
       "      <td>NaN</td>\n",
       "      <td>NaN</td>\n",
       "    </tr>\n",
       "    <tr>\n",
       "      <th>3</th>\n",
       "      <td>Multiple String Matching.</td>\n",
       "      <td>Maxime Crochemore, Thierry Lecroq</td>\n",
       "      <td>2015</td>\n",
       "      <td>Encyclopedia of Algorithms</td>\n",
       "      <td>555036b37cea80f954149fff</td>\n",
       "      <td>NaN</td>\n",
       "      <td>NaN</td>\n",
       "    </tr>\n",
       "    <tr>\n",
       "      <th>4</th>\n",
       "      <td>Fault-Tolerant Connected Dominating Set.</td>\n",
       "      <td>Donghyun Kim, Wei Wang, Weili Wu, Alade O. Tokuta</td>\n",
       "      <td>2015</td>\n",
       "      <td>Encyclopedia of Algorithms</td>\n",
       "      <td>555036b37cea80f95414a000</td>\n",
       "      <td>NaN</td>\n",
       "      <td>NaN</td>\n",
       "    </tr>\n",
       "  </tbody>\n",
       "</table>\n",
       "</div>"
      ],
      "text/plain": [
       "                                          PaperTitle  \\\n",
       "0  Approximate Distance Oracles with Improved Que...   \n",
       "1              Subset Sum Algorithm for Bin Packing.   \n",
       "2                  Minimum Weighted Completion Time.   \n",
       "3                          Multiple String Matching.   \n",
       "4           Fault-Tolerant Connected Dominating Set.   \n",
       "\n",
       "                                             Authors  Year  \\\n",
       "0                             Christian Wulff-Nilsen  2015   \n",
       "1                                      Julián Mestre  2015   \n",
       "2  V. S. Anil Kumar, Madhav V. Marathe, Srinivasa...  2015   \n",
       "3                  Maxime Crochemore, Thierry Lecroq  2015   \n",
       "4  Donghyun Kim, Wei Wang, Weili Wu, Alade O. Tokuta  2015   \n",
       "\n",
       "            Publication_Venue                  Index_Id References_Id  \\\n",
       "0  Encyclopedia of Algorithms  555036b37cea80f954149ffc           NaN   \n",
       "1  Encyclopedia of Algorithms  555036b37cea80f954149ffd           NaN   \n",
       "2  Encyclopedia of Algorithms  555036b37cea80f954149ffe           NaN   \n",
       "3  Encyclopedia of Algorithms  555036b37cea80f954149fff           NaN   \n",
       "4  Encyclopedia of Algorithms  555036b37cea80f95414a000           NaN   \n",
       "\n",
       "   Abstract  \n",
       "0       NaN  \n",
       "1       NaN  \n",
       "2       NaN  \n",
       "3       NaN  \n",
       "4       NaN  "
      ]
     },
     "execution_count": 125,
     "metadata": {},
     "output_type": "execute_result"
    }
   ],
   "source": [
    "df2.head()"
   ]
  },
  {
   "cell_type": "code",
   "execution_count": 126,
   "metadata": {
    "_uuid": "43c2516f163f1294ba7a5f84fd6c3162e955a59d"
   },
   "outputs": [
    {
     "data": {
      "text/html": [
       "<div>\n",
       "<style scoped>\n",
       "    .dataframe tbody tr th:only-of-type {\n",
       "        vertical-align: middle;\n",
       "    }\n",
       "\n",
       "    .dataframe tbody tr th {\n",
       "        vertical-align: top;\n",
       "    }\n",
       "\n",
       "    .dataframe thead th {\n",
       "        text-align: right;\n",
       "    }\n",
       "</style>\n",
       "<table border=\"1\" class=\"dataframe\">\n",
       "  <thead>\n",
       "    <tr style=\"text-align: right;\">\n",
       "      <th></th>\n",
       "      <th>PaperTitle</th>\n",
       "      <th>Authors</th>\n",
       "      <th>Year</th>\n",
       "      <th>Publication_Venue</th>\n",
       "      <th>Index_Id</th>\n",
       "      <th>References_Id</th>\n",
       "      <th>Abstract</th>\n",
       "    </tr>\n",
       "  </thead>\n",
       "  <tbody>\n",
       "    <tr>\n",
       "      <th>0</th>\n",
       "      <td>MOSFET table look-up models for circuit simula...</td>\n",
       "      <td>NaN</td>\n",
       "      <td>1984.0</td>\n",
       "      <td>Integration, the VLSI Journal</td>\n",
       "      <td>1</td>\n",
       "      <td>NaN</td>\n",
       "      <td>NaN</td>\n",
       "    </tr>\n",
       "    <tr>\n",
       "      <th>1</th>\n",
       "      <td>The verification of the protection mechanisms ...</td>\n",
       "      <td>Virgil D. Gligor</td>\n",
       "      <td>1984.0</td>\n",
       "      <td>International Journal of Parallel Programming</td>\n",
       "      <td>2</td>\n",
       "      <td>NaN</td>\n",
       "      <td>NaN</td>\n",
       "    </tr>\n",
       "    <tr>\n",
       "      <th>2</th>\n",
       "      <td>Another view of functional and multivalued dep...</td>\n",
       "      <td>M. Gyssens, J. Paredaens</td>\n",
       "      <td>1984.0</td>\n",
       "      <td>International Journal of Parallel Programming</td>\n",
       "      <td>3</td>\n",
       "      <td>NaN</td>\n",
       "      <td>NaN</td>\n",
       "    </tr>\n",
       "    <tr>\n",
       "      <th>3</th>\n",
       "      <td>Entity-relationship diagrams which are in BCNF</td>\n",
       "      <td>Sushil Jajodia, Peter A. Ng, Frederick N. Spri...</td>\n",
       "      <td>1984.0</td>\n",
       "      <td>International Journal of Parallel Programming</td>\n",
       "      <td>4</td>\n",
       "      <td>NaN</td>\n",
       "      <td>NaN</td>\n",
       "    </tr>\n",
       "    <tr>\n",
       "      <th>4</th>\n",
       "      <td>The computer comes of age</td>\n",
       "      <td>Rene Moreau</td>\n",
       "      <td>1984.0</td>\n",
       "      <td>The computer comes of age</td>\n",
       "      <td>5</td>\n",
       "      <td>NaN</td>\n",
       "      <td>NaN</td>\n",
       "    </tr>\n",
       "  </tbody>\n",
       "</table>\n",
       "</div>"
      ],
      "text/plain": [
       "                                          PaperTitle  \\\n",
       "0  MOSFET table look-up models for circuit simula...   \n",
       "1  The verification of the protection mechanisms ...   \n",
       "2  Another view of functional and multivalued dep...   \n",
       "3     Entity-relationship diagrams which are in BCNF   \n",
       "4                          The computer comes of age   \n",
       "\n",
       "                                             Authors    Year  \\\n",
       "0                                                NaN  1984.0   \n",
       "1                                   Virgil D. Gligor  1984.0   \n",
       "2                           M. Gyssens, J. Paredaens  1984.0   \n",
       "3  Sushil Jajodia, Peter A. Ng, Frederick N. Spri...  1984.0   \n",
       "4                                        Rene Moreau  1984.0   \n",
       "\n",
       "                               Publication_Venue  Index_Id References_Id  \\\n",
       "0                  Integration, the VLSI Journal         1           NaN   \n",
       "1  International Journal of Parallel Programming         2           NaN   \n",
       "2  International Journal of Parallel Programming         3           NaN   \n",
       "3  International Journal of Parallel Programming         4           NaN   \n",
       "4                      The computer comes of age         5           NaN   \n",
       "\n",
       "  Abstract  \n",
       "0      NaN  \n",
       "1      NaN  \n",
       "2      NaN  \n",
       "3      NaN  \n",
       "4      NaN  "
      ]
     },
     "execution_count": 126,
     "metadata": {},
     "output_type": "execute_result"
    }
   ],
   "source": [
    "df.head()"
   ]
  },
  {
   "cell_type": "code",
   "execution_count": 136,
   "metadata": {},
   "outputs": [],
   "source": [
    "###### TODO1: check if there are common \"research papers\" in DBLP and ACM dataset \n",
    "###### TODO2: combine the 2 datasets (indexid's format is different)"
   ]
  },
  {
   "cell_type": "markdown",
   "metadata": {
    "_uuid": "9558cbbc5838ffd382a18ff88494c3fce65b3d0c"
   },
   "source": [
    "***count_reference*** represents the number of times particular paper got referred in our dataset"
   ]
  },
  {
   "cell_type": "code",
   "execution_count": 131,
   "metadata": {
    "_uuid": "af8e630e786f4413f46b15ba362feeff6c04588d"
   },
   "outputs": [],
   "source": [
    "df[\"count_reference\"] = 0"
   ]
  },
  {
   "cell_type": "markdown",
   "metadata": {
    "_uuid": "e381429f3807f51ec3f452e9223236a7eaa691dd"
   },
   "source": [
    "####YEAR"
   ]
  },
  {
   "cell_type": "code",
   "execution_count": 132,
   "metadata": {
    "_uuid": "945612bc1754af22226f2bbe6923c94576d3b10a"
   },
   "outputs": [],
   "source": [
    "df[\"Year\"] = df[\"Year\"].fillna(0)\n",
    "df[\"Year\"] = df[\"Year\"].astype(int)"
   ]
  },
  {
   "cell_type": "markdown",
   "metadata": {
    "_uuid": "ec470afedc3fe7a2b42b801dfc18a415ca7125fd"
   },
   "source": [
    "**Rows with NaN year**"
   ]
  },
  {
   "cell_type": "code",
   "execution_count": 134,
   "metadata": {
    "_uuid": "90822b90afd5523486f03a082bc8c3cf4410b70e"
   },
   "outputs": [
    {
     "data": {
      "text/plain": [
       "(8428, 8)"
      ]
     },
     "execution_count": 134,
     "metadata": {},
     "output_type": "execute_result"
    }
   ],
   "source": [
    "df[df[\"Year\"] == 0].shape"
   ]
  },
  {
   "cell_type": "markdown",
   "metadata": {
    "_uuid": "c93b816ebca64a2d17d03a9e0727a5c32834ed5f"
   },
   "source": [
    "***Year of publication distribution in the data***"
   ]
  },
  {
   "cell_type": "code",
   "execution_count": null,
   "metadata": {
    "_uuid": "841951a6799cf34fc1bdd4e008a1f0fe23c4f06d"
   },
   "outputs": [],
   "source": [
    "ydf = df[df[\"Year\"]!=0]\n",
    "plt.figure(figsize=(8,6))\n",
    "plt.scatter(range(ydf.shape[0]), np.sort(ydf[\"Year\"].values))\n",
    "plt.xlabel('index', fontsize=12)\n",
    "plt.ylabel('Year', fontsize=12)\n",
    "plt.title(\"Year Distribution\", fontsize=20) \n",
    "plt.show()"
   ]
  },
  {
   "cell_type": "code",
   "execution_count": null,
   "metadata": {
    "_uuid": "9fa52401347933c30c141991e33f9f80a014b455"
   },
   "outputs": [],
   "source": [
    "df.isna().sum()"
   ]
  },
  {
   "cell_type": "code",
   "execution_count": null,
   "metadata": {},
   "outputs": [],
   "source": [
    "###### TODO3: DATA-CLEAN"
   ]
  },
  {
   "cell_type": "code",
   "execution_count": null,
   "metadata": {
    "_uuid": "9f678c04583087367ee85f99f458f3e7789ba1e2"
   },
   "outputs": [],
   "source": [
    "print(df.dtypes)"
   ]
  },
  {
   "cell_type": "code",
   "execution_count": 17,
   "metadata": {
    "_uuid": "6398fea4893f846804cbba7e1e775fb23ca61917",
    "scrolled": true
   },
   "outputs": [
    {
     "name": "stdout",
     "output_type": "stream",
     "text": [
      "True\n",
      "2385057\n",
      "2385066\n"
     ]
    }
   ],
   "source": [
    "df[\"Index_Id\"].unique()\n",
    "print(any(df['Index_Id'].duplicated())) \n",
    "print(len(df['Index_Id'].unique()))\n",
    "print(len(df.index))"
   ]
  },
  {
   "cell_type": "markdown",
   "metadata": {
    "_uuid": "f07695dcd1546f6eff08c888fc199eb4529ec39a"
   },
   "source": [
    "> Index_Id = 2381731 is duplicated 9 times , It points to 7 different papers and has 82080 references."
   ]
  },
  {
   "cell_type": "code",
   "execution_count": 51,
   "metadata": {
    "_uuid": "82ee9fde1dc5c6582d06a66467be6a30e0d4a0f5",
    "scrolled": true
   },
   "outputs": [
    {
     "data": {
      "text/html": [
       "<div>\n",
       "<style scoped>\n",
       "    .dataframe tbody tr th:only-of-type {\n",
       "        vertical-align: middle;\n",
       "    }\n",
       "\n",
       "    .dataframe tbody tr th {\n",
       "        vertical-align: top;\n",
       "    }\n",
       "\n",
       "    .dataframe thead th {\n",
       "        text-align: right;\n",
       "    }\n",
       "</style>\n",
       "<table border=\"1\" class=\"dataframe\">\n",
       "  <thead>\n",
       "    <tr style=\"text-align: right;\">\n",
       "      <th></th>\n",
       "      <th>PaperTitle</th>\n",
       "      <th>Authors</th>\n",
       "      <th>Year</th>\n",
       "      <th>Publication_Venue</th>\n",
       "      <th>Index_Id</th>\n",
       "      <th>References_Id</th>\n",
       "      <th>Abstract</th>\n",
       "      <th>count_reference</th>\n",
       "    </tr>\n",
       "  </thead>\n",
       "  <tbody>\n",
       "    <tr>\n",
       "      <th>2111180</th>\n",
       "      <td>The online revolution: education for everyone</td>\n",
       "      <td>Andrew Ng, Daphne Koller</td>\n",
       "      <td>2013</td>\n",
       "      <td>Proceedings of the 19th ACM SIGKDD internation...</td>\n",
       "      <td>2381731</td>\n",
       "      <td>NaN</td>\n",
       "      <td>In 2011, Stanford University offered three onl...</td>\n",
       "      <td>0</td>\n",
       "    </tr>\n",
       "    <tr>\n",
       "      <th>2112019</th>\n",
       "      <td>Predicting the present with search engine data</td>\n",
       "      <td>Hal Varian</td>\n",
       "      <td>2013</td>\n",
       "      <td>Proceedings of the 19th ACM SIGKDD internation...</td>\n",
       "      <td>2381731</td>\n",
       "      <td>NaN</td>\n",
       "      <td>Many businesses now have almost real time data...</td>\n",
       "      <td>0</td>\n",
       "    </tr>\n",
       "    <tr>\n",
       "      <th>2112020</th>\n",
       "      <td>Predicting the present with search engine data</td>\n",
       "      <td>Hal Varian</td>\n",
       "      <td>2013</td>\n",
       "      <td>Proceedings of the 19th ACM SIGKDD internation...</td>\n",
       "      <td>2381731</td>\n",
       "      <td>NaN</td>\n",
       "      <td>Many businesses now have almost real time data...</td>\n",
       "      <td>0</td>\n",
       "    </tr>\n",
       "    <tr>\n",
       "      <th>2112021</th>\n",
       "      <td>Predicting the present with search engine data</td>\n",
       "      <td>Hal Varian</td>\n",
       "      <td>2013</td>\n",
       "      <td>Proceedings of the 19th ACM SIGKDD internation...</td>\n",
       "      <td>2381731</td>\n",
       "      <td>NaN</td>\n",
       "      <td>Many businesses now have almost real time data...</td>\n",
       "      <td>0</td>\n",
       "    </tr>\n",
       "    <tr>\n",
       "      <th>2134028</th>\n",
       "      <td>The DataPaper: living in the virtual world</td>\n",
       "      <td>Mark Green, Chris Shaw</td>\n",
       "      <td>1990</td>\n",
       "      <td>Graphics Interface 1990</td>\n",
       "      <td>2381731</td>\n",
       "      <td>NaN</td>\n",
       "      <td>Virtual reality user interfaces are a new type...</td>\n",
       "      <td>0</td>\n",
       "    </tr>\n",
       "    <tr>\n",
       "      <th>2134993</th>\n",
       "      <td>An efficient diagnosis algorithm for inconsist...</td>\n",
       "      <td>A. Felfernig, M. Schubert, C. Zehentner</td>\n",
       "      <td>2012</td>\n",
       "      <td>AI EDAM</td>\n",
       "      <td>2381731</td>\n",
       "      <td>NaN</td>\n",
       "      <td>Constraint sets can become inconsistent in dif...</td>\n",
       "      <td>0</td>\n",
       "    </tr>\n",
       "    <tr>\n",
       "      <th>2134994</th>\n",
       "      <td>Evaluating Design Alternatives for Feature Rec...</td>\n",
       "      <td>Monika Mandl, Alexander Felfernig, Juha Tiihonen</td>\n",
       "      <td>2011</td>\n",
       "      <td>Graz</td>\n",
       "      <td>2381731</td>\n",
       "      <td>NaN</td>\n",
       "      <td>Product configuration systems are an important...</td>\n",
       "      <td>0</td>\n",
       "    </tr>\n",
       "    <tr>\n",
       "      <th>2381694</th>\n",
       "      <td>gStore: answering SPARQL queries via subgraph ...</td>\n",
       "      <td>Lei Zou, Jinghui Mo, Lei Chen, M. Tamer Özsu, ...</td>\n",
       "      <td>2011</td>\n",
       "      <td>PVLDB</td>\n",
       "      <td>2381731</td>\n",
       "      <td>NaN</td>\n",
       "      <td>Due to the increasing use of RDF data, efficie...</td>\n",
       "      <td>0</td>\n",
       "    </tr>\n",
       "    <tr>\n",
       "      <th>2381730</th>\n",
       "      <td>Effects of Terms Recognition Mistakes on Reque...</td>\n",
       "      <td>Mohamed Nazih Omri</td>\n",
       "      <td>2012</td>\n",
       "      <td>IJIRR: International Journal of Information Re...</td>\n",
       "      <td>2381731</td>\n",
       "      <td>NaN</td>\n",
       "      <td>In this work the author proposes to describe a...</td>\n",
       "      <td>0</td>\n",
       "    </tr>\n",
       "  </tbody>\n",
       "</table>\n",
       "</div>"
      ],
      "text/plain": [
       "                                                PaperTitle  \\\n",
       "2111180      The online revolution: education for everyone   \n",
       "2112019     Predicting the present with search engine data   \n",
       "2112020     Predicting the present with search engine data   \n",
       "2112021     Predicting the present with search engine data   \n",
       "2134028         The DataPaper: living in the virtual world   \n",
       "2134993  An efficient diagnosis algorithm for inconsist...   \n",
       "2134994  Evaluating Design Alternatives for Feature Rec...   \n",
       "2381694  gStore: answering SPARQL queries via subgraph ...   \n",
       "2381730  Effects of Terms Recognition Mistakes on Reque...   \n",
       "\n",
       "                                                   Authors  Year  \\\n",
       "2111180                           Andrew Ng, Daphne Koller  2013   \n",
       "2112019                                         Hal Varian  2013   \n",
       "2112020                                         Hal Varian  2013   \n",
       "2112021                                         Hal Varian  2013   \n",
       "2134028                             Mark Green, Chris Shaw  1990   \n",
       "2134993            A. Felfernig, M. Schubert, C. Zehentner  2012   \n",
       "2134994   Monika Mandl, Alexander Felfernig, Juha Tiihonen  2011   \n",
       "2381694  Lei Zou, Jinghui Mo, Lei Chen, M. Tamer Özsu, ...  2011   \n",
       "2381730                                 Mohamed Nazih Omri  2012   \n",
       "\n",
       "                                         Publication_Venue  Index_Id  \\\n",
       "2111180  Proceedings of the 19th ACM SIGKDD internation...   2381731   \n",
       "2112019  Proceedings of the 19th ACM SIGKDD internation...   2381731   \n",
       "2112020  Proceedings of the 19th ACM SIGKDD internation...   2381731   \n",
       "2112021  Proceedings of the 19th ACM SIGKDD internation...   2381731   \n",
       "2134028                            Graphics Interface 1990   2381731   \n",
       "2134993                                            AI EDAM   2381731   \n",
       "2134994                                               Graz   2381731   \n",
       "2381694                                              PVLDB   2381731   \n",
       "2381730  IJIRR: International Journal of Information Re...   2381731   \n",
       "\n",
       "        References_Id                                           Abstract  \\\n",
       "2111180           NaN  In 2011, Stanford University offered three onl...   \n",
       "2112019           NaN  Many businesses now have almost real time data...   \n",
       "2112020           NaN  Many businesses now have almost real time data...   \n",
       "2112021           NaN  Many businesses now have almost real time data...   \n",
       "2134028           NaN  Virtual reality user interfaces are a new type...   \n",
       "2134993           NaN  Constraint sets can become inconsistent in dif...   \n",
       "2134994           NaN  Product configuration systems are an important...   \n",
       "2381694           NaN  Due to the increasing use of RDF data, efficie...   \n",
       "2381730           NaN  In this work the author proposes to describe a...   \n",
       "\n",
       "         count_reference  \n",
       "2111180                0  \n",
       "2112019                0  \n",
       "2112020                0  \n",
       "2112021                0  \n",
       "2134028                0  \n",
       "2134993                0  \n",
       "2134994                0  \n",
       "2381694                0  \n",
       "2381730                0  "
      ]
     },
     "execution_count": 51,
     "metadata": {},
     "output_type": "execute_result"
    }
   ],
   "source": [
    "df[df.duplicated(subset=\"Index_Id\")]"
   ]
  },
  {
   "cell_type": "code",
   "execution_count": 25,
   "metadata": {},
   "outputs": [
    {
     "data": {
      "text/plain": [
       "count    2.385066e+06\n",
       "mean     1.192534e+06\n",
       "std      6.885107e+05\n",
       "min      1.000000e+00\n",
       "25%      5.962672e+05\n",
       "50%      1.192534e+06\n",
       "75%      1.788800e+06\n",
       "max      2.385066e+06\n",
       "Name: Index_Id, dtype: float64"
      ]
     },
     "execution_count": 25,
     "metadata": {},
     "output_type": "execute_result"
    }
   ],
   "source": [
    "df.Index_Id.describe()"
   ]
  },
  {
   "cell_type": "code",
   "execution_count": null,
   "metadata": {
    "_uuid": "4df5c6d9f93618118a9c86142f24cfa0de5dd76a"
   },
   "outputs": [],
   "source": [
    "reference_count = {}\n",
    "for references in df[df[\"References_Id\"].notnull()][\"References_Id\"]:\n",
    "    ref_list = map(int,references.strip(\":\").split(\":\"))\n",
    "    for ref in ref_list:\n",
    "        if ref in reference_count:\n",
    "            reference_count[ref] += 1\n",
    "        else:\n",
    "            reference_count[ref] = 1\n",
    "print(reference_count[2381731])"
   ]
  },
  {
   "cell_type": "code",
   "execution_count": null,
   "metadata": {
    "_uuid": "57a7842f6d4e00ac95113cff132ca69786291e4d",
    "scrolled": true
   },
   "outputs": [],
   "source": [
    "def update_ref_count(row):\n",
    "    if row['Index_Id'] in reference_count:\n",
    "        return reference_count[row['Index_Id']]\n",
    "    else:\n",
    "        return 0\n",
    "df[\"count_reference\"] = df.apply(lambda row: update_ref_count(row),axis=1)"
   ]
  },
  {
   "cell_type": "code",
   "execution_count": null,
   "metadata": {
    "_uuid": "e75728b3b73e1d770aac26483e15f3dbe7b8c086"
   },
   "outputs": [],
   "source": [
    "print(df.head(5))"
   ]
  },
  {
   "cell_type": "code",
   "execution_count": null,
   "metadata": {
    "_uuid": "f7a15b3c25aecce994483983ba8945b345c328f2"
   },
   "outputs": [],
   "source": [
    "sorted_by_value = sorted(reference_count.items(), key=lambda kv: kv[1],reverse=True)\n",
    "print(sorted_by_value[:10])\n",
    "print([row[0] for row in sorted_by_value[:10]])\n",
    "print([row[1] for row in sorted_by_value[:10]])"
   ]
  },
  {
   "cell_type": "code",
   "execution_count": null,
   "metadata": {
    "_uuid": "fd3884ff9915ad460cb7a3cc42e6b0daf7933ebd"
   },
   "outputs": [],
   "source": [
    "x_values = [row[0] for row in sorted_by_value[:10]]\n",
    "y_values = [row[1] for row in sorted_by_value[:10]]\n",
    "x_pos = np.arange(len(x_values))\n",
    "plt.figure(figsize=(13,7))\n",
    "plt.bar(x_pos,y_values, align='center', alpha=1)\n",
    "plt.xticks(x_pos,x_values)\n",
    "plt.ylabel('reference count')\n",
    "plt.title('Top 10 paper by reference')\n",
    " \n",
    "plt.show()"
   ]
  },
  {
   "cell_type": "code",
   "execution_count": null,
   "metadata": {
    "_uuid": "b05c12bc8a957e296ac66079960fb20e65ab7800"
   },
   "outputs": [],
   "source": [
    "df[\"Authors\"] = df[\"Authors\"].fillna('')\n",
    "print(any(df[\"Authors\"].isna()))\n",
    "df[df['Authors'].str.contains('-')]"
   ]
  },
  {
   "cell_type": "code",
   "execution_count": null,
   "metadata": {
    "_uuid": "92095baeafab868d654d0db2a24cde58942631bb"
   },
   "outputs": [],
   "source": [
    "print(df[\"Authors\"].shape)\n",
    "print(df[df['Authors'].str.isalpha()].shape)"
   ]
  },
  {
   "cell_type": "code",
   "execution_count": null,
   "metadata": {
    "_uuid": "1287fe413d39e628acb6ebea602464246c804743"
   },
   "outputs": [],
   "source": [
    "df[df['Authors'].str.isalpha()]"
   ]
  },
  {
   "cell_type": "code",
   "execution_count": null,
   "metadata": {
    "_uuid": "3efeaa8eb3d33cd2b7bd6626fdb1a314613e09af"
   },
   "outputs": [],
   "source": [
    "df2 = df.filter(regex='spike')"
   ]
  },
  {
   "cell_type": "code",
   "execution_count": 135,
   "metadata": {},
   "outputs": [
    {
     "data": {
      "text/plain": [
       "(9770, 8)"
      ]
     },
     "execution_count": 135,
     "metadata": {},
     "output_type": "execute_result"
    }
   ],
   "source": [
    "df[df[\"Index_Id\"].isin(inlink[2135000])].shape"
   ]
  },
  {
   "cell_type": "markdown",
   "metadata": {},
   "source": [
    "Above paper is referenced by 9770 other papers"
   ]
  },
  {
   "cell_type": "code",
   "execution_count": 137,
   "metadata": {},
   "outputs": [],
   "source": [
    "inlink = {}\n",
    "outlink = {}\n",
    "#Test for smaller set\n",
    "testset_len = 10000\n",
    "for _t, row in df[df[\"References_Id\"].notnull()].iterrows():\n",
    "    ref = row[\"References_Id\"]\n",
    "    index = row[\"Index_Id\"]\n",
    "    ref_list = list(map(int,ref.strip(\":\").split(\":\")))\n",
    "    outlink[index] = ref_list\n",
    "    for r in ref_list:\n",
    "        inlist = inlink.get(r,[])\n",
    "        inlist.append(index)\n",
    "        inlink[r] = inlist\n",
    "    #Test for smaller set\n",
    "    testset_len -= 1\n",
    "    if not testset_len:\n",
    "        testset_len = 10000\n",
    "        break"
   ]
  },
  {
   "cell_type": "code",
   "execution_count": 138,
   "metadata": {},
   "outputs": [],
   "source": [
    "#Test for smaller set\n",
    "pagerank = { row[\"Index_Id\"]:1 for _t, row in df[:testset_len].iterrows()}\n",
    "#complete set\n",
    "# pagerank = { row[\"Index_Id\"]:1 for _t, row in df.iterrows()}"
   ]
  },
  {
   "cell_type": "code",
   "execution_count": 139,
   "metadata": {},
   "outputs": [],
   "source": [
    "def create_pagerank(theta, pagerank, inlink, outlink):\n",
    "    updated_pagerank = {}\n",
    "    iterations = 0\n",
    "    while True:\n",
    "        flag = True\n",
    "        for index_id, current_score in pagerank.items():\n",
    "            if index_id in inlink:\n",
    "                inlink_list = inlink[index_id]\n",
    "                new_score = 0.0\n",
    "                for link in inlink_list:\n",
    "                    len_outlink = len(outlink.get(link, []))\n",
    "                    if link in pagerank:\n",
    "                        new_score += pagerank[link]/len_outlink\n",
    "                new_score = (1.0 - theta) + float(theta)**new_score\n",
    "                if current_score != new_score:\n",
    "                    flag = False\n",
    "                updated_pagerank[index_id] = new_score\n",
    "        iterations += 1\n",
    "        if flag == True:\n",
    "            break\n",
    "        pagerank = updated_pagerank\n",
    "        del updated_pagerank\n",
    "        updated_pagerank = {}\n",
    "    print(f\"number of iterations:{iterations}\")\n",
    "    #normalize the score\n",
    "    max_score = max(pagerank.values())\n",
    "    print(f\"max score is {max_score}\")\n",
    "    pagerank = { index:score/max_score for index, score in pagerank.items()}"
   ]
  },
  {
   "cell_type": "code",
   "execution_count": 140,
   "metadata": {},
   "outputs": [
    {
     "name": "stdout",
     "output_type": "stream",
     "text": [
      "number of iterations:14\n",
      "max score is 1.15\n"
     ]
    }
   ],
   "source": [
    "theta = 0.85\n",
    "create_pagerank(theta, pagerank, inlink, outlink)"
   ]
  },
  {
   "cell_type": "code",
   "execution_count": 92,
   "metadata": {},
   "outputs": [
    {
     "data": {
      "text/plain": [
       "10000"
      ]
     },
     "execution_count": 92,
     "metadata": {},
     "output_type": "execute_result"
    }
   ],
   "source": [
    "len(set(pagerank.keys()))"
   ]
  },
  {
   "cell_type": "code",
   "execution_count": null,
   "metadata": {},
   "outputs": [],
   "source": []
  }
 ],
 "metadata": {
  "kernelspec": {
   "display_name": "Python 3",
   "language": "python",
   "name": "python3"
  },
  "language_info": {
   "codemirror_mode": {
    "name": "ipython",
    "version": 3
   },
   "file_extension": ".py",
   "mimetype": "text/x-python",
   "name": "python",
   "nbconvert_exporter": "python",
   "pygments_lexer": "ipython3",
   "version": "3.6.5"
  }
 },
 "nbformat": 4,
 "nbformat_minor": 1
}