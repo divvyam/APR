{
  "cells": [
    {
      "metadata": {
        "trusted": true,
        "_uuid": "f9611f2ca8bcdc2cd69bd73cf7d487298d0db71b"
      },
      "cell_type": "code",
      "source": "import os\nimport csv\nimport pandas as pd\nimport numpy as np\n\nimport datetime\nfrom pandas.io.json import json_normalize\nimport matplotlib.pyplot as plt\nimport seaborn as sns\ncolor = sns.color_palette()\n\n%matplotlib inline\n\nfrom plotly import tools\nimport plotly.offline as py\npy.init_notebook_mode(connected=True)\nimport plotly.graph_objs as go\nimport squarify\n\nfrom sklearn import model_selection, preprocessing, metrics\nplt.style.use('fivethirtyeight')\n\nprint(os.getcwd())\nprint(os.listdir(\"../input/\"))",
      "execution_count": 1,
      "outputs": [
        {
          "output_type": "display_data",
          "data": {
            "text/html": "<script>requirejs.config({paths: { 'plotly': ['https://cdn.plot.ly/plotly-latest.min']},});if(!window.Plotly) {{require(['plotly'],function(plotly) {window.Plotly=plotly;});}}</script>",
            "text/vnd.plotly.v1+html": "<script>requirejs.config({paths: { 'plotly': ['https://cdn.plot.ly/plotly-latest.min']},});if(!window.Plotly) {{require(['plotly'],function(plotly) {window.Plotly=plotly;});}}</script>"
          },
          "metadata": {}
        },
        {
          "output_type": "stream",
          "text": "/kaggle/working\n['acm.csv']\n",
          "name": "stdout"
        }
      ]
    },
    {
      "metadata": {
        "trusted": true,
        "_uuid": "6a6e05230bb74b64a68ad8d2ab90ba592645ce4e"
      },
      "cell_type": "code",
      "source": "#load dataframe from csv\ndf = pd.read_csv(\"../input/acm.csv\")",
      "execution_count": null,
      "outputs": []
    },
    {
      "metadata": {
        "trusted": true,
        "_uuid": "c28973d6c010553658e801d04ce5cff6e4ddaff9"
      },
      "cell_type": "code",
      "source": "df.info()",
      "execution_count": null,
      "outputs": []
    },
    {
      "metadata": {
        "trusted": true,
        "_uuid": "e8b81ecadb1a45d838be8f0f661db88416d4841a"
      },
      "cell_type": "code",
      "source": "df",
      "execution_count": null,
      "outputs": []
    },
    {
      "metadata": {
        "trusted": true,
        "_uuid": "43c2516f163f1294ba7a5f84fd6c3162e955a59d"
      },
      "cell_type": "code",
      "source": "df[df[\"Index_Id\"] == 289023]",
      "execution_count": null,
      "outputs": []
    },
    {
      "metadata": {
        "_uuid": "9558cbbc5838ffd382a18ff88494c3fce65b3d0c"
      },
      "cell_type": "markdown",
      "source": "***count_reference*** represents the number of times particular paper got referred in our dataset"
    },
    {
      "metadata": {
        "trusted": true,
        "_uuid": "af8e630e786f4413f46b15ba362feeff6c04588d"
      },
      "cell_type": "code",
      "source": "df[\"count_reference\"] = 0",
      "execution_count": null,
      "outputs": []
    },
    {
      "metadata": {
        "trusted": true,
        "_uuid": "da101950a4d3a494121ed949ba07f0b1aada135b"
      },
      "cell_type": "code",
      "source": "df.isna().sum()",
      "execution_count": null,
      "outputs": []
    },
    {
      "metadata": {
        "_uuid": "e381429f3807f51ec3f452e9223236a7eaa691dd"
      },
      "cell_type": "markdown",
      "source": "####YEAR"
    },
    {
      "metadata": {
        "trusted": true,
        "_uuid": "945612bc1754af22226f2bbe6923c94576d3b10a"
      },
      "cell_type": "code",
      "source": "df[\"Year\"] = df[\"Year\"].fillna(0)\ndf[\"Year\"] = df[\"Year\"].astype(int)",
      "execution_count": null,
      "outputs": []
    },
    {
      "metadata": {
        "_uuid": "ec470afedc3fe7a2b42b801dfc18a415ca7125fd"
      },
      "cell_type": "markdown",
      "source": "**Rows with NaN year**"
    },
    {
      "metadata": {
        "trusted": true,
        "_uuid": "90822b90afd5523486f03a082bc8c3cf4410b70e"
      },
      "cell_type": "code",
      "source": "df[df[\"Year\"] == 0]",
      "execution_count": null,
      "outputs": []
    },
    {
      "metadata": {
        "_uuid": "c93b816ebca64a2d17d03a9e0727a5c32834ed5f"
      },
      "cell_type": "markdown",
      "source": "***Year of publication distribution in the data***"
    },
    {
      "metadata": {
        "trusted": true,
        "_uuid": "841951a6799cf34fc1bdd4e008a1f0fe23c4f06d"
      },
      "cell_type": "code",
      "source": "ydf = df[df[\"Year\"]!=0]\nplt.figure(figsize=(8,6))\nplt.scatter(range(ydf.shape[0]), np.sort(ydf[\"Year\"].values))\nplt.xlabel('index', fontsize=12)\nplt.ylabel('Year', fontsize=12)\nplt.title(\"Year Distribution\", fontsize=20) \nplt.show()",
      "execution_count": null,
      "outputs": []
    },
    {
      "metadata": {
        "trusted": true,
        "_uuid": "9fa52401347933c30c141991e33f9f80a014b455"
      },
      "cell_type": "code",
      "source": "df.isna().sum()",
      "execution_count": null,
      "outputs": []
    },
    {
      "metadata": {
        "trusted": true,
        "_uuid": "9f678c04583087367ee85f99f458f3e7789ba1e2"
      },
      "cell_type": "code",
      "source": "print(df.dtypes)",
      "execution_count": null,
      "outputs": []
    },
    {
      "metadata": {
        "trusted": true,
        "_uuid": "6398fea4893f846804cbba7e1e775fb23ca61917",
        "scrolled": true
      },
      "cell_type": "code",
      "source": "df[\"Index_Id\"].unique()\nprint(any(df['Index_Id'].duplicated())) \nprint(len(df['Index_Id'].unique()))\nprint(len(df.index))",
      "execution_count": null,
      "outputs": []
    },
    {
      "metadata": {
        "_uuid": "f07695dcd1546f6eff08c888fc199eb4529ec39a"
      },
      "cell_type": "markdown",
      "source": "> Index_Id = 2381731 is duplicated 9 times , It points to 7 different papers and has 82080 references."
    },
    {
      "metadata": {
        "trusted": true,
        "scrolled": true,
        "_uuid": "82ee9fde1dc5c6582d06a66467be6a30e0d4a0f5"
      },
      "cell_type": "code",
      "source": "df[df.duplicated(subset=\"Index_Id\")]",
      "execution_count": null,
      "outputs": []
    },
    {
      "metadata": {
        "trusted": true,
        "_uuid": "4df5c6d9f93618118a9c86142f24cfa0de5dd76a"
      },
      "cell_type": "code",
      "source": "reference_count = {}\nfor references in df[df[\"References_Id\"].notnull()][\"References_Id\"]:\n    ref_list = map(int,references.strip(\":\").split(\":\"))\n    for ref in ref_list:\n        if ref in reference_count:\n            reference_count[ref] += 1\n        else:\n            reference_count[ref] = 1\nprint(reference_count[2381731])",
      "execution_count": null,
      "outputs": []
    },
    {
      "metadata": {
        "trusted": true,
        "_uuid": "57a7842f6d4e00ac95113cff132ca69786291e4d",
        "scrolled": true
      },
      "cell_type": "code",
      "source": "def update_ref_count(row):\n    if row['Index_Id'] in reference_count:\n        return reference_count[row['Index_Id']]\n    else:\n        return 0\ndf[\"count_reference\"] = df.apply(lambda row: update_ref_count(row),axis=1)",
      "execution_count": null,
      "outputs": []
    },
    {
      "metadata": {
        "trusted": true,
        "_uuid": "e75728b3b73e1d770aac26483e15f3dbe7b8c086"
      },
      "cell_type": "code",
      "source": "print(df.head(5))",
      "execution_count": null,
      "outputs": []
    },
    {
      "metadata": {
        "trusted": true,
        "_uuid": "f7a15b3c25aecce994483983ba8945b345c328f2"
      },
      "cell_type": "code",
      "source": "sorted_by_value = sorted(reference_count.items(), key=lambda kv: kv[1],reverse=True)\nprint(sorted_by_value[:10])\nprint([row[0] for row in sorted_by_value[:10]])\nprint([row[1] for row in sorted_by_value[:10]])",
      "execution_count": null,
      "outputs": []
    },
    {
      "metadata": {
        "trusted": true,
        "_uuid": "fd3884ff9915ad460cb7a3cc42e6b0daf7933ebd"
      },
      "cell_type": "code",
      "source": "x_values = [row[0] for row in sorted_by_value[:10]]\ny_values = [row[1] for row in sorted_by_value[:10]]\nx_pos = np.arange(len(x_values))\nplt.figure(figsize=(13,7))\nplt.bar(x_pos,y_values, align='center', alpha=1)\nplt.xticks(x_pos,x_values)\nplt.ylabel('reference count')\nplt.title('Top 10 paper by reference')\n \nplt.show()",
      "execution_count": null,
      "outputs": []
    },
    {
      "metadata": {
        "trusted": true,
        "_uuid": "455380205cf4c6bbeeafaf71c79c6a015540384e"
      },
      "cell_type": "code",
      "source": "print(df.shape)\ndf.isna().sum()",
      "execution_count": null,
      "outputs": []
    },
    {
      "metadata": {
        "trusted": true,
        "_uuid": "b05c12bc8a957e296ac66079960fb20e65ab7800"
      },
      "cell_type": "code",
      "source": "df[\"Authors\"] = df[\"Authors\"].fillna('')\nprint(any(df[\"Authors\"].isna()))\ndf[df['Authors'].str.contains('-')]",
      "execution_count": null,
      "outputs": []
    },
    {
      "metadata": {
        "trusted": true,
        "_uuid": "92095baeafab868d654d0db2a24cde58942631bb"
      },
      "cell_type": "code",
      "source": "print(df[\"Authors\"].shape)\nprint(df[df['Authors'].str.isalpha()].shape)",
      "execution_count": null,
      "outputs": []
    },
    {
      "metadata": {
        "trusted": true,
        "_uuid": "1287fe413d39e628acb6ebea602464246c804743"
      },
      "cell_type": "code",
      "source": "df[df['Authors'].str.isalpha()]",
      "execution_count": null,
      "outputs": []
    },
    {
      "metadata": {
        "trusted": true,
        "_uuid": "3efeaa8eb3d33cd2b7bd6626fdb1a314613e09af"
      },
      "cell_type": "code",
      "source": "df2 = df.filter(regex='spike')",
      "execution_count": null,
      "outputs": []
    }
  ],
  "metadata": {
    "kernelspec": {
      "display_name": "Python 3",
      "language": "python",
      "name": "python3"
    },
    "language_info": {
      "name": "python",
      "version": "3.6.6",
      "mimetype": "text/x-python",
      "codemirror_mode": {
        "name": "ipython",
        "version": 3
      },
      "pygments_lexer": "ipython3",
      "nbconvert_exporter": "python",
      "file_extension": ".py"
    }
  },
  "nbformat": 4,
  "nbformat_minor": 1
}