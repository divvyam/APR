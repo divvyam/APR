{
  "cells": [
    {
      "metadata": {
        "_uuid": "f9611f2ca8bcdc2cd69bd73cf7d487298d0db71b",
        "trusted": true
      },
      "cell_type": "code",
      "source": "import os\nimport csv\nimport pandas as pd\nimport numpy as np\n\nimport datetime\nfrom pandas.io.json import json_normalize\nimport matplotlib.pyplot as plt\nimport seaborn as sns\ncolor = sns.color_palette()\n\n%matplotlib inline\n\nfrom plotly import tools\nimport plotly.offline as py\npy.init_notebook_mode(connected=True)\nimport plotly.graph_objs as go\nimport squarify\n\nfrom sklearn import model_selection, preprocessing, metrics\nplt.style.use('fivethirtyeight')\n\nprint(os.getcwd())\nprint(os.listdir(\"../input/\"))",
      "execution_count": 36,
      "outputs": [
        {
          "output_type": "display_data",
          "data": {
            "text/html": "<script>requirejs.config({paths: { 'plotly': ['https://cdn.plot.ly/plotly-latest.min']},});if(!window.Plotly) {{require(['plotly'],function(plotly) {window.Plotly=plotly;});}}</script>",
            "text/vnd.plotly.v1+html": "<script>requirejs.config({paths: { 'plotly': ['https://cdn.plot.ly/plotly-latest.min']},});if(!window.Plotly) {{require(['plotly'],function(plotly) {window.Plotly=plotly;});}}</script>"
          },
          "metadata": {}
        },
        {
          "output_type": "stream",
          "text": "/kaggle/working\n['acm.csv']\n",
          "name": "stdout"
        }
      ]
    },
    {
      "metadata": {
        "_uuid": "6a6e05230bb74b64a68ad8d2ab90ba592645ce4e",
        "trusted": true
      },
      "cell_type": "code",
      "source": "#load dataframe from csv\ndf = pd.read_csv(\"../input/acm.csv\")",
      "execution_count": 37,
      "outputs": []
    },
    {
      "metadata": {
        "_uuid": "c28973d6c010553658e801d04ce5cff6e4ddaff9",
        "trusted": true
      },
      "cell_type": "code",
      "source": "df.info()",
      "execution_count": 4,
      "outputs": [
        {
          "output_type": "stream",
          "text": "<class 'pandas.core.frame.DataFrame'>\nRangeIndex: 2385066 entries, 0 to 2385065\nData columns (total 7 columns):\nPaperTitle           object\nAuthors              object\nYear                 float64\nPublication_Venue    object\nIndex_Id             int64\nReferences_Id        object\nAbstract             object\ndtypes: float64(1), int64(1), object(5)\nmemory usage: 127.4+ MB\n",
          "name": "stdout"
        }
      ]
    },
    {
      "metadata": {
        "_uuid": "e8b81ecadb1a45d838be8f0f661db88416d4841a",
        "trusted": true
      },
      "cell_type": "code",
      "source": "df.shape",
      "execution_count": 5,
      "outputs": [
        {
          "output_type": "execute_result",
          "execution_count": 5,
          "data": {
            "text/plain": "(2385066, 7)"
          },
          "metadata": {}
        }
      ]
    },
    {
      "metadata": {
        "_uuid": "43c2516f163f1294ba7a5f84fd6c3162e955a59d",
        "trusted": true
      },
      "cell_type": "code",
      "source": "df[df[\"Index_Id\"] == 289023]",
      "execution_count": 6,
      "outputs": [
        {
          "output_type": "execute_result",
          "execution_count": 6,
          "data": {
            "text/plain": "                                    PaperTitle                        ...                                                                   Abstract\n289022  Shifting Graphs and Their Applications                        ...                          Graphs that in a certain precise sense are ric...\n\n[1 rows x 7 columns]",
            "text/html": "<div>\n<style scoped>\n    .dataframe tbody tr th:only-of-type {\n        vertical-align: middle;\n    }\n\n    .dataframe tbody tr th {\n        vertical-align: top;\n    }\n\n    .dataframe thead th {\n        text-align: right;\n    }\n</style>\n<table border=\"1\" class=\"dataframe\">\n  <thead>\n    <tr style=\"text-align: right;\">\n      <th></th>\n      <th>PaperTitle</th>\n      <th>Authors</th>\n      <th>Year</th>\n      <th>Publication_Venue</th>\n      <th>Index_Id</th>\n      <th>References_Id</th>\n      <th>Abstract</th>\n    </tr>\n  </thead>\n  <tbody>\n    <tr>\n      <th>289022</th>\n      <td>Shifting Graphs and Their Applications</td>\n      <td>Nicholas Pippenger, Leslie G. Valiant</td>\n      <td>1976.0</td>\n      <td>Journal of the ACM (JACM)</td>\n      <td>289023</td>\n      <td>:252607:288548:289037:289188:599901:600048:669...</td>\n      <td>Graphs that in a certain precise sense are ric...</td>\n    </tr>\n  </tbody>\n</table>\n</div>"
          },
          "metadata": {}
        }
      ]
    },
    {
      "metadata": {
        "_uuid": "9558cbbc5838ffd382a18ff88494c3fce65b3d0c"
      },
      "cell_type": "markdown",
      "source": "***count_reference*** represents the number of times particular paper got referred in our dataset"
    },
    {
      "metadata": {
        "_uuid": "af8e630e786f4413f46b15ba362feeff6c04588d",
        "trusted": true
      },
      "cell_type": "code",
      "source": "df[\"count_reference\"] = 0",
      "execution_count": 6,
      "outputs": []
    },
    {
      "metadata": {
        "_uuid": "da101950a4d3a494121ed949ba07f0b1aada135b",
        "trusted": true
      },
      "cell_type": "code",
      "source": "df.isna().sum()",
      "execution_count": 8,
      "outputs": [
        {
          "output_type": "execute_result",
          "execution_count": 8,
          "data": {
            "text/plain": "PaperTitle                46\nAuthors               151075\nYear                    8428\nPublication_Venue        139\nIndex_Id                   0\nReferences_Id        1344739\nAbstract              713788\ncount_reference            0\ndtype: int64"
          },
          "metadata": {}
        }
      ]
    },
    {
      "metadata": {
        "trusted": true,
        "_uuid": "21fb6b7648f19dde8efb0130ace32963dab27d68"
      },
      "cell_type": "code",
      "source": "df = df.dropna(axis=0,how='any')",
      "execution_count": 7,
      "outputs": []
    },
    {
      "metadata": {
        "trusted": true,
        "_uuid": "0e1396b6da0f0102bb2b00509af92034de1ca51b"
      },
      "cell_type": "code",
      "source": "df.isna().sum()",
      "execution_count": 8,
      "outputs": [
        {
          "output_type": "execute_result",
          "execution_count": 8,
          "data": {
            "text/plain": "PaperTitle           0\nAuthors              0\nYear                 0\nPublication_Venue    0\nIndex_Id             0\nReferences_Id        0\nAbstract             0\ncount_reference      0\ndtype: int64"
          },
          "metadata": {}
        }
      ]
    },
    {
      "metadata": {
        "trusted": true,
        "_uuid": "2f98f7a804c407c28d411b0dc7c1223e9b7e51a2"
      },
      "cell_type": "code",
      "source": "df.shape",
      "execution_count": 9,
      "outputs": [
        {
          "output_type": "execute_result",
          "execution_count": 9,
          "data": {
            "text/plain": "(977377, 8)"
          },
          "metadata": {}
        }
      ]
    },
    {
      "metadata": {
        "trusted": true,
        "_uuid": "8280a654ddd30e6d29f83f06605e786ce73c5912"
      },
      "cell_type": "code",
      "source": "df[\"Authors\"].value_counts()",
      "execution_count": null,
      "outputs": []
    },
    {
      "metadata": {
        "trusted": true,
        "_uuid": "22553bc365e9ad2f7db260e59b019862819afee2"
      },
      "cell_type": "code",
      "source": "temp_df = df.loc[df['Authors'].astype(str).str.startswith('-')]",
      "execution_count": null,
      "outputs": []
    },
    {
      "metadata": {
        "trusted": true,
        "_uuid": "6721bd3ef596eba45531649a1660077095b2c756"
      },
      "cell_type": "code",
      "source": "temp_df.shape",
      "execution_count": null,
      "outputs": []
    },
    {
      "metadata": {
        "trusted": true,
        "_uuid": "e7861d6c9ffad30e4e49f4e1125e151404824367"
      },
      "cell_type": "code",
      "source": "df = df.drop(df[df['Authors'].astype(str).str.startswith('-')].index)",
      "execution_count": 10,
      "outputs": []
    },
    {
      "metadata": {
        "trusted": true,
        "_uuid": "ecfa6acb96e11585c8e00f0ff21cf04ff7109455"
      },
      "cell_type": "code",
      "source": "df.shape",
      "execution_count": null,
      "outputs": []
    },
    {
      "metadata": {
        "_uuid": "e381429f3807f51ec3f452e9223236a7eaa691dd"
      },
      "cell_type": "markdown",
      "source": "####YEAR"
    },
    {
      "metadata": {
        "_uuid": "945612bc1754af22226f2bbe6923c94576d3b10a",
        "trusted": true
      },
      "cell_type": "code",
      "source": "df[\"Year\"] = df[\"Year\"].fillna(0)\ndf[\"Year\"] = df[\"Year\"].astype(int)",
      "execution_count": null,
      "outputs": []
    },
    {
      "metadata": {
        "_uuid": "ec470afedc3fe7a2b42b801dfc18a415ca7125fd"
      },
      "cell_type": "markdown",
      "source": "**Rows with NaN year**"
    },
    {
      "metadata": {
        "_uuid": "90822b90afd5523486f03a082bc8c3cf4410b70e",
        "trusted": true
      },
      "cell_type": "code",
      "source": "df[df[\"Year\"] == 0]",
      "execution_count": 13,
      "outputs": [
        {
          "output_type": "execute_result",
          "execution_count": 13,
          "data": {
            "text/plain": "Empty DataFrame\nColumns: [PaperTitle, Authors, Year, Publication_Venue, Index_Id, References_Id, Abstract, count_reference]\nIndex: []",
            "text/html": "<div>\n<style scoped>\n    .dataframe tbody tr th:only-of-type {\n        vertical-align: middle;\n    }\n\n    .dataframe tbody tr th {\n        vertical-align: top;\n    }\n\n    .dataframe thead th {\n        text-align: right;\n    }\n</style>\n<table border=\"1\" class=\"dataframe\">\n  <thead>\n    <tr style=\"text-align: right;\">\n      <th></th>\n      <th>PaperTitle</th>\n      <th>Authors</th>\n      <th>Year</th>\n      <th>Publication_Venue</th>\n      <th>Index_Id</th>\n      <th>References_Id</th>\n      <th>Abstract</th>\n      <th>count_reference</th>\n    </tr>\n  </thead>\n  <tbody>\n  </tbody>\n</table>\n</div>"
          },
          "metadata": {}
        }
      ]
    },
    {
      "metadata": {
        "_uuid": "c93b816ebca64a2d17d03a9e0727a5c32834ed5f"
      },
      "cell_type": "markdown",
      "source": "***Year of publication distribution in the data***"
    },
    {
      "metadata": {
        "_uuid": "841951a6799cf34fc1bdd4e008a1f0fe23c4f06d",
        "trusted": true
      },
      "cell_type": "code",
      "source": "ydf = df[df[\"Year\"]!=0]\nplt.figure(figsize=(8,6))\nplt.scatter(range(ydf.shape[0]), np.sort(ydf[\"Year\"].values))\nplt.xlabel('index', fontsize=12)\nplt.ylabel('Year', fontsize=12)\nplt.title(\"Year Distribution\", fontsize=20) \nplt.show()",
      "execution_count": 14,
      "outputs": [
        {
          "output_type": "display_data",
          "data": {
            "text/plain": "<Figure size 576x432 with 1 Axes>",
            "image/png": "[encoded data removed]"
          },
          "metadata": {}
        }
      ]
    },
    {
      "metadata": {
        "_uuid": "9fa52401347933c30c141991e33f9f80a014b455",
        "trusted": false
      },
      "cell_type": "code",
      "source": "df.isna().sum()",
      "execution_count": null,
      "outputs": []
    },
    {
      "metadata": {
        "_uuid": "9f678c04583087367ee85f99f458f3e7789ba1e2",
        "trusted": false
      },
      "cell_type": "code",
      "source": "print(df.dtypes)",
      "execution_count": null,
      "outputs": []
    },
    {
      "metadata": {
        "_uuid": "6398fea4893f846804cbba7e1e775fb23ca61917",
        "scrolled": true,
        "trusted": true
      },
      "cell_type": "code",
      "source": "df[\"Index_Id\"].unique()\nprint(any(df['Index_Id'].duplicated())) \nprint(len(df['Index_Id'].unique()))\nprint(len(df.index))",
      "execution_count": null,
      "outputs": []
    },
    {
      "metadata": {
        "_uuid": "f07695dcd1546f6eff08c888fc199eb4529ec39a"
      },
      "cell_type": "markdown",
      "source": "> Index_Id = 2381731 is duplicated 9 times , It points to 7 different papers and has 82080 references."
    },
    {
      "metadata": {
        "_uuid": "82ee9fde1dc5c6582d06a66467be6a30e0d4a0f5",
        "scrolled": true,
        "trusted": true
      },
      "cell_type": "code",
      "source": "df[df.duplicated(subset=\"Index_Id\")]",
      "execution_count": 15,
      "outputs": [
        {
          "output_type": "execute_result",
          "execution_count": 15,
          "data": {
            "text/plain": "Empty DataFrame\nColumns: [PaperTitle, Authors, Year, Publication_Venue, Index_Id, References_Id, Abstract, count_reference]\nIndex: []",
            "text/html": "<div>\n<style scoped>\n    .dataframe tbody tr th:only-of-type {\n        vertical-align: middle;\n    }\n\n    .dataframe tbody tr th {\n        vertical-align: top;\n    }\n\n    .dataframe thead th {\n        text-align: right;\n    }\n</style>\n<table border=\"1\" class=\"dataframe\">\n  <thead>\n    <tr style=\"text-align: right;\">\n      <th></th>\n      <th>PaperTitle</th>\n      <th>Authors</th>\n      <th>Year</th>\n      <th>Publication_Venue</th>\n      <th>Index_Id</th>\n      <th>References_Id</th>\n      <th>Abstract</th>\n      <th>count_reference</th>\n    </tr>\n  </thead>\n  <tbody>\n  </tbody>\n</table>\n</div>"
          },
          "metadata": {}
        }
      ]
    },
    {
      "metadata": {
        "_uuid": "4df5c6d9f93618118a9c86142f24cfa0de5dd76a",
        "trusted": true
      },
      "cell_type": "code",
      "source": "reference_count = {}\nfor references in df[df[\"References_Id\"].notnull()][\"References_Id\"]:\n    ref_list = map(int,references.strip(\":\").split(\":\"))\n    for ref in ref_list:\n        if ref in reference_count:\n            reference_count[ref] += 1\n        else:\n            reference_count[ref] = 1\nprint(reference_count[2381731])",
      "execution_count": 11,
      "outputs": [
        {
          "output_type": "stream",
          "text": "76236\n",
          "name": "stdout"
        }
      ]
    },
    {
      "metadata": {
        "_uuid": "57a7842f6d4e00ac95113cff132ca69786291e4d",
        "scrolled": true,
        "trusted": true
      },
      "cell_type": "code",
      "source": "def update_ref_count(row):\n    if row['Index_Id'] in reference_count:\n        return reference_count[row['Index_Id']]\n    else:\n        return 0\ndf[\"count_reference\"] = df.apply(lambda row: update_ref_count(row),axis=1)",
      "execution_count": 12,
      "outputs": []
    },
    {
      "metadata": {
        "_uuid": "e75728b3b73e1d770aac26483e15f3dbe7b8c086",
        "trusted": true
      },
      "cell_type": "code",
      "source": "print(df.head(5))",
      "execution_count": 13,
      "outputs": [
        {
          "output_type": "stream",
          "text": "                                            PaperTitle       ...       count_reference\n117                     Algorithms for trie compaction       ...                    12\n133  Logical, internal, and physical reference beha...       ...                     9\n134    A parallel pipelined relational query processor       ...                     8\n147           Practical data-swapping: the first steps       ...                    38\n149  An extension of conflict-free multivalued depe...       ...                     3\n\n[5 rows x 8 columns]\n",
          "name": "stdout"
        }
      ]
    },
    {
      "metadata": {
        "_uuid": "f7a15b3c25aecce994483983ba8945b345c328f2",
        "trusted": true
      },
      "cell_type": "code",
      "source": "sorted_by_value = sorted(reference_count.items(), key=lambda kv: kv[1],reverse=True)\nprint(sorted_by_value[:10])\nprint([row[0] for row in sorted_by_value[:10]])\nprint([row[1] for row in sorted_by_value[:10]])",
      "execution_count": 14,
      "outputs": [
        {
          "output_type": "stream",
          "text": "[(2135000, 884601), (2381731, 76236), (408395, 8038), (369235, 6269), (190580, 5233), (136349, 4726), (729436, 4439), (168250, 4413), (760804, 4147), (115607, 3360)]\n[2135000, 2381731, 408395, 369235, 190580, 136349, 729436, 168250, 760804, 115607]\n[884601, 76236, 8038, 6269, 5233, 4726, 4439, 4413, 4147, 3360]\n",
          "name": "stdout"
        }
      ]
    },
    {
      "metadata": {
        "_uuid": "fd3884ff9915ad460cb7a3cc42e6b0daf7933ebd",
        "trusted": true
      },
      "cell_type": "code",
      "source": "x_values = [row[0] for row in sorted_by_value[:10]]\ny_values = [row[1] for row in sorted_by_value[:10]]\nx_pos = np.arange(len(x_values))\nplt.figure(figsize=(13,7))\nplt.bar(x_pos,y_values, align='center', alpha=1)\nplt.xticks(x_pos,x_values)\nplt.ylabel('reference count')\nplt.title('Top 10 paper by reference')\n \nplt.show()",
      "execution_count": 21,
      "outputs": [
        {
          "output_type": "display_data",
          "data": {
            "text/plain": "<Figure size 936x504 with 1 Axes>",
            "image/png": "[encoded data removed]"
          },
          "metadata": {}
        }
      ]
    },
    {
      "metadata": {
        "_uuid": "455380205cf4c6bbeeafaf71c79c6a015540384e",
        "trusted": true
      },
      "cell_type": "code",
      "source": "print(df.shape)\ndf.isna().sum()",
      "execution_count": 22,
      "outputs": [
        {
          "output_type": "stream",
          "text": "(976233, 8)\n",
          "name": "stdout"
        },
        {
          "output_type": "execute_result",
          "execution_count": 22,
          "data": {
            "text/plain": "PaperTitle           0\nAuthors              0\nYear                 0\nPublication_Venue    0\nIndex_Id             0\nReferences_Id        0\nAbstract             0\ncount_reference      0\ndtype: int64"
          },
          "metadata": {}
        }
      ]
    },
    {
      "metadata": {
        "_uuid": "236dd13ff1214bddcd79c0f8c1884b9da70305a6",
        "trusted": true
      },
      "cell_type": "code",
      "source": "del reference_count\noutlink_map = {}\ninlink_map = {}\ndf_new = df[df[\"References_Id\"].notnull()]\nfor index, row in df_new.iterrows():\n    ref = row[\"References_Id\"]\n    ref_list = list(map(int,ref.strip(\":\").split(\":\")))\n    outlink_map[row[\"Index_Id\"]] = ref_list\n    for ref in ref_list:\n        listi = inlink_map.get(ref, [])\n        listi.append(row[\"Index_Id\"])\n        inlink_map[ref] = listi",
      "execution_count": 16,
      "outputs": [
        {
          "output_type": "error",
          "ename": "NameError",
          "evalue": "name 'reference_count' is not defined",
          "traceback": [
            "\u001b[0;31m---------------------------------------------------------------------------\u001b[0m",
            "\u001b[0;31mNameError\u001b[0m                                 Traceback (most recent call last)",
            "\u001b[0;32m<ipython-input-16-ab4b9e7833e5>\u001b[0m in \u001b[0;36m<module>\u001b[0;34m()\u001b[0m\n\u001b[0;32m----> 1\u001b[0;31m \u001b[0;32mdel\u001b[0m \u001b[0mreference_count\u001b[0m\u001b[0;34m\u001b[0m\u001b[0m\n\u001b[0m\u001b[1;32m      2\u001b[0m \u001b[0moutlink_map\u001b[0m \u001b[0;34m=\u001b[0m \u001b[0;34m{\u001b[0m\u001b[0;34m}\u001b[0m\u001b[0;34m\u001b[0m\u001b[0m\n\u001b[1;32m      3\u001b[0m \u001b[0minlink_map\u001b[0m \u001b[0;34m=\u001b[0m \u001b[0;34m{\u001b[0m\u001b[0;34m}\u001b[0m\u001b[0;34m\u001b[0m\u001b[0m\n\u001b[1;32m      4\u001b[0m \u001b[0mdf_new\u001b[0m \u001b[0;34m=\u001b[0m \u001b[0mdf\u001b[0m\u001b[0;34m[\u001b[0m\u001b[0mdf\u001b[0m\u001b[0;34m[\u001b[0m\u001b[0;34m\"References_Id\"\u001b[0m\u001b[0;34m]\u001b[0m\u001b[0;34m.\u001b[0m\u001b[0mnotnull\u001b[0m\u001b[0;34m(\u001b[0m\u001b[0;34m)\u001b[0m\u001b[0;34m]\u001b[0m\u001b[0;34m\u001b[0m\u001b[0m\n\u001b[1;32m      5\u001b[0m \u001b[0;32mfor\u001b[0m \u001b[0mindex\u001b[0m\u001b[0;34m,\u001b[0m \u001b[0mrow\u001b[0m \u001b[0;32min\u001b[0m \u001b[0mdf_new\u001b[0m\u001b[0;34m.\u001b[0m\u001b[0miterrows\u001b[0m\u001b[0;34m(\u001b[0m\u001b[0;34m)\u001b[0m\u001b[0;34m:\u001b[0m\u001b[0;34m\u001b[0m\u001b[0m\n",
            "\u001b[0;31mNameError\u001b[0m: name 'reference_count' is not defined"
          ]
        }
      ]
    },
    {
      "metadata": {
        "_uuid": "49128b77e7f0484d9bc7d9f2457006359bca9e06",
        "trusted": true
      },
      "cell_type": "code",
      "source": "def calculate_page_rank():\n    count = 0\n    page_year = {row[\"Index_Id\"]:row[\"Year\"] for _t, row in df.iterrows()}\n    year_citation_count = { page_year[index]:0 for index in page_year}\n    year_paper_count = { page_year[index]:0 for index in page_year}\n    avg_year_citation_count = {}\n    for index in page_year:\n        year = page_year[index]\n        len_outlink = len(outlink_map.get(index, []))\n        if len_outlink > 0:\n            year_citation_count[year] += len_outlink\n            year_paper_count[year] += 1\n    for year in year_citation_count:\n        if year_paper_count[year] > 0:\n            avg_year_citation_count[year] = year_citation_count[year]/year_paper_count[year]\n    page_rank = {}\n    updated_page_rank = {}\n    for index in df[\"Index_Id\"]:\n        page_rank[index] = 1\n    while True:\n        count += 1\n        flag = True\n        for key in page_rank:\n            cs = page_rank[key]\n            if key in inlink_map:\n                inlink_list = inlink_map[key]\n                ns = 0\n                for link in inlink_list:\n                    if link in page_rank and link in outlink_map:\n                        ns += page_rank[link]/len(outlink_map[link])\n                #ns = 0.15 + (0.85 * ns)\n                ns = 0.15 + float(0.85) * (ns/avg_year_citation_count[page_year[key]])\n                if cs != ns:\n                    flag = False\n                updated_page_rank[key] = ns\n        if flag == True:\n            print(count)\n            break\n        page_rank = updated_page_rank\n        updated_page_rank = {}\n        max_score = max(page_rank.values())\n        print(f\"max score is {max_score}\")\n        page_rank = { index:score/max_score for index, score in page_rank.items()}\n        return page_rank",
      "execution_count": 17,
      "outputs": []
    },
    {
      "metadata": {
        "_uuid": "f4c78d74af7b9887d4fd89acd8e3e189192d0e17",
        "trusted": true
      },
      "cell_type": "code",
      "source": "page_rank = calculate_page_rank()\n#del outlink_map\n#del inlink_map",
      "execution_count": 18,
      "outputs": [
        {
          "output_type": "stream",
          "text": "max score is 45.30006518885713\n",
          "name": "stdout"
        }
      ]
    },
    {
      "metadata": {
        "_uuid": "cd6638efc0b8605f3a8d253e635440b9036d050b",
        "trusted": true
      },
      "cell_type": "code",
      "source": "page_rank\nprint(max(page_rank.values()))\nprint(sum(page_rank.values()))",
      "execution_count": 19,
      "outputs": [
        {
          "output_type": "stream",
          "text": "1.0\n2617.283945650123\n",
          "name": "stdout"
        }
      ]
    },
    {
      "metadata": {
        "_uuid": "cdea45a5007a6b8d7aad1fd30cc2ea9d28c21a7d",
        "trusted": true
      },
      "cell_type": "code",
      "source": "df[\"page_rank\"] = 0",
      "execution_count": 20,
      "outputs": []
    },
    {
      "metadata": {
        "_uuid": "1d022c975d1ac88b2c93125a885dabffebab746c",
        "trusted": true
      },
      "cell_type": "code",
      "source": "def update_rank(row):\n    if row[\"Index_Id\"] in page_rank:\n        return page_rank[row[\"Index_Id\"]]\n    else:\n        return 0",
      "execution_count": 21,
      "outputs": []
    },
    {
      "metadata": {
        "_uuid": "12c975e0293ba827af436ae5752e13bd9a1bee99",
        "trusted": true
      },
      "cell_type": "code",
      "source": "df[\"page_rank\"] = df.apply(lambda row: update_rank(row),axis = 1)",
      "execution_count": 22,
      "outputs": []
    },
    {
      "metadata": {
        "_uuid": "c5f34e4c073bd8631a116653f22897627d048c1c",
        "trusted": true
      },
      "cell_type": "code",
      "source": "df[\"page_rank\"][0:10]",
      "execution_count": 23,
      "outputs": [
        {
          "output_type": "execute_result",
          "execution_count": 23,
          "data": {
            "text/plain": "117    0.004683\n133    0.005583\n134    0.005590\n147    0.010586\n149    0.003931\n315    0.008771\n316    0.000000\n317    0.007529\n318    0.051573\n319    0.005276\nName: page_rank, dtype: float64"
          },
          "metadata": {}
        }
      ]
    },
    {
      "metadata": {
        "trusted": true,
        "_uuid": "85540db4774d5cad869b8bfb9c9f985fbd96abb6"
      },
      "cell_type": "code",
      "source": "df.head(5)",
      "execution_count": 24,
      "outputs": [
        {
          "output_type": "execute_result",
          "execution_count": 24,
          "data": {
            "text/plain": "                                            PaperTitle    ...    page_rank\n117                     Algorithms for trie compaction    ...     0.004683\n133  Logical, internal, and physical reference beha...    ...     0.005583\n134    A parallel pipelined relational query processor    ...     0.005590\n147           Practical data-swapping: the first steps    ...     0.010586\n149  An extension of conflict-free multivalued depe...    ...     0.003931\n\n[5 rows x 9 columns]",
            "text/html": "<div>\n<style scoped>\n    .dataframe tbody tr th:only-of-type {\n        vertical-align: middle;\n    }\n\n    .dataframe tbody tr th {\n        vertical-align: top;\n    }\n\n    .dataframe thead th {\n        text-align: right;\n    }\n</style>\n<table border=\"1\" class=\"dataframe\">\n  <thead>\n    <tr style=\"text-align: right;\">\n      <th></th>\n      <th>PaperTitle</th>\n      <th>Authors</th>\n      <th>Year</th>\n      <th>Publication_Venue</th>\n      <th>Index_Id</th>\n      <th>References_Id</th>\n      <th>Abstract</th>\n      <th>count_reference</th>\n      <th>page_rank</th>\n    </tr>\n  </thead>\n  <tbody>\n    <tr>\n      <th>117</th>\n      <td>Algorithms for trie compaction</td>\n      <td>M. Al-Suwaiyel, E Horowitz</td>\n      <td>1984.0</td>\n      <td>ACM Transactions on Database Systems (TODS)</td>\n      <td>118</td>\n      <td>:1157:252607:287497:289080:408503:326292:32687...</td>\n      <td>The trie data structure has many properties wh...</td>\n      <td>12</td>\n      <td>0.004683</td>\n    </tr>\n    <tr>\n      <th>133</th>\n      <td>Logical, internal, and physical reference beha...</td>\n      <td>Wolfgang Effelsberg, Mary E. S. Loomis</td>\n      <td>1984.0</td>\n      <td>ACM Transactions on Database Systems (TODS)</td>\n      <td>134</td>\n      <td>:286819:287482:287680:287739:287766:287646:317...</td>\n      <td>This work investigates one aspect of the perfo...</td>\n      <td>9</td>\n      <td>0.005583</td>\n    </tr>\n    <tr>\n      <th>134</th>\n      <td>A parallel pipelined relational query processor</td>\n      <td>Won Kim, Daniel Gajski, David J. Kuck</td>\n      <td>1984.0</td>\n      <td>ACM Transactions on Database Systems (TODS)</td>\n      <td>135</td>\n      <td>:287004:287293:287666:287494:317954:321467:322...</td>\n      <td>This paper presents the design of a relational...</td>\n      <td>8</td>\n      <td>0.005590</td>\n    </tr>\n    <tr>\n      <th>147</th>\n      <td>Practical data-swapping: the first steps</td>\n      <td>Steven P. Reiss</td>\n      <td>1984.0</td>\n      <td>ACM Transactions on Database Systems (TODS)</td>\n      <td>148</td>\n      <td>:287296:287297:289164:649353:2135000</td>\n      <td>The problem of statistical database confidenti...</td>\n      <td>38</td>\n      <td>0.010586</td>\n    </tr>\n    <tr>\n      <th>149</th>\n      <td>An extension of conflict-free multivalued depe...</td>\n      <td>Hirofumi Katsuno</td>\n      <td>1984.0</td>\n      <td>ACM Transactions on Database Systems (TODS)</td>\n      <td>150</td>\n      <td>:287338:287676:289281:289349:289304:289423:374...</td>\n      <td>Several researchers (Beeri, Bernstein, Chiu, F...</td>\n      <td>3</td>\n      <td>0.003931</td>\n    </tr>\n  </tbody>\n</table>\n</div>"
          },
          "metadata": {}
        }
      ]
    },
    {
      "metadata": {
        "trusted": true,
        "_uuid": "d080e78e48b98d773c7044762742cd0c9ec15f05"
      },
      "cell_type": "code",
      "source": "df[\"Number Of Authors\"] = 0\ndef cal_authors(authors):\n    author_list = authors.split(\",\")\n    return len(author_list)\ndf[\"Number Of Authors\"] = df[\"Authors\"].apply(lambda val:cal_authors(val))\ndf[\"Number Of Authors\"].value_counts()",
      "execution_count": null,
      "outputs": []
    },
    {
      "metadata": {
        "trusted": true,
        "_uuid": "028010991952e943cf9b391b4d351129257790eb"
      },
      "cell_type": "code",
      "source": "import seaborn as sns\nsns.set(rc={'figure.figsize':(11.7,8.27)})\nsns.set(style=\"darkgrid\")\nax = sns.countplot(x=\"Number Of Authors\", data=df)",
      "execution_count": null,
      "outputs": []
    },
    {
      "metadata": {
        "trusted": true,
        "_uuid": "4db8a544e4f05467de6d8ffbd3a4193c8b446a31"
      },
      "cell_type": "code",
      "source": "import seaborn as sns\nsns.set(rc={'figure.figsize':(11.7,8.27)})\nsns.set(style=\"darkgrid\")\nax = sns.countplot(x=\"Year\", data=df)",
      "execution_count": null,
      "outputs": []
    },
    {
      "metadata": {
        "trusted": true,
        "_uuid": "0a82e0f9e38ec4403b3cade7c93e5176f33ffdd8"
      },
      "cell_type": "code",
      "source": "import matplotlib.pylab as plt\nlists = sorted(year_citation_count.items()) # sorted by key, return a list of tuples\nx, y = zip(*lists) # unpack a list of pairs into two tuples\nplt.plot(x, y)\nplt.show()",
      "execution_count": null,
      "outputs": []
    },
    {
      "metadata": {
        "trusted": true,
        "_uuid": "c8f67d3b56d4f7f7fc3f20b454bb1d6b377aa558"
      },
      "cell_type": "code",
      "source": "from sklearn.preprocessing import LabelEncoder\nle = LabelEncoder()\ntrain_vals = list(df_new[\"Publication_Venue\"].values.astype(str))\nle.fit(train_vals)\ndf_new[\"Publication_Venue\"] = le.transform(train_vals)",
      "execution_count": null,
      "outputs": []
    },
    {
      "metadata": {
        "trusted": true,
        "_uuid": "cebdf7a3354309a2564ec2dd3a40d0ba40fff7b5"
      },
      "cell_type": "code",
      "source": "def tidy_split(df, column, sep='|', keep=False):\n    \"\"\"\n    Split the values of a column and expand so the new DataFrame has one split\n    value per row. Filters rows where the column is missing.\n\n    Params\n    ------\n    df : pandas.DataFrame\n        dataframe with the column to split and expand\n    column : str\n        the column to split and expand\n    sep : str\n        the string used to split the column's values\n    keep : bool\n        whether to retain the presplit value as it's own row\n\n    Returns\n    -------\n    pandas.DataFrame\n        Returns a dataframe with the same columns as `df`.\n    \"\"\"\n    indexes = list()\n    new_values = list()\n    df = df.dropna(subset=[column])\n    for i, presplit in enumerate(df[column].astype(str)):\n        values = presplit.split(sep)\n        if keep and len(values) > 1:\n            indexes.append(i)\n            new_values.append(presplit)\n        for value in values:\n            indexes.append(i)\n            new_values.append(value)\n    new_df = df.iloc[indexes, :].copy()\n    new_df[column] = new_values\n    return new_df",
      "execution_count": 25,
      "outputs": []
    },
    {
      "metadata": {
        "trusted": true,
        "_uuid": "ced0ddd333a6d4ac6e4ff4e8909a7f4dcebba382"
      },
      "cell_type": "code",
      "source": "df_new = tidy_split(df, 'Authors', sep=',')\ndf_new.head()",
      "execution_count": 26,
      "outputs": [
        {
          "output_type": "execute_result",
          "execution_count": 26,
          "data": {
            "text/plain": "                                            PaperTitle    ...    page_rank\n117                     Algorithms for trie compaction    ...     0.004683\n117                     Algorithms for trie compaction    ...     0.004683\n133  Logical, internal, and physical reference beha...    ...     0.005583\n133  Logical, internal, and physical reference beha...    ...     0.005583\n134    A parallel pipelined relational query processor    ...     0.005590\n\n[5 rows x 9 columns]",
            "text/html": "<div>\n<style scoped>\n    .dataframe tbody tr th:only-of-type {\n        vertical-align: middle;\n    }\n\n    .dataframe tbody tr th {\n        vertical-align: top;\n    }\n\n    .dataframe thead th {\n        text-align: right;\n    }\n</style>\n<table border=\"1\" class=\"dataframe\">\n  <thead>\n    <tr style=\"text-align: right;\">\n      <th></th>\n      <th>PaperTitle</th>\n      <th>Authors</th>\n      <th>Year</th>\n      <th>Publication_Venue</th>\n      <th>Index_Id</th>\n      <th>References_Id</th>\n      <th>Abstract</th>\n      <th>count_reference</th>\n      <th>page_rank</th>\n    </tr>\n  </thead>\n  <tbody>\n    <tr>\n      <th>117</th>\n      <td>Algorithms for trie compaction</td>\n      <td>M. Al-Suwaiyel</td>\n      <td>1984.0</td>\n      <td>ACM Transactions on Database Systems (TODS)</td>\n      <td>118</td>\n      <td>:1157:252607:287497:289080:408503:326292:32687...</td>\n      <td>The trie data structure has many properties wh...</td>\n      <td>12</td>\n      <td>0.004683</td>\n    </tr>\n    <tr>\n      <th>117</th>\n      <td>Algorithms for trie compaction</td>\n      <td>E Horowitz</td>\n      <td>1984.0</td>\n      <td>ACM Transactions on Database Systems (TODS)</td>\n      <td>118</td>\n      <td>:1157:252607:287497:289080:408503:326292:32687...</td>\n      <td>The trie data structure has many properties wh...</td>\n      <td>12</td>\n      <td>0.004683</td>\n    </tr>\n    <tr>\n      <th>133</th>\n      <td>Logical, internal, and physical reference beha...</td>\n      <td>Wolfgang Effelsberg</td>\n      <td>1984.0</td>\n      <td>ACM Transactions on Database Systems (TODS)</td>\n      <td>134</td>\n      <td>:286819:287482:287680:287739:287766:287646:317...</td>\n      <td>This work investigates one aspect of the perfo...</td>\n      <td>9</td>\n      <td>0.005583</td>\n    </tr>\n    <tr>\n      <th>133</th>\n      <td>Logical, internal, and physical reference beha...</td>\n      <td>Mary E. S. Loomis</td>\n      <td>1984.0</td>\n      <td>ACM Transactions on Database Systems (TODS)</td>\n      <td>134</td>\n      <td>:286819:287482:287680:287739:287766:287646:317...</td>\n      <td>This work investigates one aspect of the perfo...</td>\n      <td>9</td>\n      <td>0.005583</td>\n    </tr>\n    <tr>\n      <th>134</th>\n      <td>A parallel pipelined relational query processor</td>\n      <td>Won Kim</td>\n      <td>1984.0</td>\n      <td>ACM Transactions on Database Systems (TODS)</td>\n      <td>135</td>\n      <td>:287004:287293:287666:287494:317954:321467:322...</td>\n      <td>This paper presents the design of a relational...</td>\n      <td>8</td>\n      <td>0.005590</td>\n    </tr>\n  </tbody>\n</table>\n</div>"
          },
          "metadata": {}
        }
      ]
    },
    {
      "metadata": {
        "trusted": true,
        "_uuid": "c68ac9560bc9b1c225466ae62137d907fd620fa4"
      },
      "cell_type": "code",
      "source": "#df_new = b\ndf_new.shape",
      "execution_count": 28,
      "outputs": [
        {
          "output_type": "execute_result",
          "execution_count": 28,
          "data": {
            "text/plain": "(2824936, 9)"
          },
          "metadata": {}
        }
      ]
    },
    {
      "metadata": {
        "trusted": true,
        "_uuid": "d8806135474c95f4220a3dc3695a2fc55b0ac297"
      },
      "cell_type": "code",
      "source": "train_vals = list(df_new[\"Authors\"].values.astype(str))\nle.fit(train_vals)\ndf_new[\"Authors\"] = le.transform(train_vals)",
      "execution_count": 33,
      "outputs": []
    },
    {
      "metadata": {
        "trusted": true,
        "_uuid": "54e946bbc4cf2fe547a392279d103910887efa39"
      },
      "cell_type": "code",
      "source": "df_new.to_csv(\"ranked_processed_acm_1.csv\")",
      "execution_count": null,
      "outputs": []
    },
    {
      "metadata": {
        "trusted": true,
        "_uuid": "fbe68b191478a84756e82584b4b52c9b94ddd631"
      },
      "cell_type": "code",
      "source": "df_new.head(5)",
      "execution_count": 35,
      "outputs": [
        {
          "output_type": "execute_result",
          "execution_count": 35,
          "data": {
            "text/plain": "                                            PaperTitle    ...      page_rank\n117                     Algorithms for trie compaction    ...       0.004683\n117                     Algorithms for trie compaction    ...       0.004683\n133  Logical, internal, and physical reference beha...    ...       0.005583\n133  Logical, internal, and physical reference beha...    ...       0.005583\n134    A parallel pipelined relational query processor    ...       0.005590\n\n[5 rows x 9 columns]",
            "text/html": "<div>\n<style scoped>\n    .dataframe tbody tr th:only-of-type {\n        vertical-align: middle;\n    }\n\n    .dataframe tbody tr th {\n        vertical-align: top;\n    }\n\n    .dataframe thead th {\n        text-align: right;\n    }\n</style>\n<table border=\"1\" class=\"dataframe\">\n  <thead>\n    <tr style=\"text-align: right;\">\n      <th></th>\n      <th>PaperTitle</th>\n      <th>Authors</th>\n      <th>Year</th>\n      <th>Publication_Venue</th>\n      <th>Index_Id</th>\n      <th>References_Id</th>\n      <th>Abstract</th>\n      <th>count_reference</th>\n      <th>page_rank</th>\n    </tr>\n  </thead>\n  <tbody>\n    <tr>\n      <th>117</th>\n      <td>Algorithms for trie compaction</td>\n      <td>207770</td>\n      <td>1984.0</td>\n      <td>11564</td>\n      <td>118</td>\n      <td>:1157:252607:287497:289080:408503:326292:32687...</td>\n      <td>The trie data structure has many properties wh...</td>\n      <td>12</td>\n      <td>0.004683</td>\n    </tr>\n    <tr>\n      <th>117</th>\n      <td>Algorithms for trie compaction</td>\n      <td>218707</td>\n      <td>1984.0</td>\n      <td>11564</td>\n      <td>118</td>\n      <td>:1157:252607:287497:289080:408503:326292:32687...</td>\n      <td>The trie data structure has many properties wh...</td>\n      <td>12</td>\n      <td>0.004683</td>\n    </tr>\n    <tr>\n      <th>133</th>\n      <td>Logical, internal, and physical reference beha...</td>\n      <td>84699</td>\n      <td>1984.0</td>\n      <td>11564</td>\n      <td>134</td>\n      <td>:286819:287482:287680:287739:287766:287646:317...</td>\n      <td>This work investigates one aspect of the perfo...</td>\n      <td>9</td>\n      <td>0.005583</td>\n    </tr>\n    <tr>\n      <th>133</th>\n      <td>Logical, internal, and physical reference beha...</td>\n      <td>558533</td>\n      <td>1984.0</td>\n      <td>11564</td>\n      <td>134</td>\n      <td>:286819:287482:287680:287739:287766:287646:317...</td>\n      <td>This work investigates one aspect of the perfo...</td>\n      <td>9</td>\n      <td>0.005583</td>\n    </tr>\n    <tr>\n      <th>134</th>\n      <td>A parallel pipelined relational query processor</td>\n      <td>88995</td>\n      <td>1984.0</td>\n      <td>11564</td>\n      <td>135</td>\n      <td>:287004:287293:287666:287494:317954:321467:322...</td>\n      <td>This paper presents the design of a relational...</td>\n      <td>8</td>\n      <td>0.005590</td>\n    </tr>\n  </tbody>\n</table>\n</div>"
          },
          "metadata": {}
        }
      ]
    },
    {
      "metadata": {
        "trusted": true,
        "_uuid": "7b09d95bdf4658cc970e3e656e7ee5e303b4d546"
      },
      "cell_type": "code",
      "source": "num_columns= [\"Year\",\"Publication_Venue\",\"Index_Id\",\"count_reference\",\"Number Of Authors\"]\ndf_train = df[num_columns]",
      "execution_count": null,
      "outputs": []
    },
    {
      "metadata": {
        "trusted": true,
        "_uuid": "9a6ece530d135055a842d81004181906a7ed7e38"
      },
      "cell_type": "code",
      "source": "from sklearn.model_selection import train_test_split\ntrain_x, valid_x, train_y, valid_y = train_test_split(df_train, df[\"page_rank\"], test_size=0.25, random_state=20)",
      "execution_count": null,
      "outputs": []
    },
    {
      "metadata": {
        "trusted": true,
        "_uuid": "8afd905c61f2494100255303061b8561c5ad96d1"
      },
      "cell_type": "code",
      "source": "from sklearn import linear_model\nreg = linear_model.LinearRegression()\nreg.fit(train_x,train_y)\nprint(reg.coef_)",
      "execution_count": null,
      "outputs": []
    },
    {
      "metadata": {
        "trusted": true,
        "_uuid": "fc49b6721fde81b1bcc409f228fccf3b4cde2781"
      },
      "cell_type": "code",
      "source": "from sklearn import metrics\npred_y = reg.predict(valid_x)\nrmse_initial = np.sqrt(metrics.mean_squared_error(pred_y,valid_y))\nprint(rmse_initial)",
      "execution_count": null,
      "outputs": []
    }
  ],
  "metadata": {
    "kernelspec": {
      "display_name": "Python 3",
      "language": "python",
      "name": "python3"
    },
    "language_info": {
      "name": "python",
      "version": "3.6.6",
      "mimetype": "text/x-python",
      "codemirror_mode": {
        "name": "ipython",
        "version": 3
      },
      "pygments_lexer": "ipython3",
      "nbconvert_exporter": "python",
      "file_extension": ".py"
    }
  },
  "nbformat": 4,
  "nbformat_minor": 1
}