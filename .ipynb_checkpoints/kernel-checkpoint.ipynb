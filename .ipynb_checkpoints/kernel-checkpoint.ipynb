{
 "cells": [
  {
   "cell_type": "code",
   "execution_count": 1,
   "metadata": {
    "_uuid": "f9611f2ca8bcdc2cd69bd73cf7d487298d0db71b"
   },
   "outputs": [
    {
     "data": {
      "text/html": [
       "<script>requirejs.config({paths: { 'plotly': ['https://cdn.plot.ly/plotly-latest.min']},});if(!window.Plotly) {{require(['plotly'],function(plotly) {window.Plotly=plotly;});}}</script>"
      ],
      "text/vnd.plotly.v1+html": [
       "<script>requirejs.config({paths: { 'plotly': ['https://cdn.plot.ly/plotly-latest.min']},});if(!window.Plotly) {{require(['plotly'],function(plotly) {window.Plotly=plotly;});}}</script>"
      ]
     },
     "metadata": {},
     "output_type": "display_data"
    },
    {
     "name": "stdout",
     "output_type": "stream",
     "text": [
      "/kaggle/working\n",
      "['acm.csv']\n"
     ]
    }
   ],
   "source": [
    "import os\n",
    "import csv\n",
    "import pandas as pd\n",
    "import numpy as np\n",
    "\n",
    "import datetime\n",
    "from pandas.io.json import json_normalize\n",
    "import matplotlib.pyplot as plt\n",
    "import seaborn as sns\n",
    "color = sns.color_palette()\n",
    "\n",
    "%matplotlib inline\n",
    "\n",
    "from plotly import tools\n",
    "import plotly.offline as py\n",
    "py.init_notebook_mode(connected=True)\n",
    "import plotly.graph_objs as go\n",
    "import squarify\n",
    "\n",
    "from sklearn import model_selection, preprocessing, metrics\n",
    "plt.style.use('fivethirtyeight')\n",
    "\n",
    "print(os.getcwd())\n",
    "print(os.listdir(\"../input/\"))"
   ]
  },
  {
   "cell_type": "code",
   "execution_count": null,
   "metadata": {
    "_uuid": "6a6e05230bb74b64a68ad8d2ab90ba592645ce4e"
   },
   "outputs": [],
   "source": [
    "#load dataframe from csv\n",
    "df = pd.read_csv(\"../input/acm.csv\")"
   ]
  },
  {
   "cell_type": "code",
   "execution_count": null,
   "metadata": {
    "_uuid": "c28973d6c010553658e801d04ce5cff6e4ddaff9"
   },
   "outputs": [],
   "source": [
    "df.info()"
   ]
  },
  {
   "cell_type": "code",
   "execution_count": null,
   "metadata": {
    "_uuid": "e8b81ecadb1a45d838be8f0f661db88416d4841a"
   },
   "outputs": [],
   "source": [
    "df"
   ]
  },
  {
   "cell_type": "code",
   "execution_count": null,
   "metadata": {
    "_uuid": "43c2516f163f1294ba7a5f84fd6c3162e955a59d"
   },
   "outputs": [],
   "source": [
    "df[df[\"Index_Id\"] == 289023]"
   ]
  },
  {
   "cell_type": "markdown",
   "metadata": {
    "_uuid": "9558cbbc5838ffd382a18ff88494c3fce65b3d0c"
   },
   "source": [
    "***count_reference*** represents the number of times particular paper got referred in our dataset"
   ]
  },
  {
   "cell_type": "code",
   "execution_count": null,
   "metadata": {
    "_uuid": "af8e630e786f4413f46b15ba362feeff6c04588d"
   },
   "outputs": [],
   "source": [
    "df[\"count_reference\"] = 0"
   ]
  },
  {
   "cell_type": "code",
   "execution_count": null,
   "metadata": {
    "_uuid": "da101950a4d3a494121ed949ba07f0b1aada135b"
   },
   "outputs": [],
   "source": [
    "df.isna().sum()"
   ]
  },
  {
   "cell_type": "code",
   "execution_count": null,
   "metadata": {
    "_uuid": "d0950db53302381035eada7ac3c39520a69fa127"
   },
   "outputs": [],
   "source": [
    "#set index_id as index\n",
    "df.set_index(\"Index_Id\",inplace=True)"
   ]
  },
  {
   "cell_type": "markdown",
   "metadata": {
    "_uuid": "e381429f3807f51ec3f452e9223236a7eaa691dd"
   },
   "source": [
    "####YEAR"
   ]
  },
  {
   "cell_type": "code",
   "execution_count": null,
   "metadata": {
    "_uuid": "945612bc1754af22226f2bbe6923c94576d3b10a"
   },
   "outputs": [],
   "source": [
    "df[\"Year\"] = df[\"Year\"].fillna(0)\n",
    "df[\"Year\"] = df[\"Year\"].astype(int)"
   ]
  },
  {
   "cell_type": "markdown",
   "metadata": {
    "_uuid": "ec470afedc3fe7a2b42b801dfc18a415ca7125fd"
   },
   "source": [
    "**Rows with NaN year**"
   ]
  },
  {
   "cell_type": "code",
   "execution_count": null,
   "metadata": {
    "_uuid": "90822b90afd5523486f03a082bc8c3cf4410b70e"
   },
   "outputs": [],
   "source": [
    "df[df[\"Year\"] == 0]"
   ]
  },
  {
   "cell_type": "markdown",
   "metadata": {
    "_uuid": "c93b816ebca64a2d17d03a9e0727a5c32834ed5f"
   },
   "source": [
    "***Year of publication distribution in the data***"
   ]
  },
  {
   "cell_type": "code",
   "execution_count": null,
   "metadata": {
    "_uuid": "841951a6799cf34fc1bdd4e008a1f0fe23c4f06d"
   },
   "outputs": [],
   "source": [
    "ydf = df[df[\"Year\"]!=0]\n",
    "plt.figure(figsize=(8,6))\n",
    "plt.scatter(range(ydf.shape[0]), np.sort(ydf[\"Year\"].values))\n",
    "plt.xlabel('index', fontsize=12)\n",
    "plt.ylabel('Year', fontsize=12)\n",
    "plt.title(\"Year Distribution\", fontsize=20) \n",
    "plt.show()"
   ]
  },
  {
   "cell_type": "code",
   "execution_count": null,
   "metadata": {
    "_uuid": "f9961f1c556c41888d41559a15d49470b72f70b9"
   },
   "outputs": [],
   "source": [
    "df[\"References_Id\"] = df[\"References_Id\"].fillna(0)"
   ]
  },
  {
   "cell_type": "code",
   "execution_count": null,
   "metadata": {
    "_uuid": "751e026a16d9a3f3934930f42f6fc438d4416bb5"
   },
   "outputs": [],
   "source": [
    "df"
   ]
  },
  {
   "cell_type": "code",
   "execution_count": null,
   "metadata": {
    "_uuid": "9fa52401347933c30c141991e33f9f80a014b455"
   },
   "outputs": [],
   "source": [
    "df.isna().sum()"
   ]
  },
  {
   "cell_type": "code",
   "execution_count": null,
   "metadata": {
    "_uuid": "9f678c04583087367ee85f99f458f3e7789ba1e2"
   },
   "outputs": [],
   "source": [
    "chunkdf = df[:2000]"
   ]
  },
  {
   "cell_type": "code",
   "execution_count": null,
   "metadata": {
    "_uuid": "57a7842f6d4e00ac95113cff132ca69786291e4d"
   },
   "outputs": [],
   "source": [
    "# for references in chunkdf[chunkdf[\"References_Id\"].notnull()][\"References_Id\"]:\n",
    "#     r_list = map(int,references.strip(\":\").split(\":\"))\n",
    "# #     print(\",\".join(references.split(\":\")))\n",
    "#     for r in r_list:\n",
    "#         chunkdf.loc[r,\"count_reference\"] += 1"
   ]
  },
  {
   "cell_type": "code",
   "execution_count": null,
   "metadata": {
    "_uuid": "68adffa4393045a209c0c19048807719bb0e025c"
   },
   "outputs": [],
   "source": [
    "df.reset_index(inplace=True)"
   ]
  },
  {
   "cell_type": "code",
   "execution_count": null,
   "metadata": {
    "_uuid": "f1c8630a4662ca10159c953feeed7f7f34a1e1f9"
   },
   "outputs": [],
   "source": [
    "df.loc[1,\"count_reference\"]"
   ]
  },
  {
   "cell_type": "code",
   "execution_count": null,
   "metadata": {
    "_uuid": "b7e861e1da806e76af0112189adac0d13b9e66cd"
   },
   "outputs": [],
   "source": [
    "df.at['count_reference', 1] = 0"
   ]
  },
  {
   "cell_type": "code",
   "execution_count": null,
   "metadata": {
    "_uuid": "9e9e5da4a17a8e97575a1b4e4ac5ac1e31f7188f"
   },
   "outputs": [],
   "source": [
    "# ycdf = df[df[\"Year\"]!=0].groupby(by=\"Year\")[]\n",
    "# plt.figure(figsize=(8,6))\n",
    "# plt.scatter(range(ycdf.shape[0]), np.sort(ycdf[\"Year\"].values))\n",
    "# plt.xlabel('index', fontsize=12)\n",
    "# plt.ylabel('Year', fontsize=12)\n",
    "# plt.title(\"Citations by year\", fontsize=20) \n",
    "# plt.show()"
   ]
  },
  {
   "cell_type": "code",
   "execution_count": null,
   "metadata": {
    "_uuid": "e75728b3b73e1d770aac26483e15f3dbe7b8c086"
   },
   "outputs": [],
   "source": []
  }
 ],
 "metadata": {
  "kernelspec": {
   "display_name": "Python 3",
   "language": "python",
   "name": "python3"
  },
  "language_info": {
   "codemirror_mode": {
    "name": "ipython",
    "version": 3
   },
   "file_extension": ".py",
   "mimetype": "text/x-python",
   "name": "python",
   "nbconvert_exporter": "python",
   "pygments_lexer": "ipython3",
   "version": "3.6.5"
  }
 },
 "nbformat": 4,
 "nbformat_minor": 1
}
