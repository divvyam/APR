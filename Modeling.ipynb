{
 "cells": [
  {
   "cell_type": "code",
   "execution_count": 2,
   "metadata": {
    "_uuid": "f9611f2ca8bcdc2cd69bd73cf7d487298d0db71b"
   },
   "outputs": [
    {
     "data": {
      "text/html": [
       "<script>requirejs.config({paths: { 'plotly': ['https://cdn.plot.ly/plotly-latest.min']},});if(!window.Plotly) {{require(['plotly'],function(plotly) {window.Plotly=plotly;});}}</script>"
      ],
      "text/vnd.plotly.v1+html": [
       "<script>requirejs.config({paths: { 'plotly': ['https://cdn.plot.ly/plotly-latest.min']},});if(!window.Plotly) {{require(['plotly'],function(plotly) {window.Plotly=plotly;});}}</script>"
      ]
     },
     "metadata": {},
     "output_type": "display_data"
    },
    {
     "name": "stdout",
     "output_type": "stream",
     "text": [
      "/Users/divyam/Dev/Data_Science/DSF_Project/AcademicPaperRanking\n",
      "['AcademicPaperRanking', '.DS_Store', 'dblp.csv', 'sys_argv.py', 'common_progress_kernel.ipynb', 'acm.csv', 'a', '2018_line_delimited.json', 'dblp.txt', 'aminer_papers_0.zip', 'acm.txt', '2018_data.json', 'aminer_papers_0']\n"
     ]
    }
   ],
   "source": [
    "import os\n",
    "import csv\n",
    "import pandas as pd\n",
    "import numpy as np\n",
    "\n",
    "import datetime\n",
    "from pandas.io.json import json_normalize\n",
    "import matplotlib.pyplot as plt\n",
    "import seaborn as sns\n",
    "color = sns.color_palette()\n",
    "\n",
    "%matplotlib inline\n",
    "\n",
    "from plotly import tools\n",
    "import plotly.offline as py\n",
    "py.init_notebook_mode(connected=True)\n",
    "import plotly.graph_objs as go\n",
    "import squarify\n",
    "\n",
    "from sklearn import model_selection, preprocessing, metrics\n",
    "plt.style.use('fivethirtyeight')\n",
    "\n",
    "print(os.getcwd())\n",
    "print(os.listdir(\"../\"))"
   ]
  },
  {
   "cell_type": "code",
   "execution_count": 2,
   "metadata": {
    "_uuid": "6a6e05230bb74b64a68ad8d2ab90ba592645ce4e"
   },
   "outputs": [],
   "source": [
    "#load dataframe from csv\n",
    "df = pd.read_csv(\"../input/processed-acm-data-1/ranked_processed_acm_1.csv\")"
   ]
  },
  {
   "cell_type": "code",
   "execution_count": 3,
   "metadata": {
    "_uuid": "c28973d6c010553658e801d04ce5cff6e4ddaff9"
   },
   "outputs": [
    {
     "name": "stdout",
     "output_type": "stream",
     "text": [
      "<class 'pandas.core.frame.DataFrame'>\n",
      "RangeIndex: 2824936 entries, 0 to 2824935\n",
      "Data columns (total 11 columns):\n",
      "Unnamed: 0           int64\n",
      "PaperTitle           object\n",
      "Authors              int64\n",
      "Year                 int64\n",
      "Publication_Venue    object\n",
      "Index_Id             int64\n",
      "References_Id        object\n",
      "Abstract             object\n",
      "count_reference      int64\n",
      "page_rank            float64\n",
      "Number Of Authors    int64\n",
      "dtypes: float64(1), int64(6), object(4)\n",
      "memory usage: 237.1+ MB\n"
     ]
    }
   ],
   "source": [
    "df.info()"
   ]
  },
  {
   "cell_type": "code",
   "execution_count": 4,
   "metadata": {
    "_uuid": "e7861d6c9ffad30e4e49f4e1125e151404824367"
   },
   "outputs": [
    {
     "data": {
      "text/html": [
       "<div>\n",
       "<style scoped>\n",
       "    .dataframe tbody tr th:only-of-type {\n",
       "        vertical-align: middle;\n",
       "    }\n",
       "\n",
       "    .dataframe tbody tr th {\n",
       "        vertical-align: top;\n",
       "    }\n",
       "\n",
       "    .dataframe thead th {\n",
       "        text-align: right;\n",
       "    }\n",
       "</style>\n",
       "<table border=\"1\" class=\"dataframe\">\n",
       "  <thead>\n",
       "    <tr style=\"text-align: right;\">\n",
       "      <th></th>\n",
       "      <th>Unnamed: 0</th>\n",
       "      <th>PaperTitle</th>\n",
       "      <th>Authors</th>\n",
       "      <th>Year</th>\n",
       "      <th>Publication_Venue</th>\n",
       "      <th>Index_Id</th>\n",
       "      <th>References_Id</th>\n",
       "      <th>Abstract</th>\n",
       "      <th>count_reference</th>\n",
       "      <th>page_rank</th>\n",
       "      <th>Number Of Authors</th>\n",
       "    </tr>\n",
       "  </thead>\n",
       "  <tbody>\n",
       "    <tr>\n",
       "      <th>0</th>\n",
       "      <td>117</td>\n",
       "      <td>Algorithms for trie compaction</td>\n",
       "      <td>910263</td>\n",
       "      <td>1984</td>\n",
       "      <td>ACM Transactions on Database Systems (TODS)</td>\n",
       "      <td>118</td>\n",
       "      <td>:1157:252607:287497:289080:408503:326292:32687...</td>\n",
       "      <td>The trie data structure has many properties wh...</td>\n",
       "      <td>12</td>\n",
       "      <td>0.004683</td>\n",
       "      <td>2</td>\n",
       "    </tr>\n",
       "    <tr>\n",
       "      <th>1</th>\n",
       "      <td>117</td>\n",
       "      <td>Algorithms for trie compaction</td>\n",
       "      <td>147205</td>\n",
       "      <td>1984</td>\n",
       "      <td>ACM Transactions on Database Systems (TODS)</td>\n",
       "      <td>118</td>\n",
       "      <td>:1157:252607:287497:289080:408503:326292:32687...</td>\n",
       "      <td>The trie data structure has many properties wh...</td>\n",
       "      <td>12</td>\n",
       "      <td>0.004683</td>\n",
       "      <td>2</td>\n",
       "    </tr>\n",
       "    <tr>\n",
       "      <th>2</th>\n",
       "      <td>133</td>\n",
       "      <td>Logical, internal, and physical reference beha...</td>\n",
       "      <td>1086765</td>\n",
       "      <td>1984</td>\n",
       "      <td>ACM Transactions on Database Systems (TODS)</td>\n",
       "      <td>134</td>\n",
       "      <td>:286819:287482:287680:287739:287766:287646:317...</td>\n",
       "      <td>This work investigates one aspect of the perfo...</td>\n",
       "      <td>9</td>\n",
       "      <td>0.005583</td>\n",
       "      <td>2</td>\n",
       "    </tr>\n",
       "    <tr>\n",
       "      <th>3</th>\n",
       "      <td>133</td>\n",
       "      <td>Logical, internal, and physical reference beha...</td>\n",
       "      <td>394940</td>\n",
       "      <td>1984</td>\n",
       "      <td>ACM Transactions on Database Systems (TODS)</td>\n",
       "      <td>134</td>\n",
       "      <td>:286819:287482:287680:287739:287766:287646:317...</td>\n",
       "      <td>This work investigates one aspect of the perfo...</td>\n",
       "      <td>9</td>\n",
       "      <td>0.005583</td>\n",
       "      <td>2</td>\n",
       "    </tr>\n",
       "    <tr>\n",
       "      <th>4</th>\n",
       "      <td>134</td>\n",
       "      <td>A parallel pipelined relational query processor</td>\n",
       "      <td>1087078</td>\n",
       "      <td>1984</td>\n",
       "      <td>ACM Transactions on Database Systems (TODS)</td>\n",
       "      <td>135</td>\n",
       "      <td>:287004:287293:287666:287494:317954:321467:322...</td>\n",
       "      <td>This paper presents the design of a relational...</td>\n",
       "      <td>8</td>\n",
       "      <td>0.005590</td>\n",
       "      <td>3</td>\n",
       "    </tr>\n",
       "  </tbody>\n",
       "</table>\n",
       "</div>"
      ],
      "text/plain": [
       "   Unnamed: 0        ...        Number Of Authors\n",
       "0         117        ...                        2\n",
       "1         117        ...                        2\n",
       "2         133        ...                        2\n",
       "3         133        ...                        2\n",
       "4         134        ...                        3\n",
       "\n",
       "[5 rows x 11 columns]"
      ]
     },
     "execution_count": 4,
     "metadata": {},
     "output_type": "execute_result"
    }
   ],
   "source": [
    "df.head()"
   ]
  },
  {
   "cell_type": "code",
   "execution_count": 11,
   "metadata": {
    "_uuid": "bb055d2c783e20c7ea8a46e8370e5b715f7b1eb0"
   },
   "outputs": [
    {
     "name": "stdout",
     "output_type": "stream",
     "text": [
      "115\n"
     ]
    }
   ],
   "source": [
    "paper_author = {}\n",
    "for index,row in df.iterrows():\n",
    "    count = paper_author.get(row[\"Index_Id\"],0)\n",
    "    count += 1\n",
    "    paper_author[row[\"Index_Id\"]] = count\n",
    "print(max(paper_author.values()))"
   ]
  },
  {
   "cell_type": "code",
   "execution_count": 12,
   "metadata": {
    "_uuid": "fdfd1013cd387c5a790235c556483a79f81fde57"
   },
   "outputs": [],
   "source": [
    "from sklearn.preprocessing import LabelEncoder\n",
    "le = LabelEncoder()\n",
    "train_vals = list(df[\"Publication_Venue\"].values.astype(str))\n",
    "le.fit(train_vals)\n",
    "df[\"Publication_Venue\"] = le.transform(train_vals)"
   ]
  },
  {
   "cell_type": "code",
   "execution_count": 24,
   "metadata": {
    "_uuid": "db8723dff84a6077fa892e222b205079c7ce71ad"
   },
   "outputs": [
    {
     "data": {
      "text/plain": [
       "[1951,\n",
       " 1952,\n",
       " 1953,\n",
       " 1954,\n",
       " 1955,\n",
       " 1956,\n",
       " 1957,\n",
       " 1958,\n",
       " 1959,\n",
       " 1960,\n",
       " 1961,\n",
       " 1962,\n",
       " 1963,\n",
       " 1964,\n",
       " 1965,\n",
       " 1966,\n",
       " 1967,\n",
       " 1968,\n",
       " 1969,\n",
       " 1970,\n",
       " 1971,\n",
       " 1972,\n",
       " 1973,\n",
       " 1974,\n",
       " 1975,\n",
       " 1976,\n",
       " 1977,\n",
       " 1978,\n",
       " 1979,\n",
       " 1980,\n",
       " 1981,\n",
       " 1982,\n",
       " 1983,\n",
       " 1984,\n",
       " 1985,\n",
       " 1986,\n",
       " 1987,\n",
       " 1988,\n",
       " 1989,\n",
       " 1990,\n",
       " 1991,\n",
       " 1992,\n",
       " 1993,\n",
       " 1994,\n",
       " 1995,\n",
       " 1996,\n",
       " 1997,\n",
       " 1998,\n",
       " 1999,\n",
       " 2000,\n",
       " 2001,\n",
       " 2002,\n",
       " 2003,\n",
       " 2004,\n",
       " 2005,\n",
       " 2006,\n",
       " 2007,\n",
       " 2008,\n",
       " 2009,\n",
       " 2010,\n",
       " 2011,\n",
       " 2012,\n",
       " 2013,\n",
       " 2014,\n",
       " 2015,\n",
       " 2016]"
      ]
     },
     "execution_count": 24,
     "metadata": {},
     "output_type": "execute_result"
    }
   ],
   "source": [
    "sorted(df[\"Year\"].unique())"
   ]
  },
  {
   "cell_type": "code",
   "execution_count": 17,
   "metadata": {
    "_uuid": "4c350419253f329853497ac5289a67a2fff6a936"
   },
   "outputs": [],
   "source": [
    "df[\"YearSincePublished\"]=0\n",
    "#YearSincePublished\n",
    "current_year=2018\n",
    "def yearsince(row):\n",
    "    return current_year-row[\"Year\"]\n",
    "df[\"YearSincePublished\"] = df.apply(lambda row:yearsince(row),axis = 1)"
   ]
  },
  {
   "cell_type": "code",
   "execution_count": 18,
   "metadata": {
    "_uuid": "a90d3a19e131739eecb643b67a062d19d70d5e0d"
   },
   "outputs": [
    {
     "data": {
      "text/html": [
       "<div>\n",
       "<style scoped>\n",
       "    .dataframe tbody tr th:only-of-type {\n",
       "        vertical-align: middle;\n",
       "    }\n",
       "\n",
       "    .dataframe tbody tr th {\n",
       "        vertical-align: top;\n",
       "    }\n",
       "\n",
       "    .dataframe thead th {\n",
       "        text-align: right;\n",
       "    }\n",
       "</style>\n",
       "<table border=\"1\" class=\"dataframe\">\n",
       "  <thead>\n",
       "    <tr style=\"text-align: right;\">\n",
       "      <th></th>\n",
       "      <th>Unnamed: 0</th>\n",
       "      <th>PaperTitle</th>\n",
       "      <th>Authors</th>\n",
       "      <th>Year</th>\n",
       "      <th>Publication_Venue</th>\n",
       "      <th>Index_Id</th>\n",
       "      <th>References_Id</th>\n",
       "      <th>Abstract</th>\n",
       "      <th>count_reference</th>\n",
       "      <th>page_rank</th>\n",
       "      <th>Number Of Authors</th>\n",
       "      <th>YearSincePublished</th>\n",
       "    </tr>\n",
       "  </thead>\n",
       "  <tbody>\n",
       "    <tr>\n",
       "      <th>0</th>\n",
       "      <td>117</td>\n",
       "      <td>Algorithms for trie compaction</td>\n",
       "      <td>910263</td>\n",
       "      <td>1984</td>\n",
       "      <td>637</td>\n",
       "      <td>118</td>\n",
       "      <td>:1157:252607:287497:289080:408503:326292:32687...</td>\n",
       "      <td>The trie data structure has many properties wh...</td>\n",
       "      <td>12</td>\n",
       "      <td>0.004683</td>\n",
       "      <td>2</td>\n",
       "      <td>34</td>\n",
       "    </tr>\n",
       "    <tr>\n",
       "      <th>1</th>\n",
       "      <td>117</td>\n",
       "      <td>Algorithms for trie compaction</td>\n",
       "      <td>147205</td>\n",
       "      <td>1984</td>\n",
       "      <td>637</td>\n",
       "      <td>118</td>\n",
       "      <td>:1157:252607:287497:289080:408503:326292:32687...</td>\n",
       "      <td>The trie data structure has many properties wh...</td>\n",
       "      <td>12</td>\n",
       "      <td>0.004683</td>\n",
       "      <td>2</td>\n",
       "      <td>34</td>\n",
       "    </tr>\n",
       "    <tr>\n",
       "      <th>2</th>\n",
       "      <td>133</td>\n",
       "      <td>Logical, internal, and physical reference beha...</td>\n",
       "      <td>1086765</td>\n",
       "      <td>1984</td>\n",
       "      <td>637</td>\n",
       "      <td>134</td>\n",
       "      <td>:286819:287482:287680:287739:287766:287646:317...</td>\n",
       "      <td>This work investigates one aspect of the perfo...</td>\n",
       "      <td>9</td>\n",
       "      <td>0.005583</td>\n",
       "      <td>2</td>\n",
       "      <td>34</td>\n",
       "    </tr>\n",
       "    <tr>\n",
       "      <th>3</th>\n",
       "      <td>133</td>\n",
       "      <td>Logical, internal, and physical reference beha...</td>\n",
       "      <td>394940</td>\n",
       "      <td>1984</td>\n",
       "      <td>637</td>\n",
       "      <td>134</td>\n",
       "      <td>:286819:287482:287680:287739:287766:287646:317...</td>\n",
       "      <td>This work investigates one aspect of the perfo...</td>\n",
       "      <td>9</td>\n",
       "      <td>0.005583</td>\n",
       "      <td>2</td>\n",
       "      <td>34</td>\n",
       "    </tr>\n",
       "    <tr>\n",
       "      <th>4</th>\n",
       "      <td>134</td>\n",
       "      <td>A parallel pipelined relational query processor</td>\n",
       "      <td>1087078</td>\n",
       "      <td>1984</td>\n",
       "      <td>637</td>\n",
       "      <td>135</td>\n",
       "      <td>:287004:287293:287666:287494:317954:321467:322...</td>\n",
       "      <td>This paper presents the design of a relational...</td>\n",
       "      <td>8</td>\n",
       "      <td>0.005590</td>\n",
       "      <td>3</td>\n",
       "      <td>34</td>\n",
       "    </tr>\n",
       "  </tbody>\n",
       "</table>\n",
       "</div>"
      ],
      "text/plain": [
       "   Unnamed: 0        ...         YearSincePublished\n",
       "0         117        ...                         34\n",
       "1         117        ...                         34\n",
       "2         133        ...                         34\n",
       "3         133        ...                         34\n",
       "4         134        ...                         34\n",
       "\n",
       "[5 rows x 12 columns]"
      ]
     },
     "execution_count": 18,
     "metadata": {},
     "output_type": "execute_result"
    }
   ],
   "source": [
    "df.head()"
   ]
  },
  {
   "cell_type": "code",
   "execution_count": 27,
   "metadata": {
    "_uuid": "7b09d95bdf4658cc970e3e656e7ee5e303b4d546"
   },
   "outputs": [],
   "source": [
    "num_columns= [\"Authors\",\"Year\",\"Publication_Venue\",\"Index_Id\",\"count_reference\",\"Number Of Authors\",\"YearSincePublished\",\"page_rank\"]\n",
    "new_df = df[num_columns]"
   ]
  },
  {
   "cell_type": "code",
   "execution_count": 32,
   "metadata": {
    "_uuid": "2da1f64639c981ca161c65c3be01e09c80ece153"
   },
   "outputs": [],
   "source": [
    "df_train = new_df[new_df[\"Year\"] <=2013]\n",
    "train_x = df_train.drop([\"page_rank\"],axis=1)\n",
    "train_y = df_train[\"page_rank\"]\n",
    "df_test =  new_df[new_df[\"Year\"] > 2013]\n",
    "test_x = df_test.drop([\"page_rank\"],axis=1)\n",
    "test_y = df_test[\"page_rank\"]"
   ]
  },
  {
   "cell_type": "code",
   "execution_count": 34,
   "metadata": {
    "_uuid": "da2d7987a056bde1d25bf62ec3584de655747fc7"
   },
   "outputs": [
    {
     "data": {
      "text/html": [
       "<div>\n",
       "<style scoped>\n",
       "    .dataframe tbody tr th:only-of-type {\n",
       "        vertical-align: middle;\n",
       "    }\n",
       "\n",
       "    .dataframe tbody tr th {\n",
       "        vertical-align: top;\n",
       "    }\n",
       "\n",
       "    .dataframe thead th {\n",
       "        text-align: right;\n",
       "    }\n",
       "</style>\n",
       "<table border=\"1\" class=\"dataframe\">\n",
       "  <thead>\n",
       "    <tr style=\"text-align: right;\">\n",
       "      <th></th>\n",
       "      <th>Authors</th>\n",
       "      <th>Year</th>\n",
       "      <th>Publication_Venue</th>\n",
       "      <th>Index_Id</th>\n",
       "      <th>count_reference</th>\n",
       "      <th>Number Of Authors</th>\n",
       "      <th>YearSincePublished</th>\n",
       "    </tr>\n",
       "  </thead>\n",
       "  <tbody>\n",
       "    <tr>\n",
       "      <th>0</th>\n",
       "      <td>910263</td>\n",
       "      <td>1984</td>\n",
       "      <td>637</td>\n",
       "      <td>118</td>\n",
       "      <td>12</td>\n",
       "      <td>2</td>\n",
       "      <td>34</td>\n",
       "    </tr>\n",
       "    <tr>\n",
       "      <th>1</th>\n",
       "      <td>147205</td>\n",
       "      <td>1984</td>\n",
       "      <td>637</td>\n",
       "      <td>118</td>\n",
       "      <td>12</td>\n",
       "      <td>2</td>\n",
       "      <td>34</td>\n",
       "    </tr>\n",
       "    <tr>\n",
       "      <th>2</th>\n",
       "      <td>1086765</td>\n",
       "      <td>1984</td>\n",
       "      <td>637</td>\n",
       "      <td>134</td>\n",
       "      <td>9</td>\n",
       "      <td>2</td>\n",
       "      <td>34</td>\n",
       "    </tr>\n",
       "    <tr>\n",
       "      <th>3</th>\n",
       "      <td>394940</td>\n",
       "      <td>1984</td>\n",
       "      <td>637</td>\n",
       "      <td>134</td>\n",
       "      <td>9</td>\n",
       "      <td>2</td>\n",
       "      <td>34</td>\n",
       "    </tr>\n",
       "    <tr>\n",
       "      <th>4</th>\n",
       "      <td>1087078</td>\n",
       "      <td>1984</td>\n",
       "      <td>637</td>\n",
       "      <td>135</td>\n",
       "      <td>8</td>\n",
       "      <td>3</td>\n",
       "      <td>34</td>\n",
       "    </tr>\n",
       "  </tbody>\n",
       "</table>\n",
       "</div>"
      ],
      "text/plain": [
       "   Authors  Year         ...          Number Of Authors  YearSincePublished\n",
       "0   910263  1984         ...                          2                  34\n",
       "1   147205  1984         ...                          2                  34\n",
       "2  1086765  1984         ...                          2                  34\n",
       "3   394940  1984         ...                          2                  34\n",
       "4  1087078  1984         ...                          3                  34\n",
       "\n",
       "[5 rows x 7 columns]"
      ]
     },
     "execution_count": 34,
     "metadata": {},
     "output_type": "execute_result"
    }
   ],
   "source": [
    "train_x.head()"
   ]
  },
  {
   "cell_type": "code",
   "execution_count": 33,
   "metadata": {
    "_uuid": "8afd905c61f2494100255303061b8561c5ad96d1"
   },
   "outputs": [
    {
     "name": "stdout",
     "output_type": "stream",
     "text": [
      "[-8.52792208e-11 -2.19225534e-05 -1.54613851e-09 -4.55177327e-10\n",
      "  1.92724447e-04  1.01802077e-05  2.19225534e-05]\n"
     ]
    }
   ],
   "source": [
    "from sklearn import linear_model\n",
    "reg = linear_model.LinearRegression()\n",
    "reg.fit(train_x,train_y)\n",
    "print(reg.coef_)"
   ]
  },
  {
   "cell_type": "code",
   "execution_count": 35,
   "metadata": {
    "_uuid": "fc49b6721fde81b1bcc409f228fccf3b4cde2781"
   },
   "outputs": [
    {
     "name": "stdout",
     "output_type": "stream",
     "text": [
      "0.0013098951832620973\n"
     ]
    }
   ],
   "source": [
    "from sklearn import metrics\n",
    "pred_y = reg.predict(test_x)\n",
    "rmse_initial = np.sqrt(metrics.mean_squared_error(pred_y,test_y))\n",
    "print(rmse_initial)"
   ]
  },
  {
   "cell_type": "code",
   "execution_count": null,
   "metadata": {
    "_uuid": "1e6210e689cdac6d1eab9469d746353a537d93ee"
   },
   "outputs": [],
   "source": []
  }
 ],
 "metadata": {
  "kernelspec": {
   "display_name": "Python 3",
   "language": "python",
   "name": "python3"
  },
  "language_info": {
   "codemirror_mode": {
    "name": "ipython",
    "version": 3
   },
   "file_extension": ".py",
   "mimetype": "text/x-python",
   "name": "python",
   "nbconvert_exporter": "python",
   "pygments_lexer": "ipython3",
   "version": "3.6.5"
  }
 },
 "nbformat": 4,
 "nbformat_minor": 1
}
