{
  "cells": [
    {
      "metadata": {
        "_uuid": "f9611f2ca8bcdc2cd69bd73cf7d487298d0db71b",
        "trusted": true
      },
      "cell_type": "code",
      "source": "import os\nimport csv\nimport pandas as pd\nimport numpy as np\n\nimport datetime\nfrom pandas.io.json import json_normalize\nimport matplotlib.pyplot as plt\nimport seaborn as sns\ncolor = sns.color_palette()\n\n%matplotlib inline\n\nfrom plotly import tools\nimport plotly.offline as py\npy.init_notebook_mode(connected=True)\nimport plotly.graph_objs as go\nimport squarify\n\nfrom sklearn import model_selection, preprocessing, metrics\nplt.style.use('fivethirtyeight')\n\nprint(os.getcwd())\nprint(os.listdir(\"../input/\"))",
      "execution_count": 1,
      "outputs": [
        {
          "output_type": "display_data",
          "data": {
            "text/html": "<script>requirejs.config({paths: { 'plotly': ['https://cdn.plot.ly/plotly-latest.min']},});if(!window.Plotly) {{require(['plotly'],function(plotly) {window.Plotly=plotly;});}}</script>",
            "text/vnd.plotly.v1+html": "<script>requirejs.config({paths: { 'plotly': ['https://cdn.plot.ly/plotly-latest.min']},});if(!window.Plotly) {{require(['plotly'],function(plotly) {window.Plotly=plotly;});}}</script>"
          },
          "metadata": {}
        },
        {
          "output_type": "stream",
          "text": "/kaggle/working\n['processed-acm-data-1', 'acm-version-9']\n",
          "name": "stdout"
        }
      ]
    },
    {
      "metadata": {
        "_uuid": "6a6e05230bb74b64a68ad8d2ab90ba592645ce4e",
        "trusted": true
      },
      "cell_type": "code",
      "source": "#load dataframe from csv\ndf = pd.read_csv(\"../input/processed-acm-data-1/ranked_processed_acm_1.csv\")",
      "execution_count": 2,
      "outputs": []
    },
    {
      "metadata": {
        "_uuid": "c28973d6c010553658e801d04ce5cff6e4ddaff9",
        "trusted": true
      },
      "cell_type": "code",
      "source": "df.info()",
      "execution_count": 3,
      "outputs": [
        {
          "output_type": "stream",
          "text": "<class 'pandas.core.frame.DataFrame'>\nRangeIndex: 2824936 entries, 0 to 2824935\nData columns (total 11 columns):\nUnnamed: 0           int64\nPaperTitle           object\nAuthors              int64\nYear                 int64\nPublication_Venue    object\nIndex_Id             int64\nReferences_Id        object\nAbstract             object\ncount_reference      int64\npage_rank            float64\nNumber Of Authors    int64\ndtypes: float64(1), int64(6), object(4)\nmemory usage: 237.1+ MB\n",
          "name": "stdout"
        }
      ]
    },
    {
      "metadata": {
        "trusted": true,
        "_uuid": "e7861d6c9ffad30e4e49f4e1125e151404824367"
      },
      "cell_type": "code",
      "source": "df.head()",
      "execution_count": 4,
      "outputs": [
        {
          "output_type": "execute_result",
          "execution_count": 4,
          "data": {
            "text/plain": "   Unnamed: 0        ...        Number Of Authors\n0         117        ...                        2\n1         117        ...                        2\n2         133        ...                        2\n3         133        ...                        2\n4         134        ...                        3\n\n[5 rows x 11 columns]",
            "text/html": "<div>\n<style scoped>\n    .dataframe tbody tr th:only-of-type {\n        vertical-align: middle;\n    }\n\n    .dataframe tbody tr th {\n        vertical-align: top;\n    }\n\n    .dataframe thead th {\n        text-align: right;\n    }\n</style>\n<table border=\"1\" class=\"dataframe\">\n  <thead>\n    <tr style=\"text-align: right;\">\n      <th></th>\n      <th>Unnamed: 0</th>\n      <th>PaperTitle</th>\n      <th>Authors</th>\n      <th>Year</th>\n      <th>Publication_Venue</th>\n      <th>Index_Id</th>\n      <th>References_Id</th>\n      <th>Abstract</th>\n      <th>count_reference</th>\n      <th>page_rank</th>\n      <th>Number Of Authors</th>\n    </tr>\n  </thead>\n  <tbody>\n    <tr>\n      <th>0</th>\n      <td>117</td>\n      <td>Algorithms for trie compaction</td>\n      <td>910263</td>\n      <td>1984</td>\n      <td>ACM Transactions on Database Systems (TODS)</td>\n      <td>118</td>\n      <td>:1157:252607:287497:289080:408503:326292:32687...</td>\n      <td>The trie data structure has many properties wh...</td>\n      <td>12</td>\n      <td>0.004683</td>\n      <td>2</td>\n    </tr>\n    <tr>\n      <th>1</th>\n      <td>117</td>\n      <td>Algorithms for trie compaction</td>\n      <td>147205</td>\n      <td>1984</td>\n      <td>ACM Transactions on Database Systems (TODS)</td>\n      <td>118</td>\n      <td>:1157:252607:287497:289080:408503:326292:32687...</td>\n      <td>The trie data structure has many properties wh...</td>\n      <td>12</td>\n      <td>0.004683</td>\n      <td>2</td>\n    </tr>\n    <tr>\n      <th>2</th>\n      <td>133</td>\n      <td>Logical, internal, and physical reference beha...</td>\n      <td>1086765</td>\n      <td>1984</td>\n      <td>ACM Transactions on Database Systems (TODS)</td>\n      <td>134</td>\n      <td>:286819:287482:287680:287739:287766:287646:317...</td>\n      <td>This work investigates one aspect of the perfo...</td>\n      <td>9</td>\n      <td>0.005583</td>\n      <td>2</td>\n    </tr>\n    <tr>\n      <th>3</th>\n      <td>133</td>\n      <td>Logical, internal, and physical reference beha...</td>\n      <td>394940</td>\n      <td>1984</td>\n      <td>ACM Transactions on Database Systems (TODS)</td>\n      <td>134</td>\n      <td>:286819:287482:287680:287739:287766:287646:317...</td>\n      <td>This work investigates one aspect of the perfo...</td>\n      <td>9</td>\n      <td>0.005583</td>\n      <td>2</td>\n    </tr>\n    <tr>\n      <th>4</th>\n      <td>134</td>\n      <td>A parallel pipelined relational query processor</td>\n      <td>1087078</td>\n      <td>1984</td>\n      <td>ACM Transactions on Database Systems (TODS)</td>\n      <td>135</td>\n      <td>:287004:287293:287666:287494:317954:321467:322...</td>\n      <td>This paper presents the design of a relational...</td>\n      <td>8</td>\n      <td>0.005590</td>\n      <td>3</td>\n    </tr>\n  </tbody>\n</table>\n</div>"
          },
          "metadata": {}
        }
      ]
    },
    {
      "metadata": {
        "trusted": true,
        "_uuid": "bb055d2c783e20c7ea8a46e8370e5b715f7b1eb0"
      },
      "cell_type": "code",
      "source": "paper_author = {}\nfor index,row in df.iterrows():\n    count = paper_author.get(row[\"Index_Id\"],0)\n    count += 1\n    paper_author[row[\"Index_Id\"]] = count\nprint(max(paper_author.values()))",
      "execution_count": 11,
      "outputs": [
        {
          "output_type": "stream",
          "text": "115\n",
          "name": "stdout"
        }
      ]
    },
    {
      "metadata": {
        "trusted": true,
        "_uuid": "fdfd1013cd387c5a790235c556483a79f81fde57"
      },
      "cell_type": "code",
      "source": "from sklearn.preprocessing import LabelEncoder\nle = LabelEncoder()\ntrain_vals = list(df[\"Publication_Venue\"].values.astype(str))\nle.fit(train_vals)\ndf[\"Publication_Venue\"] = le.transform(train_vals)",
      "execution_count": 12,
      "outputs": []
    },
    {
      "metadata": {
        "trusted": true,
        "_uuid": "db8723dff84a6077fa892e222b205079c7ce71ad"
      },
      "cell_type": "code",
      "source": "sorted(df[\"Year\"].unique())",
      "execution_count": 24,
      "outputs": [
        {
          "output_type": "execute_result",
          "execution_count": 24,
          "data": {
            "text/plain": "[1951,\n 1952,\n 1953,\n 1954,\n 1955,\n 1956,\n 1957,\n 1958,\n 1959,\n 1960,\n 1961,\n 1962,\n 1963,\n 1964,\n 1965,\n 1966,\n 1967,\n 1968,\n 1969,\n 1970,\n 1971,\n 1972,\n 1973,\n 1974,\n 1975,\n 1976,\n 1977,\n 1978,\n 1979,\n 1980,\n 1981,\n 1982,\n 1983,\n 1984,\n 1985,\n 1986,\n 1987,\n 1988,\n 1989,\n 1990,\n 1991,\n 1992,\n 1993,\n 1994,\n 1995,\n 1996,\n 1997,\n 1998,\n 1999,\n 2000,\n 2001,\n 2002,\n 2003,\n 2004,\n 2005,\n 2006,\n 2007,\n 2008,\n 2009,\n 2010,\n 2011,\n 2012,\n 2013,\n 2014,\n 2015,\n 2016]"
          },
          "metadata": {}
        }
      ]
    },
    {
      "metadata": {
        "trusted": true,
        "_uuid": "4c350419253f329853497ac5289a67a2fff6a936"
      },
      "cell_type": "code",
      "source": "df[\"YearSincePublished\"]=0\n#YearSincePublished\ncurrent_year=2018\ndef yearsince(row):\n    return current_year-row[\"Year\"]\ndf[\"YearSincePublished\"] = df.apply(lambda row:yearsince(row),axis = 1)",
      "execution_count": 17,
      "outputs": []
    },
    {
      "metadata": {
        "trusted": true,
        "_uuid": "a90d3a19e131739eecb643b67a062d19d70d5e0d"
      },
      "cell_type": "code",
      "source": "df.head()",
      "execution_count": 18,
      "outputs": [
        {
          "output_type": "execute_result",
          "execution_count": 18,
          "data": {
            "text/plain": "   Unnamed: 0        ...         YearSincePublished\n0         117        ...                         34\n1         117        ...                         34\n2         133        ...                         34\n3         133        ...                         34\n4         134        ...                         34\n\n[5 rows x 12 columns]",
            "text/html": "<div>\n<style scoped>\n    .dataframe tbody tr th:only-of-type {\n        vertical-align: middle;\n    }\n\n    .dataframe tbody tr th {\n        vertical-align: top;\n    }\n\n    .dataframe thead th {\n        text-align: right;\n    }\n</style>\n<table border=\"1\" class=\"dataframe\">\n  <thead>\n    <tr style=\"text-align: right;\">\n      <th></th>\n      <th>Unnamed: 0</th>\n      <th>PaperTitle</th>\n      <th>Authors</th>\n      <th>Year</th>\n      <th>Publication_Venue</th>\n      <th>Index_Id</th>\n      <th>References_Id</th>\n      <th>Abstract</th>\n      <th>count_reference</th>\n      <th>page_rank</th>\n      <th>Number Of Authors</th>\n      <th>YearSincePublished</th>\n    </tr>\n  </thead>\n  <tbody>\n    <tr>\n      <th>0</th>\n      <td>117</td>\n      <td>Algorithms for trie compaction</td>\n      <td>910263</td>\n      <td>1984</td>\n      <td>637</td>\n      <td>118</td>\n      <td>:1157:252607:287497:289080:408503:326292:32687...</td>\n      <td>The trie data structure has many properties wh...</td>\n      <td>12</td>\n      <td>0.004683</td>\n      <td>2</td>\n      <td>34</td>\n    </tr>\n    <tr>\n      <th>1</th>\n      <td>117</td>\n      <td>Algorithms for trie compaction</td>\n      <td>147205</td>\n      <td>1984</td>\n      <td>637</td>\n      <td>118</td>\n      <td>:1157:252607:287497:289080:408503:326292:32687...</td>\n      <td>The trie data structure has many properties wh...</td>\n      <td>12</td>\n      <td>0.004683</td>\n      <td>2</td>\n      <td>34</td>\n    </tr>\n    <tr>\n      <th>2</th>\n      <td>133</td>\n      <td>Logical, internal, and physical reference beha...</td>\n      <td>1086765</td>\n      <td>1984</td>\n      <td>637</td>\n      <td>134</td>\n      <td>:286819:287482:287680:287739:287766:287646:317...</td>\n      <td>This work investigates one aspect of the perfo...</td>\n      <td>9</td>\n      <td>0.005583</td>\n      <td>2</td>\n      <td>34</td>\n    </tr>\n    <tr>\n      <th>3</th>\n      <td>133</td>\n      <td>Logical, internal, and physical reference beha...</td>\n      <td>394940</td>\n      <td>1984</td>\n      <td>637</td>\n      <td>134</td>\n      <td>:286819:287482:287680:287739:287766:287646:317...</td>\n      <td>This work investigates one aspect of the perfo...</td>\n      <td>9</td>\n      <td>0.005583</td>\n      <td>2</td>\n      <td>34</td>\n    </tr>\n    <tr>\n      <th>4</th>\n      <td>134</td>\n      <td>A parallel pipelined relational query processor</td>\n      <td>1087078</td>\n      <td>1984</td>\n      <td>637</td>\n      <td>135</td>\n      <td>:287004:287293:287666:287494:317954:321467:322...</td>\n      <td>This paper presents the design of a relational...</td>\n      <td>8</td>\n      <td>0.005590</td>\n      <td>3</td>\n      <td>34</td>\n    </tr>\n  </tbody>\n</table>\n</div>"
          },
          "metadata": {}
        }
      ]
    },
    {
      "metadata": {
        "trusted": true,
        "_uuid": "7b09d95bdf4658cc970e3e656e7ee5e303b4d546"
      },
      "cell_type": "code",
      "source": "num_columns= [\"Authors\",\"Year\",\"Publication_Venue\",\"Index_Id\",\"count_reference\",\"Number Of Authors\",\"YearSincePublished\",\"page_rank\"]\nnew_df = df[num_columns]",
      "execution_count": 27,
      "outputs": []
    },
    {
      "metadata": {
        "trusted": true,
        "_uuid": "2da1f64639c981ca161c65c3be01e09c80ece153"
      },
      "cell_type": "code",
      "source": "df_train = new_df[new_df[\"Year\"] <=2013]\ntrain_x = df_train.drop([\"page_rank\"],axis=1)\ntrain_y = df_train[\"page_rank\"]\ndf_test =  new_df[new_df[\"Year\"] > 2013]\ntest_x = df_test.drop([\"page_rank\"],axis=1)\ntest_y = df_test[\"page_rank\"]",
      "execution_count": 32,
      "outputs": []
    },
    {
      "metadata": {
        "trusted": true,
        "_uuid": "da2d7987a056bde1d25bf62ec3584de655747fc7"
      },
      "cell_type": "code",
      "source": "train_x.head()",
      "execution_count": 34,
      "outputs": [
        {
          "output_type": "execute_result",
          "execution_count": 34,
          "data": {
            "text/plain": "   Authors  Year         ...          Number Of Authors  YearSincePublished\n0   910263  1984         ...                          2                  34\n1   147205  1984         ...                          2                  34\n2  1086765  1984         ...                          2                  34\n3   394940  1984         ...                          2                  34\n4  1087078  1984         ...                          3                  34\n\n[5 rows x 7 columns]",
            "text/html": "<div>\n<style scoped>\n    .dataframe tbody tr th:only-of-type {\n        vertical-align: middle;\n    }\n\n    .dataframe tbody tr th {\n        vertical-align: top;\n    }\n\n    .dataframe thead th {\n        text-align: right;\n    }\n</style>\n<table border=\"1\" class=\"dataframe\">\n  <thead>\n    <tr style=\"text-align: right;\">\n      <th></th>\n      <th>Authors</th>\n      <th>Year</th>\n      <th>Publication_Venue</th>\n      <th>Index_Id</th>\n      <th>count_reference</th>\n      <th>Number Of Authors</th>\n      <th>YearSincePublished</th>\n    </tr>\n  </thead>\n  <tbody>\n    <tr>\n      <th>0</th>\n      <td>910263</td>\n      <td>1984</td>\n      <td>637</td>\n      <td>118</td>\n      <td>12</td>\n      <td>2</td>\n      <td>34</td>\n    </tr>\n    <tr>\n      <th>1</th>\n      <td>147205</td>\n      <td>1984</td>\n      <td>637</td>\n      <td>118</td>\n      <td>12</td>\n      <td>2</td>\n      <td>34</td>\n    </tr>\n    <tr>\n      <th>2</th>\n      <td>1086765</td>\n      <td>1984</td>\n      <td>637</td>\n      <td>134</td>\n      <td>9</td>\n      <td>2</td>\n      <td>34</td>\n    </tr>\n    <tr>\n      <th>3</th>\n      <td>394940</td>\n      <td>1984</td>\n      <td>637</td>\n      <td>134</td>\n      <td>9</td>\n      <td>2</td>\n      <td>34</td>\n    </tr>\n    <tr>\n      <th>4</th>\n      <td>1087078</td>\n      <td>1984</td>\n      <td>637</td>\n      <td>135</td>\n      <td>8</td>\n      <td>3</td>\n      <td>34</td>\n    </tr>\n  </tbody>\n</table>\n</div>"
          },
          "metadata": {}
        }
      ]
    },
    {
      "metadata": {
        "trusted": true,
        "_uuid": "8afd905c61f2494100255303061b8561c5ad96d1"
      },
      "cell_type": "code",
      "source": "from sklearn import linear_model\nreg = linear_model.LinearRegression()\nreg.fit(train_x,train_y)\nprint(reg.coef_)",
      "execution_count": 33,
      "outputs": [
        {
          "output_type": "stream",
          "text": "[-8.52792208e-11 -2.19225534e-05 -1.54613851e-09 -4.55177327e-10\n  1.92724447e-04  1.01802077e-05  2.19225534e-05]\n",
          "name": "stdout"
        }
      ]
    },
    {
      "metadata": {
        "trusted": true,
        "_uuid": "fc49b6721fde81b1bcc409f228fccf3b4cde2781"
      },
      "cell_type": "code",
      "source": "from sklearn import metrics\npred_y = reg.predict(test_x)\nrmse_initial = np.sqrt(metrics.mean_squared_error(pred_y,test_y))\nprint(rmse_initial)",
      "execution_count": 35,
      "outputs": [
        {
          "output_type": "stream",
          "text": "0.0013098951832620973\n",
          "name": "stdout"
        }
      ]
    },
    {
      "metadata": {
        "trusted": true,
        "_uuid": "1e6210e689cdac6d1eab9469d746353a537d93ee"
      },
      "cell_type": "code",
      "source": "",
      "execution_count": null,
      "outputs": []
    }
  ],
  "metadata": {
    "kernelspec": {
      "display_name": "Python 3",
      "language": "python",
      "name": "python3"
    },
    "language_info": {
      "name": "python",
      "version": "3.6.6",
      "mimetype": "text/x-python",
      "codemirror_mode": {
        "name": "ipython",
        "version": 3
      },
      "pygments_lexer": "ipython3",
      "nbconvert_exporter": "python",
      "file_extension": ".py"
    }
  },
  "nbformat": 4,
  "nbformat_minor": 1
}