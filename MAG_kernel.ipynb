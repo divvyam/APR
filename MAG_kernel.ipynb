{
 "cells": [
  {
   "cell_type": "code",
   "execution_count": 3,
   "metadata": {
    "_cell_guid": "b1076dfc-b9ad-4769-8c92-a6c4dae69d19",
    "_uuid": "8f2839f25d086af736a60e9eeb907d3b93b6e0e5"
   },
   "outputs": [
    {
     "name": "stdout",
     "output_type": "stream",
     "text": [
      "['umass-citation', 'CiteScore_Metrics_2011-2017_Download_25May2018.xlsx', 'ProcessedScopusData.csv', 'PublicationScoreBook.csv', 'CodePublicationMatching.txt', 'umass-citation.tar.gz', 'cora-ie.tar.gz', 'cora-ie']\n"
     ]
    }
   ],
   "source": [
    "# This Python 3 environment comes with many helpful analytics libraries installed\n",
    "# It is defined by the kaggle/python docker image: https://github.com/kaggle/docker-python\n",
    "# For example, here's several helpful packages to load in \n",
    "\n",
    "import numpy as np # linear algebra\n",
    "import pandas as pd # data processing, CSV file I/O (e.g. pd.read_csv)\n",
    "from pandas.io.json import json_normalize\n",
    "import json\n",
    "# Input data files are available in the \"../input/\" directory.\n",
    "# For example, running this (by clicking run or pressing Shift+Enter) will list the files in the input directory\n",
    "\n",
    "import os\n",
    "print(os.listdir(\"./Data\"))\n",
    "# print(os.listdir(\"../input/2011-data/\"))\n",
    "# print(os.listdir(\"../input/mag-2011\"))\n",
    "\n",
    "# Any results you write to the current directory are saved as output."
   ]
  },
  {
   "cell_type": "code",
   "execution_count": 170,
   "metadata": {
    "_uuid": "b28e35cbefb02773c4ae675bce7a57f452842154"
   },
   "outputs": [],
   "source": [
    "# JSON_COLUMNS = [\"AA\",\"F\",\"J\"]\n",
    "# df = pd.read_csv(\"../input/mag-2011/mag_2011.csv\",converters={column: json.loads for column in JSON_COLUMNS})\n",
    "df = pd.read_csv(\"../Data/mag-2011/mag_2011.csv\")"
   ]
  },
  {
   "cell_type": "code",
   "execution_count": 172,
   "metadata": {
    "_uuid": "2c6813384a59866e30e2f2c00e91056a9adc348d"
   },
   "outputs": [
    {
     "data": {
      "text/plain": [
       "(1177000, 16)"
      ]
     },
     "execution_count": 172,
     "metadata": {},
     "output_type": "execute_result"
    }
   ],
   "source": [
    "df.shape"
   ]
  },
  {
   "cell_type": "code",
   "execution_count": 173,
   "metadata": {
    "_uuid": "65c3d03cbecc7183326186b5d2ad1c9db8c6e177"
   },
   "outputs": [
    {
     "data": {
      "text/html": [
       "<div>\n",
       "<style scoped>\n",
       "    .dataframe tbody tr th:only-of-type {\n",
       "        vertical-align: middle;\n",
       "    }\n",
       "\n",
       "    .dataframe tbody tr th {\n",
       "        vertical-align: top;\n",
       "    }\n",
       "\n",
       "    .dataframe thead th {\n",
       "        text-align: right;\n",
       "    }\n",
       "</style>\n",
       "<table border=\"1\" class=\"dataframe\">\n",
       "  <thead>\n",
       "    <tr style=\"text-align: right;\">\n",
       "      <th></th>\n",
       "      <th>Unnamed: 0</th>\n",
       "      <th>AA</th>\n",
       "      <th>C</th>\n",
       "      <th>CC</th>\n",
       "      <th>D</th>\n",
       "      <th>ECC</th>\n",
       "      <th>F</th>\n",
       "      <th>Id</th>\n",
       "      <th>J</th>\n",
       "      <th>RId</th>\n",
       "      <th>Ti</th>\n",
       "      <th>VFN</th>\n",
       "      <th>W</th>\n",
       "      <th>Y</th>\n",
       "      <th>kesEntityId</th>\n",
       "      <th>logprob</th>\n",
       "    </tr>\n",
       "  </thead>\n",
       "  <tbody>\n",
       "    <tr>\n",
       "      <th>0</th>\n",
       "      <td>0</td>\n",
       "      <td>[{'S': 1, 'AuId': 2895256545, 'AfN': 'national...</td>\n",
       "      <td>NaN</td>\n",
       "      <td>38293</td>\n",
       "      <td>2011-04-01</td>\n",
       "      <td>38293</td>\n",
       "      <td>[{'FId': 2777018310, 'FN': 'caltech 101'}, {'F...</td>\n",
       "      <td>2153635508</td>\n",
       "      <td>{'JN': 'acm t intel syst tec', 'JId': 2492086750}</td>\n",
       "      <td>[2148603752, 2119821739, 2109943925, 217200036...</td>\n",
       "      <td>libsvm a library for support vector machines</td>\n",
       "      <td>ACM Transactions on Intelligent Systems and Te...</td>\n",
       "      <td>['library', 'libsvm', 'machines', 'support', '...</td>\n",
       "      <td>2011</td>\n",
       "      <td>95072</td>\n",
       "      <td>-13.274</td>\n",
       "    </tr>\n",
       "    <tr>\n",
       "      <th>1</th>\n",
       "      <td>1</td>\n",
       "      <td>[{'AuId': 581716687, 'S': 1, 'AuN': 'ahmedin j...</td>\n",
       "      <td>NaN</td>\n",
       "      <td>46871</td>\n",
       "      <td>2011-01-01</td>\n",
       "      <td>46871</td>\n",
       "      <td>[{'FId': 2779372377, 'FN': 'lung cancer suscep...</td>\n",
       "      <td>2613543509</td>\n",
       "      <td>NaN</td>\n",
       "      <td>[1981989535, 2095761465, 2132528779, 208930075...</td>\n",
       "      <td>global cancer statistics</td>\n",
       "      <td>Ca</td>\n",
       "      <td>['cancer', 'global', 'statistics']</td>\n",
       "      <td>2011</td>\n",
       "      <td>109169</td>\n",
       "      <td>-13.460</td>\n",
       "    </tr>\n",
       "    <tr>\n",
       "      <th>2</th>\n",
       "      <td>2</td>\n",
       "      <td>[{'S': 1, 'AuId': 2164450181, 'AfN': 'arizona ...</td>\n",
       "      <td>NaN</td>\n",
       "      <td>48290</td>\n",
       "      <td>2011-10-01</td>\n",
       "      <td>48290</td>\n",
       "      <td>[{'FId': 2778351938, 'FN': 'enterovirus c'}, {...</td>\n",
       "      <td>2132632499</td>\n",
       "      <td>{'JN': 'mol biol evol', 'JId': 57552105}</td>\n",
       "      <td>[2168696662, 2097706568, 2103546861, 153290820...</td>\n",
       "      <td>mega5 molecular evolutionary genetics analysis...</td>\n",
       "      <td>Molecular Biology and Evolution</td>\n",
       "      <td>['distance', 'evolutionary', 'genetics', 'like...</td>\n",
       "      <td>2011</td>\n",
       "      <td>113191</td>\n",
       "      <td>-13.508</td>\n",
       "    </tr>\n",
       "    <tr>\n",
       "      <th>3</th>\n",
       "      <td>3</td>\n",
       "      <td>[{'S': 1, 'AuId': 2121939561, 'AfN': 'universi...</td>\n",
       "      <td>NaN</td>\n",
       "      <td>42355</td>\n",
       "      <td>2011-07-06</td>\n",
       "      <td>42355</td>\n",
       "      <td>[{'FId': 87146676, 'FN': 'gsp algorithm'}, {'F...</td>\n",
       "      <td>2140190241</td>\n",
       "      <td>NaN</td>\n",
       "      <td>[2339804494, 2156909104, 2432517183, 210286575...</td>\n",
       "      <td>data mining concepts and techniques</td>\n",
       "      <td>NaN</td>\n",
       "      <td>['concepts', 'data', 'mining', 'techniques']</td>\n",
       "      <td>2011</td>\n",
       "      <td>114591</td>\n",
       "      <td>-13.524</td>\n",
       "    </tr>\n",
       "    <tr>\n",
       "      <th>4</th>\n",
       "      <td>4</td>\n",
       "      <td>[{'AuId': 2300357236, 'S': 1, 'AuN': 'laurence...</td>\n",
       "      <td>NaN</td>\n",
       "      <td>13533</td>\n",
       "      <td>2011-01-01</td>\n",
       "      <td>13533</td>\n",
       "      <td>NaN</td>\n",
       "      <td>2204447578</td>\n",
       "      <td>NaN</td>\n",
       "      <td>NaN</td>\n",
       "      <td>analise de conteudo</td>\n",
       "      <td>NaN</td>\n",
       "      <td>['analise', 'conteudo']</td>\n",
       "      <td>2011</td>\n",
       "      <td>158426</td>\n",
       "      <td>-13.924</td>\n",
       "    </tr>\n",
       "  </tbody>\n",
       "</table>\n",
       "</div>"
      ],
      "text/plain": [
       "   Unnamed: 0   ...   logprob\n",
       "0           0   ...   -13.274\n",
       "1           1   ...   -13.460\n",
       "2           2   ...   -13.508\n",
       "3           3   ...   -13.524\n",
       "4           4   ...   -13.924\n",
       "\n",
       "[5 rows x 16 columns]"
      ]
     },
     "execution_count": 173,
     "metadata": {},
     "output_type": "execute_result"
    }
   ],
   "source": [
    "df.head()"
   ]
  },
  {
   "cell_type": "code",
   "execution_count": 174,
   "metadata": {
    "_uuid": "9517ee134a625f49df5f32c65c728f1217036c18"
   },
   "outputs": [
    {
     "data": {
      "text/plain": [
       "Unnamed: 0           0\n",
       "AA                   0\n",
       "C              1115805\n",
       "CC                   0\n",
       "D                    0\n",
       "ECC                  0\n",
       "F                 6085\n",
       "Id                   0\n",
       "J               374096\n",
       "RId             186434\n",
       "Ti                   0\n",
       "VFN             276961\n",
       "W                   12\n",
       "Y                    0\n",
       "kesEntityId          0\n",
       "logprob              0\n",
       "dtype: int64"
      ]
     },
     "execution_count": 174,
     "metadata": {},
     "output_type": "execute_result"
    }
   ],
   "source": [
    "df.isna().sum()"
   ]
  },
  {
   "cell_type": "code",
   "execution_count": 175,
   "metadata": {
    "_uuid": "af116c7217e9baa64ca8b97847e6ccea0904efd3"
   },
   "outputs": [],
   "source": [
    "def preprocess(df):\n",
    "    df = df.drop(['C','J'],axis = 1)\n",
    "    df = df.dropna(subset=['RId','F','VFN','W'])\n",
    "    return df"
   ]
  },
  {
   "cell_type": "code",
   "execution_count": 176,
   "metadata": {
    "_uuid": "2ac2e780ed1e0f0611afdf0ba51a176fd785c368"
   },
   "outputs": [],
   "source": [
    "df = preprocess(df)"
   ]
  },
  {
   "cell_type": "code",
   "execution_count": 177,
   "metadata": {
    "_uuid": "cc196d699101d1071dc699317a9901effea4f6e0"
   },
   "outputs": [
    {
     "data": {
      "text/plain": [
       "Unnamed: 0     0\n",
       "AA             0\n",
       "CC             0\n",
       "D              0\n",
       "ECC            0\n",
       "F              0\n",
       "Id             0\n",
       "RId            0\n",
       "Ti             0\n",
       "VFN            0\n",
       "W              0\n",
       "Y              0\n",
       "kesEntityId    0\n",
       "logprob        0\n",
       "dtype: int64"
      ]
     },
     "execution_count": 177,
     "metadata": {},
     "output_type": "execute_result"
    }
   ],
   "source": [
    "df.isna().sum()"
   ]
  },
  {
   "cell_type": "code",
   "execution_count": 157,
   "metadata": {
    "_uuid": "34a84ca3f2c1eb8fd54f3fa34ab1607b80f484e9"
   },
   "outputs": [
    {
     "data": {
      "text/html": [
       "<div>\n",
       "<style scoped>\n",
       "    .dataframe tbody tr th:only-of-type {\n",
       "        vertical-align: middle;\n",
       "    }\n",
       "\n",
       "    .dataframe tbody tr th {\n",
       "        vertical-align: top;\n",
       "    }\n",
       "\n",
       "    .dataframe thead th {\n",
       "        text-align: right;\n",
       "    }\n",
       "</style>\n",
       "<table border=\"1\" class=\"dataframe\">\n",
       "  <thead>\n",
       "    <tr style=\"text-align: right;\">\n",
       "      <th></th>\n",
       "      <th>Unnamed: 0</th>\n",
       "      <th>AA</th>\n",
       "      <th>CC</th>\n",
       "      <th>D</th>\n",
       "      <th>ECC</th>\n",
       "      <th>F</th>\n",
       "      <th>Id</th>\n",
       "      <th>RId</th>\n",
       "      <th>Ti</th>\n",
       "      <th>VFN</th>\n",
       "      <th>W</th>\n",
       "      <th>Y</th>\n",
       "      <th>kesEntityId</th>\n",
       "      <th>logprob</th>\n",
       "    </tr>\n",
       "  </thead>\n",
       "  <tbody>\n",
       "    <tr>\n",
       "      <th>0</th>\n",
       "      <td>0</td>\n",
       "      <td>[{'S': 1, 'AuId': 2895256545, 'AfN': 'national...</td>\n",
       "      <td>38293</td>\n",
       "      <td>2011-04-01</td>\n",
       "      <td>38293</td>\n",
       "      <td>[{'FId': 2777018310, 'FN': 'caltech 101'}, {'F...</td>\n",
       "      <td>2153635508</td>\n",
       "      <td>[2148603752, 2119821739, 2109943925, 217200036...</td>\n",
       "      <td>libsvm a library for support vector machines</td>\n",
       "      <td>ACM Transactions on Intelligent Systems and Te...</td>\n",
       "      <td>['library', 'libsvm', 'machines', 'support', '...</td>\n",
       "      <td>2011</td>\n",
       "      <td>95072</td>\n",
       "      <td>-13.274</td>\n",
       "    </tr>\n",
       "    <tr>\n",
       "      <th>1</th>\n",
       "      <td>1</td>\n",
       "      <td>[{'AuId': 581716687, 'S': 1, 'AuN': 'ahmedin j...</td>\n",
       "      <td>46871</td>\n",
       "      <td>2011-01-01</td>\n",
       "      <td>46871</td>\n",
       "      <td>[{'FId': 2779372377, 'FN': 'lung cancer suscep...</td>\n",
       "      <td>2613543509</td>\n",
       "      <td>[1981989535, 2095761465, 2132528779, 208930075...</td>\n",
       "      <td>global cancer statistics</td>\n",
       "      <td>Ca</td>\n",
       "      <td>['cancer', 'global', 'statistics']</td>\n",
       "      <td>2011</td>\n",
       "      <td>109169</td>\n",
       "      <td>-13.460</td>\n",
       "    </tr>\n",
       "    <tr>\n",
       "      <th>2</th>\n",
       "      <td>2</td>\n",
       "      <td>[{'S': 1, 'AuId': 2164450181, 'AfN': 'arizona ...</td>\n",
       "      <td>48290</td>\n",
       "      <td>2011-10-01</td>\n",
       "      <td>48290</td>\n",
       "      <td>[{'FId': 2778351938, 'FN': 'enterovirus c'}, {...</td>\n",
       "      <td>2132632499</td>\n",
       "      <td>[2168696662, 2097706568, 2103546861, 153290820...</td>\n",
       "      <td>mega5 molecular evolutionary genetics analysis...</td>\n",
       "      <td>Molecular Biology and Evolution</td>\n",
       "      <td>['distance', 'evolutionary', 'genetics', 'like...</td>\n",
       "      <td>2011</td>\n",
       "      <td>113191</td>\n",
       "      <td>-13.508</td>\n",
       "    </tr>\n",
       "    <tr>\n",
       "      <th>6</th>\n",
       "      <td>6</td>\n",
       "      <td>[{'S': 1, 'AuId': 2120435251, 'AfN': 'isrec', ...</td>\n",
       "      <td>32471</td>\n",
       "      <td>2011-03-01</td>\n",
       "      <td>32471</td>\n",
       "      <td>[{'FId': 2776199265, 'FN': 'the hallmarks of c...</td>\n",
       "      <td>2117692326</td>\n",
       "      <td>[2034269086, 2097259163, 2023427658, 196408120...</td>\n",
       "      <td>hallmarks of cancer the next generation</td>\n",
       "      <td>Cell</td>\n",
       "      <td>['cancer', 'generation', 'hallmarks', 'next']</td>\n",
       "      <td>2011</td>\n",
       "      <td>193981</td>\n",
       "      <td>-14.161</td>\n",
       "    </tr>\n",
       "    <tr>\n",
       "      <th>7</th>\n",
       "      <td>7</td>\n",
       "      <td>[{'S': 1, 'AuId': 317192602, 'AfN': 'french in...</td>\n",
       "      <td>12801</td>\n",
       "      <td>2011-02-01</td>\n",
       "      <td>12801</td>\n",
       "      <td>[{'FId': 24138899, 'FN': 'instance based learn...</td>\n",
       "      <td>2101234009</td>\n",
       "      <td>[2153635508, 2118585731, 2063978378, 209736028...</td>\n",
       "      <td>scikit learn machine learning in python</td>\n",
       "      <td>Journal of Machine Learning Research</td>\n",
       "      <td>['learn', 'learning', 'machine', 'python', 'sc...</td>\n",
       "      <td>2011</td>\n",
       "      <td>264962</td>\n",
       "      <td>-14.513</td>\n",
       "    </tr>\n",
       "  </tbody>\n",
       "</table>\n",
       "</div>"
      ],
      "text/plain": [
       "   Unnamed: 0   ...   logprob\n",
       "0           0   ...   -13.274\n",
       "1           1   ...   -13.460\n",
       "2           2   ...   -13.508\n",
       "6           6   ...   -14.161\n",
       "7           7   ...   -14.513\n",
       "\n",
       "[5 rows x 14 columns]"
      ]
     },
     "execution_count": 157,
     "metadata": {},
     "output_type": "execute_result"
    }
   ],
   "source": [
    "df.head()"
   ]
  },
  {
   "cell_type": "code",
   "execution_count": 178,
   "metadata": {
    "_uuid": "a807e973480445fbc0fe48344414328edf881785"
   },
   "outputs": [],
   "source": [
    "df_pub = pd.read_csv(\"../input/scopus-data/ProcessedScopusData.csv\")"
   ]
  },
  {
   "cell_type": "code",
   "execution_count": 179,
   "metadata": {
    "_uuid": "f822c6e84ac295960d884a0fea75da410358418f"
   },
   "outputs": [
    {
     "data": {
      "text/html": [
       "<div>\n",
       "<style scoped>\n",
       "    .dataframe tbody tr th:only-of-type {\n",
       "        vertical-align: middle;\n",
       "    }\n",
       "\n",
       "    .dataframe tbody tr th {\n",
       "        vertical-align: top;\n",
       "    }\n",
       "\n",
       "    .dataframe thead th {\n",
       "        text-align: right;\n",
       "    }\n",
       "</style>\n",
       "<table border=\"1\" class=\"dataframe\">\n",
       "  <thead>\n",
       "    <tr style=\"text-align: right;\">\n",
       "      <th></th>\n",
       "      <th>Unnamed: 0</th>\n",
       "      <th>Scopus SourceID</th>\n",
       "      <th>Title</th>\n",
       "      <th>CiteScore</th>\n",
       "      <th>Percentile</th>\n",
       "      <th>Citation Count</th>\n",
       "      <th>Scholarly Output</th>\n",
       "      <th>Percent Cited</th>\n",
       "      <th>SNIP</th>\n",
       "      <th>SJR</th>\n",
       "      <th>RANK</th>\n",
       "      <th>Rank Out Of</th>\n",
       "      <th>Publisher</th>\n",
       "      <th>Type</th>\n",
       "      <th>OpenAccess</th>\n",
       "      <th>Scopus ASJC Code (Sub-subject Area)</th>\n",
       "      <th>Scopus Sub-Subject Area</th>\n",
       "      <th>Quartile</th>\n",
       "      <th>Top 10% (CiteScore Percentile)</th>\n",
       "      <th>Scopus SourceID.1</th>\n",
       "      <th>Print-ISSN</th>\n",
       "      <th>E-ISSN</th>\n",
       "      <th>Subject Area</th>\n",
       "    </tr>\n",
       "  </thead>\n",
       "  <tbody>\n",
       "    <tr>\n",
       "      <th>0</th>\n",
       "      <td>0</td>\n",
       "      <td>28773.0</td>\n",
       "      <td>Ca-A Cancer Journal for Clinicians</td>\n",
       "      <td>130.47</td>\n",
       "      <td>99.0</td>\n",
       "      <td>16961.0</td>\n",
       "      <td>130.0</td>\n",
       "      <td>70.0</td>\n",
       "      <td>88.164</td>\n",
       "      <td>61.786</td>\n",
       "      <td>1.0</td>\n",
       "      <td>120.0</td>\n",
       "      <td>Wiley-Blackwell</td>\n",
       "      <td>Journal</td>\n",
       "      <td>NO</td>\n",
       "      <td>2720.0</td>\n",
       "      <td>Hematology</td>\n",
       "      <td>Quartile 1</td>\n",
       "      <td>Top 10%</td>\n",
       "      <td>https://www.scopus.com/sourceid/28773</td>\n",
       "      <td>00079235</td>\n",
       "      <td>15424863</td>\n",
       "      <td>Medicine</td>\n",
       "    </tr>\n",
       "    <tr>\n",
       "      <th>1</th>\n",
       "      <td>1</td>\n",
       "      <td>28773.0</td>\n",
       "      <td>Ca-A Cancer Journal for Clinicians</td>\n",
       "      <td>130.47</td>\n",
       "      <td>99.0</td>\n",
       "      <td>16961.0</td>\n",
       "      <td>130.0</td>\n",
       "      <td>70.0</td>\n",
       "      <td>88.164</td>\n",
       "      <td>61.786</td>\n",
       "      <td>1.0</td>\n",
       "      <td>323.0</td>\n",
       "      <td>Wiley-Blackwell</td>\n",
       "      <td>Journal</td>\n",
       "      <td>NO</td>\n",
       "      <td>2730.0</td>\n",
       "      <td>Oncology</td>\n",
       "      <td>Quartile 1</td>\n",
       "      <td>Top 10%</td>\n",
       "      <td>https://www.scopus.com/sourceid/28773</td>\n",
       "      <td>00079235</td>\n",
       "      <td>15424863</td>\n",
       "      <td>Medicine</td>\n",
       "    </tr>\n",
       "    <tr>\n",
       "      <th>2</th>\n",
       "      <td>2</td>\n",
       "      <td>19434.0</td>\n",
       "      <td>MMWR. Recommendations and reports : Morbidity ...</td>\n",
       "      <td>63.12</td>\n",
       "      <td>99.0</td>\n",
       "      <td>1010.0</td>\n",
       "      <td>16.0</td>\n",
       "      <td>100.0</td>\n",
       "      <td>32.534</td>\n",
       "      <td>34.638</td>\n",
       "      <td>1.0</td>\n",
       "      <td>87.0</td>\n",
       "      <td>Centers for Disease Control and Prevention (CDC)</td>\n",
       "      <td>Journal</td>\n",
       "      <td>YES</td>\n",
       "      <td>2713.0</td>\n",
       "      <td>Epidemiology</td>\n",
       "      <td>Quartile 1</td>\n",
       "      <td>Top 10%</td>\n",
       "      <td>https://www.scopus.com/sourceid/19434</td>\n",
       "      <td>10575987</td>\n",
       "      <td>15458601</td>\n",
       "      <td>Medicine</td>\n",
       "    </tr>\n",
       "    <tr>\n",
       "      <th>3</th>\n",
       "      <td>3</td>\n",
       "      <td>19434.0</td>\n",
       "      <td>MMWR. Recommendations and reports : Morbidity ...</td>\n",
       "      <td>63.12</td>\n",
       "      <td>99.0</td>\n",
       "      <td>1010.0</td>\n",
       "      <td>16.0</td>\n",
       "      <td>100.0</td>\n",
       "      <td>32.534</td>\n",
       "      <td>34.638</td>\n",
       "      <td>1.0</td>\n",
       "      <td>241.0</td>\n",
       "      <td>Centers for Disease Control and Prevention (CDC)</td>\n",
       "      <td>Journal</td>\n",
       "      <td>YES</td>\n",
       "      <td>3306.0</td>\n",
       "      <td>Health(social science)</td>\n",
       "      <td>Quartile 1</td>\n",
       "      <td>Top 10%</td>\n",
       "      <td>https://www.scopus.com/sourceid/19434</td>\n",
       "      <td>10575987</td>\n",
       "      <td>15458601</td>\n",
       "      <td>Social Sciences</td>\n",
       "    </tr>\n",
       "    <tr>\n",
       "      <th>4</th>\n",
       "      <td>4</td>\n",
       "      <td>19434.0</td>\n",
       "      <td>MMWR. Recommendations and reports : Morbidity ...</td>\n",
       "      <td>63.12</td>\n",
       "      <td>99.0</td>\n",
       "      <td>1010.0</td>\n",
       "      <td>16.0</td>\n",
       "      <td>100.0</td>\n",
       "      <td>32.534</td>\n",
       "      <td>34.638</td>\n",
       "      <td>1.0</td>\n",
       "      <td>106.0</td>\n",
       "      <td>Centers for Disease Control and Prevention (CDC)</td>\n",
       "      <td>Journal</td>\n",
       "      <td>YES</td>\n",
       "      <td>2307.0</td>\n",
       "      <td>Health, Toxicology and Mutagenesis</td>\n",
       "      <td>Quartile 1</td>\n",
       "      <td>Top 10%</td>\n",
       "      <td>https://www.scopus.com/sourceid/19434</td>\n",
       "      <td>10575987</td>\n",
       "      <td>15458601</td>\n",
       "      <td>Environmental Science</td>\n",
       "    </tr>\n",
       "  </tbody>\n",
       "</table>\n",
       "</div>"
      ],
      "text/plain": [
       "   Unnamed: 0          ...                     Subject Area\n",
       "0           0          ...                         Medicine\n",
       "1           1          ...                         Medicine\n",
       "2           2          ...                         Medicine\n",
       "3           3          ...                  Social Sciences\n",
       "4           4          ...            Environmental Science\n",
       "\n",
       "[5 rows x 23 columns]"
      ]
     },
     "execution_count": 179,
     "metadata": {},
     "output_type": "execute_result"
    }
   ],
   "source": [
    "df_pub.head()"
   ]
  },
  {
   "cell_type": "code",
   "execution_count": 207,
   "metadata": {
    "_uuid": "34eed99cea941b5d8a26369647f51bb416f6b65c"
   },
   "outputs": [],
   "source": [
    "def append_pub_score(df):\n",
    "    print(\"Unique Publications from Scopus:\",len(df_pub.Title.unique()))\n",
    "    # Analysing Common Publications\n",
    "    vfn_list = df.VFN.unique().tolist()\n",
    "    scopus_list = df_pub.Title.unique().tolist()\n",
    "    count = 0\n",
    "    for pub in scopus_list:\n",
    "        if pub in vfn_list:\n",
    "            count +=1\n",
    "    print(\"Publications present in Dataset:\",count)\n",
    "    print(\"Shape Before\",df.shape)\n",
    "    df = df[df.VFN.isin(scopus_list)]\n",
    "    print(\"Shape After\",df.shape)\n",
    "    #score appending\n",
    "    score_dict = pd.Series(df_pub.SJR.values,index=df_pub.Title).to_dict()\n",
    "    df[\"Publication_Rank\"] = df.apply(lambda row: score_dict[row[\"VFN\"]],axis = 1)\n",
    "    return df\n",
    "\n",
    "def extract_field(row):\n",
    "    val = row[\"F\"]\n",
    "    index = val.rfind(\"FN\")\n",
    "    val = val[index+3:len(val)]\n",
    "    val = val.strip(\":}] '\")\n",
    "    return val"
   ]
  },
  {
   "cell_type": "code",
   "execution_count": 186,
   "metadata": {
    "_uuid": "27b9230712e0de00a9c9da6a45e875552eb106c0",
    "scrolled": true
   },
   "outputs": [
    {
     "name": "stdout",
     "output_type": "stream",
     "text": [
      "Unique Publications from Scopus: 1231\n",
      "Publications present in Dataset: 883\n",
      "Shape Before (105906, 14)\n",
      "Shape After (105906, 14)\n"
     ]
    }
   ],
   "source": [
    "df = append_pub_score(df)"
   ]
  },
  {
   "cell_type": "code",
   "execution_count": 209,
   "metadata": {
    "_uuid": "f095ab76290a40148c7471d02b95b925031e61d1"
   },
   "outputs": [],
   "source": [
    "df[\"Subject Field\"] = df.apply(lambda row:extract_field(row),axis=1)"
   ]
  },
  {
   "cell_type": "code",
   "execution_count": 210,
   "metadata": {
    "_uuid": "f03ed2c621b6dd114c573f198c0a85a20bd689c0"
   },
   "outputs": [
    {
     "data": {
      "text/html": [
       "<div>\n",
       "<style scoped>\n",
       "    .dataframe tbody tr th:only-of-type {\n",
       "        vertical-align: middle;\n",
       "    }\n",
       "\n",
       "    .dataframe tbody tr th {\n",
       "        vertical-align: top;\n",
       "    }\n",
       "\n",
       "    .dataframe thead th {\n",
       "        text-align: right;\n",
       "    }\n",
       "</style>\n",
       "<table border=\"1\" class=\"dataframe\">\n",
       "  <thead>\n",
       "    <tr style=\"text-align: right;\">\n",
       "      <th></th>\n",
       "      <th>Unnamed: 0</th>\n",
       "      <th>AA</th>\n",
       "      <th>CC</th>\n",
       "      <th>D</th>\n",
       "      <th>ECC</th>\n",
       "      <th>F</th>\n",
       "      <th>Id</th>\n",
       "      <th>RId</th>\n",
       "      <th>Ti</th>\n",
       "      <th>VFN</th>\n",
       "      <th>W</th>\n",
       "      <th>Y</th>\n",
       "      <th>kesEntityId</th>\n",
       "      <th>logprob</th>\n",
       "      <th>Publication_Rank</th>\n",
       "      <th>Subject Field</th>\n",
       "    </tr>\n",
       "  </thead>\n",
       "  <tbody>\n",
       "    <tr>\n",
       "      <th>0</th>\n",
       "      <td>0</td>\n",
       "      <td>[{'S': 1, 'AuId': 2895256545, 'AfN': 'national...</td>\n",
       "      <td>38293</td>\n",
       "      <td>2011-04-01</td>\n",
       "      <td>38293</td>\n",
       "      <td>[{'FId': 2777018310, 'FN': 'caltech 101'}, {'F...</td>\n",
       "      <td>2153635508</td>\n",
       "      <td>[2148603752, 2119821739, 2109943925, 217200036...</td>\n",
       "      <td>libsvm a library for support vector machines</td>\n",
       "      <td>ACM Transactions on Intelligent Systems and Te...</td>\n",
       "      <td>['library', 'libsvm', 'machines', 'support', '...</td>\n",
       "      <td>2011</td>\n",
       "      <td>95072</td>\n",
       "      <td>-13.274</td>\n",
       "      <td>0.874</td>\n",
       "      <td>computer science</td>\n",
       "    </tr>\n",
       "    <tr>\n",
       "      <th>2</th>\n",
       "      <td>2</td>\n",
       "      <td>[{'S': 1, 'AuId': 2164450181, 'AfN': 'arizona ...</td>\n",
       "      <td>48290</td>\n",
       "      <td>2011-10-01</td>\n",
       "      <td>48290</td>\n",
       "      <td>[{'FId': 2778351938, 'FN': 'enterovirus c'}, {...</td>\n",
       "      <td>2132632499</td>\n",
       "      <td>[2168696662, 2097706568, 2103546861, 153290820...</td>\n",
       "      <td>mega5 molecular evolutionary genetics analysis...</td>\n",
       "      <td>Molecular Biology and Evolution</td>\n",
       "      <td>['distance', 'evolutionary', 'genetics', 'like...</td>\n",
       "      <td>2011</td>\n",
       "      <td>113191</td>\n",
       "      <td>-13.508</td>\n",
       "      <td>5.475</td>\n",
       "      <td>biology</td>\n",
       "    </tr>\n",
       "    <tr>\n",
       "      <th>6</th>\n",
       "      <td>6</td>\n",
       "      <td>[{'S': 1, 'AuId': 2120435251, 'AfN': 'isrec', ...</td>\n",
       "      <td>32471</td>\n",
       "      <td>2011-03-01</td>\n",
       "      <td>32471</td>\n",
       "      <td>[{'FId': 2776199265, 'FN': 'the hallmarks of c...</td>\n",
       "      <td>2117692326</td>\n",
       "      <td>[2034269086, 2097259163, 2023427658, 196408120...</td>\n",
       "      <td>hallmarks of cancer the next generation</td>\n",
       "      <td>Cell</td>\n",
       "      <td>['cancer', 'generation', 'hallmarks', 'next']</td>\n",
       "      <td>2011</td>\n",
       "      <td>193981</td>\n",
       "      <td>-14.161</td>\n",
       "      <td>25.137</td>\n",
       "      <td>medicine</td>\n",
       "    </tr>\n",
       "    <tr>\n",
       "      <th>7</th>\n",
       "      <td>7</td>\n",
       "      <td>[{'S': 1, 'AuId': 317192602, 'AfN': 'french in...</td>\n",
       "      <td>12801</td>\n",
       "      <td>2011-02-01</td>\n",
       "      <td>12801</td>\n",
       "      <td>[{'FId': 24138899, 'FN': 'instance based learn...</td>\n",
       "      <td>2101234009</td>\n",
       "      <td>[2153635508, 2118585731, 2063978378, 209736028...</td>\n",
       "      <td>scikit learn machine learning in python</td>\n",
       "      <td>Journal of Machine Learning Research</td>\n",
       "      <td>['learn', 'learning', 'machine', 'python', 'sc...</td>\n",
       "      <td>2011</td>\n",
       "      <td>264962</td>\n",
       "      <td>-14.513</td>\n",
       "      <td>1.271</td>\n",
       "      <td>computer science</td>\n",
       "    </tr>\n",
       "    <tr>\n",
       "      <th>28</th>\n",
       "      <td>28</td>\n",
       "      <td>[{'S': 1, 'AuId': 281745206, 'AfN': 'universit...</td>\n",
       "      <td>7383</td>\n",
       "      <td>2011-03-01</td>\n",
       "      <td>7383</td>\n",
       "      <td>[{'FId': 2776282453, 'FN': 'milan criteria'}, ...</td>\n",
       "      <td>2163403599</td>\n",
       "      <td>[1971837077, 1994193851, 2057378223, 213032537...</td>\n",
       "      <td>management of hepatocellular carcinoma an update</td>\n",
       "      <td>Hepatology</td>\n",
       "      <td>['carcinoma', 'hepatocellular', 'management', ...</td>\n",
       "      <td>2011</td>\n",
       "      <td>489309</td>\n",
       "      <td>-15.158</td>\n",
       "      <td>5.541</td>\n",
       "      <td>medicine</td>\n",
       "    </tr>\n",
       "  </tbody>\n",
       "</table>\n",
       "</div>"
      ],
      "text/plain": [
       "    Unnamed: 0        ...            Subject Field\n",
       "0            0        ...         computer science\n",
       "2            2        ...                  biology\n",
       "6            6        ...                 medicine\n",
       "7            7        ...         computer science\n",
       "28          28        ...                 medicine\n",
       "\n",
       "[5 rows x 16 columns]"
      ]
     },
     "execution_count": 210,
     "metadata": {},
     "output_type": "execute_result"
    }
   ],
   "source": [
    "df.head()"
   ]
  },
  {
   "cell_type": "code",
   "execution_count": 212,
   "metadata": {
    "_uuid": "4a939b2da79076eec8f05881e73744850940bc31"
   },
   "outputs": [
    {
     "data": {
      "text/plain": [
       "array(['computer science', 'biology', 'medicine', 'mathematics',\n",
       "       'psychology', 'materials science', 'geology', 'physics',\n",
       "       'chemistry', 'environmental science', 'economics',\n",
       "       'distributed computing', 'nanotechnology', 'business', 'geography',\n",
       "       'engineering', 'optics', 'political science', 'applied psychology',\n",
       "       'sociology', 'ecology', 'mineralogy', 'expansive', 'agronomy',\n",
       "       'creatures', 'composite material', 'social psychology',\n",
       "       'geomorphology', 'history', 'neuroscience', 'environmental ethics',\n",
       "       'elaboration', 'socioeconomics', 'environmental engineering',\n",
       "       'crystallography', 'innovator', 'oceanography',\n",
       "       'spatial configuration', 'transferability',\n",
       "       'environmental protection', 'management science',\n",
       "       'atmospheric sciences', 'analytical chemistry', 'lanperisone',\n",
       "       'twenty first century', 'physiology', 'scientific study',\n",
       "       'philosophy', 'climatology', 'physical chemistry',\n",
       "       'theoretical computer science', 'plakobranchidae',\n",
       "       'public administration', 'applied mathematics', 'aka',\n",
       "       'amphicoelias', 'caffeyl alcohol', 'subbarao', 'archaeology',\n",
       "       'insulacebus', 'art', 'pure mathematics', 'chemical engineering',\n",
       "       'phidiana militaris', 'misfortune', 'smardaea', 'eremoryzomys',\n",
       "       'natural phenomenon', 'performance art', 'micryletta',\n",
       "       'meteorology', 'ivesheadiomorphs', 'vahlkampfia avara',\n",
       "       'structural approach', 'zoology', 'paleontology',\n",
       "       'agricultural economics', 'cartography', 'environmental economics',\n",
       "       'geranosaurus', 'rubrobacteridae', 'archaius',\n",
       "       'actinocyclus papillatus', 'moggridgea tingle',\n",
       "       'gegeneophis seshachari', 'vectisuchus', 'colobosauroides',\n",
       "       'cognitive science', 'social science', 'teinopalpus',\n",
       "       'eurolimnornis', 'quadrina', 'macroplata', 'chatterjee',\n",
       "       'qiliania', 'tehuelchesaurus', 'proctonotidae',\n",
       "       'leptobrachium chapaense', 'papuascincus', 'qalyub virus',\n",
       "       'kovalevisargidae', 'neolitsea daibuensis',\n",
       "       'legionella fairfieldensis', 'pietraroiasuchus', 'exact science',\n",
       "       'amalocichla', 'sclerobunus robustus', 'suaeda taxifolia',\n",
       "       'jainosaurus', 'ansonia muelleri', 'tritoniopsis elegans',\n",
       "       'inyoka', 'firewood gatherer', 'happy wren', 'palaeoconchus',\n",
       "       'mantidactylus aerumnalis', 'monopis monachella',\n",
       "       'viola abyssinica'], dtype=object)"
      ]
     },
     "execution_count": 212,
     "metadata": {},
     "output_type": "execute_result"
    }
   ],
   "source": [
    "df[\"Subject Field\"].unique()"
   ]
  },
  {
   "cell_type": "code",
   "execution_count": 213,
   "metadata": {
    "_uuid": "957a308699c7c7ebafc33bd82267549920c0f60a"
   },
   "outputs": [
    {
     "data": {
      "text/plain": [
       "(105906, 16)"
      ]
     },
     "execution_count": 213,
     "metadata": {},
     "output_type": "execute_result"
    }
   ],
   "source": [
    "df.shape"
   ]
  },
  {
   "cell_type": "code",
   "execution_count": null,
   "metadata": {
    "_uuid": "666800007b4c54ed2eceaa301fbfb646ba048678"
   },
   "outputs": [],
   "source": []
  }
 ],
 "metadata": {
  "kernelspec": {
   "display_name": "Python 3",
   "language": "python",
   "name": "python3"
  },
  "language_info": {
   "codemirror_mode": {
    "name": "ipython",
    "version": 3
   },
   "file_extension": ".py",
   "mimetype": "text/x-python",
   "name": "python",
   "nbconvert_exporter": "python",
   "pygments_lexer": "ipython3",
   "version": "3.6.5"
  }
 },
 "nbformat": 4,
 "nbformat_minor": 1
}
