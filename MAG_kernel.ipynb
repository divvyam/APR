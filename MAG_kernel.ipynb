{
  "cells": [
    {
      "metadata": {
        "_uuid": "8f2839f25d086af736a60e9eeb907d3b93b6e0e5",
        "_cell_guid": "b1076dfc-b9ad-4769-8c92-a6c4dae69d19",
        "trusted": true
      },
      "cell_type": "code",
      "source": "# This Python 3 environment comes with many helpful analytics libraries installed\n# It is defined by the kaggle/python docker image: https://github.com/kaggle/docker-python\n# For example, here's several helpful packages to load in \n\nimport numpy as np # linear algebra\nimport pandas as pd # data processing, CSV file I/O (e.g. pd.read_csv)\nfrom pandas.io.json import json_normalize\nimport json\n# Input data files are available in the \"../input/\" directory.\n# For example, running this (by clicking run or pressing Shift+Enter) will list the files in the input directory\n\nimport os\nprint(os.listdir(\"../input\"))\nprint(os.listdir(\"../input/2011-data/\"))\nprint(os.listdir(\"../input/mag-2011\"))\n\n# Any results you write to the current directory are saved as output.",
      "execution_count": 57,
      "outputs": [
        {
          "output_type": "stream",
          "text": "['scopus-data', '2014-data', '2011-data', 'mag-2011']\n['2011.json']\n['mag_2011.csv']\n",
          "name": "stdout"
        }
      ]
    },
    {
      "metadata": {
        "trusted": true,
        "_uuid": "b28e35cbefb02773c4ae675bce7a57f452842154"
      },
      "cell_type": "code",
      "source": "# JSON_COLUMNS = [\"AA\",\"F\",\"J\"]\n# df = pd.read_csv(\"../input/mag-2011/mag_2011.csv\",converters={column: json.loads for column in JSON_COLUMNS})\ndf = pd.read_csv(\"../input/mag-2011/mag_2011.csv\")",
      "execution_count": 58,
      "outputs": []
    },
    {
      "metadata": {
        "trusted": true,
        "_uuid": "2c6813384a59866e30e2f2c00e91056a9adc348d"
      },
      "cell_type": "code",
      "source": "df.shape",
      "execution_count": 59,
      "outputs": [
        {
          "output_type": "execute_result",
          "execution_count": 59,
          "data": {
            "text/plain": "(1177000, 16)"
          },
          "metadata": {}
        }
      ]
    },
    {
      "metadata": {
        "trusted": true,
        "_uuid": "c4c86573958e8ad6d0d552de6fd201cd7a192619"
      },
      "cell_type": "code",
      "source": "# Make more sensible column names\nrename_dict = {\"AA\": \"Authors\", \n               \"C\": \"Conference\", \n               \"CC\": \"Citation_count\", \n               \"D\": \"Date\", \n               \"F\": \"Domain\", \n               \"J\": \"Journal\", \n               \"RId\": \"References\", \n               \"Ti\": \"Title\", \n               \"VFN\": \"Venue\", \n               \"W\": \"Words\", \n               \"Y\": \"Year\", \n               \"logprob\":\"Popularity\",\n               \"Unnamed: 0\": \"Row_num\"}\ndf.rename(index=str, columns=rename_dict, inplace=True)",
      "execution_count": 60,
      "outputs": []
    },
    {
      "metadata": {
        "trusted": true,
        "_uuid": "62c9b06eb24e4d0b988632ac08f545b0556e7a40"
      },
      "cell_type": "code",
      "source": "df.head()",
      "execution_count": 61,
      "outputs": [
        {
          "output_type": "execute_result",
          "execution_count": 61,
          "data": {
            "text/plain": "   Row_num    ...     Popularity\n0        0    ...        -13.274\n1        1    ...        -13.460\n2        2    ...        -13.508\n3        3    ...        -13.524\n4        4    ...        -13.924\n\n[5 rows x 16 columns]",
            "text/html": "<div>\n<style scoped>\n    .dataframe tbody tr th:only-of-type {\n        vertical-align: middle;\n    }\n\n    .dataframe tbody tr th {\n        vertical-align: top;\n    }\n\n    .dataframe thead th {\n        text-align: right;\n    }\n</style>\n<table border=\"1\" class=\"dataframe\">\n  <thead>\n    <tr style=\"text-align: right;\">\n      <th></th>\n      <th>Row_num</th>\n      <th>Authors</th>\n      <th>Conference</th>\n      <th>Citation_count</th>\n      <th>Date</th>\n      <th>ECC</th>\n      <th>Domain</th>\n      <th>Id</th>\n      <th>Journal</th>\n      <th>References</th>\n      <th>Title</th>\n      <th>Venue</th>\n      <th>Words</th>\n      <th>Year</th>\n      <th>kesEntityId</th>\n      <th>Popularity</th>\n    </tr>\n  </thead>\n  <tbody>\n    <tr>\n      <th>0</th>\n      <td>0</td>\n      <td>[{'S': 1, 'AuId': 2895256545, 'AfN': 'national...</td>\n      <td>NaN</td>\n      <td>38293</td>\n      <td>2011-04-01</td>\n      <td>38293</td>\n      <td>[{'FId': 2777018310, 'FN': 'caltech 101'}, {'F...</td>\n      <td>2153635508</td>\n      <td>{'JN': 'acm t intel syst tec', 'JId': 2492086750}</td>\n      <td>[2148603752, 2119821739, 2109943925, 217200036...</td>\n      <td>libsvm a library for support vector machines</td>\n      <td>ACM Transactions on Intelligent Systems and Te...</td>\n      <td>['library', 'libsvm', 'machines', 'support', '...</td>\n      <td>2011</td>\n      <td>95072</td>\n      <td>-13.274</td>\n    </tr>\n    <tr>\n      <th>1</th>\n      <td>1</td>\n      <td>[{'AuId': 581716687, 'S': 1, 'AuN': 'ahmedin j...</td>\n      <td>NaN</td>\n      <td>46871</td>\n      <td>2011-01-01</td>\n      <td>46871</td>\n      <td>[{'FId': 2779372377, 'FN': 'lung cancer suscep...</td>\n      <td>2613543509</td>\n      <td>NaN</td>\n      <td>[1981989535, 2095761465, 2132528779, 208930075...</td>\n      <td>global cancer statistics</td>\n      <td>Ca</td>\n      <td>['cancer', 'global', 'statistics']</td>\n      <td>2011</td>\n      <td>109169</td>\n      <td>-13.460</td>\n    </tr>\n    <tr>\n      <th>2</th>\n      <td>2</td>\n      <td>[{'S': 1, 'AuId': 2164450181, 'AfN': 'arizona ...</td>\n      <td>NaN</td>\n      <td>48290</td>\n      <td>2011-10-01</td>\n      <td>48290</td>\n      <td>[{'FId': 2778351938, 'FN': 'enterovirus c'}, {...</td>\n      <td>2132632499</td>\n      <td>{'JN': 'mol biol evol', 'JId': 57552105}</td>\n      <td>[2168696662, 2097706568, 2103546861, 153290820...</td>\n      <td>mega5 molecular evolutionary genetics analysis...</td>\n      <td>Molecular Biology and Evolution</td>\n      <td>['distance', 'evolutionary', 'genetics', 'like...</td>\n      <td>2011</td>\n      <td>113191</td>\n      <td>-13.508</td>\n    </tr>\n    <tr>\n      <th>3</th>\n      <td>3</td>\n      <td>[{'S': 1, 'AuId': 2121939561, 'AfN': 'universi...</td>\n      <td>NaN</td>\n      <td>42355</td>\n      <td>2011-07-06</td>\n      <td>42355</td>\n      <td>[{'FId': 87146676, 'FN': 'gsp algorithm'}, {'F...</td>\n      <td>2140190241</td>\n      <td>NaN</td>\n      <td>[2339804494, 2156909104, 2432517183, 210286575...</td>\n      <td>data mining concepts and techniques</td>\n      <td>NaN</td>\n      <td>['concepts', 'data', 'mining', 'techniques']</td>\n      <td>2011</td>\n      <td>114591</td>\n      <td>-13.524</td>\n    </tr>\n    <tr>\n      <th>4</th>\n      <td>4</td>\n      <td>[{'AuId': 2300357236, 'S': 1, 'AuN': 'laurence...</td>\n      <td>NaN</td>\n      <td>13533</td>\n      <td>2011-01-01</td>\n      <td>13533</td>\n      <td>NaN</td>\n      <td>2204447578</td>\n      <td>NaN</td>\n      <td>NaN</td>\n      <td>analise de conteudo</td>\n      <td>NaN</td>\n      <td>['analise', 'conteudo']</td>\n      <td>2011</td>\n      <td>158426</td>\n      <td>-13.924</td>\n    </tr>\n  </tbody>\n</table>\n</div>"
          },
          "metadata": {}
        }
      ]
    },
    {
      "metadata": {
        "trusted": true,
        "_uuid": "9517ee134a625f49df5f32c65c728f1217036c18"
      },
      "cell_type": "code",
      "source": "df.isna().sum()",
      "execution_count": 62,
      "outputs": [
        {
          "output_type": "execute_result",
          "execution_count": 62,
          "data": {
            "text/plain": "Row_num                 0\nAuthors                 0\nConference        1115805\nCitation_count          0\nDate                    0\nECC                     0\nDomain               6085\nId                      0\nJournal            374096\nReferences         186434\nTitle                   0\nVenue              276961\nWords                  12\nYear                    0\nkesEntityId             0\nPopularity              0\ndtype: int64"
          },
          "metadata": {}
        }
      ]
    },
    {
      "metadata": {
        "trusted": true,
        "_uuid": "af116c7217e9baa64ca8b97847e6ccea0904efd3"
      },
      "cell_type": "code",
      "source": "def preprocess(df):\n    df = df.dropna(subset=['Venue'])\n    return df",
      "execution_count": 63,
      "outputs": []
    },
    {
      "metadata": {
        "trusted": true,
        "_uuid": "2ac2e780ed1e0f0611afdf0ba51a176fd785c368"
      },
      "cell_type": "code",
      "source": "df = preprocess(df)",
      "execution_count": 64,
      "outputs": []
    },
    {
      "metadata": {
        "trusted": true,
        "_uuid": "cc196d699101d1071dc699317a9901effea4f6e0"
      },
      "cell_type": "code",
      "source": "df.isna().sum()",
      "execution_count": 65,
      "outputs": [
        {
          "output_type": "execute_result",
          "execution_count": 65,
          "data": {
            "text/plain": "Row_num                0\nAuthors                0\nConference        838853\nCitation_count         0\nDate                   0\nECC                    0\nDomain              1558\nId                     0\nJournal            97186\nReferences         84460\nTitle                  0\nVenue                  0\nWords                  7\nYear                   0\nkesEntityId            0\nPopularity             0\ndtype: int64"
          },
          "metadata": {}
        }
      ]
    },
    {
      "metadata": {
        "trusted": true,
        "_uuid": "34a84ca3f2c1eb8fd54f3fa34ab1607b80f484e9"
      },
      "cell_type": "code",
      "source": "df.head()",
      "execution_count": 66,
      "outputs": [
        {
          "output_type": "execute_result",
          "execution_count": 66,
          "data": {
            "text/plain": "   Row_num    ...     Popularity\n0        0    ...        -13.274\n1        1    ...        -13.460\n2        2    ...        -13.508\n5        5    ...        -13.963\n6        6    ...        -14.161\n\n[5 rows x 16 columns]",
            "text/html": "<div>\n<style scoped>\n    .dataframe tbody tr th:only-of-type {\n        vertical-align: middle;\n    }\n\n    .dataframe tbody tr th {\n        vertical-align: top;\n    }\n\n    .dataframe thead th {\n        text-align: right;\n    }\n</style>\n<table border=\"1\" class=\"dataframe\">\n  <thead>\n    <tr style=\"text-align: right;\">\n      <th></th>\n      <th>Row_num</th>\n      <th>Authors</th>\n      <th>Conference</th>\n      <th>Citation_count</th>\n      <th>Date</th>\n      <th>ECC</th>\n      <th>Domain</th>\n      <th>Id</th>\n      <th>Journal</th>\n      <th>References</th>\n      <th>Title</th>\n      <th>Venue</th>\n      <th>Words</th>\n      <th>Year</th>\n      <th>kesEntityId</th>\n      <th>Popularity</th>\n    </tr>\n  </thead>\n  <tbody>\n    <tr>\n      <th>0</th>\n      <td>0</td>\n      <td>[{'S': 1, 'AuId': 2895256545, 'AfN': 'national...</td>\n      <td>NaN</td>\n      <td>38293</td>\n      <td>2011-04-01</td>\n      <td>38293</td>\n      <td>[{'FId': 2777018310, 'FN': 'caltech 101'}, {'F...</td>\n      <td>2153635508</td>\n      <td>{'JN': 'acm t intel syst tec', 'JId': 2492086750}</td>\n      <td>[2148603752, 2119821739, 2109943925, 217200036...</td>\n      <td>libsvm a library for support vector machines</td>\n      <td>ACM Transactions on Intelligent Systems and Te...</td>\n      <td>['library', 'libsvm', 'machines', 'support', '...</td>\n      <td>2011</td>\n      <td>95072</td>\n      <td>-13.274</td>\n    </tr>\n    <tr>\n      <th>1</th>\n      <td>1</td>\n      <td>[{'AuId': 581716687, 'S': 1, 'AuN': 'ahmedin j...</td>\n      <td>NaN</td>\n      <td>46871</td>\n      <td>2011-01-01</td>\n      <td>46871</td>\n      <td>[{'FId': 2779372377, 'FN': 'lung cancer suscep...</td>\n      <td>2613543509</td>\n      <td>NaN</td>\n      <td>[1981989535, 2095761465, 2132528779, 208930075...</td>\n      <td>global cancer statistics</td>\n      <td>Ca</td>\n      <td>['cancer', 'global', 'statistics']</td>\n      <td>2011</td>\n      <td>109169</td>\n      <td>-13.460</td>\n    </tr>\n    <tr>\n      <th>2</th>\n      <td>2</td>\n      <td>[{'S': 1, 'AuId': 2164450181, 'AfN': 'arizona ...</td>\n      <td>NaN</td>\n      <td>48290</td>\n      <td>2011-10-01</td>\n      <td>48290</td>\n      <td>[{'FId': 2778351938, 'FN': 'enterovirus c'}, {...</td>\n      <td>2132632499</td>\n      <td>{'JN': 'mol biol evol', 'JId': 57552105}</td>\n      <td>[2168696662, 2097706568, 2103546861, 153290820...</td>\n      <td>mega5 molecular evolutionary genetics analysis...</td>\n      <td>Molecular Biology and Evolution</td>\n      <td>['distance', 'evolutionary', 'genetics', 'like...</td>\n      <td>2011</td>\n      <td>113191</td>\n      <td>-13.508</td>\n    </tr>\n    <tr>\n      <th>5</th>\n      <td>5</td>\n      <td>[{'AuId': 2047820406, 'S': 1, 'AuN': 'peter m ...</td>\n      <td>NaN</td>\n      <td>10603</td>\n      <td>2011-01-01</td>\n      <td>10603</td>\n      <td>[{'FId': 128954960, 'FN': 'converged infrastru...</td>\n      <td>2275530856</td>\n      <td>NaN</td>\n      <td>NaN</td>\n      <td>the nist definition of cloud computing</td>\n      <td>Special Publication (NIST SP) - 800-145</td>\n      <td>['cloud', 'computing', 'definition', 'nist']</td>\n      <td>2011</td>\n      <td>163742</td>\n      <td>-13.963</td>\n    </tr>\n    <tr>\n      <th>6</th>\n      <td>6</td>\n      <td>[{'S': 1, 'AuId': 2120435251, 'AfN': 'isrec', ...</td>\n      <td>NaN</td>\n      <td>32471</td>\n      <td>2011-03-01</td>\n      <td>32471</td>\n      <td>[{'FId': 2776199265, 'FN': 'the hallmarks of c...</td>\n      <td>2117692326</td>\n      <td>{'JN': 'cell', 'JId': 110447773}</td>\n      <td>[2034269086, 2097259163, 2023427658, 196408120...</td>\n      <td>hallmarks of cancer the next generation</td>\n      <td>Cell</td>\n      <td>['cancer', 'generation', 'hallmarks', 'next']</td>\n      <td>2011</td>\n      <td>193981</td>\n      <td>-14.161</td>\n    </tr>\n  </tbody>\n</table>\n</div>"
          },
          "metadata": {}
        }
      ]
    },
    {
      "metadata": {
        "trusted": true,
        "_uuid": "a807e973480445fbc0fe48344414328edf881785"
      },
      "cell_type": "code",
      "source": "df_pub = pd.read_csv(\"../input/scopus-data/ProcessedScopusData.csv\")",
      "execution_count": 67,
      "outputs": []
    },
    {
      "metadata": {
        "trusted": true,
        "_uuid": "f822c6e84ac295960d884a0fea75da410358418f"
      },
      "cell_type": "code",
      "source": "df_pub.head()",
      "execution_count": 68,
      "outputs": [
        {
          "output_type": "execute_result",
          "execution_count": 68,
          "data": {
            "text/plain": "   Unnamed: 0          ...                     Subject Area\n0           0          ...                         Medicine\n1           1          ...                         Medicine\n2           2          ...                         Medicine\n3           3          ...                  Social Sciences\n4           4          ...            Environmental Science\n\n[5 rows x 23 columns]",
            "text/html": "<div>\n<style scoped>\n    .dataframe tbody tr th:only-of-type {\n        vertical-align: middle;\n    }\n\n    .dataframe tbody tr th {\n        vertical-align: top;\n    }\n\n    .dataframe thead th {\n        text-align: right;\n    }\n</style>\n<table border=\"1\" class=\"dataframe\">\n  <thead>\n    <tr style=\"text-align: right;\">\n      <th></th>\n      <th>Unnamed: 0</th>\n      <th>Scopus SourceID</th>\n      <th>Title</th>\n      <th>CiteScore</th>\n      <th>Percentile</th>\n      <th>Citation Count</th>\n      <th>Scholarly Output</th>\n      <th>Percent Cited</th>\n      <th>SNIP</th>\n      <th>SJR</th>\n      <th>RANK</th>\n      <th>Rank Out Of</th>\n      <th>Publisher</th>\n      <th>Type</th>\n      <th>OpenAccess</th>\n      <th>Scopus ASJC Code (Sub-subject Area)</th>\n      <th>Scopus Sub-Subject Area</th>\n      <th>Quartile</th>\n      <th>Top 10% (CiteScore Percentile)</th>\n      <th>Scopus SourceID.1</th>\n      <th>Print-ISSN</th>\n      <th>E-ISSN</th>\n      <th>Subject Area</th>\n    </tr>\n  </thead>\n  <tbody>\n    <tr>\n      <th>0</th>\n      <td>0</td>\n      <td>28773.0</td>\n      <td>Ca-A Cancer Journal for Clinicians</td>\n      <td>130.47</td>\n      <td>99.0</td>\n      <td>16961.0</td>\n      <td>130.0</td>\n      <td>70.0</td>\n      <td>88.164</td>\n      <td>61.786</td>\n      <td>1.0</td>\n      <td>120.0</td>\n      <td>Wiley-Blackwell</td>\n      <td>Journal</td>\n      <td>NO</td>\n      <td>2720.0</td>\n      <td>Hematology</td>\n      <td>Quartile 1</td>\n      <td>Top 10%</td>\n      <td>https://www.scopus.com/sourceid/28773</td>\n      <td>00079235</td>\n      <td>15424863</td>\n      <td>Medicine</td>\n    </tr>\n    <tr>\n      <th>1</th>\n      <td>1</td>\n      <td>28773.0</td>\n      <td>Ca-A Cancer Journal for Clinicians</td>\n      <td>130.47</td>\n      <td>99.0</td>\n      <td>16961.0</td>\n      <td>130.0</td>\n      <td>70.0</td>\n      <td>88.164</td>\n      <td>61.786</td>\n      <td>1.0</td>\n      <td>323.0</td>\n      <td>Wiley-Blackwell</td>\n      <td>Journal</td>\n      <td>NO</td>\n      <td>2730.0</td>\n      <td>Oncology</td>\n      <td>Quartile 1</td>\n      <td>Top 10%</td>\n      <td>https://www.scopus.com/sourceid/28773</td>\n      <td>00079235</td>\n      <td>15424863</td>\n      <td>Medicine</td>\n    </tr>\n    <tr>\n      <th>2</th>\n      <td>2</td>\n      <td>19434.0</td>\n      <td>MMWR. Recommendations and reports : Morbidity ...</td>\n      <td>63.12</td>\n      <td>99.0</td>\n      <td>1010.0</td>\n      <td>16.0</td>\n      <td>100.0</td>\n      <td>32.534</td>\n      <td>34.638</td>\n      <td>1.0</td>\n      <td>87.0</td>\n      <td>Centers for Disease Control and Prevention (CDC)</td>\n      <td>Journal</td>\n      <td>YES</td>\n      <td>2713.0</td>\n      <td>Epidemiology</td>\n      <td>Quartile 1</td>\n      <td>Top 10%</td>\n      <td>https://www.scopus.com/sourceid/19434</td>\n      <td>10575987</td>\n      <td>15458601</td>\n      <td>Medicine</td>\n    </tr>\n    <tr>\n      <th>3</th>\n      <td>3</td>\n      <td>19434.0</td>\n      <td>MMWR. Recommendations and reports : Morbidity ...</td>\n      <td>63.12</td>\n      <td>99.0</td>\n      <td>1010.0</td>\n      <td>16.0</td>\n      <td>100.0</td>\n      <td>32.534</td>\n      <td>34.638</td>\n      <td>1.0</td>\n      <td>241.0</td>\n      <td>Centers for Disease Control and Prevention (CDC)</td>\n      <td>Journal</td>\n      <td>YES</td>\n      <td>3306.0</td>\n      <td>Health(social science)</td>\n      <td>Quartile 1</td>\n      <td>Top 10%</td>\n      <td>https://www.scopus.com/sourceid/19434</td>\n      <td>10575987</td>\n      <td>15458601</td>\n      <td>Social Sciences</td>\n    </tr>\n    <tr>\n      <th>4</th>\n      <td>4</td>\n      <td>19434.0</td>\n      <td>MMWR. Recommendations and reports : Morbidity ...</td>\n      <td>63.12</td>\n      <td>99.0</td>\n      <td>1010.0</td>\n      <td>16.0</td>\n      <td>100.0</td>\n      <td>32.534</td>\n      <td>34.638</td>\n      <td>1.0</td>\n      <td>106.0</td>\n      <td>Centers for Disease Control and Prevention (CDC)</td>\n      <td>Journal</td>\n      <td>YES</td>\n      <td>2307.0</td>\n      <td>Health, Toxicology and Mutagenesis</td>\n      <td>Quartile 1</td>\n      <td>Top 10%</td>\n      <td>https://www.scopus.com/sourceid/19434</td>\n      <td>10575987</td>\n      <td>15458601</td>\n      <td>Environmental Science</td>\n    </tr>\n  </tbody>\n</table>\n</div>"
          },
          "metadata": {}
        }
      ]
    },
    {
      "metadata": {
        "trusted": true,
        "_uuid": "944919ae0a491be8ffea5759c2c35aace13350ad"
      },
      "cell_type": "code",
      "source": "def append_pub_score(df):\n    print(\"Unique Publications from Scopus:\",len(df_pub.Title.unique()))\n    # Analysing Common Publications\n    vfn_list = df.Venue.unique().tolist()\n    scopus_list = df_pub.Title.unique().tolist()\n    count = 0\n    for pub in scopus_list:\n        if pub in vfn_list:\n            count +=1\n    print(\"Publications present in Dataset:\",count)\n    print(\"Shape Before\",df.shape)\n    df = df[df.Venue.isin(scopus_list)]\n    print(\"Shape After\",df.shape)\n    #score appending\n    score_dict = pd.Series(df_pub.SJR.values,index=df_pub.Title).to_dict()\n    df[\"Publication_Rank\"] = df.apply(lambda row: score_dict[row[\"Venue\"]],axis = 1)\n    return df\n\ndef extract_field(row):\n    val = row[\"Domain\"]\n    index = val.rfind(\"FN\")\n    val = val[index+3:len(val)]\n    val = val.strip(\":}] '\")\n    return val\n\ndef get_num_authors(row):\n    vals = row[\"Authors\"].split(\"},\")\n    return len(vals)",
      "execution_count": 70,
      "outputs": []
    },
    {
      "metadata": {
        "trusted": true,
        "scrolled": true,
        "_uuid": "ec90b7f715080ab1f6b9d635767326941f7df3d6"
      },
      "cell_type": "code",
      "source": "df = append_pub_score(df)",
      "execution_count": 71,
      "outputs": [
        {
          "output_type": "stream",
          "text": "Unique Publications from Scopus: 1231\nPublications present in Dataset: 896\nShape Before (900039, 16)\nShape After (123825, 16)\n",
          "name": "stdout"
        },
        {
          "output_type": "stream",
          "text": "/opt/conda/lib/python3.6/site-packages/ipykernel_launcher.py:16: SettingWithCopyWarning: \nA value is trying to be set on a copy of a slice from a DataFrame.\nTry using .loc[row_indexer,col_indexer] = value instead\n\nSee the caveats in the documentation: http://pandas.pydata.org/pandas-docs/stable/indexing.html#indexing-view-versus-copy\n  app.launch_new_instance()\n",
          "name": "stderr"
        }
      ]
    },
    {
      "metadata": {
        "trusted": true,
        "_uuid": "a52cb7d084d04f8651bd774301359dfa41c50037"
      },
      "cell_type": "code",
      "source": "label_dict = {\"C\":0,\"J\":1,\"CJ\":2,\"O\":3}\ndef find_conference_type(row):\n    if pd.isnull(row[\"Conference\"]) and pd.isnull(row[\"Journal\"]):\n        return label_dict[\"O\"]\n    elif pd.isnull(row[\"Conference\"]):\n        return label_dict[\"J\"]\n    elif pd.isnull(row[\"Journal\"]):\n        return label_dict[\"C\"]\n    else:\n        return label_dict[\"CJ\"]",
      "execution_count": 79,
      "outputs": []
    },
    {
      "metadata": {
        "trusted": true,
        "_uuid": "f479dedde69239bebe7cc73950369209104dec46"
      },
      "cell_type": "code",
      "source": "df[\"Publication Type\"] = df.apply(lambda row:find_conference_type(row),axis=1)",
      "execution_count": 80,
      "outputs": []
    },
    {
      "metadata": {
        "trusted": true,
        "_uuid": "94d45ee8c6c6632c261d09dae922e23aa306f851"
      },
      "cell_type": "code",
      "source": "df[\"Number_Of_authors\"] = df.apply(lambda row:get_num_authors(row), axis = 1)",
      "execution_count": 81,
      "outputs": []
    },
    {
      "metadata": {
        "trusted": true,
        "_uuid": "5fe0c8a54050891d4f7d858b3f8bc3249e93998d"
      },
      "cell_type": "code",
      "source": "# df[\"Subject Field\"] = df.apply(lambda row:extract_field(row),axis=1)",
      "execution_count": null,
      "outputs": []
    },
    {
      "metadata": {
        "trusted": true,
        "_uuid": "86263f78a60db8d6eef5dfba67d1b27113b5a7ba"
      },
      "cell_type": "code",
      "source": "df.head()",
      "execution_count": 82,
      "outputs": [
        {
          "output_type": "execute_result",
          "execution_count": 82,
          "data": {
            "text/plain": "    Row_num        ...        Number_Of_authors\n0         0        ...                        2\n2         2        ...                        7\n6         6        ...                        3\n7         7        ...                       16\n28       28        ...                        2\n\n[5 rows x 19 columns]",
            "text/html": "<div>\n<style scoped>\n    .dataframe tbody tr th:only-of-type {\n        vertical-align: middle;\n    }\n\n    .dataframe tbody tr th {\n        vertical-align: top;\n    }\n\n    .dataframe thead th {\n        text-align: right;\n    }\n</style>\n<table border=\"1\" class=\"dataframe\">\n  <thead>\n    <tr style=\"text-align: right;\">\n      <th></th>\n      <th>Row_num</th>\n      <th>Authors</th>\n      <th>Conference</th>\n      <th>Citation_count</th>\n      <th>Date</th>\n      <th>ECC</th>\n      <th>Domain</th>\n      <th>Id</th>\n      <th>Journal</th>\n      <th>References</th>\n      <th>Title</th>\n      <th>Venue</th>\n      <th>Words</th>\n      <th>Year</th>\n      <th>kesEntityId</th>\n      <th>Popularity</th>\n      <th>Publication_Rank</th>\n      <th>Publication Type</th>\n      <th>Number_Of_authors</th>\n    </tr>\n  </thead>\n  <tbody>\n    <tr>\n      <th>0</th>\n      <td>0</td>\n      <td>[{'S': 1, 'AuId': 2895256545, 'AfN': 'national...</td>\n      <td>NaN</td>\n      <td>38293</td>\n      <td>2011-04-01</td>\n      <td>38293</td>\n      <td>[{'FId': 2777018310, 'FN': 'caltech 101'}, {'F...</td>\n      <td>2153635508</td>\n      <td>{'JN': 'acm t intel syst tec', 'JId': 2492086750}</td>\n      <td>[2148603752, 2119821739, 2109943925, 217200036...</td>\n      <td>libsvm a library for support vector machines</td>\n      <td>ACM Transactions on Intelligent Systems and Te...</td>\n      <td>['library', 'libsvm', 'machines', 'support', '...</td>\n      <td>2011</td>\n      <td>95072</td>\n      <td>-13.274</td>\n      <td>0.874</td>\n      <td>1</td>\n      <td>2</td>\n    </tr>\n    <tr>\n      <th>2</th>\n      <td>2</td>\n      <td>[{'S': 1, 'AuId': 2164450181, 'AfN': 'arizona ...</td>\n      <td>NaN</td>\n      <td>48290</td>\n      <td>2011-10-01</td>\n      <td>48290</td>\n      <td>[{'FId': 2778351938, 'FN': 'enterovirus c'}, {...</td>\n      <td>2132632499</td>\n      <td>{'JN': 'mol biol evol', 'JId': 57552105}</td>\n      <td>[2168696662, 2097706568, 2103546861, 153290820...</td>\n      <td>mega5 molecular evolutionary genetics analysis...</td>\n      <td>Molecular Biology and Evolution</td>\n      <td>['distance', 'evolutionary', 'genetics', 'like...</td>\n      <td>2011</td>\n      <td>113191</td>\n      <td>-13.508</td>\n      <td>5.475</td>\n      <td>1</td>\n      <td>7</td>\n    </tr>\n    <tr>\n      <th>6</th>\n      <td>6</td>\n      <td>[{'S': 1, 'AuId': 2120435251, 'AfN': 'isrec', ...</td>\n      <td>NaN</td>\n      <td>32471</td>\n      <td>2011-03-01</td>\n      <td>32471</td>\n      <td>[{'FId': 2776199265, 'FN': 'the hallmarks of c...</td>\n      <td>2117692326</td>\n      <td>{'JN': 'cell', 'JId': 110447773}</td>\n      <td>[2034269086, 2097259163, 2023427658, 196408120...</td>\n      <td>hallmarks of cancer the next generation</td>\n      <td>Cell</td>\n      <td>['cancer', 'generation', 'hallmarks', 'next']</td>\n      <td>2011</td>\n      <td>193981</td>\n      <td>-14.161</td>\n      <td>25.137</td>\n      <td>1</td>\n      <td>3</td>\n    </tr>\n    <tr>\n      <th>7</th>\n      <td>7</td>\n      <td>[{'S': 1, 'AuId': 317192602, 'AfN': 'french in...</td>\n      <td>NaN</td>\n      <td>12801</td>\n      <td>2011-02-01</td>\n      <td>12801</td>\n      <td>[{'FId': 24138899, 'FN': 'instance based learn...</td>\n      <td>2101234009</td>\n      <td>{'JN': 'jmlr', 'JId': 118988714}</td>\n      <td>[2153635508, 2118585731, 2063978378, 209736028...</td>\n      <td>scikit learn machine learning in python</td>\n      <td>Journal of Machine Learning Research</td>\n      <td>['learn', 'learning', 'machine', 'python', 'sc...</td>\n      <td>2011</td>\n      <td>264962</td>\n      <td>-14.513</td>\n      <td>1.271</td>\n      <td>1</td>\n      <td>16</td>\n    </tr>\n    <tr>\n      <th>28</th>\n      <td>28</td>\n      <td>[{'S': 1, 'AuId': 281745206, 'AfN': 'universit...</td>\n      <td>NaN</td>\n      <td>7383</td>\n      <td>2011-03-01</td>\n      <td>7383</td>\n      <td>[{'FId': 2776282453, 'FN': 'milan criteria'}, ...</td>\n      <td>2163403599</td>\n      <td>{'JN': 'hepatology', 'JId': 156174673}</td>\n      <td>[1971837077, 1994193851, 2057378223, 213032537...</td>\n      <td>management of hepatocellular carcinoma an update</td>\n      <td>Hepatology</td>\n      <td>['carcinoma', 'hepatocellular', 'management', ...</td>\n      <td>2011</td>\n      <td>489309</td>\n      <td>-15.158</td>\n      <td>5.541</td>\n      <td>1</td>\n      <td>2</td>\n    </tr>\n  </tbody>\n</table>\n</div>"
          },
          "metadata": {}
        }
      ]
    },
    {
      "metadata": {
        "trusted": true,
        "_uuid": "4d1d34da8713f0f8ec8ccb499ec7bb451dc4aaed"
      },
      "cell_type": "code",
      "source": "df.shape",
      "execution_count": 84,
      "outputs": [
        {
          "output_type": "execute_result",
          "execution_count": 84,
          "data": {
            "text/plain": "(123825, 19)"
          },
          "metadata": {}
        }
      ]
    },
    {
      "metadata": {
        "trusted": true,
        "_uuid": "5700f1784f88d318c6f263df3e8f4253d37e4368"
      },
      "cell_type": "code",
      "source": "def tidy_split(df, column, sep='|', keep=False):\n    indexes = list()\n    id_values = list()\n    name_values = list()\n    df = df.dropna(subset=[column])\n    for i, presplit in enumerate(df[column].astype(str)):\n        values = presplit.split(sep)\n        if keep and len(values) > 1:\n            indexes.append(i)\n            id_values.append(presplit)\n        for value in values:\n            indexes.append(i)\n            val = value\n            index1 = val.find(\"AuId\")\n            index2 = val.find(\"AfN\")\n            index3 = val.find(\"'S'\")\n            if index3 < index1:\n                val = val[index1+4:index2]\n                val = val.strip(\"', :\")\n            else:\n                val = val[index1+4:index3]\n                val = val.strip(\"', :\")                \n            id_values.append(val)\n            index1 = value.find(\"AuN\")\n            val = value[index1+3:]\n            val = val.strip(\"': }]\")\n            name_values.append(val)\n    new_df = df.iloc[indexes, :].copy()\n    new_df[column+\"_Id\"] = id_values\n    new_new_df = new_df.iloc[:, :].copy()\n    new_new_df[column+\"_Name\"] = name_values\n    return new_new_df",
      "execution_count": 87,
      "outputs": []
    },
    {
      "metadata": {
        "trusted": true,
        "_uuid": "707b6aeb7b91f51898f5a0cdf4e08d47cf661856"
      },
      "cell_type": "code",
      "source": "df_big = tidy_split(df,\"Authors\",\"},\")",
      "execution_count": 88,
      "outputs": []
    },
    {
      "metadata": {
        "trusted": true,
        "_uuid": "9138123c9d24763693bc66554bf4be62c2271e08"
      },
      "cell_type": "code",
      "source": "df_big.head(10)",
      "execution_count": 89,
      "outputs": [
        {
          "output_type": "execute_result",
          "execution_count": 89,
          "data": {
            "text/plain": "   Row_num        ...               Authors_Name\n0        0        ...            chihchung chang\n0        0        ...                chihjen lin\n2        2        ...            koichiro tamura\n2        2        ...            koichiro tamura\n2        2        ...            daniel peterson\n2        2        ...          nicholas peterson\n2        2        ...               glen stecher\n2        2        ...              masatoshi nei\n2        2        ...               sudhir kumar\n6        6        ...            douglas hanahan\n\n[10 rows x 21 columns]",
            "text/html": "<div>\n<style scoped>\n    .dataframe tbody tr th:only-of-type {\n        vertical-align: middle;\n    }\n\n    .dataframe tbody tr th {\n        vertical-align: top;\n    }\n\n    .dataframe thead th {\n        text-align: right;\n    }\n</style>\n<table border=\"1\" class=\"dataframe\">\n  <thead>\n    <tr style=\"text-align: right;\">\n      <th></th>\n      <th>Row_num</th>\n      <th>Authors</th>\n      <th>Conference</th>\n      <th>Citation_count</th>\n      <th>Date</th>\n      <th>ECC</th>\n      <th>Domain</th>\n      <th>Id</th>\n      <th>Journal</th>\n      <th>References</th>\n      <th>Title</th>\n      <th>Venue</th>\n      <th>Words</th>\n      <th>Year</th>\n      <th>kesEntityId</th>\n      <th>Popularity</th>\n      <th>Publication_Rank</th>\n      <th>Publication Type</th>\n      <th>Number_Of_authors</th>\n      <th>Authors_Id</th>\n      <th>Authors_Name</th>\n    </tr>\n  </thead>\n  <tbody>\n    <tr>\n      <th>0</th>\n      <td>0</td>\n      <td>[{'S': 1, 'AuId': 2895256545, 'AfN': 'national...</td>\n      <td>NaN</td>\n      <td>38293</td>\n      <td>2011-04-01</td>\n      <td>38293</td>\n      <td>[{'FId': 2777018310, 'FN': 'caltech 101'}, {'F...</td>\n      <td>2153635508</td>\n      <td>{'JN': 'acm t intel syst tec', 'JId': 2492086750}</td>\n      <td>[2148603752, 2119821739, 2109943925, 217200036...</td>\n      <td>libsvm a library for support vector machines</td>\n      <td>ACM Transactions on Intelligent Systems and Te...</td>\n      <td>['library', 'libsvm', 'machines', 'support', '...</td>\n      <td>2011</td>\n      <td>95072</td>\n      <td>-13.274</td>\n      <td>0.874</td>\n      <td>1</td>\n      <td>2</td>\n      <td>2895256545</td>\n      <td>chihchung chang</td>\n    </tr>\n    <tr>\n      <th>0</th>\n      <td>0</td>\n      <td>[{'S': 1, 'AuId': 2895256545, 'AfN': 'national...</td>\n      <td>NaN</td>\n      <td>38293</td>\n      <td>2011-04-01</td>\n      <td>38293</td>\n      <td>[{'FId': 2777018310, 'FN': 'caltech 101'}, {'F...</td>\n      <td>2153635508</td>\n      <td>{'JN': 'acm t intel syst tec', 'JId': 2492086750}</td>\n      <td>[2148603752, 2119821739, 2109943925, 217200036...</td>\n      <td>libsvm a library for support vector machines</td>\n      <td>ACM Transactions on Intelligent Systems and Te...</td>\n      <td>['library', 'libsvm', 'machines', 'support', '...</td>\n      <td>2011</td>\n      <td>95072</td>\n      <td>-13.274</td>\n      <td>0.874</td>\n      <td>1</td>\n      <td>2</td>\n      <td>2786671625</td>\n      <td>chihjen lin</td>\n    </tr>\n    <tr>\n      <th>2</th>\n      <td>2</td>\n      <td>[{'S': 1, 'AuId': 2164450181, 'AfN': 'arizona ...</td>\n      <td>NaN</td>\n      <td>48290</td>\n      <td>2011-10-01</td>\n      <td>48290</td>\n      <td>[{'FId': 2778351938, 'FN': 'enterovirus c'}, {...</td>\n      <td>2132632499</td>\n      <td>{'JN': 'mol biol evol', 'JId': 57552105}</td>\n      <td>[2168696662, 2097706568, 2103546861, 153290820...</td>\n      <td>mega5 molecular evolutionary genetics analysis...</td>\n      <td>Molecular Biology and Evolution</td>\n      <td>['distance', 'evolutionary', 'genetics', 'like...</td>\n      <td>2011</td>\n      <td>113191</td>\n      <td>-13.508</td>\n      <td>5.475</td>\n      <td>1</td>\n      <td>7</td>\n      <td>2164450181</td>\n      <td>koichiro tamura</td>\n    </tr>\n    <tr>\n      <th>2</th>\n      <td>2</td>\n      <td>[{'S': 1, 'AuId': 2164450181, 'AfN': 'arizona ...</td>\n      <td>NaN</td>\n      <td>48290</td>\n      <td>2011-10-01</td>\n      <td>48290</td>\n      <td>[{'FId': 2778351938, 'FN': 'enterovirus c'}, {...</td>\n      <td>2132632499</td>\n      <td>{'JN': 'mol biol evol', 'JId': 57552105}</td>\n      <td>[2168696662, 2097706568, 2103546861, 153290820...</td>\n      <td>mega5 molecular evolutionary genetics analysis...</td>\n      <td>Molecular Biology and Evolution</td>\n      <td>['distance', 'evolutionary', 'genetics', 'like...</td>\n      <td>2011</td>\n      <td>113191</td>\n      <td>-13.508</td>\n      <td>5.475</td>\n      <td>1</td>\n      <td>7</td>\n      <td>2164450181</td>\n      <td>koichiro tamura</td>\n    </tr>\n    <tr>\n      <th>2</th>\n      <td>2</td>\n      <td>[{'S': 1, 'AuId': 2164450181, 'AfN': 'arizona ...</td>\n      <td>NaN</td>\n      <td>48290</td>\n      <td>2011-10-01</td>\n      <td>48290</td>\n      <td>[{'FId': 2778351938, 'FN': 'enterovirus c'}, {...</td>\n      <td>2132632499</td>\n      <td>{'JN': 'mol biol evol', 'JId': 57552105}</td>\n      <td>[2168696662, 2097706568, 2103546861, 153290820...</td>\n      <td>mega5 molecular evolutionary genetics analysis...</td>\n      <td>Molecular Biology and Evolution</td>\n      <td>['distance', 'evolutionary', 'genetics', 'like...</td>\n      <td>2011</td>\n      <td>113191</td>\n      <td>-13.508</td>\n      <td>5.475</td>\n      <td>1</td>\n      <td>7</td>\n      <td>2609879285</td>\n      <td>daniel peterson</td>\n    </tr>\n    <tr>\n      <th>2</th>\n      <td>2</td>\n      <td>[{'S': 1, 'AuId': 2164450181, 'AfN': 'arizona ...</td>\n      <td>NaN</td>\n      <td>48290</td>\n      <td>2011-10-01</td>\n      <td>48290</td>\n      <td>[{'FId': 2778351938, 'FN': 'enterovirus c'}, {...</td>\n      <td>2132632499</td>\n      <td>{'JN': 'mol biol evol', 'JId': 57552105}</td>\n      <td>[2168696662, 2097706568, 2103546861, 153290820...</td>\n      <td>mega5 molecular evolutionary genetics analysis...</td>\n      <td>Molecular Biology and Evolution</td>\n      <td>['distance', 'evolutionary', 'genetics', 'like...</td>\n      <td>2011</td>\n      <td>113191</td>\n      <td>-13.508</td>\n      <td>5.475</td>\n      <td>1</td>\n      <td>7</td>\n      <td>2705958286</td>\n      <td>nicholas peterson</td>\n    </tr>\n    <tr>\n      <th>2</th>\n      <td>2</td>\n      <td>[{'S': 1, 'AuId': 2164450181, 'AfN': 'arizona ...</td>\n      <td>NaN</td>\n      <td>48290</td>\n      <td>2011-10-01</td>\n      <td>48290</td>\n      <td>[{'FId': 2778351938, 'FN': 'enterovirus c'}, {...</td>\n      <td>2132632499</td>\n      <td>{'JN': 'mol biol evol', 'JId': 57552105}</td>\n      <td>[2168696662, 2097706568, 2103546861, 153290820...</td>\n      <td>mega5 molecular evolutionary genetics analysis...</td>\n      <td>Molecular Biology and Evolution</td>\n      <td>['distance', 'evolutionary', 'genetics', 'like...</td>\n      <td>2011</td>\n      <td>113191</td>\n      <td>-13.508</td>\n      <td>5.475</td>\n      <td>1</td>\n      <td>7</td>\n      <td>2307130762</td>\n      <td>glen stecher</td>\n    </tr>\n    <tr>\n      <th>2</th>\n      <td>2</td>\n      <td>[{'S': 1, 'AuId': 2164450181, 'AfN': 'arizona ...</td>\n      <td>NaN</td>\n      <td>48290</td>\n      <td>2011-10-01</td>\n      <td>48290</td>\n      <td>[{'FId': 2778351938, 'FN': 'enterovirus c'}, {...</td>\n      <td>2132632499</td>\n      <td>{'JN': 'mol biol evol', 'JId': 57552105}</td>\n      <td>[2168696662, 2097706568, 2103546861, 153290820...</td>\n      <td>mega5 molecular evolutionary genetics analysis...</td>\n      <td>Molecular Biology and Evolution</td>\n      <td>['distance', 'evolutionary', 'genetics', 'like...</td>\n      <td>2011</td>\n      <td>113191</td>\n      <td>-13.508</td>\n      <td>5.475</td>\n      <td>1</td>\n      <td>7</td>\n      <td>2302581886</td>\n      <td>masatoshi nei</td>\n    </tr>\n    <tr>\n      <th>2</th>\n      <td>2</td>\n      <td>[{'S': 1, 'AuId': 2164450181, 'AfN': 'arizona ...</td>\n      <td>NaN</td>\n      <td>48290</td>\n      <td>2011-10-01</td>\n      <td>48290</td>\n      <td>[{'FId': 2778351938, 'FN': 'enterovirus c'}, {...</td>\n      <td>2132632499</td>\n      <td>{'JN': 'mol biol evol', 'JId': 57552105}</td>\n      <td>[2168696662, 2097706568, 2103546861, 153290820...</td>\n      <td>mega5 molecular evolutionary genetics analysis...</td>\n      <td>Molecular Biology and Evolution</td>\n      <td>['distance', 'evolutionary', 'genetics', 'like...</td>\n      <td>2011</td>\n      <td>113191</td>\n      <td>-13.508</td>\n      <td>5.475</td>\n      <td>1</td>\n      <td>7</td>\n      <td>2149898553</td>\n      <td>sudhir kumar</td>\n    </tr>\n    <tr>\n      <th>6</th>\n      <td>6</td>\n      <td>[{'S': 1, 'AuId': 2120435251, 'AfN': 'isrec', ...</td>\n      <td>NaN</td>\n      <td>32471</td>\n      <td>2011-03-01</td>\n      <td>32471</td>\n      <td>[{'FId': 2776199265, 'FN': 'the hallmarks of c...</td>\n      <td>2117692326</td>\n      <td>{'JN': 'cell', 'JId': 110447773}</td>\n      <td>[2034269086, 2097259163, 2023427658, 196408120...</td>\n      <td>hallmarks of cancer the next generation</td>\n      <td>Cell</td>\n      <td>['cancer', 'generation', 'hallmarks', 'next']</td>\n      <td>2011</td>\n      <td>193981</td>\n      <td>-14.161</td>\n      <td>25.137</td>\n      <td>1</td>\n      <td>3</td>\n      <td>2120435251</td>\n      <td>douglas hanahan</td>\n    </tr>\n  </tbody>\n</table>\n</div>"
          },
          "metadata": {}
        }
      ]
    },
    {
      "metadata": {
        "trusted": true,
        "_uuid": "1959527f99235b195cf4de3d714a83836245672c"
      },
      "cell_type": "code",
      "source": "df_big.shape",
      "execution_count": 56,
      "outputs": [
        {
          "output_type": "execute_result",
          "execution_count": 56,
          "data": {
            "text/plain": "(4714564, 19)"
          },
          "metadata": {}
        }
      ]
    },
    {
      "metadata": {
        "trusted": true,
        "_uuid": "96485508226f8fabf313aed55487be314b30f82e"
      },
      "cell_type": "code",
      "source": "",
      "execution_count": null,
      "outputs": []
    }
  ],
  "metadata": {
    "kernelspec": {
      "display_name": "Python 3",
      "language": "python",
      "name": "python3"
    },
    "language_info": {
      "name": "python",
      "version": "3.6.6",
      "mimetype": "text/x-python",
      "codemirror_mode": {
        "name": "ipython",
        "version": 3
      },
      "pygments_lexer": "ipython3",
      "nbconvert_exporter": "python",
      "file_extension": ".py"
    }
  },
  "nbformat": 4,
  "nbformat_minor": 1
}