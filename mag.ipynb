{
 "cells": [
  {
   "cell_type": "code",
   "execution_count": 2,
   "metadata": {
    "_uuid": "46fd49295b665721d524e5d197d6a95c861a04ba"
   },
   "outputs": [
    {
     "data": {
      "text/html": [
       "<script>requirejs.config({paths: { 'plotly': ['https://cdn.plot.ly/plotly-latest.min']},});if(!window.Plotly) {{require(['plotly'],function(plotly) {window.Plotly=plotly;});}}</script>"
      ],
      "text/vnd.plotly.v1+html": [
       "<script>requirejs.config({paths: { 'plotly': ['https://cdn.plot.ly/plotly-latest.min']},});if(!window.Plotly) {{require(['plotly'],function(plotly) {window.Plotly=plotly;});}}</script>"
      ]
     },
     "metadata": {},
     "output_type": "display_data"
    },
    {
     "name": "stdout",
     "output_type": "stream",
     "text": [
      "/Users/divyam/Dev/Data_Science/DSF_Project/AcademicPaperRanking\n",
      "['AcademicPaperRanking', 'mag_2007.csv', 'mag_2013.csv', 'mag_2012.csv', 'mag_2010.csv', 'mag_2011.csv', '.DS_Store', 'mag_2015.csv', 'mag_2014.csv', 'mag_2016.csv', 'dblp.csv', 'mag_2017.csv', 'sys_argv.py', 'common_progress_kernel.ipynb', 'mag_2018_processed.csv', 'acm.csv', 'dblp.txt', 'aminer_papers_0.zip', 'mag_2018.csv', 'acm.txt', 'acm_data_processing.py', 'mag_2008.csv', 'mag_2009.csv']\n"
     ]
    }
   ],
   "source": [
    "import os\n",
    "import csv\n",
    "import pandas as pd\n",
    "import numpy as np\n",
    "\n",
    "import datetime\n",
    "from pandas.io.json import json_normalize\n",
    "import matplotlib.pyplot as plt\n",
    "import seaborn as sns\n",
    "color = sns.color_palette()\n",
    "\n",
    "%matplotlib inline\n",
    "\n",
    "from plotly import tools\n",
    "import plotly.offline as py\n",
    "py.init_notebook_mode(connected=True)\n",
    "import plotly.graph_objs as go\n",
    "import squarify\n",
    "\n",
    "from sklearn import model_selection, preprocessing, metrics\n",
    "plt.style.use('fivethirtyeight')\n",
    "\n",
    "print(os.getcwd())\n",
    "print(os.listdir(\"../\"))"
   ]
  },
  {
   "cell_type": "code",
   "execution_count": null,
   "metadata": {
    "_uuid": "58882658662cf6ce89fa49b5865c433145b79076",
    "scrolled": true
   },
   "outputs": [],
   "source": [
    "def clean_data(df):\n",
    "    #since first column contains row number\n",
    "#     df.drop([\"Row_num\"], axis=1)\n",
    "    #removing  and kesEntityId as simillar fields are already present\n",
    "    df = df.drop(columns=[\"Row_num\",\"kesEntityId\"],axis=1)\n",
    "    df[\"Popularity\"] = df[\"Popularity\"].apply(pd.to_numeric,downcast='float')\n",
    "    df[\"Year\"] = df[\"Year\"].apply(pd.to_numeric,downcast='unsigned')\n",
    "    df[\"Month\"] = df[\"Month\"].apply(pd.to_numeric,downcast='unsigned')\n",
    "    df = df.dropna(subset=['Venue'])\n",
    "    return df"
   ]
  },
  {
   "cell_type": "code",
   "execution_count": 3,
   "metadata": {
    "_uuid": "c313ba7bc8ad30eddf94d59dcad39362a348dcc6"
   },
   "outputs": [],
   "source": [
    "# df_pub = pd.read_csv(\"../input/scopus-data/ProcessedScopusData.csv\")\n",
    "# If this doesn't work, please change it to the path where the file is locaed in your PC\n",
    "df_pub = pd.read_csv(\"Data/ProcessedScopusData.csv\")"
   ]
  },
  {
   "cell_type": "code",
   "execution_count": 4,
   "metadata": {},
   "outputs": [
    {
     "data": {
      "text/html": [
       "<div>\n",
       "<style scoped>\n",
       "    .dataframe tbody tr th:only-of-type {\n",
       "        vertical-align: middle;\n",
       "    }\n",
       "\n",
       "    .dataframe tbody tr th {\n",
       "        vertical-align: top;\n",
       "    }\n",
       "\n",
       "    .dataframe thead th {\n",
       "        text-align: right;\n",
       "    }\n",
       "</style>\n",
       "<table border=\"1\" class=\"dataframe\">\n",
       "  <thead>\n",
       "    <tr style=\"text-align: right;\">\n",
       "      <th></th>\n",
       "      <th>Unnamed: 0</th>\n",
       "      <th>Scopus SourceID</th>\n",
       "      <th>Title</th>\n",
       "      <th>CiteScore</th>\n",
       "      <th>Percentile</th>\n",
       "      <th>Citation Count</th>\n",
       "      <th>Scholarly Output</th>\n",
       "      <th>Percent Cited</th>\n",
       "      <th>SNIP</th>\n",
       "      <th>SJR</th>\n",
       "      <th>...</th>\n",
       "      <th>Type</th>\n",
       "      <th>OpenAccess</th>\n",
       "      <th>Scopus ASJC Code (Sub-subject Area)</th>\n",
       "      <th>Scopus Sub-Subject Area</th>\n",
       "      <th>Quartile</th>\n",
       "      <th>Top 10% (CiteScore Percentile)</th>\n",
       "      <th>Scopus SourceID.1</th>\n",
       "      <th>Print-ISSN</th>\n",
       "      <th>E-ISSN</th>\n",
       "      <th>Subject Area</th>\n",
       "    </tr>\n",
       "  </thead>\n",
       "  <tbody>\n",
       "    <tr>\n",
       "      <th>0</th>\n",
       "      <td>0</td>\n",
       "      <td>28773.0</td>\n",
       "      <td>Ca-A Cancer Journal for Clinicians</td>\n",
       "      <td>130.47</td>\n",
       "      <td>99.0</td>\n",
       "      <td>16961.0</td>\n",
       "      <td>130.0</td>\n",
       "      <td>70.0</td>\n",
       "      <td>88.164</td>\n",
       "      <td>61.786</td>\n",
       "      <td>...</td>\n",
       "      <td>Journal</td>\n",
       "      <td>NO</td>\n",
       "      <td>2720.0</td>\n",
       "      <td>Hematology</td>\n",
       "      <td>Quartile 1</td>\n",
       "      <td>Top 10%</td>\n",
       "      <td>https://www.scopus.com/sourceid/28773</td>\n",
       "      <td>00079235</td>\n",
       "      <td>15424863</td>\n",
       "      <td>Medicine</td>\n",
       "    </tr>\n",
       "    <tr>\n",
       "      <th>1</th>\n",
       "      <td>1</td>\n",
       "      <td>28773.0</td>\n",
       "      <td>Ca-A Cancer Journal for Clinicians</td>\n",
       "      <td>130.47</td>\n",
       "      <td>99.0</td>\n",
       "      <td>16961.0</td>\n",
       "      <td>130.0</td>\n",
       "      <td>70.0</td>\n",
       "      <td>88.164</td>\n",
       "      <td>61.786</td>\n",
       "      <td>...</td>\n",
       "      <td>Journal</td>\n",
       "      <td>NO</td>\n",
       "      <td>2730.0</td>\n",
       "      <td>Oncology</td>\n",
       "      <td>Quartile 1</td>\n",
       "      <td>Top 10%</td>\n",
       "      <td>https://www.scopus.com/sourceid/28773</td>\n",
       "      <td>00079235</td>\n",
       "      <td>15424863</td>\n",
       "      <td>Medicine</td>\n",
       "    </tr>\n",
       "    <tr>\n",
       "      <th>2</th>\n",
       "      <td>2</td>\n",
       "      <td>19434.0</td>\n",
       "      <td>MMWR. Recommendations and reports : Morbidity ...</td>\n",
       "      <td>63.12</td>\n",
       "      <td>99.0</td>\n",
       "      <td>1010.0</td>\n",
       "      <td>16.0</td>\n",
       "      <td>100.0</td>\n",
       "      <td>32.534</td>\n",
       "      <td>34.638</td>\n",
       "      <td>...</td>\n",
       "      <td>Journal</td>\n",
       "      <td>YES</td>\n",
       "      <td>2713.0</td>\n",
       "      <td>Epidemiology</td>\n",
       "      <td>Quartile 1</td>\n",
       "      <td>Top 10%</td>\n",
       "      <td>https://www.scopus.com/sourceid/19434</td>\n",
       "      <td>10575987</td>\n",
       "      <td>15458601</td>\n",
       "      <td>Medicine</td>\n",
       "    </tr>\n",
       "    <tr>\n",
       "      <th>3</th>\n",
       "      <td>3</td>\n",
       "      <td>19434.0</td>\n",
       "      <td>MMWR. Recommendations and reports : Morbidity ...</td>\n",
       "      <td>63.12</td>\n",
       "      <td>99.0</td>\n",
       "      <td>1010.0</td>\n",
       "      <td>16.0</td>\n",
       "      <td>100.0</td>\n",
       "      <td>32.534</td>\n",
       "      <td>34.638</td>\n",
       "      <td>...</td>\n",
       "      <td>Journal</td>\n",
       "      <td>YES</td>\n",
       "      <td>3306.0</td>\n",
       "      <td>Health(social science)</td>\n",
       "      <td>Quartile 1</td>\n",
       "      <td>Top 10%</td>\n",
       "      <td>https://www.scopus.com/sourceid/19434</td>\n",
       "      <td>10575987</td>\n",
       "      <td>15458601</td>\n",
       "      <td>Social Sciences</td>\n",
       "    </tr>\n",
       "    <tr>\n",
       "      <th>4</th>\n",
       "      <td>4</td>\n",
       "      <td>19434.0</td>\n",
       "      <td>MMWR. Recommendations and reports : Morbidity ...</td>\n",
       "      <td>63.12</td>\n",
       "      <td>99.0</td>\n",
       "      <td>1010.0</td>\n",
       "      <td>16.0</td>\n",
       "      <td>100.0</td>\n",
       "      <td>32.534</td>\n",
       "      <td>34.638</td>\n",
       "      <td>...</td>\n",
       "      <td>Journal</td>\n",
       "      <td>YES</td>\n",
       "      <td>2307.0</td>\n",
       "      <td>Health, Toxicology and Mutagenesis</td>\n",
       "      <td>Quartile 1</td>\n",
       "      <td>Top 10%</td>\n",
       "      <td>https://www.scopus.com/sourceid/19434</td>\n",
       "      <td>10575987</td>\n",
       "      <td>15458601</td>\n",
       "      <td>Environmental Science</td>\n",
       "    </tr>\n",
       "  </tbody>\n",
       "</table>\n",
       "<p>5 rows × 23 columns</p>\n",
       "</div>"
      ],
      "text/plain": [
       "   Unnamed: 0  Scopus SourceID  \\\n",
       "0           0          28773.0   \n",
       "1           1          28773.0   \n",
       "2           2          19434.0   \n",
       "3           3          19434.0   \n",
       "4           4          19434.0   \n",
       "\n",
       "                                               Title  CiteScore  Percentile  \\\n",
       "0                 Ca-A Cancer Journal for Clinicians     130.47        99.0   \n",
       "1                 Ca-A Cancer Journal for Clinicians     130.47        99.0   \n",
       "2  MMWR. Recommendations and reports : Morbidity ...      63.12        99.0   \n",
       "3  MMWR. Recommendations and reports : Morbidity ...      63.12        99.0   \n",
       "4  MMWR. Recommendations and reports : Morbidity ...      63.12        99.0   \n",
       "\n",
       "   Citation Count  Scholarly Output  Percent Cited    SNIP     SJR  \\\n",
       "0         16961.0             130.0           70.0  88.164  61.786   \n",
       "1         16961.0             130.0           70.0  88.164  61.786   \n",
       "2          1010.0              16.0          100.0  32.534  34.638   \n",
       "3          1010.0              16.0          100.0  32.534  34.638   \n",
       "4          1010.0              16.0          100.0  32.534  34.638   \n",
       "\n",
       "           ...               Type  OpenAccess  \\\n",
       "0          ...            Journal          NO   \n",
       "1          ...            Journal          NO   \n",
       "2          ...            Journal         YES   \n",
       "3          ...            Journal         YES   \n",
       "4          ...            Journal         YES   \n",
       "\n",
       "  Scopus ASJC Code (Sub-subject Area)             Scopus Sub-Subject Area  \\\n",
       "0                              2720.0                          Hematology   \n",
       "1                              2730.0                            Oncology   \n",
       "2                              2713.0                        Epidemiology   \n",
       "3                              3306.0              Health(social science)   \n",
       "4                              2307.0  Health, Toxicology and Mutagenesis   \n",
       "\n",
       "     Quartile  Top 10% (CiteScore Percentile)  \\\n",
       "0  Quartile 1                         Top 10%   \n",
       "1  Quartile 1                         Top 10%   \n",
       "2  Quartile 1                         Top 10%   \n",
       "3  Quartile 1                         Top 10%   \n",
       "4  Quartile 1                         Top 10%   \n",
       "\n",
       "                       Scopus SourceID.1 Print-ISSN    E-ISSN  \\\n",
       "0  https://www.scopus.com/sourceid/28773   00079235  15424863   \n",
       "1  https://www.scopus.com/sourceid/28773   00079235  15424863   \n",
       "2  https://www.scopus.com/sourceid/19434   10575987  15458601   \n",
       "3  https://www.scopus.com/sourceid/19434   10575987  15458601   \n",
       "4  https://www.scopus.com/sourceid/19434   10575987  15458601   \n",
       "\n",
       "            Subject Area  \n",
       "0               Medicine  \n",
       "1               Medicine  \n",
       "2               Medicine  \n",
       "3        Social Sciences  \n",
       "4  Environmental Science  \n",
       "\n",
       "[5 rows x 23 columns]"
      ]
     },
     "execution_count": 4,
     "metadata": {},
     "output_type": "execute_result"
    }
   ],
   "source": [
    "df_pub.head(5)"
   ]
  },
  {
   "cell_type": "code",
   "execution_count": 5,
   "metadata": {},
   "outputs": [
    {
     "data": {
      "text/plain": [
       "Unnamed: 0                             0\n",
       "Scopus SourceID                        0\n",
       "Title                                  0\n",
       "CiteScore                              0\n",
       "Percentile                             0\n",
       "Citation Count                         0\n",
       "Scholarly Output                       0\n",
       "Percent Cited                          0\n",
       "SNIP                                   0\n",
       "SJR                                    0\n",
       "RANK                                   0\n",
       "Rank Out Of                            0\n",
       "Publisher                              0\n",
       "Type                                   0\n",
       "OpenAccess                             0\n",
       "Scopus ASJC Code (Sub-subject Area)    0\n",
       "Scopus Sub-Subject Area                0\n",
       "Quartile                               0\n",
       "Top 10% (CiteScore Percentile)         0\n",
       "Scopus SourceID.1                      0\n",
       "Print-ISSN                             0\n",
       "E-ISSN                                 0\n",
       "Subject Area                           0\n",
       "dtype: int64"
      ]
     },
     "execution_count": 5,
     "metadata": {},
     "output_type": "execute_result"
    }
   ],
   "source": [
    "df_pub.isna().sum()"
   ]
  },
  {
   "cell_type": "code",
   "execution_count": null,
   "metadata": {
    "_uuid": "279398cf3313d739b569f574e6074e27cefe0240"
   },
   "outputs": [],
   "source": [
    "def append_pub_score(df):\n",
    "    print(\"Unique Publications from Scopus:\",len(df_pub.Title.unique()))\n",
    "    # Analysing Common Publications\n",
    "    vfn_list = df.Venue.unique().tolist()\n",
    "    scopus_list = df_pub.Title.unique().tolist()\n",
    "    count = 0\n",
    "    for pub in scopus_list:\n",
    "        if pub in vfn_list:\n",
    "            count +=1\n",
    "    print(\"Publications present in Dataset:\",count)\n",
    "    print(\"Shape Before\",df.shape)\n",
    "    df = df[df.Venue.isin(scopus_list)]\n",
    "    print(\"Shape After\",df.shape)\n",
    "    #score appending\n",
    "    score_dict = pd.Series(df_pub.SJR.values,index=df_pub.Title).to_dict()\n",
    "    df[\"Publication_Rank\"] = df.apply(lambda row: score_dict[row[\"Venue\"]],axis = 1)\n",
    "    return df\n",
    "\n",
    "def extract_field(row):\n",
    "    val = row[\"Domain\"]\n",
    "    index = val.rfind(\"FN\")\n",
    "    val = val[index+3:len(val)]\n",
    "    val = val.strip(\":}] '\")\n",
    "    return val\n",
    "\n",
    "def get_num_authors(row):\n",
    "    vals = row[\"Authors\"].split(\"},\")\n",
    "    return len(vals)"
   ]
  },
  {
   "cell_type": "code",
   "execution_count": null,
   "metadata": {
    "_uuid": "53233bed795c7bef73f8954e5125c8982d909c02"
   },
   "outputs": [],
   "source": [
    "label_dict = {\"C\":0,\"J\":1,\"CJ\":2,\"O\":3}\n",
    "def find_conference_type(row):\n",
    "    if pd.isnull(row[\"Conference\"]) and pd.isnull(row[\"Journal\"]):\n",
    "        return label_dict[\"O\"]\n",
    "    elif pd.isnull(row[\"Conference\"]):\n",
    "        return label_dict[\"J\"]\n",
    "    elif pd.isnull(row[\"Journal\"]):\n",
    "        return label_dict[\"C\"]\n",
    "    else:\n",
    "        return label_dict[\"CJ\"]"
   ]
  },
  {
   "cell_type": "code",
   "execution_count": null,
   "metadata": {
    "_uuid": "9d57b8da22246e6b63c80f18ce99402a61145f9f"
   },
   "outputs": [],
   "source": [
    "def tidy_split(df, column, sep='|', keep=False):\n",
    "    indexes = list()\n",
    "    id_values = list()\n",
    "    name_values = list()\n",
    "    df = df.dropna(subset=[column])\n",
    "    for i, presplit in enumerate(df[column].astype(str)):\n",
    "        values = presplit.split(sep)\n",
    "        if keep and len(values) > 1:\n",
    "            indexes.append(i)\n",
    "            id_values.append(presplit)\n",
    "        for value in values:\n",
    "            indexes.append(i)\n",
    "            val = value\n",
    "            index1 = val.find(\"AuId\")\n",
    "            index2 = val.find(\"AfN\")\n",
    "            index3 = val.find(\"'S'\")\n",
    "            if index3 < index1:\n",
    "                val = val[index1+4:index2]\n",
    "                val = val.strip(\"', :\")\n",
    "            else:\n",
    "                val = val[index1+4:index3]\n",
    "                val = val.strip(\"', :\")                \n",
    "            id_values.append(val)\n",
    "            index1 = value.find(\"AuN\")\n",
    "            val = value[index1+3:]\n",
    "            val = val.strip(\"': }]\")\n",
    "            name_values.append(val)\n",
    "    new_df = df.iloc[indexes, :].copy()\n",
    "    new_df[column+\"_Id\"] = id_values\n",
    "    new_new_df = new_df.iloc[:, :].copy()\n",
    "    new_new_df[column+\"_Name\"] = name_values\n",
    "    return new_new_df"
   ]
  },
  {
   "cell_type": "code",
   "execution_count": null,
   "metadata": {
    "_uuid": "160a079098ca48923a3d01d3ab31a48c83a0dc93"
   },
   "outputs": [],
   "source": [
    "def process_year(df):\n",
    "    # Make more sensible column names\n",
    "    rename_dict = {\"AA\": \"Authors\", \n",
    "                   \"C\": \"Conference\", \n",
    "                   \"CC\": \"Citation_count\",\n",
    "                   \"ECC\": \"Expected_count\",\n",
    "                   \"D\": \"Date\", \n",
    "                   \"F\": \"Domain\", \n",
    "                   \"J\": \"Journal\", \n",
    "                   \"RId\": \"References\", \n",
    "                   \"Ti\": \"Title\", \n",
    "                   \"VFN\": \"Venue\", \n",
    "                   \"W\": \"Words\", \n",
    "                   \"Y\": \"Year\", \n",
    "                   \"logprob\":\"Popularity\",\n",
    "                   \"Unnamed: 0\": \"Row_num\"}\n",
    "    df.rename(index=str, columns=rename_dict, inplace=True)\n",
    "    df.drop_duplicates(subset=['Title'], inplace=True)\n",
    "    df[\"Month\"] = pd.to_datetime(df[\"Date\"]).dt.month\n",
    "    df = clean_data(df)\n",
    "    df = append_pub_score(df)\n",
    "    df[\"Publication Type\"] = df.apply(lambda row:find_conference_type(row),axis=1)\n",
    "    df[\"Number_Of_authors\"] = df.apply(lambda row:get_num_authors(row), axis = 1)\n",
    "    return df"
   ]
  },
  {
   "cell_type": "code",
   "execution_count": null,
   "metadata": {
    "_uuid": "84ab90dee99dd6123cf5ac182279833ca1649d8a"
   },
   "outputs": [],
   "source": [
    "# df = pd.read_csv(\"../input/mag-2007/mag_2007.csv\")"
   ]
  },
  {
   "cell_type": "code",
   "execution_count": null,
   "metadata": {
    "_uuid": "0540769347b899c896f42090084fe66b3bece32d"
   },
   "outputs": [],
   "source": [
    "# df = process_year(df)"
   ]
  },
  {
   "cell_type": "code",
   "execution_count": null,
   "metadata": {
    "_uuid": "d0ff4542f6f1b8442a2462beee3199a36c70b9c7"
   },
   "outputs": [],
   "source": [
    "# df.to_csv(\"mag_2007_processed.csv\")"
   ]
  },
  {
   "cell_type": "code",
   "execution_count": 22,
   "metadata": {
    "_uuid": "5d1abd32ba5ad7c8fe3df8a76a33be8a923fafa7"
   },
   "outputs": [
    {
     "name": "stdout",
     "output_type": "stream",
     "text": [
      "['mag_2016_processed.csv', 'mag_2012_processed.csv', 'mag_2015_processed.csv', 'mag_2011_processed.csv', 'mag_2008_processed.csv', 'mag_2018_processed.csv', 'mag_2009_processed.csv', 'mag_2007_processed.csv', 'mag_2010_processed.csv', 'mag_2014_processed.csv', 'mag_2013_processed.csv', 'mag_2017_processed.csv']\n"
     ]
    }
   ],
   "source": [
    "print(os.listdir(\"../processedmagdata\"))"
   ]
  },
  {
   "cell_type": "code",
   "execution_count": 177,
   "metadata": {},
   "outputs": [],
   "source": [
    "# to load just 1 year\n",
    "df = pd.read_csv(\"../processedmagdata/mag_2017_processed.csv\")"
   ]
  },
  {
   "cell_type": "code",
   "execution_count": 23,
   "metadata": {
    "_uuid": "0837b685bdba1a91db8c407bdf324dc6ee22f8dc"
   },
   "outputs": [],
   "source": [
    "columns = ['Unnamed: 0','Authors', 'Conference','Citation_count','Date','Expected_count','Domain','Id','Journal','References','Title','Venue','Words','Year','Popularity','Month','Publication_Rank','Publication Type','Number_Of_authors']"
   ]
  },
  {
   "cell_type": "code",
   "execution_count": null,
   "metadata": {
    "_uuid": "1a0818183568ad420a028de7a70150696174b824"
   },
   "outputs": [],
   "source": [
    "df = pd.DataFrame(columns = columns)\n",
    "# please give a path that works on your machine. Keep all the processed files in this path\n",
    "path = \"../processedmagdata/\"\n",
    "for file in os.listdir(path):\n",
    "#     print(file)\n",
    "    df_temp = pd.read_csv(path+\"/\"+file)\n",
    "    df = df.append(df_temp)"
   ]
  },
  {
   "cell_type": "code",
   "execution_count": 39,
   "metadata": {},
   "outputs": [
    {
     "data": {
      "text/plain": [
       "Unnamed: 0                0\n",
       "Authors                   0\n",
       "Conference           129899\n",
       "Citation_count            0\n",
       "Date                      0\n",
       "Expected_count            0\n",
       "Domain                  243\n",
       "Id                        0\n",
       "Journal                 757\n",
       "References            20631\n",
       "Title                     0\n",
       "Venue                     0\n",
       "Words                     2\n",
       "Year                      0\n",
       "Popularity                0\n",
       "Month                     0\n",
       "Publication_Rank          0\n",
       "Publication Type          0\n",
       "Number_Of_authors         0\n",
       "dtype: int64"
      ]
     },
     "execution_count": 39,
     "metadata": {},
     "output_type": "execute_result"
    }
   ],
   "source": [
    "df.isna().sum()"
   ]
  },
  {
   "cell_type": "code",
   "execution_count": 40,
   "metadata": {},
   "outputs": [
    {
     "data": {
      "text/html": [
       "<div>\n",
       "<style scoped>\n",
       "    .dataframe tbody tr th:only-of-type {\n",
       "        vertical-align: middle;\n",
       "    }\n",
       "\n",
       "    .dataframe tbody tr th {\n",
       "        vertical-align: top;\n",
       "    }\n",
       "\n",
       "    .dataframe thead th {\n",
       "        text-align: right;\n",
       "    }\n",
       "</style>\n",
       "<table border=\"1\" class=\"dataframe\">\n",
       "  <thead>\n",
       "    <tr style=\"text-align: right;\">\n",
       "      <th></th>\n",
       "      <th>Unnamed: 0</th>\n",
       "      <th>Authors</th>\n",
       "      <th>Conference</th>\n",
       "      <th>Citation_count</th>\n",
       "      <th>Date</th>\n",
       "      <th>Expected_count</th>\n",
       "      <th>Domain</th>\n",
       "      <th>Id</th>\n",
       "      <th>Journal</th>\n",
       "      <th>References</th>\n",
       "      <th>Title</th>\n",
       "      <th>Venue</th>\n",
       "      <th>Words</th>\n",
       "      <th>Year</th>\n",
       "      <th>Popularity</th>\n",
       "      <th>Month</th>\n",
       "      <th>Publication_Rank</th>\n",
       "      <th>Publication Type</th>\n",
       "      <th>Number_Of_authors</th>\n",
       "    </tr>\n",
       "  </thead>\n",
       "  <tbody>\n",
       "  </tbody>\n",
       "</table>\n",
       "</div>"
      ],
      "text/plain": [
       "Empty DataFrame\n",
       "Columns: [Unnamed: 0, Authors, Conference, Citation_count, Date, Expected_count, Domain, Id, Journal, References, Title, Venue, Words, Year, Popularity, Month, Publication_Rank, Publication Type, Number_Of_authors]\n",
       "Index: []"
      ]
     },
     "execution_count": 40,
     "metadata": {},
     "output_type": "execute_result"
    }
   ],
   "source": [
    "# No duplicate values :)\n",
    "df[df.duplicated()]"
   ]
  },
  {
   "cell_type": "code",
   "execution_count": 41,
   "metadata": {
    "_uuid": "04e04e4b238be5b28e13c5fba39aa8e44df42398"
   },
   "outputs": [
    {
     "data": {
      "text/plain": [
       "(130204, 19)"
      ]
     },
     "execution_count": 41,
     "metadata": {},
     "output_type": "execute_result"
    }
   ],
   "source": [
    "#size of data\n",
    "df.shape"
   ]
  },
  {
   "cell_type": "code",
   "execution_count": 42,
   "metadata": {
    "_uuid": "ced356d7d51e03fc56b07bae2ff12a341f5b91d9"
   },
   "outputs": [
    {
     "data": {
      "text/plain": [
       "1    129447\n",
       "3       452\n",
       "0       305\n",
       "Name: Publication Type, dtype: int64"
      ]
     },
     "execution_count": 42,
     "metadata": {},
     "output_type": "execute_result"
    }
   ],
   "source": [
    "df[\"Publication Type\"].value_counts()"
   ]
  },
  {
   "cell_type": "markdown",
   "metadata": {},
   "source": [
    "Should we remove rows with 0 references and 0 Citation count"
   ]
  },
  {
   "cell_type": "code",
   "execution_count": 140,
   "metadata": {},
   "outputs": [
    {
     "data": {
      "text/plain": [
       "12572"
      ]
     },
     "execution_count": 140,
     "metadata": {},
     "output_type": "execute_result"
    }
   ],
   "source": [
    "# Number of rows with 0 citation count and 0 References\n",
    "df[ (df['References'].isnull()) & (df['Citation_count']==0)].shape[0]"
   ]
  },
  {
   "cell_type": "code",
   "execution_count": 99,
   "metadata": {
    "_uuid": "3c34935fb136d4e423a2fbaa9937a0f2739d1dbe"
   },
   "outputs": [
    {
     "data": {
      "image/png": "[encoded data removed]",
      "text/plain": [
       "<Figure size 432x288 with 1 Axes>"
      ]
     },
     "metadata": {},
     "output_type": "display_data"
    }
   ],
   "source": [
    "sns.set(style=\"darkgrid\",font_scale=1.3)\n",
    "ax = sns.countplot(x=\"Publication Type\", data=df)"
   ]
  },
  {
   "cell_type": "code",
   "execution_count": null,
   "metadata": {
    "_uuid": "7cbb405aedcc02fd04376a2bc0019df8e0c21380"
   },
   "outputs": [],
   "source": [
    "# import seaborn as sns\n",
    "# sns.set(style=\"darkgrid\")\n",
    "# ax = sns.countplot(x=\"Venue\", data=df)"
   ]
  },
  {
   "cell_type": "code",
   "execution_count": 64,
   "metadata": {
    "_uuid": "2c66a334f73cd02c8e5dfdc65c71c6612cb447f9"
   },
   "outputs": [
    {
     "data": {
      "text/plain": [
       "Text(0.5,0.98,'Distribution of Paper published in Years')"
      ]
     },
     "execution_count": 64,
     "metadata": {},
     "output_type": "execute_result"
    },
    {
     "data": {
      "image/png": "[encoded data removed]",
      "text/plain": [
       "<Figure size 864x360 with 1 Axes>"
      ]
     },
     "metadata": {},
     "output_type": "display_data"
    }
   ],
   "source": [
    "# paper publication throughout the period\n",
    "plt.figure(figsize=(12,5))\n",
    "sns.set(style=\"darkgrid\",font_scale=1.3)\n",
    "ax = sns.countplot(x=\"Year\", data=df)\n",
    "plt.suptitle(\"Distribution of Paper published in Years\")"
   ]
  },
  {
   "cell_type": "code",
   "execution_count": 56,
   "metadata": {
    "_uuid": "b50960ab2a4dfbff1da597d41543e3b2cc29e8ee"
   },
   "outputs": [
    {
     "data": {
      "text/plain": [
       "Text(0.5,0.98,'Number of paper published in each month')"
      ]
     },
     "execution_count": 56,
     "metadata": {},
     "output_type": "execute_result"
    },
    {
     "data": {
      "image/png": "[encoded data removed]",
      "text/plain": [
       "<Figure size 864x360 with 1 Axes>"
      ]
     },
     "metadata": {},
     "output_type": "display_data"
    }
   ],
   "source": [
    "# paper publication around a year\n",
    "plt.figure(figsize=(12,5))\n",
    "sns.set(style=\"darkgrid\",font_scale=1.3)\n",
    "ax = sns.countplot(x=\"Month\", data=df)\n",
    "ax.set_xticklabels([\"January\",\"February\",\"March\", \"April\", \"May\", \"June\", \"July\", \"August\", \"September\", \"October\",\"November\", \"December\"])\n",
    "plt.suptitle(\"Number of paper published in each month\")"
   ]
  },
  {
   "cell_type": "code",
   "execution_count": 86,
   "metadata": {
    "_uuid": "a34194cb5f1bb681c81dd47f427ce214b40c6c80"
   },
   "outputs": [
    {
     "data": {
      "text/plain": [
       "500"
      ]
     },
     "execution_count": 86,
     "metadata": {},
     "output_type": "execute_result"
    }
   ],
   "source": [
    "max(df.Number_Of_authors)"
   ]
  },
  {
   "cell_type": "code",
   "execution_count": 128,
   "metadata": {
    "_uuid": "b5e8e78d5647090a2a7a6e9cdfde7ed7dcb4f248"
   },
   "outputs": [
    {
     "data": {
      "text/html": [
       "<div>\n",
       "<style scoped>\n",
       "    .dataframe tbody tr th:only-of-type {\n",
       "        vertical-align: middle;\n",
       "    }\n",
       "\n",
       "    .dataframe tbody tr th {\n",
       "        vertical-align: top;\n",
       "    }\n",
       "\n",
       "    .dataframe thead th {\n",
       "        text-align: right;\n",
       "    }\n",
       "</style>\n",
       "<table border=\"1\" class=\"dataframe\">\n",
       "  <thead>\n",
       "    <tr style=\"text-align: right;\">\n",
       "      <th></th>\n",
       "      <th>Unnamed: 0</th>\n",
       "      <th>Authors</th>\n",
       "      <th>Conference</th>\n",
       "      <th>Citation_count</th>\n",
       "      <th>Date</th>\n",
       "      <th>Expected_count</th>\n",
       "      <th>Domain</th>\n",
       "      <th>Id</th>\n",
       "      <th>Journal</th>\n",
       "      <th>References</th>\n",
       "      <th>Title</th>\n",
       "      <th>Venue</th>\n",
       "      <th>Words</th>\n",
       "      <th>Year</th>\n",
       "      <th>Popularity</th>\n",
       "      <th>Month</th>\n",
       "      <th>Publication_Rank</th>\n",
       "      <th>Publication Type</th>\n",
       "      <th>Number_Of_authors</th>\n",
       "    </tr>\n",
       "  </thead>\n",
       "  <tbody>\n",
       "    <tr>\n",
       "      <th>24093</th>\n",
       "      <td>99059</td>\n",
       "      <td>[{'AuId': 1977639945, 'S': 1, 'AuN': 'r aaij'}...</td>\n",
       "      <td>NaN</td>\n",
       "      <td>0</td>\n",
       "      <td>2017-01-01</td>\n",
       "      <td>0</td>\n",
       "      <td>[{'FId': 20252601, 'FN': 's wave'}, {'FId': 53...</td>\n",
       "      <td>2781475630</td>\n",
       "      <td>{'JN': 'jhep', 'JId': 187585107}</td>\n",
       "      <td>NaN</td>\n",
       "      <td>erratum to measurements of the s wave fraction...</td>\n",
       "      <td>Journal of High Energy Physics</td>\n",
       "      <td>['0', '047', '11', '2016', '892', 'b', 'branch...</td>\n",
       "      <td>2017</td>\n",
       "      <td>-20.010</td>\n",
       "      <td>1</td>\n",
       "      <td>1.227</td>\n",
       "      <td>1</td>\n",
       "      <td>500</td>\n",
       "    </tr>\n",
       "    <tr>\n",
       "      <th>26143</th>\n",
       "      <td>110373</td>\n",
       "      <td>[{'S': 1, 'AuId': 1977639945, 'AfN': 'cern', '...</td>\n",
       "      <td>NaN</td>\n",
       "      <td>0</td>\n",
       "      <td>2017-09-14</td>\n",
       "      <td>0</td>\n",
       "      <td>[{'FId': 40760194, 'FN': 'branching'}, {'FId':...</td>\n",
       "      <td>2884634884</td>\n",
       "      <td>{'JN': 'eur phys j', 'JId': 94052278}</td>\n",
       "      <td>NaN</td>\n",
       "      <td>study of charmonium production in hadron decay...</td>\n",
       "      <td>European Physical Journal C</td>\n",
       "      <td>['0_', 'b', 'bs0', 'charmonium', 'decay', 'dec...</td>\n",
       "      <td>2017</td>\n",
       "      <td>-20.061</td>\n",
       "      <td>9</td>\n",
       "      <td>2.022</td>\n",
       "      <td>1</td>\n",
       "      <td>500</td>\n",
       "    </tr>\n",
       "    <tr>\n",
       "      <th>14670</th>\n",
       "      <td>46214</td>\n",
       "      <td>[{'S': 1, 'AuId': 2639893087, 'AfN': 'yerevan ...</td>\n",
       "      <td>NaN</td>\n",
       "      <td>15</td>\n",
       "      <td>2017-12-01</td>\n",
       "      <td>15</td>\n",
       "      <td>[{'FId': 207206121, 'FN': 'top quark'}, {'FId'...</td>\n",
       "      <td>2622010322</td>\n",
       "      <td>{'JN': 'eur phys j', 'JId': 94052278}</td>\n",
       "      <td>[2128158076, 2151512268, 2100507804, 216309795...</td>\n",
       "      <td>search for dark matter produced in association...</td>\n",
       "      <td>European Physical Journal C</td>\n",
       "      <td>['13', 'association', 'collisions', 'dark', 'f...</td>\n",
       "      <td>2017</td>\n",
       "      <td>-19.731</td>\n",
       "      <td>12</td>\n",
       "      <td>2.022</td>\n",
       "      <td>1</td>\n",
       "      <td>500</td>\n",
       "    </tr>\n",
       "    <tr>\n",
       "      <th>78670</th>\n",
       "      <td>518018</td>\n",
       "      <td>[{'AuId': 1977639945, 'S': 1, 'AuN': 'r aaij'}...</td>\n",
       "      <td>NaN</td>\n",
       "      <td>0</td>\n",
       "      <td>2017-01-01</td>\n",
       "      <td>0</td>\n",
       "      <td>[{'FId': 107165499, 'FN': 'rapidity'}, {'FId':...</td>\n",
       "      <td>2750496365</td>\n",
       "      <td>{'JN': 'jhep', 'JId': 187585107}</td>\n",
       "      <td>[2258584306, 2109896109, 2163097950, 211099917...</td>\n",
       "      <td>study of b bar b correlations in high energy p...</td>\n",
       "      <td>Journal of High Energy Physics</td>\n",
       "      <td>['b', 'bar', 'collisions', 'correlations', 'en...</td>\n",
       "      <td>2017</td>\n",
       "      <td>-20.851</td>\n",
       "      <td>1</td>\n",
       "      <td>1.227</td>\n",
       "      <td>1</td>\n",
       "      <td>500</td>\n",
       "    </tr>\n",
       "    <tr>\n",
       "      <th>2297</th>\n",
       "      <td>6756</td>\n",
       "      <td>[{'AuId': 1977639945, 'S': 1, 'AuN': 'r aaij'}...</td>\n",
       "      <td>NaN</td>\n",
       "      <td>102</td>\n",
       "      <td>2017-05-16</td>\n",
       "      <td>102</td>\n",
       "      <td>[{'FId': 151987854, 'FN': 'invariant mass'}, {...</td>\n",
       "      <td>2615822634</td>\n",
       "      <td>{'JN': 'jhep', 'JId': 187585107}</td>\n",
       "      <td>[2258584306, 2128881154, 2109896109, 216309795...</td>\n",
       "      <td>test of lepton universality with b 0 rightarro...</td>\n",
       "      <td>Journal of High Energy Physics</td>\n",
       "      <td>['0', 'b', 'decays', 'ell', 'k', 'lepton', 'ri...</td>\n",
       "      <td>2017</td>\n",
       "      <td>-19.075</td>\n",
       "      <td>5</td>\n",
       "      <td>1.227</td>\n",
       "      <td>1</td>\n",
       "      <td>500</td>\n",
       "    </tr>\n",
       "  </tbody>\n",
       "</table>\n",
       "</div>"
      ],
      "text/plain": [
       "       Unnamed: 0                                            Authors  \\\n",
       "24093       99059  [{'AuId': 1977639945, 'S': 1, 'AuN': 'r aaij'}...   \n",
       "26143      110373  [{'S': 1, 'AuId': 1977639945, 'AfN': 'cern', '...   \n",
       "14670       46214  [{'S': 1, 'AuId': 2639893087, 'AfN': 'yerevan ...   \n",
       "78670      518018  [{'AuId': 1977639945, 'S': 1, 'AuN': 'r aaij'}...   \n",
       "2297         6756  [{'AuId': 1977639945, 'S': 1, 'AuN': 'r aaij'}...   \n",
       "\n",
       "      Conference  Citation_count        Date  Expected_count  \\\n",
       "24093        NaN               0  2017-01-01               0   \n",
       "26143        NaN               0  2017-09-14               0   \n",
       "14670        NaN              15  2017-12-01              15   \n",
       "78670        NaN               0  2017-01-01               0   \n",
       "2297         NaN             102  2017-05-16             102   \n",
       "\n",
       "                                                  Domain          Id  \\\n",
       "24093  [{'FId': 20252601, 'FN': 's wave'}, {'FId': 53...  2781475630   \n",
       "26143  [{'FId': 40760194, 'FN': 'branching'}, {'FId':...  2884634884   \n",
       "14670  [{'FId': 207206121, 'FN': 'top quark'}, {'FId'...  2622010322   \n",
       "78670  [{'FId': 107165499, 'FN': 'rapidity'}, {'FId':...  2750496365   \n",
       "2297   [{'FId': 151987854, 'FN': 'invariant mass'}, {...  2615822634   \n",
       "\n",
       "                                     Journal  \\\n",
       "24093       {'JN': 'jhep', 'JId': 187585107}   \n",
       "26143  {'JN': 'eur phys j', 'JId': 94052278}   \n",
       "14670  {'JN': 'eur phys j', 'JId': 94052278}   \n",
       "78670       {'JN': 'jhep', 'JId': 187585107}   \n",
       "2297        {'JN': 'jhep', 'JId': 187585107}   \n",
       "\n",
       "                                              References  \\\n",
       "24093                                                NaN   \n",
       "26143                                                NaN   \n",
       "14670  [2128158076, 2151512268, 2100507804, 216309795...   \n",
       "78670  [2258584306, 2109896109, 2163097950, 211099917...   \n",
       "2297   [2258584306, 2128881154, 2109896109, 216309795...   \n",
       "\n",
       "                                                   Title  \\\n",
       "24093  erratum to measurements of the s wave fraction...   \n",
       "26143  study of charmonium production in hadron decay...   \n",
       "14670  search for dark matter produced in association...   \n",
       "78670  study of b bar b correlations in high energy p...   \n",
       "2297   test of lepton universality with b 0 rightarro...   \n",
       "\n",
       "                                Venue  \\\n",
       "24093  Journal of High Energy Physics   \n",
       "26143     European Physical Journal C   \n",
       "14670     European Physical Journal C   \n",
       "78670  Journal of High Energy Physics   \n",
       "2297   Journal of High Energy Physics   \n",
       "\n",
       "                                                   Words  Year  Popularity  \\\n",
       "24093  ['0', '047', '11', '2016', '892', 'b', 'branch...  2017     -20.010   \n",
       "26143  ['0_', 'b', 'bs0', 'charmonium', 'decay', 'dec...  2017     -20.061   \n",
       "14670  ['13', 'association', 'collisions', 'dark', 'f...  2017     -19.731   \n",
       "78670  ['b', 'bar', 'collisions', 'correlations', 'en...  2017     -20.851   \n",
       "2297   ['0', 'b', 'decays', 'ell', 'k', 'lepton', 'ri...  2017     -19.075   \n",
       "\n",
       "       Month  Publication_Rank  Publication Type  Number_Of_authors  \n",
       "24093      1             1.227                 1                500  \n",
       "26143      9             2.022                 1                500  \n",
       "14670     12             2.022                 1                500  \n",
       "78670      1             1.227                 1                500  \n",
       "2297       5             1.227                 1                500  "
      ]
     },
     "execution_count": 128,
     "metadata": {},
     "output_type": "execute_result"
    }
   ],
   "source": [
    "df.sort_values(by=[\"Number_Of_authors\"], ascending=False).head()"
   ]
  },
  {
   "cell_type": "code",
   "execution_count": 216,
   "metadata": {
    "scrolled": true
   },
   "outputs": [
    {
     "data": {
      "text/plain": [
       "Text(0.5,0.98,'Number of authors for given paper')"
      ]
     },
     "execution_count": 216,
     "metadata": {},
     "output_type": "execute_result"
    },
    {
     "data": {
      "image/png": "[encoded data removed]",
      "text/plain": [
       "<Figure size 720x288 with 1 Axes>"
      ]
     },
     "metadata": {},
     "output_type": "display_data"
    }
   ],
   "source": [
    "# Number of authors for the paper, Group data according to number of authors\n",
    "bins = [0, 10, 20, 40, 60, 80, 100, 200, 400, 500, np.inf]\n",
    "# author_groups = pd.cut(df[\"Number_Of_authors\"], bins)\n",
    "# df[\"author_groups\"] = author_groups\n",
    "plt.figure(figsize=(10,4))\n",
    "sns.set(style=\"darkgrid\",font_scale=1.1)\n",
    "sss = pd.cut(df['Number_Of_authors'], bins=bins)\n",
    "ax = sss.value_counts(sort=False).plot.bar(rot=15)\n",
    "for index, row in sss.iterrows():\n",
    "    g.text(row.name,row.tip, row.total_bill,2, color='black', ha=\"center\")\n",
    "# sns.distplot(sss)\n",
    "\n",
    "plt.suptitle(\"Number of authors for given paper\")"
   ]
  },
  {
   "cell_type": "code",
   "execution_count": 217,
   "metadata": {},
   "outputs": [
    {
     "data": {
      "text/plain": [
       "(0.0, 10.0]       106127\n",
       "(10.0, 20.0]       19464\n",
       "(20.0, 40.0]        3182\n",
       "(400.0, 500.0]       548\n",
       "(40.0, 60.0]         422\n",
       "(100.0, 200.0]       140\n",
       "(60.0, 80.0]         133\n",
       "(80.0, 100.0]        111\n",
       "(200.0, 400.0]        77\n",
       "(500.0, inf]           0\n",
       "Name: Number_Of_authors, dtype: int64"
      ]
     },
     "execution_count": 217,
     "metadata": {},
     "output_type": "execute_result"
    }
   ],
   "source": [
    "sss.value_counts()"
   ]
  },
  {
   "cell_type": "code",
   "execution_count": 127,
   "metadata": {},
   "outputs": [
    {
     "name": "stdout",
     "output_type": "stream",
     "text": [
      "500\n",
      "{\n",
      "  \"AuId\": 1977639945,\n",
      "  \"S\": 1,\n",
      "  \"AuN\": \"r aaij\"\n",
      "}\n",
      "set()\n"
     ]
    }
   ],
   "source": [
    "import json\n",
    "import ast\n",
    "# obj = json.loads(\"[{'AuId': 2168721218, 'S': 1, 'AuN': 'emelia j benjamin'},]\")\n",
    "obj = ast.literal_eval(df[\"Authors\"][24093])\n",
    "print(len(obj))\n",
    "print(json.dumps(obj[0], indent=2))\n",
    "universities = { _obj[\"AfN\"] for _obj in obj if \"AfN\" in _obj}\n",
    "print(universities)"
   ]
  },
  {
   "cell_type": "code",
   "execution_count": null,
   "metadata": {},
   "outputs": [],
   "source": [
    "df[]"
   ]
  },
  {
   "cell_type": "code",
   "execution_count": 120,
   "metadata": {},
   "outputs": [
    {
     "data": {
      "text/plain": [
       "\"[{'AuId': 2168721218, 'S': 1, 'AuN': 'emelia j benjamin'}, {'AuId': 2005352543, 'S': 2, 'AuN': 'michael j blaha'}, {'AuId': 104634994, 'S': 3, 'AuN': 'stephanie e chiuve'}, {'AuId': 2046859330, 'S': 4, 'AuN': 'mary cushman'}, {'AuId': 2277451764, 'S': 5, 'AuN': 'sandeep r das'}, {'AuId': 1975017443, 'S': 6, 'AuN': 'rajat deo'}, {'AuId': 1959621794, 'S': 7, 'AuN': 'sarah d de ferranti'}, {'AuId': 2101491348, 'S': 8, 'AuN': 'james s floyd'}, {'AuId': 108138892, 'S': 9, 'AuN': 'myriam fornage'}, {'AuId': 2127140094, 'S': 10, 'AuN': 'cathleen gillespie'}, {'AuId': 1772048951, 'S': 11, 'AuN': 'carmen r isasi'}, {'AuId': 2166150345, 'S': 12, 'AuN': 'monik c jimenez'}, {'AuId': 2189981646, 'S': 13, 'AuN': 'lori c jordan'}, {'AuId': 2141707827, 'S': 14, 'AuN': 'suzanne e judd'}, {'AuId': 2894344593, 'S': 15, 'AuN': 'daniel t lackland'}, {'AuId': 2168694049, 'S': 16, 'AuN': 'judith h lichtman'}, {'S': 17, 'AuId': 304513337, 'AfN': 'university of michigan', 'AfId': 27837315, 'AuN': 'lynda d lisabeth'}, {'AuId': 2108767686, 'S': 18, 'AuN': 'simin liu'}, {'AuId': 1984608776, 'S': 19, 'AuN': 'chris t longenecker'}, {'AuId': 2117883589, 'S': 20, 'AuN': 'rachel h mackey'}, {'S': 21, 'AuId': 2171983489, 'AfN': 'johns hopkins university', 'AfId': 145311948, 'AuN': 'kunihiro matsushita'}, {'AuId': 20044890, 'S': 22, 'AuN': 'dariush mozaffarian'}, {'AuId': 2892975931, 'S': 23, 'AuN': 'michael e mussolino'}, {'AuId': 2123725838, 'S': 24, 'AuN': 'khurram nasir'}, {'S': 25, 'AuId': 36419944, 'AfN': 'university of michigan', 'AfId': 27837315, 'AuN': 'robert w neumar'}, {'AuId': 2010758213, 'S': 26, 'AuN': 'latha palaniappan'}, {'AuId': 2102852588, 'S': 27, 'AuN': 'dilip k pandey'}, {'AuId': 1760152241, 'S': 28, 'AuN': 'ravi r thiagarajan'}, {'AuId': 2140680963, 'S': 29, 'AuN': 'mathew j reeves'}, {'AuId': 2275036776, 'S': 30, 'AuN': 'matthew d ritchey'}, {'AuId': 2121714545, 'S': 31, 'AuN': 'carlos j rodriguez'}, {'AuId': 2169176658, 'S': 32, 'AuN': 'gregory a roth'}, {'AuId': 196700306, 'S': 33, 'AuN': 'wayne d rosamond'}, {'AuId': 1676808411, 'S': 34, 'AuN': 'comilla sasson'}, {'AuId': 1829979268, 'S': 35, 'AuN': 'amytis towfighi'}, {'AuId': 2083005942, 'S': 36, 'AuN': 'connie w tsao'}, {'AuId': 2096743041, 'S': 37, 'AuN': 'melanie b turner'}, {'AuId': 2168254275, 'S': 38, 'AuN': 'salim s virani'}, {'AuId': 1861518397, 'S': 39, 'AuN': 'jenifer h voeks'}, {'AuId': 2101339450, 'S': 40, 'AuN': 'joshua z willey'}, {'AuId': 2344989643, 'S': 41, 'AuN': 'john t wilkins'}, {'AuId': 2581861377, 'S': 42, 'AuN': 'jason h y wu'}, {'AuId': 2038392548, 'S': 43, 'AuN': 'heather m alger'}, {'AuId': 2636835961, 'S': 44, 'AuN': 'sally s wong'}, {'AuId': 2067622581, 'S': 45, 'AuN': 'paul muntner'}]\""
      ]
     },
     "execution_count": 120,
     "metadata": {},
     "output_type": "execute_result"
    }
   ],
   "source": [
    "df[\"Authors\"][0]"
   ]
  },
  {
   "cell_type": "code",
   "execution_count": 25,
   "metadata": {
    "_uuid": "73fb9d4b7df84d0137bb6ef39211284f409e07b0"
   },
   "outputs": [],
   "source": [
    "outlink_map = {}\n",
    "inlink_map = {}\n",
    "df_new = df[df[\"References\"].notnull()]\n",
    "for index, row in df_new.iterrows():\n",
    "    ref = row[\"References\"]\n",
    "    ref_list = list(map(int,ref.strip(\"[]'\").split(\",\")))\n",
    "    outlink_map[row[\"Id\"]] = ref_list\n",
    "    for ref in ref_list:\n",
    "        listi = inlink_map.get(ref, [])\n",
    "        listi.append(row[\"Id\"])\n",
    "        inlink_map[ref] = listi"
   ]
  },
  {
   "cell_type": "code",
   "execution_count": null,
   "metadata": {
    "_uuid": "11ae31ad9925e4bb1970747e3f495fddc7e79fec"
   },
   "outputs": [],
   "source": [
    "def calculate_page_rank():\n",
    "    count = 0\n",
    "    page_year = {row[\"Id\"]:row[\"Year\"] for _t, row in df.iterrows()}\n",
    "    year_citation_count = { page_year[index]:0 for index in page_year}\n",
    "    year_paper_count = { page_year[index]:0 for index in page_year}\n",
    "    avg_year_citation_count = {}\n",
    "    for index in page_year:\n",
    "        year = page_year[index]\n",
    "        len_outlink = len(outlink_map.get(index, []))\n",
    "        if len_outlink > 0:\n",
    "            year_citation_count[year] += len_outlink\n",
    "            year_paper_count[year] += 1\n",
    "    for year in year_citation_count:\n",
    "        if year_paper_count[year] > 0:\n",
    "            avg_year_citation_count[year] = year_citation_count[year]/year_paper_count[year]\n",
    "    page_rank = {}\n",
    "    updated_page_rank = {}\n",
    "    for index in df[\"Id\"]:\n",
    "        page_rank[index] = 1\n",
    "    while True:\n",
    "        count += 1\n",
    "        flag = True\n",
    "        for key in page_rank:\n",
    "            cs = page_rank[key]\n",
    "            if key in inlink_map:\n",
    "                inlink_list = inlink_map[key]\n",
    "                ns = 0\n",
    "                for link in inlink_list:\n",
    "                    if link in page_rank and link in outlink_map:\n",
    "                        ns += page_rank[link]/len(outlink_map[link])\n",
    "                #ns = 0.15 + (0.85 * ns)\n",
    "                ns = 0.15 + float(0.85) * (ns/avg_year_citation_count[page_year[key]])\n",
    "                if cs != ns:\n",
    "                    flag = False\n",
    "                updated_page_rank[key] = ns\n",
    "        if flag == True:\n",
    "            print(count)\n",
    "            break\n",
    "        page_rank = updated_page_rank\n",
    "        updated_page_rank = {}\n",
    "        max_score = max(page_rank.values())\n",
    "        print(f\"max score is {max_score}\")\n",
    "        page_rank = { index:score/max_score for index, score in page_rank.items()}\n",
    "        return page_rank"
   ]
  },
  {
   "cell_type": "code",
   "execution_count": null,
   "metadata": {
    "_uuid": "46652242cea394b2855919dde313a39be7e50ad1"
   },
   "outputs": [],
   "source": [
    "page_rank = calculate_page_rank()\n",
    "print(max(page_rank.values()))\n",
    "print(sum(page_rank.values()))"
   ]
  },
  {
   "cell_type": "code",
   "execution_count": null,
   "metadata": {
    "_uuid": "0f489dcdbb52b1103175e9c9c903f3b4b7d6cbaa"
   },
   "outputs": [],
   "source": []
  },
  {
   "cell_type": "code",
   "execution_count": null,
   "metadata": {
    "_uuid": "b19f35a3938a1a9bc87cd28e3839089d0b40db6c"
   },
   "outputs": [],
   "source": [
    "df[\"page_rank\"] = 0\n",
    "def update_rank(row):\n",
    "    if row[\"Index_Id\"] in page_rank:\n",
    "        return page_rank[row[\"Index_Id\"]]\n",
    "    else:\n",
    "        return 0\n",
    "df[\"page_rank\"] = df.apply(lambda row: update_rank(row),axis = 1)\n",
    "df[\"page_rank\"][0:10]"
   ]
  },
  {
   "cell_type": "code",
   "execution_count": null,
   "metadata": {
    "_uuid": "0f49cc35e40b10d52c8b0df5d75d1f2c55f7db3f"
   },
   "outputs": [],
   "source": [
    "df.to_csv(\"ranked_processed_data.csv\")"
   ]
  },
  {
   "cell_type": "code",
   "execution_count": null,
   "metadata": {
    "_uuid": "e74cfbedd0f25b1c5d34ad32f0fc1531b9df6835"
   },
   "outputs": [],
   "source": [
    "# from sklearn.utils.extmath import softmax\n",
    "# df[\"page_rank\"]  = softmax(df[\"page_rank\"].values())"
   ]
  },
  {
   "cell_type": "code",
   "execution_count": null,
   "metadata": {
    "_uuid": "78860dfa67476d65df9ac8ed014a7807aff3d74f"
   },
   "outputs": [],
   "source": [
    "# df.to_csv(\"ranked_softmax_processed_data.csv\")"
   ]
  }
 ],
 "metadata": {
  "kernelspec": {
   "display_name": "Python 3",
   "language": "python",
   "name": "python3"
  },
  "language_info": {
   "codemirror_mode": {
    "name": "ipython",
    "version": 3
   },
   "file_extension": ".py",
   "mimetype": "text/x-python",
   "name": "python",
   "nbconvert_exporter": "python",
   "pygments_lexer": "ipython3",
   "version": "3.6.5"
  }
 },
 "nbformat": 4,
 "nbformat_minor": 1
}
