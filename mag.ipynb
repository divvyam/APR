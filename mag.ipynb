{
  "cells": [
    {
      "metadata": {
        "trusted": true,
        "_uuid": "46fd49295b665721d524e5d197d6a95c861a04ba"
      },
      "cell_type": "code",
      "source": "import os\nimport csv\nimport pandas as pd\nimport numpy as np\n\nimport datetime\nfrom pandas.io.json import json_normalize\nimport matplotlib.pyplot as plt\nimport seaborn as sns\ncolor = sns.color_palette()\n\n%matplotlib inline\n\nfrom plotly import tools\nimport plotly.offline as py\npy.init_notebook_mode(connected=True)\nimport plotly.graph_objs as go\nimport squarify\n\nfrom sklearn import model_selection, preprocessing, metrics\nplt.style.use('fivethirtyeight')\n\nprint(os.getcwd())\nprint(os.listdir(\"../\"))",
      "execution_count": null,
      "outputs": []
    },
    {
      "metadata": {
        "scrolled": true,
        "trusted": true,
        "_uuid": "58882658662cf6ce89fa49b5865c433145b79076"
      },
      "cell_type": "code",
      "source": "def clean_data(df):\n    #since first column contains row number\n#     df.drop([\"Row_num\"], axis=1)\n    #removing  and kesEntityId as simillar fields are already present\n    df = df.drop(columns=[\"Row_num\",\"kesEntityId\"],axis=1)\n    df[\"Popularity\"] = df[\"Popularity\"].apply(pd.to_numeric,downcast='float')\n    df[\"Year\"] = df[\"Year\"].apply(pd.to_numeric,downcast='unsigned')\n    df[\"Month\"] = df[\"Month\"].apply(pd.to_numeric,downcast='unsigned')\n    df = df.dropna(subset=['Venue'])\n    return df",
      "execution_count": null,
      "outputs": []
    },
    {
      "metadata": {
        "trusted": true,
        "_uuid": "c313ba7bc8ad30eddf94d59dcad39362a348dcc6"
      },
      "cell_type": "code",
      "source": "df_pub = pd.read_csv(\"../input/scopus-data/ProcessedScopusData.csv\")\n# If this doesn't work, please change it to the path where the file is locaed in your PC\n# df_pub = pd.read_csv(\"Data/ProcessedScopusData.csv\")",
      "execution_count": null,
      "outputs": []
    },
    {
      "metadata": {
        "trusted": true,
        "_uuid": "cb974cc7b9a752f335d022377437c349fb8642a2"
      },
      "cell_type": "code",
      "source": "df_pub.head()",
      "execution_count": null,
      "outputs": []
    },
    {
      "metadata": {
        "trusted": true,
        "_uuid": "279398cf3313d739b569f574e6074e27cefe0240"
      },
      "cell_type": "code",
      "source": "def append_pub_score(df):\n    print(\"Unique Publications from Scopus:\",len(df_pub.Title.unique()))\n    # Analysing Common Publications\n    vfn_list = df.Venue.unique().tolist()\n    scopus_list = df_pub.Title.unique().tolist()\n    count = 0\n    for pub in scopus_list:\n        if pub in vfn_list:\n            count +=1\n    print(\"Publications present in Dataset:\",count)\n    print(\"Shape Before\",df.shape)\n    df = df[df.Venue.isin(scopus_list)]\n    print(\"Shape After\",df.shape)\n    #score appending\n    score_dict = pd.Series(df_pub.SJR.values,index=df_pub.Title).to_dict()\n    df[\"Publication_Rank\"] = df.apply(lambda row: score_dict[row[\"Venue\"]],axis = 1)\n    return df\n\ndef extract_field(row):\n    val = str(row[\"Domain\"])\n    index = val.rfind(\"FN\")\n    val = val[index+3:len(val)]\n    val = val.strip(\":}] '\")\n    return val\n\ndef get_num_authors(row):\n    vals = row[\"Authors\"].split(\"},\")\n    return len(vals)\ndef get_open_access(df):\n    def get_label(val):\n        if val == \"YES\":\n            return 1\n        else:\n            return 0\n    #score appending\n    open_dict = pd.Series(df_pub.OpenAccess.values,index=df_pub.Title).to_dict()\n    df[\"OpenAccess\"] = df.apply(lambda row: get_label(open_dict[row[\"Venue\"]]),axis = 1)\n    return df\n\ndef get_num_domains(row):\n    if not pd.isnull(row[\"Domain\"]):\n        json_obj = ast.literal_eval(row[\"Domain\"])\n        if json_obj:\n            return len(json_obj)\n    return 0",
      "execution_count": null,
      "outputs": []
    },
    {
      "metadata": {
        "trusted": true,
        "_uuid": "53233bed795c7bef73f8954e5125c8982d909c02"
      },
      "cell_type": "code",
      "source": "label_dict = {\"C\":0,\"J\":1,\"CJ\":2,\"O\":3}\ndef find_conference_type(row):\n    if pd.isnull(row[\"Conference\"]) and pd.isnull(row[\"Journal\"]):\n        return label_dict[\"O\"]\n    elif pd.isnull(row[\"Conference\"]):\n        return label_dict[\"J\"]\n    elif pd.isnull(row[\"Journal\"]):\n        return label_dict[\"C\"]\n    else:\n        return label_dict[\"CJ\"]",
      "execution_count": null,
      "outputs": []
    },
    {
      "metadata": {
        "trusted": true,
        "_uuid": "9d57b8da22246e6b63c80f18ce99402a61145f9f"
      },
      "cell_type": "code",
      "source": "def tidy_split(df, column, sep='|', keep=False):\n    indexes = list()\n    id_values = list()\n    name_values = list()\n    df = df.dropna(subset=[column])\n    for i, presplit in enumerate(df[column].astype(str)):\n        values = presplit.split(sep)\n        if keep and len(values) > 1:\n            indexes.append(i)\n            id_values.append(presplit)\n        for value in values:\n            indexes.append(i)\n            val = value\n            index1 = val.find(\"AuId\")\n            index2 = val.find(\"AfN\")\n            index3 = val.find(\"'S'\")\n            if index3 < index1:\n                val = val[index1+4:index2]\n                val = val.strip(\"', :\")\n            else:\n                val = val[index1+4:index3]\n                val = val.strip(\"', :\")                \n            id_values.append(val)\n            index1 = value.find(\"AuN\")\n            val = value[index1+3:]\n            val = val.strip(\"': }]\")\n            name_values.append(val)\n    new_df = df.iloc[indexes, :].copy()\n    del df\n    new_df[column+\"_Id\"] = id_values\n    del new_df\n    new_new_df = new_df.iloc[:, :].copy()\n    new_new_df[column+\"_Name\"] = name_values\n    return new_new_df",
      "execution_count": null,
      "outputs": []
    },
    {
      "metadata": {
        "trusted": true,
        "_uuid": "160a079098ca48923a3d01d3ab31a48c83a0dc93"
      },
      "cell_type": "code",
      "source": "def process_year(df):\n    # Make more sensible column names\n    rename_dict = {\"AA\": \"Authors\", \n                   \"C\": \"Conference\", \n                   \"CC\": \"Citation_count\",\n                   \"ECC\": \"Expected_count\",\n                   \"D\": \"Date\", \n                   \"F\": \"Domain\", \n                   \"J\": \"Journal\", \n                   \"RId\": \"References\", \n                   \"Ti\": \"Title\", \n                   \"VFN\": \"Venue\", \n                   \"W\": \"Words\", \n                   \"Y\": \"Year\", \n                   \"logprob\":\"Popularity\",\n                   \"Unnamed: 0\": \"Row_num\"}\n    df.rename(index=str, columns=rename_dict, inplace=True)\n    df.drop_duplicates(subset=['Title'], inplace=True)\n    df[\"Month\"] = pd.to_datetime(df[\"Date\"]).dt.month\n    df = clean_data(df)\n    df = append_pub_score(df)\n    df[\"Publication Type\"] = df.apply(lambda row:find_conference_type(row),axis=1)\n    df[\"Number_Of_authors\"] = df.apply(lambda row:get_num_authors(row), axis = 1)\n    return df",
      "execution_count": null,
      "outputs": []
    },
    {
      "metadata": {
        "trusted": true,
        "_uuid": "84ab90dee99dd6123cf5ac182279833ca1649d8a"
      },
      "cell_type": "code",
      "source": "# df = pd.read_csv(\"../input/mag-2013/mag_2013.csv\")",
      "execution_count": null,
      "outputs": []
    },
    {
      "metadata": {
        "trusted": true,
        "_uuid": "9016cc8bc784a09f3ab41cc95115adbcc560a984"
      },
      "cell_type": "code",
      "source": "# only for year 2013\n# df = df[df['D'] != \"-20.259\"]",
      "execution_count": null,
      "outputs": []
    },
    {
      "metadata": {
        "trusted": true,
        "_uuid": "0540769347b899c896f42090084fe66b3bece32d"
      },
      "cell_type": "code",
      "source": "# df = process_year(df)",
      "execution_count": null,
      "outputs": []
    },
    {
      "metadata": {
        "trusted": true,
        "_uuid": "d0ff4542f6f1b8442a2462beee3199a36c70b9c7"
      },
      "cell_type": "code",
      "source": "# df.to_csv(\"mag_2013_processed.csv\")",
      "execution_count": null,
      "outputs": []
    },
    {
      "metadata": {
        "trusted": true,
        "_uuid": "5d1abd32ba5ad7c8fe3df8a76a33be8a923fafa7"
      },
      "cell_type": "code",
      "source": "print(os.listdir(\"../input/\"))",
      "execution_count": null,
      "outputs": []
    },
    {
      "metadata": {
        "trusted": true,
        "_uuid": "0837b685bdba1a91db8c407bdf324dc6ee22f8dc"
      },
      "cell_type": "code",
      "source": "columns = ['Unnamed: 0','Authors', 'Conference','Citation_count','Date','Expected_count','Domain','Id','Journal','References','Title','Venue','Words','Year','Popularity','Month','Publication_Rank','Publication Type','Number_Of_authors']",
      "execution_count": null,
      "outputs": []
    },
    {
      "metadata": {
        "trusted": true,
        "_uuid": "1a0818183568ad420a028de7a70150696174b824"
      },
      "cell_type": "code",
      "source": "df = pd.DataFrame(columns = columns)\n# please give a path that works on your machine. Keep all the processed files in this path\npath = \"../input/processedmagdata\"\nfor file in os.listdir(path):\n#     print(file)\n    df_temp = pd.read_csv(path+\"/\"+file)\n    df = df.append(df_temp)",
      "execution_count": null,
      "outputs": []
    },
    {
      "metadata": {
        "trusted": true,
        "_uuid": "d2fd4a4aa86122e8ba8a7e2bcb33fe28fd45c330"
      },
      "cell_type": "code",
      "source": "# df = get_open_access(df)",
      "execution_count": null,
      "outputs": []
    },
    {
      "metadata": {
        "trusted": true,
        "_uuid": "b5e8e78d5647090a2a7a6e9cdfde7ed7dcb4f248"
      },
      "cell_type": "code",
      "source": "# df.isna().sum()",
      "execution_count": null,
      "outputs": []
    },
    {
      "metadata": {
        "trusted": true,
        "_uuid": "bdb36bf74550114983f41fc4b3dcff254942c896"
      },
      "cell_type": "code",
      "source": "# df.head()",
      "execution_count": null,
      "outputs": []
    },
    {
      "metadata": {
        "trusted": true,
        "_uuid": "7f932bdf63b631da639d10372424ca0375ed8af1"
      },
      "cell_type": "code",
      "source": "# No duplicate values :)\n# df[df.duplicated()]",
      "execution_count": null,
      "outputs": []
    },
    {
      "metadata": {
        "trusted": true,
        "_uuid": "cb34a2a6f7097562acfc9f00f7c90c507cb29333"
      },
      "cell_type": "code",
      "source": "#size of data\n# df.shape",
      "execution_count": null,
      "outputs": []
    },
    {
      "metadata": {
        "trusted": true,
        "_uuid": "14b96495d899e75cfd3895fcf742a0dc91ace262"
      },
      "cell_type": "code",
      "source": "# df[\"Publication Type\"].value_counts()",
      "execution_count": null,
      "outputs": []
    },
    {
      "metadata": {
        "trusted": true,
        "_uuid": "321ec7a9a10d8a3691d14e003747c0dc24a5ac1d"
      },
      "cell_type": "code",
      "source": "# Number of rows with 0 citation count and 0 References\n# df[ (df['References'].isnull()) & (df['Citation_count']==0)].shape[0]",
      "execution_count": null,
      "outputs": []
    },
    {
      "metadata": {
        "trusted": true,
        "_uuid": "9dcd8173b5764ea7bbb93dd64b7166d832b7099a"
      },
      "cell_type": "code",
      "source": "#?\ndf = df.drop(['Unnamed: 0'],axis = 1)",
      "execution_count": null,
      "outputs": []
    },
    {
      "metadata": {
        "trusted": true,
        "_uuid": "71ecddd0360c65e34f501fcdd506c1e6a58674b1"
      },
      "cell_type": "code",
      "source": "#?\ndf.dropna(subset=['Publication_Rank'], how='all', inplace = True)",
      "execution_count": null,
      "outputs": []
    },
    {
      "metadata": {
        "trusted": true,
        "_uuid": "3c34935fb136d4e423a2fbaa9937a0f2739d1dbe"
      },
      "cell_type": "code",
      "source": "sns.set(style=\"darkgrid\",font_scale=1.3)\nax = sns.countplot(x=\"Publication Type\", data=df)",
      "execution_count": null,
      "outputs": []
    },
    {
      "metadata": {
        "trusted": true,
        "_uuid": "2c66a334f73cd02c8e5dfdc65c71c6612cb447f9"
      },
      "cell_type": "code",
      "source": "# paper publication throughout the period\nplt.figure(figsize=(13,6))\nsns.set(style=\"darkgrid\",font_scale=1.3)\nax = sns.countplot(x=\"Year\", data=df)\nplt.suptitle(\"Distribution of Paper published in Years\")",
      "execution_count": null,
      "outputs": []
    },
    {
      "metadata": {
        "trusted": true,
        "_uuid": "b50960ab2a4dfbff1da597d41543e3b2cc29e8ee"
      },
      "cell_type": "code",
      "source": "# paper publication around a year\nplt.figure(figsize=(13,6))\nsns.set(style=\"darkgrid\",font_scale=1.3)\nax = sns.countplot(x=\"Month\", data=df)\nax.set_xticklabels([\"January\",\"February\",\"March\", \"April\", \"May\", \"June\", \"July\", \"August\", \"September\", \"October\",\"November\", \"December\"])\nplt.suptitle(\"Number of paper published in each month\")",
      "execution_count": null,
      "outputs": []
    },
    {
      "metadata": {
        "trusted": true,
        "_uuid": "96f80b40a588d5d5fb9a4bace7b4a02e6c8ef5bd"
      },
      "cell_type": "code",
      "source": "# max(df.Number_Of_authors)",
      "execution_count": null,
      "outputs": []
    },
    {
      "metadata": {
        "trusted": true,
        "_uuid": "ca5412f6373b313352df04803a4a80ff2a7b0258"
      },
      "cell_type": "code",
      "source": "# df.sort_values(by=[\"Number_Of_authors\"], ascending=False).head()",
      "execution_count": null,
      "outputs": []
    },
    {
      "metadata": {
        "trusted": true,
        "_uuid": "52735880d2e4852f71951ad615e930557cecd20f"
      },
      "cell_type": "code",
      "source": "# Number of authors for the paper, Group data according to number of authors\nbins = [0, 10, 20, 40, 60, 80, 100, 200, 400, 500, np.inf]\n# author_groups = pd.cut(df[\"Number_Of_authors\"], bins)\n# df[\"author_groups\"] = author_groups\nplt.figure(figsize=(10,4))\nsns.set(style=\"darkgrid\",font_scale=1.1)\nsss = pd.cut(df['Number_Of_authors'], bins=bins)\nax = sss.value_counts(sort=False).plot.bar(rot=15)\nfor index, row in sss.iterrows():\n    g.text(row.name,row.tip, row.total_bill,2, color='black', ha=\"center\")\n# sns.distplot(sss)\n\nplt.suptitle(\"Number of authors for given paper\")",
      "execution_count": null,
      "outputs": []
    },
    {
      "metadata": {
        "trusted": true,
        "_uuid": "8c312b4f530f4c88b78842650044fca6ff60487b"
      },
      "cell_type": "code",
      "source": "sss.value_counts()",
      "execution_count": null,
      "outputs": []
    },
    {
      "metadata": {
        "trusted": true,
        "_uuid": "5c5e72fa34547507ca940a665cb493650abda8f8"
      },
      "cell_type": "code",
      "source": "import json\nimport ast\n# obj = json.loads(\"[{'AuId': 2168721218, 'S': 1, 'AuN': 'emelia j benjamin'},]\")\nobj = ast.literal_eval(df[\"Authors\"][24093])\nprint(len(obj))\nprint(json.dumps(obj[0], indent=2))\nuniversities = { _obj[\"AfN\"] for _obj in obj if \"AfN\" in _obj}\nprint(universities)",
      "execution_count": null,
      "outputs": []
    },
    {
      "metadata": {
        "trusted": true,
        "_uuid": "7a4a125902935bbc4a524205a9f0f314be6e85a8"
      },
      "cell_type": "code",
      "source": "df[\"Topic\"] = df.apply(lambda row: extract_field(row),axis = 1)",
      "execution_count": null,
      "outputs": []
    },
    {
      "metadata": {
        "trusted": true,
        "_uuid": "3e3f1fa126c37bcd19b6c46270c459ccf0b15cca"
      },
      "cell_type": "code",
      "source": "# Keeping the top topics only\ntop_topics = [\"medicine\",\"biology\",\"chemistry\",\"physics\",\"psychology\",\"materials science\",\"economics\",\"mathematics\",\"geology\",\"computer science\",\"sociology\",\"environmental science\",\"engineering\",\"business\",\"political science\",\"geography\",\"history\",\"philosophy\",\"artificial intelligence\",\"art\"]\ntopic_list = []\nfor index,row in df.iterrows():\n    if row[\"Topic\"] not in top_topics:\n        topic_list.append(df_pub[df_pub[\"Title\"] == row[\"Venue\"]][\"Subject Area\"].tolist()[0])\n    else:\n        topic_list.append(row[\"Topic\"])\ndf[\"Topic\"] = topic_list\ndel topic_list",
      "execution_count": null,
      "outputs": []
    },
    {
      "metadata": {
        "trusted": true,
        "_uuid": "9db9ef0155a8ef22b6757391bebe30eb08545853"
      },
      "cell_type": "code",
      "source": "plt.figure(figsize=(13,6))\ntop_10 = df[\"Topic\"].value_counts()[0:10]\nprint(top_10)\ntop_10.plot(kind = \"bar\")",
      "execution_count": null,
      "outputs": []
    },
    {
      "metadata": {
        "trusted": true,
        "_uuid": "52bd1255a57489e5925702713e22d736d10a6151"
      },
      "cell_type": "code",
      "source": "topic_list = df[\"Topic\"].tolist()\ntopic_dict = {}\ni=0\nfor topic in topic_list:\n    topic_dict[topic] = i\n    i += 1",
      "execution_count": null,
      "outputs": []
    },
    {
      "metadata": {
        "trusted": true,
        "_uuid": "326e4c67c03d11cf92213cfdc4a8df825b8c0b25"
      },
      "cell_type": "code",
      "source": "venue_list = df[\"Venue\"].tolist()\nvenue_dict = {}\ni=0\nfor venue in venue_list:\n    venue_dict[venue] = i\n    i += 1",
      "execution_count": null,
      "outputs": []
    },
    {
      "metadata": {
        "trusted": true,
        "_uuid": "16722486ee31e7642efab181e7a2780dce39ca0c"
      },
      "cell_type": "code",
      "source": "# df[\"Topic_Label\"] = df.apply(lambda row: topic_dict[row[\"Topic\"]],axis = 1)\ndf[\"Year Since Publication\"] = df.apply(lambda row: 2018-row[\"Year\"],axis =1)\ndf[\"Venue_label\"] = df.apply(lambda row: venue_dict[row[\"Venue\"]],axis = 1)\ndf[\"Topic_label\"] = df.apply(lambda row: topic_dict[row[\"Topic\"]],axis = 1)",
      "execution_count": null,
      "outputs": []
    },
    {
      "metadata": {
        "trusted": true,
        "_uuid": "0d15944e5723f0939078f41da421f0c07cad856b"
      },
      "cell_type": "code",
      "source": "del venue_list\ndel venue_dict\ndel topic_list\ndel topic_dict",
      "execution_count": null,
      "outputs": []
    },
    {
      "metadata": {
        "trusted": true,
        "_uuid": "73fb9d4b7df84d0137bb6ef39211284f409e07b0"
      },
      "cell_type": "code",
      "source": "outlink_map = {}\ninlink_map = {}\ndf_new = df[df[\"References\"].notnull()]\nfor index, row in df_new.iterrows():\n    ref = row[\"References\"]\n    ref_list = list(map(int,ref.strip(\"[]'\").split(\",\")))\n    outlink_map[row[\"Id\"]] = ref_list\n    for ref in ref_list:\n        listi = inlink_map.get(ref, [])\n        listi.append(row[\"Id\"])\n        inlink_map[ref] = listi",
      "execution_count": null,
      "outputs": []
    },
    {
      "metadata": {
        "trusted": true,
        "_uuid": "11ae31ad9925e4bb1970747e3f495fddc7e79fec"
      },
      "cell_type": "code",
      "source": "def calculate_page_rank():\n    count = 0\n    page_year = {row[\"Id\"]:row[\"Year\"] for _t, row in df.iterrows()}\n    year_citation_count = { page_year[index]:0 for index in page_year}\n    year_paper_count = { page_year[index]:0 for index in page_year}\n    avg_year_citation_count = {}\n    for index in page_year:\n        year = page_year[index]\n        len_outlink = len(outlink_map.get(index, []))\n        if len_outlink > 0:\n            year_citation_count[year] += len_outlink\n            year_paper_count[year] += 1\n    for year in year_citation_count:\n        if year_paper_count[year] > 0:\n            avg_year_citation_count[year] = year_citation_count[year]/year_paper_count[year]\n    page_rank = {}\n    updated_page_rank = {}\n    for index in df[\"Id\"]:\n        page_rank[index] = 1\n    while True:\n        count += 1\n        flag = True\n        for key in page_rank:\n            cs = page_rank[key]\n            if key in inlink_map:\n                inlink_list = inlink_map[key]\n                ns = 0\n                for link in inlink_list:\n                    if link in page_rank and link in outlink_map:\n                        ns += page_rank[link]/len(outlink_map[link])\n                #ns = 0.15 + (0.85 * ns)\n                ns = 0.15 + float(0.85) * (ns/avg_year_citation_count[page_year[key]])\n                if cs != ns:\n                    flag = False\n                updated_page_rank[key] = ns\n        if flag == True:\n            print(count)\n            break\n        page_rank = updated_page_rank\n        updated_page_rank = {}\n        max_score = max(page_rank.values())\n        print(f\"max score is {max_score}\")\n        page_rank = { index:score/max_score for index, score in page_rank.items()}\n        return page_rank",
      "execution_count": null,
      "outputs": []
    },
    {
      "metadata": {
        "trusted": true,
        "_uuid": "46652242cea394b2855919dde313a39be7e50ad1"
      },
      "cell_type": "code",
      "source": "page_rank = calculate_page_rank()\nprint(max(page_rank.values()))\nprint(sum(page_rank.values()))",
      "execution_count": null,
      "outputs": []
    },
    {
      "metadata": {
        "trusted": true,
        "_uuid": "ead0cd3a2ba6b55fea2d8e1321855d016dcf3b41"
      },
      "cell_type": "code",
      "source": "del inlink_map\ndel outlink_map",
      "execution_count": null,
      "outputs": []
    },
    {
      "metadata": {
        "trusted": true,
        "_uuid": "b19f35a3938a1a9bc87cd28e3839089d0b40db6c"
      },
      "cell_type": "code",
      "source": "df[\"page_rank\"] = 0\ndef update_rank(row):\n    if row[\"Id\"] in page_rank:\n        return page_rank[row[\"Id\"]]\n    else:\n        return 0\ndf[\"page_rank\"] = df.apply(lambda row: update_rank(row),axis = 1)\ndf[\"page_rank\"][0:10]",
      "execution_count": null,
      "outputs": []
    },
    {
      "metadata": {
        "trusted": true,
        "_uuid": "0f49cc35e40b10d52c8b0df5d75d1f2c55f7db3f"
      },
      "cell_type": "code",
      "source": "# df.to_csv(\"ranked_processed_data.csv\")",
      "execution_count": null,
      "outputs": []
    },
    {
      "metadata": {
        "trusted": true,
        "_uuid": "af48e8114eafaf43ac37e4f83648bffe1c6e4716"
      },
      "cell_type": "code",
      "source": "del page_rank",
      "execution_count": null,
      "outputs": []
    },
    {
      "metadata": {
        "trusted": true,
        "_uuid": "6672ac63ff14de0ad0c48fabea3472b2a411ed0b"
      },
      "cell_type": "code",
      "source": "cf_list = {}\ncf_score = {}\ni = 0\nfor index,row in df.iterrows():\n    info_list = cf_list.get(row[\"Venue\"],[0,0])\n    info_list[0] += row[\"page_rank\"]\n    info_list[1] += 1\n    cf_list[row[\"Venue\"]] = info_list\n    i += 1\nfor key,value in cf_list.items():\n    score = value[0]/value[1]\n    cf_score[key] = score",
      "execution_count": null,
      "outputs": []
    },
    {
      "metadata": {
        "trusted": true,
        "_uuid": "7eb5d0afaba736ba720064a7f9e8816f3babf62d"
      },
      "cell_type": "code",
      "source": "del cf_list",
      "execution_count": null,
      "outputs": []
    },
    {
      "metadata": {
        "trusted": true,
        "_uuid": "b7ded385c4dbfed113dd0fe849ddd9698b70819c"
      },
      "cell_type": "code",
      "source": "df.head()",
      "execution_count": null,
      "outputs": []
    },
    {
      "metadata": {
        "trusted": true,
        "_uuid": "d801848a16828d46b862a2f87881373c46c49e70"
      },
      "cell_type": "code",
      "source": "# author_score = {}\n# author_list = {}\n# for index,row in df.iterrows():\n#     values = row[\"Authors\"].split(\"},\")\n#     for value in values:\n#         val = value\n#         index1 = val.find(\"AuId\")\n#         index2 = val.find(\"AfN\")\n#         index3 = val.find(\"'S'\")\n#         if index3 < index1:\n#             val = val[index1+4:index2]\n#             val = val.strip(\"', :\")\n#         else:\n#             val = val[index1+4:index3]\n#             val = val.strip(\"', :\")                \n#         auth_id = val\n#         index1 = value.find(\"AuN\")\n#         val = value[index1+3:]\n#         val = val.strip(\"': }]\")\n#         auth_name = val\n#         auth_info = author_list.get(auth_id,[\"\",0,0])\n#         auth_info[0] = auth_name\n#         auth_info[1] += row[\"page_rank\"] * cf_score[row[\"Venue\"]]\n#         auth_info[2] += 1\n#         author_list[auth_id] = auth_info\n# for key, value in author_list.items():\n#     auth_info = author_list.get(key,[\"\",0,0])\n#     author_score[key] = auth_info[1]/auth_info[2]",
      "execution_count": null,
      "outputs": []
    },
    {
      "metadata": {
        "trusted": true,
        "_uuid": "d7844a21bffb6bc5de9ed64050fafae67ccff68f"
      },
      "cell_type": "code",
      "source": "author_score = {}\nauthor_list = {}\nfor index,row in df.iterrows():\n    values = row[\"Authors\"].split(\"},\")\n    for value in values:\n        val = value\n        index1 = val.find(\"AuId\")\n        index2 = val.find(\"AfN\")\n        index3 = val.find(\"'S'\")\n        if index3 < index1:\n            val = val[index1+4:index2]\n            val = val.strip(\"', :\")\n        else:\n            val = val[index1+4:index3]\n            val = val.strip(\"', :\")                \n        auth_id = val\n        index1 = value.find(\"AuN\")\n        val = value[index1+3:]\n        val = val.strip(\"': }]\")\n        auth_name = val\n        auth_info = author_list.get(auth_id,[\"\",0,0,0,set()])\n        auth_info[0] = auth_name\n        auth_info[1] += row[\"page_rank\"] * cf_score[row[\"Venue\"]]\n        auth_info[2] += 1\n        auth_info[3] += row[\"Citation_count\"]\n        auth_info[4].add(row[\"Venue\"])\n        author_list[auth_id] = auth_info\nfor key, value in author_list.items():\n    auth_info = author_list.get(key,[\"\",0,0])\n    author_score[key] = auth_info[1]/auth_info[2]",
      "execution_count": null,
      "outputs": []
    },
    {
      "metadata": {
        "trusted": true,
        "_uuid": "0a11188aec4a925ae15c7d51bdc4b2d75619f737"
      },
      "cell_type": "code",
      "source": "def get_author_papers(auth_id):\n    auth_info = author_list.get(auth_id,[\"\",0,0,0])\n    return auth_info[2]\ndef get_author_citation(auth_id):\n    auth_info = author_list.get(auth_id,[\"\",0,0,0])\n    return auth_info[3]\ndef get_author_name(auth_id):\n    auth_info = author_list.get(auth_id,[\"\",0,0,0])\n    return auth_info[0]\ndef get_author_publications(auth_id):\n    auth_info = author_list.get(auth_id,[\"\",0,0,0])\n    return len(auth_info[4])",
      "execution_count": null,
      "outputs": []
    },
    {
      "metadata": {
        "trusted": true,
        "_uuid": "7c4af276db415595ae7b0a33b01741b8b53cf0a6"
      },
      "cell_type": "code",
      "source": "columns = [\"Author Id\",\"Author Name\",\"Number Of Papers\",\"Number Of Publications\",\"Author Score\",\"Number Of Citations\"]\ndf_authors = pd.DataFrame(np.nan, index=range(0,len(author_score.keys())),columns=columns)\ndf_authors[\"Author Id\"] = author_score.keys()\ndf_authors[\"Author Score\"] = author_score.values()\ndf_authors[\"Number Of Citations\"] = df_authors.apply(lambda row: get_author_citation(row[\"Author Id\"]),axis = 1)\ndf_authors[\"Number Of Papers\"] = df_authors.apply(lambda row: get_author_papers(row[\"Author Id\"]),axis = 1)\ndf_authors[\"Author Name\"] = df_authors.apply(lambda row: get_author_name(row[\"Author Id\"]),axis = 1)\ndf_authors[\"Number Of Publications\"] = df_authors.apply(lambda row: get_author_publications(row[\"Author Id\"]),axis = 1)",
      "execution_count": null,
      "outputs": []
    },
    {
      "metadata": {
        "trusted": true,
        "_uuid": "8953dc634956bdea498c04b183a3690c38be0931"
      },
      "cell_type": "code",
      "source": "del author_list\n# del author_score\ndel cf_score",
      "execution_count": null,
      "outputs": []
    },
    {
      "metadata": {
        "trusted": true,
        "_uuid": "294479b5e0257689e580f3af6fd4e48aa6651f5a"
      },
      "cell_type": "code",
      "source": "# df = tidy_split(df,\"Authors\",\"},\")",
      "execution_count": null,
      "outputs": []
    },
    {
      "metadata": {
        "trusted": true,
        "_uuid": "08ccd8938462e6fbd625b4c9aee80034d21e4f93"
      },
      "cell_type": "code",
      "source": "def get_avg_author_score(row):\n    values = row[\"Authors\"].split(\"},\")\n    sum_score = 0\n    for value in values:\n        val = value\n        index1 = val.find(\"AuId\")\n        index2 = val.find(\"AfN\")\n        index3 = val.find(\"'S'\")\n        if index3 < index1:\n            val = val[index1+4:index2]\n            val = val.strip(\"', :\")\n        else:\n            val = val[index1+4:index3]\n            val = val.strip(\"', :\")                \n        auth_id = val\n        sum_score += author_score[auth_id]\n#         sum_score = df_authors[df_authors[\"Author Id\"] == auth_id][\"Author Score\"]\n    return sum_score/row[\"Number_Of_authors\"]",
      "execution_count": null,
      "outputs": []
    },
    {
      "metadata": {
        "trusted": true,
        "_uuid": "f483219f214e2fbf297266b4aabe0dd573d86d42"
      },
      "cell_type": "code",
      "source": "df[\"Avg_Author_score\"] = df.apply(lambda row: get_avg_author_score(row),axis = 1)",
      "execution_count": null,
      "outputs": []
    },
    {
      "metadata": {
        "trusted": true,
        "_uuid": "1cec32f51653e0c5bfa8e64e50cfaf8771b3f3da"
      },
      "cell_type": "code",
      "source": "def get_first_author(row):\n    values = row[\"Authors\"].split(\"},\")\n    val = values[0]\n    index1 = val.find(\"AuId\")\n    index2 = val.find(\"AfN\")\n    index3 = val.find(\"'S'\")\n    if index3 < index1:\n        val = val[index1+4:index2]\n        val = val.strip(\"', :\")\n    else:\n        val = val[index1+4:index3]\n        val = val.strip(\"', :\")                \n    auth_id = val\n    return auth_id\ndef get_first_author_score(row):\n    values = row[\"Authors\"].split(\"},\")\n    val = values[0]\n    index1 = val.find(\"AuId\")\n    index2 = val.find(\"AfN\")\n    index3 = val.find(\"'S'\")\n    if index3 < index1:\n        val = val[index1+4:index2]\n        val = val.strip(\"', :\")\n    else:\n        val = val[index1+4:index3]\n        val = val.strip(\"', :\")                \n    auth_id = val\n    return author_score[auth_id]\n#     return df[df[\"Author Id\"] == auth_id][\"Author Score\"]",
      "execution_count": null,
      "outputs": []
    },
    {
      "metadata": {
        "trusted": true,
        "_uuid": "a2c22cf302ff3ed7794b2bb1ef6d596cfc568a91"
      },
      "cell_type": "code",
      "source": "df[\"FirstAuthor\"] = df.apply(lambda row: get_first_author(row),axis = 1)\ndf[\"FirstAuthorScore\"] = df.apply(lambda row: get_first_author_score(row),axis = 1)",
      "execution_count": null,
      "outputs": []
    },
    {
      "metadata": {
        "trusted": true,
        "_uuid": "53e52362ee45a238a80836ad501dba29b8ce8c20"
      },
      "cell_type": "code",
      "source": "del author_score",
      "execution_count": null,
      "outputs": []
    },
    {
      "metadata": {
        "trusted": true,
        "_uuid": "e8953bb8c8f09aa5a916761a2ecae51269e7e105"
      },
      "cell_type": "code",
      "source": "df[\"Domain_count\"] = df.apply(lambda row:get_num_domains(row), axis = 1)",
      "execution_count": null,
      "outputs": []
    },
    {
      "metadata": {
        "trusted": true,
        "_uuid": "8f17f0738f949d2460e2d070e49be236de90f242"
      },
      "cell_type": "code",
      "source": "df.head()",
      "execution_count": null,
      "outputs": []
    },
    {
      "metadata": {
        "trusted": true,
        "_uuid": "46552181297e26b3fdcecfa4cb6288f797d40675"
      },
      "cell_type": "code",
      "source": "df.to_csv(\"final_featured_data.csv\")",
      "execution_count": null,
      "outputs": []
    },
    {
      "metadata": {
        "trusted": true,
        "_uuid": "60b24a5ab8f81c3b62d56cc705a3c5de6bbf386a"
      },
      "cell_type": "code",
      "source": "features = ['Avg_Author_score','FirstAuthor','FirstAuthorScore','Citation_count','Id','Year','Popularity','Month','Publication_Rank','Publication Type','Number_Of_authors','Year Since Publication','Venue_label','Domain_count','Topic_label']",
      "execution_count": null,
      "outputs": []
    },
    {
      "metadata": {
        "trusted": true,
        "_uuid": "ebe3019087a13dfaafc48e2ed7119138af366835"
      },
      "cell_type": "code",
      "source": "df[\"FirstAuthor\"] = df[\"FirstAuthor\"].astype(int)\ndf[\"Number_Of_authors\"] = df[\"Number_Of_authors\"].astype(int)\ndf[\"Publication Type\"] = df[\"Publication Type\"].astype(int)\ndf[\"Month\"] = df[\"Month\"].astype(int)\ndf[\"Id\"] = df[\"Id\"].astype(int)\ndf[\"Year\"] = df[\"Year\"].astype(int)\ndf[\"Citation_count\"] = df[\"Citation_count\"].astype(int)",
      "execution_count": null,
      "outputs": []
    },
    {
      "metadata": {
        "trusted": true,
        "_uuid": "0f44afb7776b60cd85b0635ed6dd04ff9b03714a"
      },
      "cell_type": "code",
      "source": "df_train = df[df[\"Year\"] <= 2010]\ndf_dev = df[df[\"Year\"] == 2011]\ndf_eval = df[df[\"Year\"] > 2011]",
      "execution_count": null,
      "outputs": []
    },
    {
      "metadata": {
        "trusted": true,
        "_uuid": "6fdc8225c514979b6db14e4113573bc1a13e24ad"
      },
      "cell_type": "code",
      "source": "# df.dtypes",
      "execution_count": null,
      "outputs": []
    },
    {
      "metadata": {
        "trusted": true,
        "_uuid": "0a02aa57f46a0535fc5e8d96535a54d201a6065d"
      },
      "cell_type": "code",
      "source": "# df.shape",
      "execution_count": null,
      "outputs": []
    },
    {
      "metadata": {
        "trusted": true,
        "_uuid": "573245d1a73e436e3d633e545f8b48cdeb179de8"
      },
      "cell_type": "code",
      "source": "import lightgbm as lgb \n\nlgb_params = {\"objective\" : \"regression\", \"metric\" : \"rmse\",\n              \"num_leaves\" : 70, \"learning_rate\" : 0.01, \n              \"bagging_fraction\" : 0.75, \"feature_fraction\" : 0.8, \"bagging_frequency\" : 9}\n    \nlgb_train = lgb.Dataset(df_train[features], label=df_train[\"page_rank\"])\nlgb_val = lgb.Dataset(df_dev[features], label=df_dev[\"page_rank\"])\nmodel = lgb.LGBMRegressor(boosting_type='gbdt',num_leaves=31,max_depth=-1, \nlearning_rate=0.01, \nn_estimators=1000, \nmax_bin=255, \nsubsample_for_bin=50000, \nobjective=None, \nmin_split_gain=0, \nmin_child_weight=3,\nmin_child_samples=10, \nsubsample=1, \nsubsample_freq=1, \ncolsample_bytree=1, \nreg_alpha=0.1, \nreg_lambda=0, \nseed=17,\nsilent=False, \nnthread=-1)\nmodel.fit(df_train[features], df_train[\"page_rank\"], eval_set=[(df_dev[features], df_dev[\"page_rank\"])])",
      "execution_count": null,
      "outputs": []
    },
    {
      "metadata": {
        "trusted": true,
        "_uuid": "e7df1f97eeb3bcd56bcfbd8d3757964a4cab9db2"
      },
      "cell_type": "code",
      "source": "pred_dev = model.predict(df_dev[features])\npred_test = model.predict(df_eval[features])",
      "execution_count": null,
      "outputs": []
    },
    {
      "metadata": {
        "trusted": true,
        "_uuid": "8fcf0fce22f4c7df1a65774481d9196b573ce7b9"
      },
      "cell_type": "code",
      "source": "df_eval['prob'] = pred_test",
      "execution_count": null,
      "outputs": []
    },
    {
      "metadata": {
        "trusted": true,
        "_uuid": "017cc2f310ebc4aedbb2a21f43aebb5992409d1a"
      },
      "cell_type": "code",
      "source": "import math\n\ndef sigmoid(x):\n  return 1 / (1 + math.exp(-x))",
      "execution_count": null,
      "outputs": []
    },
    {
      "metadata": {
        "trusted": true,
        "_uuid": "01a2ab6a22cfd84a02dafbf8ecf219d73401cf01"
      },
      "cell_type": "code",
      "source": "df_eval['prob'] = df_eval.apply (lambda row: sigmoid(row[\"page_rank\"]),axis=1)\ndf_eval = df_eval.sort_values(by=['prob'],ascending=False)\nprint(df_eval[0:100])",
      "execution_count": null,
      "outputs": []
    },
    {
      "metadata": {
        "trusted": true,
        "_uuid": "34314b3c6c3dc0b4fa70388902368bb441bb85eb"
      },
      "cell_type": "code",
      "source": "imp_list = model.feature_importances_",
      "execution_count": null,
      "outputs": []
    },
    {
      "metadata": {
        "trusted": true,
        "_uuid": "d956fa128f4f1db8b36923fdd1e44004a22bfd98"
      },
      "cell_type": "code",
      "source": "num = sum(imp_list)",
      "execution_count": null,
      "outputs": []
    },
    {
      "metadata": {
        "trusted": true,
        "_uuid": "16cc050c8692dc67d1403c264fe926b90e42ff4e"
      },
      "cell_type": "code",
      "source": "import matplotlib.pyplot as plt\nimport seaborn as sns\nimport warnings\nwarnings.simplefilter(action='ignore', category=FutureWarning)\n\n# sorted(zip(clf.feature_importances_, X.columns), reverse=True)\nfeature_imp = pd.DataFrame(sorted(zip(model.feature_importances_,features)), columns=['Value','Feature'])\n\nplt.figure(figsize=(20, 10))\nsns.barplot(x=\"Value\", y=\"Feature\", data=feature_imp.sort_values(by=\"Value\", ascending=False))\nplt.title('LightGBM Features (avg over folds)')\nplt.tight_layout()\nplt.show()\nplt.savefig('lgbm_importances-01.png')",
      "execution_count": null,
      "outputs": []
    },
    {
      "metadata": {
        "trusted": true,
        "_uuid": "1a4b4d565da71f4a89630651c0492b275c4a0cc5"
      },
      "cell_type": "code",
      "source": "df_eval.to_csv(\"Model_output_rank.csv\")",
      "execution_count": null,
      "outputs": []
    },
    {
      "metadata": {
        "trusted": true,
        "_uuid": "072fc2a7cca45a3db8b576a4561c3763680b45be"
      },
      "cell_type": "code",
      "source": "df_eval.head()",
      "execution_count": null,
      "outputs": []
    },
    {
      "metadata": {
        "trusted": true,
        "_uuid": "a4b96698d1e9b6c5ff68942f5ff1c6181274c3da"
      },
      "cell_type": "code",
      "source": "author_score = {}\nauthor_list = {}\nfor index,row in df_eval.iterrows():\n    values = row[\"Authors\"].split(\"},\")\n    for value in values:\n        val = value\n        index1 = val.find(\"AuId\")\n        index2 = val.find(\"AfN\")\n        index3 = val.find(\"'S'\")\n        if index3 < index1:\n            val = val[index1+4:index2]\n            val = val.strip(\"', :\")\n        else:\n            val = val[index1+4:index3]\n            val = val.strip(\"', :\")                \n        auth_id = val\n        index1 = value.find(\"AuN\")\n        val = value[index1+3:]\n        val = val.strip(\"': }]\")\n        auth_name = val\n        auth_info = author_list.get(auth_id,[0,0])\n        auth_info[0] += row[\"page_rank\"] * row[\"prob\"]\n        auth_info[1] += 1\n        author_list[auth_id] = auth_info\nfor key, value in author_list.items():\n    auth_info = author_list.get(key,[0,0])\n    author_score[key] = auth_info[0]/auth_info[1]",
      "execution_count": null,
      "outputs": []
    },
    {
      "metadata": {
        "trusted": true,
        "_uuid": "81c4e032d8d6b901112adfe2d1b39dc0e1c200f8"
      },
      "cell_type": "code",
      "source": "def get_author_new_score(auth_id):\n    if auth_id in author_score.keys():\n        return author_score[auth_id]\n    else:\n        return 0",
      "execution_count": null,
      "outputs": []
    },
    {
      "metadata": {
        "trusted": true,
        "_uuid": "84da0d0dc961a9ea4ab3a7e6cdbb22e9b6e1752b"
      },
      "cell_type": "code",
      "source": "del authr_list\ndel author_score",
      "execution_count": null,
      "outputs": []
    },
    {
      "metadata": {
        "trusted": true,
        "_uuid": "f9d18817251fb03fa37811535c1a7bf937345862"
      },
      "cell_type": "code",
      "source": "df_authors[\"Pred Score\"] = df_authors.apply(lambda row: get_author_new_score(row[\"Author Id\"]),axis = 1)",
      "execution_count": null,
      "outputs": []
    },
    {
      "metadata": {
        "trusted": true,
        "_uuid": "3ed05f51f28043b074ac78882cc75e0af2b999d3"
      },
      "cell_type": "code",
      "source": "df_authors.to_csv(\"Author_Table.csv\")",
      "execution_count": null,
      "outputs": []
    }
  ],
  "metadata": {
    "kernelspec": {
      "display_name": "Python 3",
      "language": "python",
      "name": "python3"
    },
    "language_info": {
      "name": "python",
      "version": "3.6.6",
      "mimetype": "text/x-python",
      "codemirror_mode": {
        "name": "ipython",
        "version": 3
      },
      "pygments_lexer": "ipython3",
      "nbconvert_exporter": "python",
      "file_extension": ".py"
    }
  },
  "nbformat": 4,
  "nbformat_minor": 1
}