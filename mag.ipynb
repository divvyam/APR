{
  "cells": [
    {
      "metadata": {
        "trusted": true,
        "_uuid": "46fd49295b665721d524e5d197d6a95c861a04ba"
      },
      "cell_type": "code",
      "source": "import os\nimport csv\nimport pandas as pd\nimport numpy as np\n\nimport datetime\nfrom pandas.io.json import json_normalize\nimport matplotlib.pyplot as plt\nimport seaborn as sns\ncolor = sns.color_palette()\n\n%matplotlib inline\n\nfrom plotly import tools\nimport plotly.offline as py\npy.init_notebook_mode(connected=True)\nimport plotly.graph_objs as go\nimport squarify\n\nfrom sklearn import model_selection, preprocessing, metrics\nplt.style.use('fivethirtyeight')\n\nprint(os.getcwd())\nprint(os.listdir(\"../\"))",
      "execution_count": 1,
      "outputs": [
        {
          "output_type": "display_data",
          "data": {
            "text/html": "<script type=\"text/javascript\">window.PlotlyConfig = {MathJaxConfig: 'local'};</script><script type=\"text/javascript\">if (window.MathJax) {MathJax.Hub.Config({SVG: {font: \"STIX-Web\"}});}</script><script>requirejs.config({paths: { 'plotly': ['https://cdn.plot.ly/plotly-latest.min']},});if(!window._Plotly) {require(['plotly'],function(plotly) {window._Plotly=plotly;});}</script>",
            "text/vnd.plotly.v1+html": "<script type=\"text/javascript\">window.PlotlyConfig = {MathJaxConfig: 'local'};</script><script type=\"text/javascript\">if (window.MathJax) {MathJax.Hub.Config({SVG: {font: \"STIX-Web\"}});}</script><script>requirejs.config({paths: { 'plotly': ['https://cdn.plot.ly/plotly-latest.min']},});if(!window._Plotly) {require(['plotly'],function(plotly) {window._Plotly=plotly;});}</script>"
          },
          "metadata": {}
        },
        {
          "output_type": "stream",
          "text": "/kaggle/working\n['config', 'lib', 'working', 'input']\n",
          "name": "stdout"
        }
      ]
    },
    {
      "metadata": {
        "scrolled": true,
        "trusted": true,
        "_uuid": "58882658662cf6ce89fa49b5865c433145b79076"
      },
      "cell_type": "code",
      "source": "def clean_data(df):\n    #since first column contains row number\n#     df.drop([\"Row_num\"], axis=1)\n    #removing  and kesEntityId as simillar fields are already present\n    df = df.drop(columns=[\"Row_num\",\"kesEntityId\"],axis=1)\n    df[\"Popularity\"] = df[\"Popularity\"].apply(pd.to_numeric,downcast='float')\n    df[\"Year\"] = df[\"Year\"].apply(pd.to_numeric,downcast='unsigned')\n    df[\"Month\"] = df[\"Month\"].apply(pd.to_numeric,downcast='unsigned')\n    df = df.dropna(subset=['Venue'])\n    return df",
      "execution_count": null,
      "outputs": []
    },
    {
      "metadata": {
        "trusted": true,
        "_uuid": "c313ba7bc8ad30eddf94d59dcad39362a348dcc6"
      },
      "cell_type": "code",
      "source": "# df_pub = pd.read_csv(\"../input/scopus-data/ProcessedScopusData.csv\")\n# If this doesn't work, please change it to the path where the file is locaed in your PC\ndf_pub = pd.read_csv(\"Data/ProcessedScopusData.csv\")",
      "execution_count": null,
      "outputs": []
    },
    {
      "metadata": {
        "trusted": true,
        "_uuid": "279398cf3313d739b569f574e6074e27cefe0240"
      },
      "cell_type": "code",
      "source": "def append_pub_score(df):\n    print(\"Unique Publications from Scopus:\",len(df_pub.Title.unique()))\n    # Analysing Common Publications\n    vfn_list = df.Venue.unique().tolist()\n    scopus_list = df_pub.Title.unique().tolist()\n    count = 0\n    for pub in scopus_list:\n        if pub in vfn_list:\n            count +=1\n    print(\"Publications present in Dataset:\",count)\n    print(\"Shape Before\",df.shape)\n    df = df[df.Venue.isin(scopus_list)]\n    print(\"Shape After\",df.shape)\n    #score appending\n    score_dict = pd.Series(df_pub.SJR.values,index=df_pub.Title).to_dict()\n    df[\"Publication_Rank\"] = df.apply(lambda row: score_dict[row[\"Venue\"]],axis = 1)\n    return df\n\ndef extract_field(row):\n    val = row[\"Domain\"]\n    index = val.rfind(\"FN\")\n    val = val[index+3:len(val)]\n    val = val.strip(\":}] '\")\n    return val\n\ndef get_num_authors(row):\n    vals = row[\"Authors\"].split(\"},\")\n    return len(vals)",
      "execution_count": null,
      "outputs": []
    },
    {
      "metadata": {
        "trusted": true,
        "_uuid": "53233bed795c7bef73f8954e5125c8982d909c02"
      },
      "cell_type": "code",
      "source": "label_dict = {\"C\":0,\"J\":1,\"CJ\":2,\"O\":3}\ndef find_conference_type(row):\n    if pd.isnull(row[\"Conference\"]) and pd.isnull(row[\"Journal\"]):\n        return label_dict[\"O\"]\n    elif pd.isnull(row[\"Conference\"]):\n        return label_dict[\"J\"]\n    elif pd.isnull(row[\"Journal\"]):\n        return label_dict[\"C\"]\n    else:\n        return label_dict[\"CJ\"]",
      "execution_count": null,
      "outputs": []
    },
    {
      "metadata": {
        "trusted": false,
        "_uuid": "9d57b8da22246e6b63c80f18ce99402a61145f9f"
      },
      "cell_type": "code",
      "source": "def tidy_split(df, column, sep='|', keep=False):\n    indexes = list()\n    id_values = list()\n    name_values = list()\n    df = df.dropna(subset=[column])\n    for i, presplit in enumerate(df[column].astype(str)):\n        values = presplit.split(sep)\n        if keep and len(values) > 1:\n            indexes.append(i)\n            id_values.append(presplit)\n        for value in values:\n            indexes.append(i)\n            val = value\n            index1 = val.find(\"AuId\")\n            index2 = val.find(\"AfN\")\n            index3 = val.find(\"'S'\")\n            if index3 < index1:\n                val = val[index1+4:index2]\n                val = val.strip(\"', :\")\n            else:\n                val = val[index1+4:index3]\n                val = val.strip(\"', :\")                \n            id_values.append(val)\n            index1 = value.find(\"AuN\")\n            val = value[index1+3:]\n            val = val.strip(\"': }]\")\n            name_values.append(val)\n    new_df = df.iloc[indexes, :].copy()\n    new_df[column+\"_Id\"] = id_values\n    new_new_df = new_df.iloc[:, :].copy()\n    new_new_df[column+\"_Name\"] = name_values\n    return new_new_df",
      "execution_count": null,
      "outputs": []
    },
    {
      "metadata": {
        "trusted": true,
        "_uuid": "160a079098ca48923a3d01d3ab31a48c83a0dc93"
      },
      "cell_type": "code",
      "source": "def process_year(df):\n    # Make more sensible column names\n    rename_dict = {\"AA\": \"Authors\", \n                   \"C\": \"Conference\", \n                   \"CC\": \"Citation_count\",\n                   \"ECC\": \"Expected_count\",\n                   \"D\": \"Date\", \n                   \"F\": \"Domain\", \n                   \"J\": \"Journal\", \n                   \"RId\": \"References\", \n                   \"Ti\": \"Title\", \n                   \"VFN\": \"Venue\", \n                   \"W\": \"Words\", \n                   \"Y\": \"Year\", \n                   \"logprob\":\"Popularity\",\n                   \"Unnamed: 0\": \"Row_num\"}\n    df.rename(index=str, columns=rename_dict, inplace=True)\n    df.drop_duplicates(subset=['Title'], inplace=True)\n    df[\"Month\"] = pd.to_datetime(df[\"Date\"]).dt.month\n    df = clean_data(df)\n    df = append_pub_score(df)\n    df[\"Publication Type\"] = df.apply(lambda row:find_conference_type(row),axis=1)\n    df[\"Number_Of_authors\"] = df.apply(lambda row:get_num_authors(row), axis = 1)\n    return df",
      "execution_count": null,
      "outputs": []
    },
    {
      "metadata": {
        "trusted": true,
        "_uuid": "84ab90dee99dd6123cf5ac182279833ca1649d8a"
      },
      "cell_type": "code",
      "source": "# df = pd.read_csv(\"../input/mag-2007/mag_2007.csv\")",
      "execution_count": null,
      "outputs": []
    },
    {
      "metadata": {
        "trusted": true,
        "_uuid": "0540769347b899c896f42090084fe66b3bece32d"
      },
      "cell_type": "code",
      "source": "# df = process_year(df)",
      "execution_count": null,
      "outputs": []
    },
    {
      "metadata": {
        "trusted": true,
        "_uuid": "d0ff4542f6f1b8442a2462beee3199a36c70b9c7"
      },
      "cell_type": "code",
      "source": "# df.to_csv(\"mag_2007_processed.csv\")",
      "execution_count": null,
      "outputs": []
    },
    {
      "metadata": {
        "trusted": true,
        "_uuid": "5d1abd32ba5ad7c8fe3df8a76a33be8a923fafa7"
      },
      "cell_type": "code",
      "source": "print(os.listdir(\"../input/processedmagdata\"))",
      "execution_count": 2,
      "outputs": [
        {
          "output_type": "stream",
          "text": "['mag_2018_processed.csv', 'mag_2011_processed.csv', 'mag_2013_processed.csv', 'mag_2009_processed.csv', 'mag_2008_processed.csv', 'mag_2010_processed.csv', 'mag_2014_processed.csv', 'mag_2017_processed.csv', 'mag_2016_processed.csv', 'mag_2015_processed.csv', 'mag_2007_processed.csv', 'mag_2012_processed.csv']\n",
          "name": "stdout"
        }
      ]
    },
    {
      "metadata": {
        "trusted": true,
        "_uuid": "0837b685bdba1a91db8c407bdf324dc6ee22f8dc"
      },
      "cell_type": "code",
      "source": "columns = ['Unnamed: 0','Authors', 'Conference','Citation_count','Date','Expected_count','Domain','Id','Journal','References','Title','Venue','Words','Year','Popularity','Month','Publication_Rank','Publication Type','Number_Of_authors']",
      "execution_count": 2,
      "outputs": []
    },
    {
      "metadata": {
        "trusted": true,
        "_uuid": "1a0818183568ad420a028de7a70150696174b824"
      },
      "cell_type": "code",
      "source": "df = pd.DataFrame(columns = columns)\n# please give a path that works on your machine. Keep all the processed files in this path\npath = \"../input/processedmagdata\"\nfor file in os.listdir(path):\n#     print(file)\n    df_temp = pd.read_csv(path+\"/\"+file)\n    df = df.append(df_temp)",
      "execution_count": 3,
      "outputs": [
        {
          "output_type": "stream",
          "text": "/opt/conda/lib/python3.6/site-packages/IPython/core/interactiveshell.py:2785: DtypeWarning:\n\nColumns (1) have mixed types. Specify dtype option on import or set low_memory=False.\n\n/opt/conda/lib/python3.6/site-packages/pandas/core/frame.py:6211: FutureWarning:\n\nSorting because non-concatenation axis is not aligned. A future version\nof pandas will change to not sort by default.\n\nTo accept the future behavior, pass 'sort=False'.\n\nTo retain the current behavior and silence the warning, pass 'sort=True'.\n\n\n",
          "name": "stderr"
        }
      ]
    },
    {
      "metadata": {
        "trusted": true,
        "_uuid": "b5e8e78d5647090a2a7a6e9cdfde7ed7dcb4f248"
      },
      "cell_type": "code",
      "source": "df.head()",
      "execution_count": 4,
      "outputs": [
        {
          "output_type": "execute_result",
          "execution_count": 4,
          "data": {
            "text/plain": "                                             Authors     ...     kesEntityId\n0  [{'AuId': 2285399872, 'S': 1, 'AuN': 'jeanmich...     ...             NaN\n1  [{'S': 1, 'AuId': 2309940897, 'AfN': 'johns ho...     ...             NaN\n2  [{'AuId': 2139142140, 'S': 1, 'AuN': 'borja ib...     ...             NaN\n3  [{'AuId': 2787512318, 'S': 1, 'AuN': 'marco va...     ...             NaN\n4  [{'S': 1, 'AuId': 2235459312, 'AfN': 'centre n...     ...             NaN\n\n[5 rows x 21 columns]",
            "text/html": "<div>\n<style scoped>\n    .dataframe tbody tr th:only-of-type {\n        vertical-align: middle;\n    }\n\n    .dataframe tbody tr th {\n        vertical-align: top;\n    }\n\n    .dataframe thead th {\n        text-align: right;\n    }\n</style>\n<table border=\"1\" class=\"dataframe\">\n  <thead>\n    <tr style=\"text-align: right;\">\n      <th></th>\n      <th>Authors</th>\n      <th>Citation_count</th>\n      <th>Conference</th>\n      <th>Date</th>\n      <th>Domain</th>\n      <th>Expected_count</th>\n      <th>Id</th>\n      <th>Journal</th>\n      <th>Month</th>\n      <th>Number_Of_authors</th>\n      <th>Popularity</th>\n      <th>Publication Type</th>\n      <th>Publication_Rank</th>\n      <th>References</th>\n      <th>Row_num</th>\n      <th>Title</th>\n      <th>Unnamed: 0</th>\n      <th>Venue</th>\n      <th>Words</th>\n      <th>Year</th>\n      <th>kesEntityId</th>\n    </tr>\n  </thead>\n  <tbody>\n    <tr>\n      <th>0</th>\n      <td>[{'AuId': 2285399872, 'S': 1, 'AuN': 'jeanmich...</td>\n      <td>827</td>\n      <td>NaN</td>\n      <td>2018-08-01</td>\n      <td>[{'FId': 2778867932, 'FN': 'paritaprevir'}, {'...</td>\n      <td>827</td>\n      <td>2185218296</td>\n      <td>{'JN': 'j hepatol', 'JId': 83651209}</td>\n      <td>8</td>\n      <td>6</td>\n      <td>-16.665</td>\n      <td>1</td>\n      <td>5.633</td>\n      <td>[2027545702, 2127685726, 2143559032, 212596379...</td>\n      <td>NaN</td>\n      <td>easl recommendations on treatment of hepatitis c</td>\n      <td>8</td>\n      <td>Journal of Hepatology</td>\n      <td>['c', 'easl', 'hepatitis', 'recommendations', ...</td>\n      <td>2018</td>\n      <td>NaN</td>\n    </tr>\n    <tr>\n      <th>1</th>\n      <td>[{'S': 1, 'AuId': 2309940897, 'AfN': 'johns ho...</td>\n      <td>820</td>\n      <td>NaN</td>\n      <td>2018-02-01</td>\n      <td>[{'FId': 33070731, 'FN': 'toxicology'}, {'FId'...</td>\n      <td>820</td>\n      <td>2779588417</td>\n      <td>{'JN': 'toxicol sci', 'JId': 186282544}</td>\n      <td>2</td>\n      <td>3</td>\n      <td>-16.711</td>\n      <td>1</td>\n      <td>1.538</td>\n      <td>[2319741579, 2605278466, 2685494954, 273903073...</td>\n      <td>NaN</td>\n      <td>green toxicology know early about and avoid to...</td>\n      <td>9</td>\n      <td>Toxicological Sciences</td>\n      <td>['avoid', 'early', 'green', 'know', 'liabiliti...</td>\n      <td>2018</td>\n      <td>NaN</td>\n    </tr>\n    <tr>\n      <th>2</th>\n      <td>[{'AuId': 2139142140, 'S': 1, 'AuN': 'borja ib...</td>\n      <td>578</td>\n      <td>NaN</td>\n      <td>2018-01-07</td>\n      <td>[{'FId': 2771771, 'FN': 'st segment'}, {'FId':...</td>\n      <td>578</td>\n      <td>2754054868</td>\n      <td>{'JN': 'eur heart j', 'JId': 181568219}</td>\n      <td>1</td>\n      <td>50</td>\n      <td>-16.790</td>\n      <td>1</td>\n      <td>9.315</td>\n      <td>[2166950143, 2099869131, 2105397247, 211582401...</td>\n      <td>NaN</td>\n      <td>2017 esc guidelines for the management of acut...</td>\n      <td>14</td>\n      <td>European Heart Journal</td>\n      <td>['2017', 'acute', 'cardiology', 'elevation', '...</td>\n      <td>2018</td>\n      <td>NaN</td>\n    </tr>\n    <tr>\n      <th>3</th>\n      <td>[{'AuId': 2787512318, 'S': 1, 'AuN': 'marco va...</td>\n      <td>331</td>\n      <td>NaN</td>\n      <td>2018-01-14</td>\n      <td>[{'FId': 2780890252, 'FN': 'ticagrelor'}, {'FI...</td>\n      <td>331</td>\n      <td>2752033985</td>\n      <td>{'JN': 'eur heart j', 'JId': 181568219}</td>\n      <td>1</td>\n      <td>18</td>\n      <td>-17.018</td>\n      <td>1</td>\n      <td>9.315</td>\n      <td>[2136489990, 2166950143, 2097854437, 216250894...</td>\n      <td>NaN</td>\n      <td>2017 esc focused update on dual antiplatelet t...</td>\n      <td>18</td>\n      <td>European Heart Journal</td>\n      <td>['2017', 'antiplatelet', 'artery', 'associatio...</td>\n      <td>2018</td>\n      <td>NaN</td>\n    </tr>\n    <tr>\n      <th>4</th>\n      <td>[{'S': 1, 'AuId': 2235459312, 'AfN': 'centre n...</td>\n      <td>429</td>\n      <td>NaN</td>\n      <td>2018-01-22</td>\n      <td>[{'FId': 78594624, 'FN': 'coherent control'}, ...</td>\n      <td>429</td>\n      <td>2785290892</td>\n      <td>{'JN': 'rep progr phys', 'JId': 105282323}</td>\n      <td>1</td>\n      <td>9</td>\n      <td>-17.092</td>\n      <td>1</td>\n      <td>5.640</td>\n      <td>[2163525631, 1978691316, 2145486367, 210200818...</td>\n      <td>NaN</td>\n      <td>coherent control of single electrons a review ...</td>\n      <td>19</td>\n      <td>Reports on Progress in Physics</td>\n      <td>['coherent', 'control', 'current', 'electrons'...</td>\n      <td>2018</td>\n      <td>NaN</td>\n    </tr>\n  </tbody>\n</table>\n</div>"
          },
          "metadata": {}
        }
      ]
    },
    {
      "metadata": {
        "trusted": true,
        "_uuid": "9dcd8173b5764ea7bbb93dd64b7166d832b7099a"
      },
      "cell_type": "code",
      "source": "df = df.drop(['Unnamed: 0','kesEntityId'],axis = 1)",
      "execution_count": 5,
      "outputs": []
    },
    {
      "metadata": {
        "trusted": true,
        "_uuid": "04e04e4b238be5b28e13c5fba39aa8e44df42398"
      },
      "cell_type": "code",
      "source": "df.shape",
      "execution_count": 12,
      "outputs": [
        {
          "output_type": "execute_result",
          "execution_count": 12,
          "data": {
            "text/plain": "(2633414, 19)"
          },
          "metadata": {}
        }
      ]
    },
    {
      "metadata": {
        "trusted": true,
        "_uuid": "ced356d7d51e03fc56b07bae2ff12a341f5b91d9"
      },
      "cell_type": "code",
      "source": "df[\"Publication Type\"].value_counts()",
      "execution_count": 6,
      "outputs": [
        {
          "output_type": "execute_result",
          "execution_count": 6,
          "data": {
            "text/plain": "1    1300446\n3       2069\n0       1775\nName: Publication Type, dtype: int64"
          },
          "metadata": {}
        }
      ]
    },
    {
      "metadata": {
        "trusted": true,
        "_uuid": "a34194cb5f1bb681c81dd47f427ce214b40c6c80"
      },
      "cell_type": "code",
      "source": "max(df.Number_Of_authors)",
      "execution_count": 7,
      "outputs": [
        {
          "output_type": "execute_result",
          "execution_count": 7,
          "data": {
            "text/plain": "500"
          },
          "metadata": {}
        }
      ]
    },
    {
      "metadata": {
        "trusted": true,
        "_uuid": "3c34935fb136d4e423a2fbaa9937a0f2739d1dbe"
      },
      "cell_type": "code",
      "source": "import seaborn as sns\nsns.set(style=\"darkgrid\")\nax = sns.countplot(x=\"Publication Type\", data=df)",
      "execution_count": 8,
      "outputs": [
        {
          "output_type": "display_data",
          "data": {
            "text/plain": "<Figure size 432x288 with 1 Axes>",
            "image/png": "[encoded data removed]"
          },
          "metadata": {}
        }
      ]
    },
    {
      "metadata": {
        "trusted": true,
        "_uuid": "7cbb405aedcc02fd04376a2bc0019df8e0c21380"
      },
      "cell_type": "code",
      "source": "# import seaborn as sns\n# sns.set(style=\"darkgrid\")\n# ax = sns.countplot(x=\"Venue\", data=df)",
      "execution_count": null,
      "outputs": []
    },
    {
      "metadata": {
        "trusted": true,
        "_uuid": "2c66a334f73cd02c8e5dfdc65c71c6612cb447f9"
      },
      "cell_type": "code",
      "source": "import seaborn as sns\nsns.set(style=\"darkgrid\")\nax = sns.countplot(x=\"Year\", data=df)",
      "execution_count": 9,
      "outputs": [
        {
          "output_type": "display_data",
          "data": {
            "text/plain": "<Figure size 432x288 with 1 Axes>",
            "image/png": "[encoded data removed]"
          },
          "metadata": {}
        }
      ]
    },
    {
      "metadata": {
        "trusted": true,
        "_uuid": "b50960ab2a4dfbff1da597d41543e3b2cc29e8ee"
      },
      "cell_type": "code",
      "source": "import seaborn as sns\nsns.set(style=\"darkgrid\")\nax = sns.countplot(x=\"Month\", data=df)",
      "execution_count": 10,
      "outputs": [
        {
          "output_type": "display_data",
          "data": {
            "text/plain": "<Figure size 432x288 with 1 Axes>",
            "image/png": "[encoded data removed]"
          },
          "metadata": {}
        }
      ]
    },
    {
      "metadata": {
        "trusted": true,
        "_uuid": "73fb9d4b7df84d0137bb6ef39211284f409e07b0"
      },
      "cell_type": "code",
      "source": "",
      "execution_count": null,
      "outputs": []
    }
  ],
  "metadata": {
    "kernelspec": {
      "display_name": "Python 3",
      "language": "python",
      "name": "python3"
    },
    "language_info": {
      "name": "python",
      "version": "3.6.6",
      "mimetype": "text/x-python",
      "codemirror_mode": {
        "name": "ipython",
        "version": 3
      },
      "pygments_lexer": "ipython3",
      "nbconvert_exporter": "python",
      "file_extension": ".py"
    }
  },
  "nbformat": 4,
  "nbformat_minor": 1
}