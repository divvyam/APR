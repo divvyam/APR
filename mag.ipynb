{
 "cells": [
  {
   "cell_type": "code",
   "execution_count": 2,
   "metadata": {
    "_uuid": "46fd49295b665721d524e5d197d6a95c861a04ba"
   },
   "outputs": [
    {

      "metadata": {
        "trusted": true,
        "_uuid": "46fd49295b665721d524e5d197d6a95c861a04ba"
      },
      "cell_type": "code",
      "source": "import os\nimport csv\nimport pandas as pd\nimport numpy as np\n\nimport datetime\nfrom pandas.io.json import json_normalize\nimport matplotlib.pyplot as plt\nimport seaborn as sns\ncolor = sns.color_palette()\n\n%matplotlib inline\n\nfrom plotly import tools\nimport plotly.offline as py\npy.init_notebook_mode(connected=True)\nimport plotly.graph_objs as go\nimport squarify\n\nfrom sklearn import model_selection, preprocessing, metrics\nplt.style.use('fivethirtyeight')\n\nprint(os.getcwd())\nprint(os.listdir(\"../\"))",
      "execution_count": 27,
      "outputs": [
        {
          "output_type": "display_data",
          "data": {
            "text/html": "<script type=\"text/javascript\">window.PlotlyConfig = {MathJaxConfig: 'local'};</script><script type=\"text/javascript\">if (window.MathJax) {MathJax.Hub.Config({SVG: {font: \"STIX-Web\"}});}</script><script>requirejs.config({paths: { 'plotly': ['https://cdn.plot.ly/plotly-latest.min']},});if(!window._Plotly) {require(['plotly'],function(plotly) {window._Plotly=plotly;});}</script>",
            "text/vnd.plotly.v1+html": "<script type=\"text/javascript\">window.PlotlyConfig = {MathJaxConfig: 'local'};</script><script type=\"text/javascript\">if (window.MathJax) {MathJax.Hub.Config({SVG: {font: \"STIX-Web\"}});}</script><script>requirejs.config({paths: { 'plotly': ['https://cdn.plot.ly/plotly-latest.min']},});if(!window._Plotly) {require(['plotly'],function(plotly) {window._Plotly=plotly;});}</script>"
          },
          "metadata": {}
        },
        {
          "output_type": "stream",
          "text": "/kaggle/working\n['config', 'lib', 'working', 'input']\n",
          "name": "stdout"
        }
      ]
    },
    {
      "metadata": {
        "scrolled": true,
        "trusted": true,
        "_uuid": "58882658662cf6ce89fa49b5865c433145b79076"
      },
      "cell_type": "code",
      "source": "def clean_data(df):\n    #since first column contains row number\n#     df.drop([\"Row_num\"], axis=1)\n    #removing  and kesEntityId as simillar fields are already present\n    df = df.drop(columns=[\"Row_num\",\"kesEntityId\"],axis=1)\n    df[\"Popularity\"] = df[\"Popularity\"].apply(pd.to_numeric,downcast='float')\n    df[\"Year\"] = df[\"Year\"].apply(pd.to_numeric,downcast='unsigned')\n    df[\"Month\"] = df[\"Month\"].apply(pd.to_numeric,downcast='unsigned')\n    df = df.dropna(subset=['Venue'])\n    return df",
      "execution_count": null,
      "outputs": []
    },
    {
      "metadata": {
        "trusted": true,
        "_uuid": "c313ba7bc8ad30eddf94d59dcad39362a348dcc6"
      },
      "cell_type": "code",
      "source": "df_pub = pd.read_csv(\"../input/scopus-data/ProcessedScopusData.csv\")\n# If this doesn't work, please change it to the path where the file is locaed in your PC\n# df_pub = pd.read_csv(\"Data/ProcessedScopusData.csv\")",
      "execution_count": 28,
      "outputs": []
    },
    {
      "metadata": {
        "trusted": true,
        "_uuid": "c1887d66df0a9b964d833f8165806d1071b73287"
      },
      "cell_type": "code",
      "source": "df_pub.head()",
      "execution_count": 26,
      "outputs": [
        {
          "output_type": "execute_result",
          "execution_count": 26,
          "data": {
            "text/plain": "   Unnamed: 0          ...                     Subject Area\n0           0          ...                         Medicine\n1           1          ...                         Medicine\n2           2          ...                         Medicine\n3           3          ...                  Social Sciences\n4           4          ...            Environmental Science\n\n[5 rows x 23 columns]",
            "text/html": "<div>\n<style scoped>\n    .dataframe tbody tr th:only-of-type {\n        vertical-align: middle;\n    }\n\n    .dataframe tbody tr th {\n        vertical-align: top;\n    }\n\n    .dataframe thead th {\n        text-align: right;\n    }\n</style>\n<table border=\"1\" class=\"dataframe\">\n  <thead>\n    <tr style=\"text-align: right;\">\n      <th></th>\n      <th>Unnamed: 0</th>\n      <th>Scopus SourceID</th>\n      <th>Title</th>\n      <th>CiteScore</th>\n      <th>Percentile</th>\n      <th>Citation Count</th>\n      <th>Scholarly Output</th>\n      <th>Percent Cited</th>\n      <th>SNIP</th>\n      <th>SJR</th>\n      <th>RANK</th>\n      <th>Rank Out Of</th>\n      <th>Publisher</th>\n      <th>Type</th>\n      <th>OpenAccess</th>\n      <th>Scopus ASJC Code (Sub-subject Area)</th>\n      <th>Scopus Sub-Subject Area</th>\n      <th>Quartile</th>\n      <th>Top 10% (CiteScore Percentile)</th>\n      <th>Scopus SourceID.1</th>\n      <th>Print-ISSN</th>\n      <th>E-ISSN</th>\n      <th>Subject Area</th>\n    </tr>\n  </thead>\n  <tbody>\n    <tr>\n      <th>0</th>\n      <td>0</td>\n      <td>28773.0</td>\n      <td>Ca-A Cancer Journal for Clinicians</td>\n      <td>130.47</td>\n      <td>99.0</td>\n      <td>16961.0</td>\n      <td>130.0</td>\n      <td>70.0</td>\n      <td>88.164</td>\n      <td>61.786</td>\n      <td>1.0</td>\n      <td>120.0</td>\n      <td>Wiley-Blackwell</td>\n      <td>Journal</td>\n      <td>NO</td>\n      <td>2720.0</td>\n      <td>Hematology</td>\n      <td>Quartile 1</td>\n      <td>Top 10%</td>\n      <td>https://www.scopus.com/sourceid/28773</td>\n      <td>00079235</td>\n      <td>15424863</td>\n      <td>Medicine</td>\n    </tr>\n    <tr>\n      <th>1</th>\n      <td>1</td>\n      <td>28773.0</td>\n      <td>Ca-A Cancer Journal for Clinicians</td>\n      <td>130.47</td>\n      <td>99.0</td>\n      <td>16961.0</td>\n      <td>130.0</td>\n      <td>70.0</td>\n      <td>88.164</td>\n      <td>61.786</td>\n      <td>1.0</td>\n      <td>323.0</td>\n      <td>Wiley-Blackwell</td>\n      <td>Journal</td>\n      <td>NO</td>\n      <td>2730.0</td>\n      <td>Oncology</td>\n      <td>Quartile 1</td>\n      <td>Top 10%</td>\n      <td>https://www.scopus.com/sourceid/28773</td>\n      <td>00079235</td>\n      <td>15424863</td>\n      <td>Medicine</td>\n    </tr>\n    <tr>\n      <th>2</th>\n      <td>2</td>\n      <td>19434.0</td>\n      <td>MMWR. Recommendations and reports : Morbidity ...</td>\n      <td>63.12</td>\n      <td>99.0</td>\n      <td>1010.0</td>\n      <td>16.0</td>\n      <td>100.0</td>\n      <td>32.534</td>\n      <td>34.638</td>\n      <td>1.0</td>\n      <td>87.0</td>\n      <td>Centers for Disease Control and Prevention (CDC)</td>\n      <td>Journal</td>\n      <td>YES</td>\n      <td>2713.0</td>\n      <td>Epidemiology</td>\n      <td>Quartile 1</td>\n      <td>Top 10%</td>\n      <td>https://www.scopus.com/sourceid/19434</td>\n      <td>10575987</td>\n      <td>15458601</td>\n      <td>Medicine</td>\n    </tr>\n    <tr>\n      <th>3</th>\n      <td>3</td>\n      <td>19434.0</td>\n      <td>MMWR. Recommendations and reports : Morbidity ...</td>\n      <td>63.12</td>\n      <td>99.0</td>\n      <td>1010.0</td>\n      <td>16.0</td>\n      <td>100.0</td>\n      <td>32.534</td>\n      <td>34.638</td>\n      <td>1.0</td>\n      <td>241.0</td>\n      <td>Centers for Disease Control and Prevention (CDC)</td>\n      <td>Journal</td>\n      <td>YES</td>\n      <td>3306.0</td>\n      <td>Health(social science)</td>\n      <td>Quartile 1</td>\n      <td>Top 10%</td>\n      <td>https://www.scopus.com/sourceid/19434</td>\n      <td>10575987</td>\n      <td>15458601</td>\n      <td>Social Sciences</td>\n    </tr>\n    <tr>\n      <th>4</th>\n      <td>4</td>\n      <td>19434.0</td>\n      <td>MMWR. Recommendations and reports : Morbidity ...</td>\n      <td>63.12</td>\n      <td>99.0</td>\n      <td>1010.0</td>\n      <td>16.0</td>\n      <td>100.0</td>\n      <td>32.534</td>\n      <td>34.638</td>\n      <td>1.0</td>\n      <td>106.0</td>\n      <td>Centers for Disease Control and Prevention (CDC)</td>\n      <td>Journal</td>\n      <td>YES</td>\n      <td>2307.0</td>\n      <td>Health, Toxicology and Mutagenesis</td>\n      <td>Quartile 1</td>\n      <td>Top 10%</td>\n      <td>https://www.scopus.com/sourceid/19434</td>\n      <td>10575987</td>\n      <td>15458601</td>\n      <td>Environmental Science</td>\n    </tr>\n  </tbody>\n</table>\n</div>"
          },
          "metadata": {}
        }
      ]
    },
    {
      "metadata": {
        "trusted": true,
        "_uuid": "279398cf3313d739b569f574e6074e27cefe0240"
      },
      "cell_type": "code",
      "source": "def append_pub_score(df):\n    print(\"Unique Publications from Scopus:\",len(df_pub.Title.unique()))\n    # Analysing Common Publications\n    vfn_list = df.Venue.unique().tolist()\n    scopus_list = df_pub.Title.unique().tolist()\n    count = 0\n    for pub in scopus_list:\n        if pub in vfn_list:\n            count +=1\n    print(\"Publications present in Dataset:\",count)\n    print(\"Shape Before\",df.shape)\n    df = df[df.Venue.isin(scopus_list)]\n    print(\"Shape After\",df.shape)\n    #score appending\n    score_dict = pd.Series(df_pub.SJR.values,index=df_pub.Title).to_dict()\n    df[\"Publication_Rank\"] = df.apply(lambda row: score_dict[row[\"Venue\"]],axis = 1)\n    return df\n\ndef extract_field(row):\n    val = str(row[\"Domain\"])\n    index = val.rfind(\"FN\")\n    val = val[index+3:len(val)]\n    val = val.strip(\":}] '\")\n    return val\n\ndef get_num_authors(row):\n    vals = row[\"Authors\"].split(\"},\")\n    return len(vals)\ndef get_open_access(df):\n    def get_label(val):\n        if val == \"YES\":\n            return 1\n        else:\n            return 0\n    #score appending\n    open_dict = pd.Series(df_pub.OpenAccess.values,index=df_pub.Title).to_dict()\n    df[\"OpenAccess\"] = df.apply(lambda row: get_label(open_dict[row[\"Venue\"]]),axis = 1)\n    return df",
      "execution_count": 34,
      "outputs": []
    },
    {
      "metadata": {
        "trusted": true,
        "_uuid": "53233bed795c7bef73f8954e5125c8982d909c02"
      },
      "cell_type": "code",
      "source": "label_dict = {\"C\":0,\"J\":1,\"CJ\":2,\"O\":3}\ndef find_conference_type(row):\n    if pd.isnull(row[\"Conference\"]) and pd.isnull(row[\"Journal\"]):\n        return label_dict[\"O\"]\n    elif pd.isnull(row[\"Conference\"]):\n        return label_dict[\"J\"]\n    elif pd.isnull(row[\"Journal\"]):\n        return label_dict[\"C\"]\n    else:\n        return label_dict[\"CJ\"]",
      "execution_count": 30,
      "outputs": []
    },
    {
      "metadata": {
        "trusted": true,
        "_uuid": "9d57b8da22246e6b63c80f18ce99402a61145f9f"
      },
      "cell_type": "code",
      "source": "def tidy_split(df, column, sep='|', keep=False):\n    indexes = list()\n    id_values = list()\n    name_values = list()\n    df = df.dropna(subset=[column])\n    for i, presplit in enumerate(df[column].astype(str)):\n        values = presplit.split(sep)\n        if keep and len(values) > 1:\n            indexes.append(i)\n            id_values.append(presplit)\n        for value in values:\n            indexes.append(i)\n            val = value\n            index1 = val.find(\"AuId\")\n            index2 = val.find(\"AfN\")\n            index3 = val.find(\"'S'\")\n            if index3 < index1:\n                val = val[index1+4:index2]\n                val = val.strip(\"', :\")\n            else:\n                val = val[index1+4:index3]\n                val = val.strip(\"', :\")                \n            id_values.append(val)\n            index1 = value.find(\"AuN\")\n            val = value[index1+3:]\n            val = val.strip(\"': }]\")\n            name_values.append(val)\n    new_df = df.iloc[indexes, :].copy()\n    del df\n    new_df[column+\"_Id\"] = id_values\n    del new_df\n    new_new_df = new_df.iloc[:, :].copy()\n    new_new_df[column+\"_Name\"] = name_values\n    return new_new_df",
      "execution_count": null,
      "outputs": []
    },
    {
      "metadata": {
        "trusted": true,
        "_uuid": "160a079098ca48923a3d01d3ab31a48c83a0dc93"
      },
      "cell_type": "code",
      "source": "def process_year(df):\n    # Make more sensible column names\n    rename_dict = {\"AA\": \"Authors\", \n                   \"C\": \"Conference\", \n                   \"CC\": \"Citation_count\",\n                   \"ECC\": \"Expected_count\",\n                   \"D\": \"Date\", \n                   \"F\": \"Domain\", \n                   \"J\": \"Journal\", \n                   \"RId\": \"References\", \n                   \"Ti\": \"Title\", \n                   \"VFN\": \"Venue\", \n                   \"W\": \"Words\", \n                   \"Y\": \"Year\", \n                   \"logprob\":\"Popularity\",\n                   \"Unnamed: 0\": \"Row_num\"}\n    df.rename(index=str, columns=rename_dict, inplace=True)\n    df.drop_duplicates(subset=['Title'], inplace=True)\n    df[\"Month\"] = pd.to_datetime(df[\"Date\"]).dt.month\n    df = clean_data(df)\n    df = append_pub_score(df)\n    df[\"Publication Type\"] = df.apply(lambda row:find_conference_type(row),axis=1)\n    df[\"Number_Of_authors\"] = df.apply(lambda row:get_num_authors(row), axis = 1)\n    return df",
      "execution_count": null,
      "outputs": []
    },
    {
      "metadata": {
        "trusted": true,
        "_uuid": "84ab90dee99dd6123cf5ac182279833ca1649d8a"
      },
      "cell_type": "code",
      "source": "# df = pd.read_csv(\"../input/mag-2013/mag_2013.csv\")",
      "execution_count": null,
      "outputs": []
    },
    {
      "metadata": {
        "trusted": true,
        "_uuid": "9016cc8bc784a09f3ab41cc95115adbcc560a984"
      },
      "cell_type": "code",
      "source": "# only for year 2013\n# df = df[df['D'] != \"-20.259\"]",
      "execution_count": null,
      "outputs": []
    },
    {
      "metadata": {
        "trusted": true,
        "_uuid": "0540769347b899c896f42090084fe66b3bece32d"
      },
      "cell_type": "code",
      "source": "# df = process_year(df)",
      "execution_count": null,
      "outputs": []
    },
    {
      "metadata": {
        "trusted": true,
        "_uuid": "d0ff4542f6f1b8442a2462beee3199a36c70b9c7"
      },
      "cell_type": "code",
      "source": "# df.to_csv(\"mag_2013_processed.csv\")",
      "execution_count": null,
      "outputs": []
    },
    {
      "metadata": {
        "trusted": true,
        "_uuid": "5d1abd32ba5ad7c8fe3df8a76a33be8a923fafa7"
      },
      "cell_type": "code",
      "source": "print(os.listdir(\"../input/\"))",
      "execution_count": 20,
      "outputs": [
        {
          "output_type": "stream",
          "text": "['scopus-data', 'mag-2013', 'processedmagdata']\n",
          "name": "stdout"
        }
      ]
    },
    {
      "metadata": {
        "trusted": true,
        "_uuid": "0837b685bdba1a91db8c407bdf324dc6ee22f8dc"
      },
      "cell_type": "code",
      "source": "columns = ['Unnamed: 0','Authors', 'Conference','Citation_count','Date','Expected_count','Domain','Id','Journal','References','Title','Venue','Words','Year','Popularity','Month','Publication_Rank','Publication Type','Number_Of_authors']",
      "execution_count": 31,
      "outputs": []
    },
    {
      "metadata": {
        "trusted": true,
        "_uuid": "1a0818183568ad420a028de7a70150696174b824"
      },
      "cell_type": "code",
      "source": "df = pd.DataFrame(columns = columns)\n# please give a path that works on your machine. Keep all the processed files in this path\npath = \"../input/processedmagdata\"\nfor file in os.listdir(path):\n#     print(file)\n    df_temp = pd.read_csv(path+\"/\"+file)\n    df = df.append(df_temp)",
      "execution_count": 32,
      "outputs": [
        {
          "output_type": "stream",
          "text": "/opt/conda/lib/python3.6/site-packages/IPython/core/interactiveshell.py:2785: DtypeWarning:\n\nColumns (1) have mixed types. Specify dtype option on import or set low_memory=False.\n\n/opt/conda/lib/python3.6/site-packages/pandas/core/frame.py:6211: FutureWarning:\n\nSorting because non-concatenation axis is not aligned. A future version\nof pandas will change to not sort by default.\n\nTo accept the future behavior, pass 'sort=False'.\n\nTo retain the current behavior and silence the warning, pass 'sort=True'.\n\n\n",
          "name": "stderr"
        }
      ]
    },
    {
      "metadata": {
        "trusted": true,
        "_uuid": "166958934d6721a22c85f47374bfff46e4a39bc4"
      },
      "cell_type": "code",
      "source": "# df = get_open_access(df)",
      "execution_count": 35,
      "outputs": [
        {
          "output_type": "error",
          "ename": "KeyError",
          "evalue": "('Critical Care Medicine', 'occurred at index 1')",
          "traceback": [
            "\u001b[0;31m---------------------------------------------------------------------------\u001b[0m",
            "\u001b[0;31mKeyError\u001b[0m                                  Traceback (most recent call last)",
            "\u001b[0;32m<ipython-input-35-4bd9030aaa5e>\u001b[0m in \u001b[0;36m<module>\u001b[0;34m()\u001b[0m\n\u001b[0;32m----> 1\u001b[0;31m \u001b[0mdf\u001b[0m \u001b[0;34m=\u001b[0m \u001b[0mget_open_access\u001b[0m\u001b[0;34m(\u001b[0m\u001b[0mdf\u001b[0m\u001b[0;34m)\u001b[0m\u001b[0;34m\u001b[0m\u001b[0m\n\u001b[0m",
            "\u001b[0;32m<ipython-input-34-3faa0a2cf3d5>\u001b[0m in \u001b[0;36mget_open_access\u001b[0;34m(df)\u001b[0m\n\u001b[1;32m     35\u001b[0m     \u001b[0;31m#score appending\u001b[0m\u001b[0;34m\u001b[0m\u001b[0;34m\u001b[0m\u001b[0m\n\u001b[1;32m     36\u001b[0m     \u001b[0mopen_dict\u001b[0m \u001b[0;34m=\u001b[0m \u001b[0mpd\u001b[0m\u001b[0;34m.\u001b[0m\u001b[0mSeries\u001b[0m\u001b[0;34m(\u001b[0m\u001b[0mdf_pub\u001b[0m\u001b[0;34m.\u001b[0m\u001b[0mOpenAccess\u001b[0m\u001b[0;34m.\u001b[0m\u001b[0mvalues\u001b[0m\u001b[0;34m,\u001b[0m\u001b[0mindex\u001b[0m\u001b[0;34m=\u001b[0m\u001b[0mdf_pub\u001b[0m\u001b[0;34m.\u001b[0m\u001b[0mTitle\u001b[0m\u001b[0;34m)\u001b[0m\u001b[0;34m.\u001b[0m\u001b[0mto_dict\u001b[0m\u001b[0;34m(\u001b[0m\u001b[0;34m)\u001b[0m\u001b[0;34m\u001b[0m\u001b[0m\n\u001b[0;32m---> 37\u001b[0;31m     \u001b[0mdf\u001b[0m\u001b[0;34m[\u001b[0m\u001b[0;34m\"OpenAccess\"\u001b[0m\u001b[0;34m]\u001b[0m \u001b[0;34m=\u001b[0m \u001b[0mdf\u001b[0m\u001b[0;34m.\u001b[0m\u001b[0mapply\u001b[0m\u001b[0;34m(\u001b[0m\u001b[0;32mlambda\u001b[0m \u001b[0mrow\u001b[0m\u001b[0;34m:\u001b[0m \u001b[0mget_label\u001b[0m\u001b[0;34m(\u001b[0m\u001b[0mopen_dict\u001b[0m\u001b[0;34m[\u001b[0m\u001b[0mrow\u001b[0m\u001b[0;34m[\u001b[0m\u001b[0;34m\"Venue\"\u001b[0m\u001b[0;34m]\u001b[0m\u001b[0;34m]\u001b[0m\u001b[0;34m)\u001b[0m\u001b[0;34m,\u001b[0m\u001b[0maxis\u001b[0m \u001b[0;34m=\u001b[0m \u001b[0;36m1\u001b[0m\u001b[0;34m)\u001b[0m\u001b[0;34m\u001b[0m\u001b[0m\n\u001b[0m\u001b[1;32m     38\u001b[0m     \u001b[0;32mreturn\u001b[0m \u001b[0mdf\u001b[0m\u001b[0;34m\u001b[0m\u001b[0m\n",
            "\u001b[0;32m/opt/conda/lib/python3.6/site-packages/pandas/core/frame.py\u001b[0m in \u001b[0;36mapply\u001b[0;34m(self, func, axis, broadcast, raw, reduce, result_type, args, **kwds)\u001b[0m\n\u001b[1;32m   6012\u001b[0m                          \u001b[0margs\u001b[0m\u001b[0;34m=\u001b[0m\u001b[0margs\u001b[0m\u001b[0;34m,\u001b[0m\u001b[0;34m\u001b[0m\u001b[0m\n\u001b[1;32m   6013\u001b[0m                          kwds=kwds)\n\u001b[0;32m-> 6014\u001b[0;31m         \u001b[0;32mreturn\u001b[0m \u001b[0mop\u001b[0m\u001b[0;34m.\u001b[0m\u001b[0mget_result\u001b[0m\u001b[0;34m(\u001b[0m\u001b[0;34m)\u001b[0m\u001b[0;34m\u001b[0m\u001b[0m\n\u001b[0m\u001b[1;32m   6015\u001b[0m \u001b[0;34m\u001b[0m\u001b[0m\n\u001b[1;32m   6016\u001b[0m     \u001b[0;32mdef\u001b[0m \u001b[0mapplymap\u001b[0m\u001b[0;34m(\u001b[0m\u001b[0mself\u001b[0m\u001b[0;34m,\u001b[0m \u001b[0mfunc\u001b[0m\u001b[0;34m)\u001b[0m\u001b[0;34m:\u001b[0m\u001b[0;34m\u001b[0m\u001b[0m\n",
            "\u001b[0;32m/opt/conda/lib/python3.6/site-packages/pandas/core/apply.py\u001b[0m in \u001b[0;36mget_result\u001b[0;34m(self)\u001b[0m\n\u001b[1;32m    140\u001b[0m             \u001b[0;32mreturn\u001b[0m \u001b[0mself\u001b[0m\u001b[0;34m.\u001b[0m\u001b[0mapply_raw\u001b[0m\u001b[0;34m(\u001b[0m\u001b[0;34m)\u001b[0m\u001b[0;34m\u001b[0m\u001b[0m\n\u001b[1;32m    141\u001b[0m \u001b[0;34m\u001b[0m\u001b[0m\n\u001b[0;32m--> 142\u001b[0;31m         \u001b[0;32mreturn\u001b[0m \u001b[0mself\u001b[0m\u001b[0;34m.\u001b[0m\u001b[0mapply_standard\u001b[0m\u001b[0;34m(\u001b[0m\u001b[0;34m)\u001b[0m\u001b[0;34m\u001b[0m\u001b[0m\n\u001b[0m\u001b[1;32m    143\u001b[0m \u001b[0;34m\u001b[0m\u001b[0m\n\u001b[1;32m    144\u001b[0m     \u001b[0;32mdef\u001b[0m \u001b[0mapply_empty_result\u001b[0m\u001b[0;34m(\u001b[0m\u001b[0mself\u001b[0m\u001b[0;34m)\u001b[0m\u001b[0;34m:\u001b[0m\u001b[0;34m\u001b[0m\u001b[0m\n",
            "\u001b[0;32m/opt/conda/lib/python3.6/site-packages/pandas/core/apply.py\u001b[0m in \u001b[0;36mapply_standard\u001b[0;34m(self)\u001b[0m\n\u001b[1;32m    246\u001b[0m \u001b[0;34m\u001b[0m\u001b[0m\n\u001b[1;32m    247\u001b[0m         \u001b[0;31m# compute the result using the series generator\u001b[0m\u001b[0;34m\u001b[0m\u001b[0;34m\u001b[0m\u001b[0m\n\u001b[0;32m--> 248\u001b[0;31m         \u001b[0mself\u001b[0m\u001b[0;34m.\u001b[0m\u001b[0mapply_series_generator\u001b[0m\u001b[0;34m(\u001b[0m\u001b[0;34m)\u001b[0m\u001b[0;34m\u001b[0m\u001b[0m\n\u001b[0m\u001b[1;32m    249\u001b[0m \u001b[0;34m\u001b[0m\u001b[0m\n\u001b[1;32m    250\u001b[0m         \u001b[0;31m# wrap results\u001b[0m\u001b[0;34m\u001b[0m\u001b[0;34m\u001b[0m\u001b[0m\n",
            "\u001b[0;32m/opt/conda/lib/python3.6/site-packages/pandas/core/apply.py\u001b[0m in \u001b[0;36mapply_series_generator\u001b[0;34m(self)\u001b[0m\n\u001b[1;32m    275\u001b[0m             \u001b[0;32mtry\u001b[0m\u001b[0;34m:\u001b[0m\u001b[0;34m\u001b[0m\u001b[0m\n\u001b[1;32m    276\u001b[0m                 \u001b[0;32mfor\u001b[0m \u001b[0mi\u001b[0m\u001b[0;34m,\u001b[0m \u001b[0mv\u001b[0m \u001b[0;32min\u001b[0m \u001b[0menumerate\u001b[0m\u001b[0;34m(\u001b[0m\u001b[0mseries_gen\u001b[0m\u001b[0;34m)\u001b[0m\u001b[0;34m:\u001b[0m\u001b[0;34m\u001b[0m\u001b[0m\n\u001b[0;32m--> 277\u001b[0;31m                     \u001b[0mresults\u001b[0m\u001b[0;34m[\u001b[0m\u001b[0mi\u001b[0m\u001b[0;34m]\u001b[0m \u001b[0;34m=\u001b[0m \u001b[0mself\u001b[0m\u001b[0;34m.\u001b[0m\u001b[0mf\u001b[0m\u001b[0;34m(\u001b[0m\u001b[0mv\u001b[0m\u001b[0;34m)\u001b[0m\u001b[0;34m\u001b[0m\u001b[0m\n\u001b[0m\u001b[1;32m    278\u001b[0m                     \u001b[0mkeys\u001b[0m\u001b[0;34m.\u001b[0m\u001b[0mappend\u001b[0m\u001b[0;34m(\u001b[0m\u001b[0mv\u001b[0m\u001b[0;34m.\u001b[0m\u001b[0mname\u001b[0m\u001b[0;34m)\u001b[0m\u001b[0;34m\u001b[0m\u001b[0m\n\u001b[1;32m    279\u001b[0m             \u001b[0;32mexcept\u001b[0m \u001b[0mException\u001b[0m \u001b[0;32mas\u001b[0m \u001b[0me\u001b[0m\u001b[0;34m:\u001b[0m\u001b[0;34m\u001b[0m\u001b[0m\n",
            "\u001b[0;32m<ipython-input-34-3faa0a2cf3d5>\u001b[0m in \u001b[0;36m<lambda>\u001b[0;34m(row)\u001b[0m\n\u001b[1;32m     35\u001b[0m     \u001b[0;31m#score appending\u001b[0m\u001b[0;34m\u001b[0m\u001b[0;34m\u001b[0m\u001b[0m\n\u001b[1;32m     36\u001b[0m     \u001b[0mopen_dict\u001b[0m \u001b[0;34m=\u001b[0m \u001b[0mpd\u001b[0m\u001b[0;34m.\u001b[0m\u001b[0mSeries\u001b[0m\u001b[0;34m(\u001b[0m\u001b[0mdf_pub\u001b[0m\u001b[0;34m.\u001b[0m\u001b[0mOpenAccess\u001b[0m\u001b[0;34m.\u001b[0m\u001b[0mvalues\u001b[0m\u001b[0;34m,\u001b[0m\u001b[0mindex\u001b[0m\u001b[0;34m=\u001b[0m\u001b[0mdf_pub\u001b[0m\u001b[0;34m.\u001b[0m\u001b[0mTitle\u001b[0m\u001b[0;34m)\u001b[0m\u001b[0;34m.\u001b[0m\u001b[0mto_dict\u001b[0m\u001b[0;34m(\u001b[0m\u001b[0;34m)\u001b[0m\u001b[0;34m\u001b[0m\u001b[0m\n\u001b[0;32m---> 37\u001b[0;31m     \u001b[0mdf\u001b[0m\u001b[0;34m[\u001b[0m\u001b[0;34m\"OpenAccess\"\u001b[0m\u001b[0;34m]\u001b[0m \u001b[0;34m=\u001b[0m \u001b[0mdf\u001b[0m\u001b[0;34m.\u001b[0m\u001b[0mapply\u001b[0m\u001b[0;34m(\u001b[0m\u001b[0;32mlambda\u001b[0m \u001b[0mrow\u001b[0m\u001b[0;34m:\u001b[0m \u001b[0mget_label\u001b[0m\u001b[0;34m(\u001b[0m\u001b[0mopen_dict\u001b[0m\u001b[0;34m[\u001b[0m\u001b[0mrow\u001b[0m\u001b[0;34m[\u001b[0m\u001b[0;34m\"Venue\"\u001b[0m\u001b[0;34m]\u001b[0m\u001b[0;34m]\u001b[0m\u001b[0;34m)\u001b[0m\u001b[0;34m,\u001b[0m\u001b[0maxis\u001b[0m \u001b[0;34m=\u001b[0m \u001b[0;36m1\u001b[0m\u001b[0;34m)\u001b[0m\u001b[0;34m\u001b[0m\u001b[0m\n\u001b[0m\u001b[1;32m     38\u001b[0m     \u001b[0;32mreturn\u001b[0m \u001b[0mdf\u001b[0m\u001b[0;34m\u001b[0m\u001b[0m\n",
            "\u001b[0;31mKeyError\u001b[0m: ('Critical Care Medicine', 'occurred at index 1')"
          ]
        }
      ]
    },
    {
      "metadata": {
        "trusted": true,
        "_uuid": "b5e8e78d5647090a2a7a6e9cdfde7ed7dcb4f248"
      },
      "cell_type": "code",
      "source": "df.isna().sum()",
      "execution_count": 23,
      "outputs": [
        {
          "output_type": "execute_result",
          "execution_count": 23,
          "data": {
            "text/plain": "Authors                    0\nCitation_count             0\nConference           2571423\nDate                       0\nDomain                 12671\nExpected_count             1\nId                         1\nJournal               428048\nMonth                1329124\nNumber_Of_authors    1329124\nPopularity                 2\nPublication Type     1329124\nPublication_Rank     1329124\nReferences            418260\nRow_num              1304290\nTitle                      1\nUnnamed: 0                 0\nVenue                 317722\nWords                     18\nYear                       2\nkesEntityId          1304292\ndtype: int64"
          },
          "metadata": {}
        }
      ]
    },
    {
      "metadata": {
        "trusted": true,
        "_uuid": "6b0f093497f846d4bec339bd12c6a064355bb573"
      },
      "cell_type": "code",
      "source": "df.head()",
      "execution_count": 36,
      "outputs": [
        {
          "output_type": "execute_result",
          "execution_count": 36,
          "data": {
            "text/plain": "                                             Authors     ...     kesEntityId\n0  [{'AuId': 2285399872, 'S': 1, 'AuN': 'jeanmich...     ...             NaN\n1  [{'S': 1, 'AuId': 2309940897, 'AfN': 'johns ho...     ...             NaN\n2  [{'AuId': 2139142140, 'S': 1, 'AuN': 'borja ib...     ...             NaN\n3  [{'AuId': 2787512318, 'S': 1, 'AuN': 'marco va...     ...             NaN\n4  [{'S': 1, 'AuId': 2235459312, 'AfN': 'centre n...     ...             NaN\n\n[5 rows x 21 columns]",
            "text/html": "<div>\n<style scoped>\n    .dataframe tbody tr th:only-of-type {\n        vertical-align: middle;\n    }\n\n    .dataframe tbody tr th {\n        vertical-align: top;\n    }\n\n    .dataframe thead th {\n        text-align: right;\n    }\n</style>\n<table border=\"1\" class=\"dataframe\">\n  <thead>\n    <tr style=\"text-align: right;\">\n      <th></th>\n      <th>Authors</th>\n      <th>Citation_count</th>\n      <th>Conference</th>\n      <th>Date</th>\n      <th>Domain</th>\n      <th>Expected_count</th>\n      <th>Id</th>\n      <th>Journal</th>\n      <th>Month</th>\n      <th>Number_Of_authors</th>\n      <th>Popularity</th>\n      <th>Publication Type</th>\n      <th>Publication_Rank</th>\n      <th>References</th>\n      <th>Row_num</th>\n      <th>Title</th>\n      <th>Unnamed: 0</th>\n      <th>Venue</th>\n      <th>Words</th>\n      <th>Year</th>\n      <th>kesEntityId</th>\n    </tr>\n  </thead>\n  <tbody>\n    <tr>\n      <th>0</th>\n      <td>[{'AuId': 2285399872, 'S': 1, 'AuN': 'jeanmich...</td>\n      <td>827</td>\n      <td>NaN</td>\n      <td>2018-08-01</td>\n      <td>[{'FId': 2778867932, 'FN': 'paritaprevir'}, {'...</td>\n      <td>827</td>\n      <td>2185218296</td>\n      <td>{'JN': 'j hepatol', 'JId': 83651209}</td>\n      <td>8</td>\n      <td>6</td>\n      <td>-16.665</td>\n      <td>1</td>\n      <td>5.633</td>\n      <td>[2027545702, 2127685726, 2143559032, 212596379...</td>\n      <td>NaN</td>\n      <td>easl recommendations on treatment of hepatitis c</td>\n      <td>8</td>\n      <td>Journal of Hepatology</td>\n      <td>['c', 'easl', 'hepatitis', 'recommendations', ...</td>\n      <td>2018</td>\n      <td>NaN</td>\n    </tr>\n    <tr>\n      <th>1</th>\n      <td>[{'S': 1, 'AuId': 2309940897, 'AfN': 'johns ho...</td>\n      <td>820</td>\n      <td>NaN</td>\n      <td>2018-02-01</td>\n      <td>[{'FId': 33070731, 'FN': 'toxicology'}, {'FId'...</td>\n      <td>820</td>\n      <td>2779588417</td>\n      <td>{'JN': 'toxicol sci', 'JId': 186282544}</td>\n      <td>2</td>\n      <td>3</td>\n      <td>-16.711</td>\n      <td>1</td>\n      <td>1.538</td>\n      <td>[2319741579, 2605278466, 2685494954, 273903073...</td>\n      <td>NaN</td>\n      <td>green toxicology know early about and avoid to...</td>\n      <td>9</td>\n      <td>Toxicological Sciences</td>\n      <td>['avoid', 'early', 'green', 'know', 'liabiliti...</td>\n      <td>2018</td>\n      <td>NaN</td>\n    </tr>\n    <tr>\n      <th>2</th>\n      <td>[{'AuId': 2139142140, 'S': 1, 'AuN': 'borja ib...</td>\n      <td>578</td>\n      <td>NaN</td>\n      <td>2018-01-07</td>\n      <td>[{'FId': 2771771, 'FN': 'st segment'}, {'FId':...</td>\n      <td>578</td>\n      <td>2754054868</td>\n      <td>{'JN': 'eur heart j', 'JId': 181568219}</td>\n      <td>1</td>\n      <td>50</td>\n      <td>-16.790</td>\n      <td>1</td>\n      <td>9.315</td>\n      <td>[2166950143, 2099869131, 2105397247, 211582401...</td>\n      <td>NaN</td>\n      <td>2017 esc guidelines for the management of acut...</td>\n      <td>14</td>\n      <td>European Heart Journal</td>\n      <td>['2017', 'acute', 'cardiology', 'elevation', '...</td>\n      <td>2018</td>\n      <td>NaN</td>\n    </tr>\n    <tr>\n      <th>3</th>\n      <td>[{'AuId': 2787512318, 'S': 1, 'AuN': 'marco va...</td>\n      <td>331</td>\n      <td>NaN</td>\n      <td>2018-01-14</td>\n      <td>[{'FId': 2780890252, 'FN': 'ticagrelor'}, {'FI...</td>\n      <td>331</td>\n      <td>2752033985</td>\n      <td>{'JN': 'eur heart j', 'JId': 181568219}</td>\n      <td>1</td>\n      <td>18</td>\n      <td>-17.018</td>\n      <td>1</td>\n      <td>9.315</td>\n      <td>[2136489990, 2166950143, 2097854437, 216250894...</td>\n      <td>NaN</td>\n      <td>2017 esc focused update on dual antiplatelet t...</td>\n      <td>18</td>\n      <td>European Heart Journal</td>\n      <td>['2017', 'antiplatelet', 'artery', 'associatio...</td>\n      <td>2018</td>\n      <td>NaN</td>\n    </tr>\n    <tr>\n      <th>4</th>\n      <td>[{'S': 1, 'AuId': 2235459312, 'AfN': 'centre n...</td>\n      <td>429</td>\n      <td>NaN</td>\n      <td>2018-01-22</td>\n      <td>[{'FId': 78594624, 'FN': 'coherent control'}, ...</td>\n      <td>429</td>\n      <td>2785290892</td>\n      <td>{'JN': 'rep progr phys', 'JId': 105282323}</td>\n      <td>1</td>\n      <td>9</td>\n      <td>-17.092</td>\n      <td>1</td>\n      <td>5.640</td>\n      <td>[2163525631, 1978691316, 2145486367, 210200818...</td>\n      <td>NaN</td>\n      <td>coherent control of single electrons a review ...</td>\n      <td>19</td>\n      <td>Reports on Progress in Physics</td>\n      <td>['coherent', 'control', 'current', 'electrons'...</td>\n      <td>2018</td>\n      <td>NaN</td>\n    </tr>\n  </tbody>\n</table>\n</div>"
          },
          "metadata": {}
        }
      ]
    },
    {
      "metadata": {
        "trusted": true,
        "_uuid": "7f932bdf63b631da639d10372424ca0375ed8af1"
      },
      "cell_type": "code",
      "source": "# No duplicate values :)\ndf[df.duplicated()]",
      "execution_count": null,
      "outputs": []
    },
    {
      "metadata": {
        "trusted": true,
        "_uuid": "cb34a2a6f7097562acfc9f00f7c90c507cb29333"
      },
      "cell_type": "code",
      "source": "#size of data\ndf.shape",
      "execution_count": null,
      "outputs": []
    },
    {
      "metadata": {
        "trusted": true,
        "_uuid": "14b96495d899e75cfd3895fcf742a0dc91ace262"
      },
      "cell_type": "code",
      "source": "df[\"Publication Type\"].value_counts()",
      "execution_count": null,
      "outputs": []
    },
    {
      "metadata": {
        "trusted": true,
        "_uuid": "321ec7a9a10d8a3691d14e003747c0dc24a5ac1d"
      },
      "cell_type": "code",
      "source": "# Number of rows with 0 citation count and 0 References\ndf[ (df['References'].isnull()) & (df['Citation_count']==0)].shape[0]",
      "execution_count": null,
      "outputs": []
    },
    {
      "metadata": {
        "trusted": true,
        "_uuid": "9dcd8173b5764ea7bbb93dd64b7166d832b7099a"
      },
      "cell_type": "code",
      "source": "#?\ndf = df.drop(['Unnamed: 0','kesEntityId'],axis = 1)",
      "execution_count": null,
      "outputs": []
    },
    {
      "metadata": {
        "trusted": true,
        "_uuid": "71ecddd0360c65e34f501fcdd506c1e6a58674b1"
      },
      "cell_type": "code",
      "source": "#?\ndf.dropna(subset=['Publication_Rank'], how='all', inplace = True)",
      "execution_count": null,
      "outputs": []
    },
    {
      "metadata": {
        "trusted": true,
        "_uuid": "3c34935fb136d4e423a2fbaa9937a0f2739d1dbe"
      },
      "cell_type": "code",
      "source": "sns.set(style=\"darkgrid\",font_scale=1.3)\nax = sns.countplot(x=\"Publication Type\", data=df)",
      "execution_count": null,
      "outputs": []
    },
    {
      "metadata": {
        "trusted": true,
        "_uuid": "2c66a334f73cd02c8e5dfdc65c71c6612cb447f9"
      },
      "cell_type": "code",
      "source": "# paper publication throughout the period\nplt.figure(figsize=(12,5))\nsns.set(style=\"darkgrid\",font_scale=1.3)\nax = sns.countplot(x=\"Year\", data=df)\nplt.suptitle(\"Distribution of Paper published in Years\")",
      "execution_count": null,
      "outputs": []
    },
    {
      "metadata": {
        "trusted": true,
        "_uuid": "b50960ab2a4dfbff1da597d41543e3b2cc29e8ee"
      },
      "cell_type": "code",
      "source": "# paper publication around a year\nplt.figure(figsize=(12,5))\nsns.set(style=\"darkgrid\",font_scale=1.3)\nax = sns.countplot(x=\"Month\", data=df)\nax.set_xticklabels([\"January\",\"February\",\"March\", \"April\", \"May\", \"June\", \"July\", \"August\", \"September\", \"October\",\"November\", \"December\"])\nplt.suptitle(\"Number of paper published in each month\")",
      "execution_count": null,
      "outputs": []
    },
    {
      "metadata": {
        "trusted": true,
        "_uuid": "96f80b40a588d5d5fb9a4bace7b4a02e6c8ef5bd"
      },
      "cell_type": "code",
      "source": "max(df.Number_Of_authors)",
      "execution_count": null,
      "outputs": []
    },
    {
      "metadata": {
        "trusted": true,
        "_uuid": "ca5412f6373b313352df04803a4a80ff2a7b0258"
      },
      "cell_type": "code",
      "source": "df.sort_values(by=[\"Number_Of_authors\"], ascending=False).head()",
      "execution_count": null,
      "outputs": []
    },
    {
      "metadata": {
        "trusted": true,
        "_uuid": "52735880d2e4852f71951ad615e930557cecd20f"
      },
      "cell_type": "code",
      "source": "# Number of authors for the paper, Group data according to number of authors\nbins = [0, 10, 20, 40, 60, 80, 100, 200, 400, 500, np.inf]\n# author_groups = pd.cut(df[\"Number_Of_authors\"], bins)\n# df[\"author_groups\"] = author_groups\nplt.figure(figsize=(10,4))\nsns.set(style=\"darkgrid\",font_scale=1.1)\nsss = pd.cut(df['Number_Of_authors'], bins=bins)\nax = sss.value_counts(sort=False).plot.bar(rot=15)\nfor index, row in sss.iterrows():\n    g.text(row.name,row.tip, row.total_bill,2, color='black', ha=\"center\")\n# sns.distplot(sss)\n\nplt.suptitle(\"Number of authors for given paper\")",
      "execution_count": null,
      "outputs": []
    },
    {
      "metadata": {
        "trusted": true,
        "_uuid": "8c312b4f530f4c88b78842650044fca6ff60487b"
      },
      "cell_type": "code",
      "source": "sss.value_counts()",
      "execution_count": null,
      "outputs": []
    },
    {
      "metadata": {
        "trusted": true,
        "_uuid": "5c5e72fa34547507ca940a665cb493650abda8f8"
      },
      "cell_type": "code",
      "source": "import json\nimport ast\n# obj = json.loads(\"[{'AuId': 2168721218, 'S': 1, 'AuN': 'emelia j benjamin'},]\")\nobj = ast.literal_eval(df[\"Authors\"][24093])\nprint(len(obj))\nprint(json.dumps(obj[0], indent=2))\nuniversities = { _obj[\"AfN\"] for _obj in obj if \"AfN\" in _obj}\nprint(universities)",
      "execution_count": null,
      "outputs": []
    },
    {
      "metadata": {
        "trusted": true,
        "_uuid": "7a4a125902935bbc4a524205a9f0f314be6e85a8"
      },
      "cell_type": "code",
      "source": "df[\"Topic\"] = df.apply(lambda row: extract_field(row),axis = 1)",
      "execution_count": null,
      "outputs": []
    },
    {
      "metadata": {
        "trusted": true,
        "_uuid": "3e3f1fa126c37bcd19b6c46270c459ccf0b15cca"
      },
      "cell_type": "code",
      "source": "topic_list = df[\"Topic\"].tolist()\ntopic_dict = {}\ni=0\nfor topic in topic_list:\n    topic_dict[topic] = i\n    i += 1",
      "execution_count": null,
      "outputs": []
    },
    {
      "metadata": {
        "trusted": true,
        "_uuid": "24d65faf3645a7133f8a6669ea7cd7c86c3a5827"
      },
      "cell_type": "code",
      "source": "len(topic_dict)",
      "execution_count": null,
      "outputs": []
    },
    {
      "metadata": {
        "trusted": true,
        "_uuid": "326e4c67c03d11cf92213cfdc4a8df825b8c0b25"
      },
      "cell_type": "code",
      "source": "venue_list = df[\"Venue\"].tolist()\nvenue_dict = {}\ni=0\nfor venue in venue_list:\n    venue_dict[venue] = i\n    i += 1",
      "execution_count": null,
      "outputs": []
    },
    {
      "metadata": {
        "trusted": true,
        "_uuid": "16722486ee31e7642efab181e7a2780dce39ca0c"
      },
      "cell_type": "code",
      "source": "# df[\"Topic_Label\"] = df.apply(lambda row: topic_dict[row[\"Topic\"]],axis = 1)\ndf[\"Year Since Publication\"] = df.apply(lambda row: 2018-row[\"Year\"],axis =1)\ndf[\"Venue_label\"] = df.apply(lambda row: venue_dict[row[\"Venue\"]],axis = 1)",
      "execution_count": null,
      "outputs": []
    },
    {
      "metadata": {
        "trusted": true,
        "_uuid": "0d15944e5723f0939078f41da421f0c07cad856b"
      },
      "cell_type": "code",
      "source": "del venue_list\ndel topic_list",
      "execution_count": null,
      "outputs": []
    },
    {
     "data": {
      "text/plain": [
       "Text(0.5,0.98,'Number of paper published in each month')"
      ]
     },
     "execution_count": 56,
     "metadata": {},
     "output_type": "execute_result"
    },
    {
     "data": {
      "image/png": "[encoded data removed]",
      "text/plain": [
       "<Figure size 864x360 with 1 Axes>"
      ]
     },
     "metadata": {},
     "output_type": "display_data"
    }
   ],
   "source": [
    "# paper publication around a year\n",
    "plt.figure(figsize=(12,5))\n",
    "sns.set(style=\"darkgrid\",font_scale=1.3)\n",
    "ax = sns.countplot(x=\"Month\", data=df)\n",
    "ax.set_xticklabels([\"January\",\"February\",\"March\", \"April\", \"May\", \"June\", \"July\", \"August\", \"September\", \"October\",\"November\", \"December\"])\n",
    "plt.suptitle(\"Number of paper published in each month\")"
   ]
  },
  {
   "cell_type": "code",
   "execution_count": 86,
   "metadata": {
    "_uuid": "a34194cb5f1bb681c81dd47f427ce214b40c6c80"
   },
   "outputs": [
    {
     "data": {
      "text/plain": [
       "500"
      ]
     },
     "execution_count": 86,
     "metadata": {},
     "output_type": "execute_result"
    }
   ],
   "source": [
    "max(df.Number_Of_authors)"
   ]
  },
  {
   "cell_type": "code",
   "execution_count": 128,
   "metadata": {
    "_uuid": "b5e8e78d5647090a2a7a6e9cdfde7ed7dcb4f248"
   },
   "outputs": [
    {
      "metadata": {
        "trusted": true,
        "_uuid": "b19f35a3938a1a9bc87cd28e3839089d0b40db6c"
      },
      "cell_type": "code",
      "source": "df[\"page_rank\"] = 0\ndef update_rank(row):\n    if row[\"Id\"] in page_rank:\n        return page_rank[row[\"Id\"]]\n    else:\n        return 0\ndf[\"page_rank\"] = df.apply(lambda row: update_rank(row),axis = 1)\ndf[\"page_rank\"][0:10]",
      "execution_count": null,
      "outputs": []
    },
    {
      "metadata": {
        "trusted": true,
        "_uuid": "0f49cc35e40b10d52c8b0df5d75d1f2c55f7db3f"
      },
      "cell_type": "code",
      "source": "df.to_csv(\"ranked_processed_data.csv\")",
      "execution_count": null,
      "outputs": []
    },
    {
      "metadata": {
        "trusted": true,
        "_uuid": "c300864f8a6b162f9099ae66ca03971cbb55bd41"
      },
      "cell_type": "code",
      "source": "del inlink_map\ndel outlink_map",
      "execution_count": null,
      "outputs": []
    },
    {
      "metadata": {
        "trusted": true,
        "_uuid": "6672ac63ff14de0ad0c48fabea3472b2a411ed0b"
      },
      "cell_type": "code",
      "source": "cf_list = {}\ncf_score = {}\ni = 0\nfor index,row in df.iterrows():\n    info_list = cf_list.get(row[\"Venue\"],[0,0])\n    info_list[0] += row[\"page_rank\"]\n    info_list[1] += 1\n    cf_list[row[\"Venue\"]] = info_list\n    i += 1\nfor key,value in cf_list.items():\n    score = value[0]/value[1]\n    cf_score[key] = score",
      "execution_count": null,
      "outputs": []
    },
    {
      "metadata": {
        "trusted": true,
        "_uuid": "7eb5d0afaba736ba720064a7f9e8816f3babf62d"
      },
      "cell_type": "code",
      "source": "del cf_list",
      "execution_count": null,
      "outputs": []
    },
    {
      "metadata": {
        "trusted": true,
        "_uuid": "b7ded385c4dbfed113dd0fe849ddd9698b70819c"
      },
      "cell_type": "code",
      "source": "df.head()",
      "execution_count": null,
      "outputs": []
    },
    {
      "metadata": {
        "trusted": true,
        "_uuid": "d801848a16828d46b862a2f87881373c46c49e70"
      },
      "cell_type": "code",
      "source": "author_score = {}\nauthor_list = {}\nfor index,row in df.iterrows():\n    values = row[\"Authors\"].split(\"},\")\n    for value in values:\n        val = value\n        index1 = val.find(\"AuId\")\n        index2 = val.find(\"AfN\")\n        index3 = val.find(\"'S'\")\n        if index3 < index1:\n            val = val[index1+4:index2]\n            val = val.strip(\"', :\")\n        else:\n            val = val[index1+4:index3]\n            val = val.strip(\"', :\")                \n        auth_id = val\n        index1 = value.find(\"AuN\")\n        val = value[index1+3:]\n        val = val.strip(\"': }]\")\n        auth_name = val\n        auth_info = author_list.get(auth_id,[\"\",0,0])\n        auth_info[0] = auth_name\n        auth_info[1] += row[\"page_rank\"] * cf_score[row[\"Venue\"]]\n        auth_info[2] += 1\n        author_list[auth_id] = auth_info\nfor key, value in author_list.items():\n    auth_info = author_list.get(key,[\"\",0,0])\n    author_score[key] = auth_info[1]/auth_info[2]",
      "execution_count": null,
      "outputs": []
    },
    {
      "metadata": {
        "trusted": true,
        "_uuid": "8953dc634956bdea498c04b183a3690c38be0931"
      },
      "cell_type": "code",
      "source": "del author_list",
      "execution_count": null,
      "outputs": []
    },
    {
      "metadata": {
        "trusted": true,
        "_uuid": "294479b5e0257689e580f3af6fd4e48aa6651f5a"
      },
      "cell_type": "code",
      "source": "# df = tidy_split(df,\"Authors\",\"},\")",
      "execution_count": null,
      "outputs": []
    },
    {
      "metadata": {
        "trusted": true,
        "_uuid": "08ccd8938462e6fbd625b4c9aee80034d21e4f93"
      },
      "cell_type": "code",
      "source": "def get_avg_author_score(row):\n    values = row[\"Authors\"].split(\"},\")\n    sum_score = 0\n    for value in values:\n        val = value\n        index1 = val.find(\"AuId\")\n        index2 = val.find(\"AfN\")\n        index3 = val.find(\"'S'\")\n        if index3 < index1:\n            val = val[index1+4:index2]\n            val = val.strip(\"', :\")\n        else:\n            val = val[index1+4:index3]\n            val = val.strip(\"', :\")                \n        auth_id = val\n        sum_score += author_score[auth_id]\n    return sum_score/row[\"Number_Of_authors\"]",
      "execution_count": null,
      "outputs": []
    },
    {
      "metadata": {
        "trusted": true,
        "_uuid": "f483219f214e2fbf297266b4aabe0dd573d86d42"
      },
      "cell_type": "code",
      "source": "df[\"Avg_Author_score\"] = df.apply(lambda row: get_avg_author_score(row),axis = 1)",
      "execution_count": null,
      "outputs": []
    },
    {
      "metadata": {
        "trusted": true,
        "_uuid": "1cec32f51653e0c5bfa8e64e50cfaf8771b3f3da"
      },
      "cell_type": "code",
      "source": "def get_first_author(row):\n    values = row[\"Authors\"].split(\"},\")\n    val = values[0]\n    index1 = val.find(\"AuId\")\n    index2 = val.find(\"AfN\")\n    index3 = val.find(\"'S'\")\n    if index3 < index1:\n        val = val[index1+4:index2]\n        val = val.strip(\"', :\")\n    else:\n        val = val[index1+4:index3]\n        val = val.strip(\"', :\")                \n    auth_id = val\n    return auth_id ",
      "execution_count": null,
      "outputs": []
    },
    {
      "metadata": {
        "trusted": true,
        "_uuid": "a2c22cf302ff3ed7794b2bb1ef6d596cfc568a91"
      },
      "cell_type": "code",
      "source": "df[\"FirstAuthor\"] = df.apply(lambda row: get_first_author(row),axis = 1)",
      "execution_count": null,
      "outputs": []
    },
    {
      "metadata": {
        "trusted": true,
        "_uuid": "8f17f0738f949d2460e2d070e49be236de90f242"
      },
      "cell_type": "code",
      "source": "df.head()",
      "execution_count": null,
      "outputs": []
    },
    {
      "metadata": {
        "trusted": true,
        "_uuid": "46552181297e26b3fdcecfa4cb6288f797d40675"
      },
      "cell_type": "code",
      "source": "df.to_csv(\"final_featured_data.csv\")",
      "execution_count": null,
      "outputs": []
    },
    {
      "metadata": {
        "trusted": true,
        "_uuid": "60b24a5ab8f81c3b62d56cc705a3c5de6bbf386a"
      },
      "cell_type": "code",
      "source": "features = ['Avg_Author_score','FirstAuthor','Citation_count','Id','Year','Popularity','Month','Publication_Rank','Publication Type','Number_Of_authors','Year Since Publication','Venue_label']",
      "execution_count": null,
      "outputs": []
    },
    {
      "metadata": {
        "trusted": true,
        "_uuid": "ebe3019087a13dfaafc48e2ed7119138af366835"
      },
      "cell_type": "code",
      "source": "df[\"FirstAuthor\"] = df[\"FirstAuthor\"].astype(int)\ndf[\"Number_Of_authors\"] = df[\"Number_Of_authors\"].astype(int)\ndf[\"Publication Type\"] = df[\"Publication Type\"].astype(int)\ndf[\"Month\"] = df[\"Month\"].astype(int)\ndf[\"Id\"] = df[\"Id\"].astype(int)\ndf[\"Year\"] = df[\"Year\"].astype(int)\ndf[\"Citation_count\"] = df[\"Citation_count\"].astype(int)",
      "execution_count": null,
      "outputs": []
    },
    {
      "metadata": {
        "trusted": true,
        "_uuid": "0f44afb7776b60cd85b0635ed6dd04ff9b03714a"
      },
      "cell_type": "code",
      "source": "df_train = df[df[\"Year\"] <= 2010]\ndf_dev = df[df[\"Year\"] == 2011]\ndf_eval = df[df[\"Year\"] >= 2011]",
      "execution_count": null,
      "outputs": []
    },
    {
      "metadata": {
        "trusted": true,
        "_uuid": "6fdc8225c514979b6db14e4113573bc1a13e24ad"
      },
      "cell_type": "code",
      "source": "df.dtypes",
      "execution_count": null,
      "outputs": []
    },
    {
      "metadata": {
        "trusted": true,
        "_uuid": "0a02aa57f46a0535fc5e8d96535a54d201a6065d"
      },
      "cell_type": "code",
      "source": "df.shape",
      "execution_count": null,
      "outputs": []
    },
    {
      "metadata": {
        "trusted": true,
        "_uuid": "573245d1a73e436e3d633e545f8b48cdeb179de8"
      },
      "cell_type": "code",
      "source": "import lightgbm as lgb \n\nlgb_params = {\"objective\" : \"regression\", \"metric\" : \"rmse\",\n              \"num_leaves\" : 70, \"learning_rate\" : 0.01, \n              \"bagging_fraction\" : 0.75, \"feature_fraction\" : 0.8, \"bagging_frequency\" : 9}\n    \nlgb_train = lgb.Dataset(df_train[features], label=df_train[\"page_rank\"])\nlgb_val = lgb.Dataset(df_dev[features], label=df_dev[\"page_rank\"])\nmodel = lgb.LGBMRegressor(boosting_type='gbdt',num_leaves=31,max_depth=-1, \nlearning_rate=0.01, \nn_estimators=1000, \nmax_bin=255, \nsubsample_for_bin=50000, \nobjective=None, \nmin_split_gain=0, \nmin_child_weight=3,\nmin_child_samples=10, \nsubsample=1, \nsubsample_freq=1, \ncolsample_bytree=1, \nreg_alpha=0.1, \nreg_lambda=0, \nseed=17,\nsilent=False, \nnthread=-1)\nmodel.fit(df_train[features], df_train[\"page_rank\"], eval_set=[(df_dev[features], df_dev[\"page_rank\"])])",
      "execution_count": null,
      "outputs": []
    },
    {
      "metadata": {
        "trusted": true,
        "_uuid": "e7df1f97eeb3bcd56bcfbd8d3757964a4cab9db2"
      },
      "cell_type": "code",
      "source": "pred_dev = model.predict(df_dev[features])\npred_test = model.predict(df_eval[features])",
      "execution_count": null,
      "outputs": []
    },
    {
      "metadata": {
        "trusted": true,
        "_uuid": "017cc2f310ebc4aedbb2a21f43aebb5992409d1a"
      },
      "cell_type": "code",
      "source": "import math\n\ndef sigmoid(x):\n  return 1 / (1 + math.exp(-x))",
      "execution_count": null,
      "outputs": []
    },
    {
      "metadata": {
        "trusted": true,
        "_uuid": "01a2ab6a22cfd84a02dafbf8ecf219d73401cf01"
      },
      "cell_type": "code",
      "source": "df_eval['prob'] = df_eval.apply (lambda row: sigmoid(row[\"pred_rank\"]),axis=1)\ndf_eval = df_eval.sort_values(by=['prob'],ascending=False)\nprint(df_eval[0:100])",
      "execution_count": null,
      "outputs": []
    },
    {
      "metadata": {
        "trusted": true,
        "_uuid": "34314b3c6c3dc0b4fa70388902368bb441bb85eb"
      },
      "cell_type": "code",
      "source": "imp_list = model.feature_importances_",
      "execution_count": null,
      "outputs": []
    },
    {
      "metadata": {
        "trusted": true,
        "_uuid": "d956fa128f4f1db8b36923fdd1e44004a22bfd98"
      },
      "cell_type": "code",
      "source": "num = sum(imp_list)",
      "execution_count": null,
      "outputs": []
    },
    {
      "metadata": {
        "trusted": true,
        "_uuid": "16cc050c8692dc67d1403c264fe926b90e42ff4e"
      },
      "cell_type": "code",
      "source": "import matplotlib.pyplot as plt\nimport seaborn as sns\nimport warnings\nwarnings.simplefilter(action='ignore', category=FutureWarning)\n\n# sorted(zip(clf.feature_importances_, X.columns), reverse=True)\nfeature_imp = pd.DataFrame(sorted(zip(model.feature_importances_,train_x.columns)), columns=['Value','Feature'])\n\nplt.figure(figsize=(20, 10))\nsns.barplot(x=\"Value\", y=\"Feature\", data=feature_imp.sort_values(by=\"Value\", ascending=False))\nplt.title('LightGBM Features (avg over folds)')\nplt.tight_layout()\nplt.show()\nplt.savefig('lgbm_importances-01.png')",
      "execution_count": null,
      "outputs": []
    },
    {
      "metadata": {
        "trusted": true,
        "_uuid": "1a4b4d565da71f4a89630651c0492b275c4a0cc5"
      },
      "cell_type": "code",
      "source": "df_eval[0:100].to_csv(\"Model_output.csv\")",
      "execution_count": null,
      "outputs": []
    }
   ],
   "source": [
    "import json\n",
    "import ast\n",
    "# obj = json.loads(\"[{'AuId': 2168721218, 'S': 1, 'AuN': 'emelia j benjamin'},]\")\n",
    "obj = ast.literal_eval(df[\"Authors\"][24093])\n",
    "print(len(obj))\n",
    "print(json.dumps(obj[0], indent=2))\n",
    "universities = { _obj[\"AfN\"] for _obj in obj if \"AfN\" in _obj}\n",
    "print(universities)"
   ]
  },
  {
   "cell_type": "code",
   "execution_count": null,
   "metadata": {},
   "outputs": [],
   "source": [
    "df[]"
   ]
  },
  {
   "cell_type": "code",
   "execution_count": 120,
   "metadata": {},
   "outputs": [
    {
     "data": {
      "text/plain": [
       "\"[{'AuId': 2168721218, 'S': 1, 'AuN': 'emelia j benjamin'}, {'AuId': 2005352543, 'S': 2, 'AuN': 'michael j blaha'}, {'AuId': 104634994, 'S': 3, 'AuN': 'stephanie e chiuve'}, {'AuId': 2046859330, 'S': 4, 'AuN': 'mary cushman'}, {'AuId': 2277451764, 'S': 5, 'AuN': 'sandeep r das'}, {'AuId': 1975017443, 'S': 6, 'AuN': 'rajat deo'}, {'AuId': 1959621794, 'S': 7, 'AuN': 'sarah d de ferranti'}, {'AuId': 2101491348, 'S': 8, 'AuN': 'james s floyd'}, {'AuId': 108138892, 'S': 9, 'AuN': 'myriam fornage'}, {'AuId': 2127140094, 'S': 10, 'AuN': 'cathleen gillespie'}, {'AuId': 1772048951, 'S': 11, 'AuN': 'carmen r isasi'}, {'AuId': 2166150345, 'S': 12, 'AuN': 'monik c jimenez'}, {'AuId': 2189981646, 'S': 13, 'AuN': 'lori c jordan'}, {'AuId': 2141707827, 'S': 14, 'AuN': 'suzanne e judd'}, {'AuId': 2894344593, 'S': 15, 'AuN': 'daniel t lackland'}, {'AuId': 2168694049, 'S': 16, 'AuN': 'judith h lichtman'}, {'S': 17, 'AuId': 304513337, 'AfN': 'university of michigan', 'AfId': 27837315, 'AuN': 'lynda d lisabeth'}, {'AuId': 2108767686, 'S': 18, 'AuN': 'simin liu'}, {'AuId': 1984608776, 'S': 19, 'AuN': 'chris t longenecker'}, {'AuId': 2117883589, 'S': 20, 'AuN': 'rachel h mackey'}, {'S': 21, 'AuId': 2171983489, 'AfN': 'johns hopkins university', 'AfId': 145311948, 'AuN': 'kunihiro matsushita'}, {'AuId': 20044890, 'S': 22, 'AuN': 'dariush mozaffarian'}, {'AuId': 2892975931, 'S': 23, 'AuN': 'michael e mussolino'}, {'AuId': 2123725838, 'S': 24, 'AuN': 'khurram nasir'}, {'S': 25, 'AuId': 36419944, 'AfN': 'university of michigan', 'AfId': 27837315, 'AuN': 'robert w neumar'}, {'AuId': 2010758213, 'S': 26, 'AuN': 'latha palaniappan'}, {'AuId': 2102852588, 'S': 27, 'AuN': 'dilip k pandey'}, {'AuId': 1760152241, 'S': 28, 'AuN': 'ravi r thiagarajan'}, {'AuId': 2140680963, 'S': 29, 'AuN': 'mathew j reeves'}, {'AuId': 2275036776, 'S': 30, 'AuN': 'matthew d ritchey'}, {'AuId': 2121714545, 'S': 31, 'AuN': 'carlos j rodriguez'}, {'AuId': 2169176658, 'S': 32, 'AuN': 'gregory a roth'}, {'AuId': 196700306, 'S': 33, 'AuN': 'wayne d rosamond'}, {'AuId': 1676808411, 'S': 34, 'AuN': 'comilla sasson'}, {'AuId': 1829979268, 'S': 35, 'AuN': 'amytis towfighi'}, {'AuId': 2083005942, 'S': 36, 'AuN': 'connie w tsao'}, {'AuId': 2096743041, 'S': 37, 'AuN': 'melanie b turner'}, {'AuId': 2168254275, 'S': 38, 'AuN': 'salim s virani'}, {'AuId': 1861518397, 'S': 39, 'AuN': 'jenifer h voeks'}, {'AuId': 2101339450, 'S': 40, 'AuN': 'joshua z willey'}, {'AuId': 2344989643, 'S': 41, 'AuN': 'john t wilkins'}, {'AuId': 2581861377, 'S': 42, 'AuN': 'jason h y wu'}, {'AuId': 2038392548, 'S': 43, 'AuN': 'heather m alger'}, {'AuId': 2636835961, 'S': 44, 'AuN': 'sally s wong'}, {'AuId': 2067622581, 'S': 45, 'AuN': 'paul muntner'}]\""
      ]
     },
     "execution_count": 120,
     "metadata": {},
     "output_type": "execute_result"
    }
   ],
   "source": [
    "df[\"Authors\"][0]"
   ]
  },
  {
   "cell_type": "code",
   "execution_count": 25,
   "metadata": {
    "_uuid": "73fb9d4b7df84d0137bb6ef39211284f409e07b0"
   },
   "outputs": [],
   "source": [
    "outlink_map = {}\n",
    "inlink_map = {}\n",
    "df_new = df[df[\"References\"].notnull()]\n",
    "for index, row in df_new.iterrows():\n",
    "    ref = row[\"References\"]\n",
    "    ref_list = list(map(int,ref.strip(\"[]'\").split(\",\")))\n",
    "    outlink_map[row[\"Id\"]] = ref_list\n",
    "    for ref in ref_list:\n",
    "        listi = inlink_map.get(ref, [])\n",
    "        listi.append(row[\"Id\"])\n",
    "        inlink_map[ref] = listi"
   ]
  },
  {
   "cell_type": "code",
   "execution_count": null,
   "metadata": {
    "_uuid": "11ae31ad9925e4bb1970747e3f495fddc7e79fec"
   },
   "outputs": [],
   "source": [
    "def calculate_page_rank():\n",
    "    count = 0\n",
    "    page_year = {row[\"Id\"]:row[\"Year\"] for _t, row in df.iterrows()}\n",
    "    year_citation_count = { page_year[index]:0 for index in page_year}\n",
    "    year_paper_count = { page_year[index]:0 for index in page_year}\n",
    "    avg_year_citation_count = {}\n",
    "    for index in page_year:\n",
    "        year = page_year[index]\n",
    "        len_outlink = len(outlink_map.get(index, []))\n",
    "        if len_outlink > 0:\n",
    "            year_citation_count[year] += len_outlink\n",
    "            year_paper_count[year] += 1\n",
    "    for year in year_citation_count:\n",
    "        if year_paper_count[year] > 0:\n",
    "            avg_year_citation_count[year] = year_citation_count[year]/year_paper_count[year]\n",
    "    page_rank = {}\n",
    "    updated_page_rank = {}\n",
    "    for index in df[\"Id\"]:\n",
    "        page_rank[index] = 1\n",
    "    while True:\n",
    "        count += 1\n",
    "        flag = True\n",
    "        for key in page_rank:\n",
    "            cs = page_rank[key]\n",
    "            if key in inlink_map:\n",
    "                inlink_list = inlink_map[key]\n",
    "                ns = 0\n",
    "                for link in inlink_list:\n",
    "                    if link in page_rank and link in outlink_map:\n",
    "                        ns += page_rank[link]/len(outlink_map[link])\n",
    "                #ns = 0.15 + (0.85 * ns)\n",
    "                ns = 0.15 + float(0.85) * (ns/avg_year_citation_count[page_year[key]])\n",
    "                if cs != ns:\n",
    "                    flag = False\n",
    "                updated_page_rank[key] = ns\n",
    "        if flag == True:\n",
    "            print(count)\n",
    "            break\n",
    "        page_rank = updated_page_rank\n",
    "        updated_page_rank = {}\n",
    "        max_score = max(page_rank.values())\n",
    "        print(f\"max score is {max_score}\")\n",
    "        page_rank = { index:score/max_score for index, score in page_rank.items()}\n",
    "        return page_rank"
   ]
  },
  {
   "cell_type": "code",
   "execution_count": null,
   "metadata": {
    "_uuid": "46652242cea394b2855919dde313a39be7e50ad1"
   },
   "outputs": [],
   "source": [
    "page_rank = calculate_page_rank()\n",
    "print(max(page_rank.values()))\n",
    "print(sum(page_rank.values()))"
   ]
  },
  {
   "cell_type": "code",
   "execution_count": null,
   "metadata": {
    "_uuid": "0f489dcdbb52b1103175e9c9c903f3b4b7d6cbaa"
   },
   "outputs": [],
   "source": []
  },
  {
   "cell_type": "code",
   "execution_count": null,
   "metadata": {
    "_uuid": "b19f35a3938a1a9bc87cd28e3839089d0b40db6c"
   },
   "outputs": [],
   "source": [
    "df[\"page_rank\"] = 0\n",
    "def update_rank(row):\n",
    "    if row[\"Index_Id\"] in page_rank:\n",
    "        return page_rank[row[\"Index_Id\"]]\n",
    "    else:\n",
    "        return 0\n",
    "df[\"page_rank\"] = df.apply(lambda row: update_rank(row),axis = 1)\n",
    "df[\"page_rank\"][0:10]"
   ]
  },
  {
   "cell_type": "code",
   "execution_count": null,
   "metadata": {
    "_uuid": "0f49cc35e40b10d52c8b0df5d75d1f2c55f7db3f"
   },
   "outputs": [],
   "source": [
    "df.to_csv(\"ranked_processed_data.csv\")"
   ]
  },
  {
   "cell_type": "code",
   "execution_count": null,
   "metadata": {
    "_uuid": "e74cfbedd0f25b1c5d34ad32f0fc1531b9df6835"
   },
   "outputs": [],
   "source": [
    "# from sklearn.utils.extmath import softmax\n",
    "# df[\"page_rank\"]  = softmax(df[\"page_rank\"].values())"
   ]
  },
  {
   "cell_type": "code",
   "execution_count": null,
   "metadata": {
    "_uuid": "78860dfa67476d65df9ac8ed014a7807aff3d74f"
   },
   "outputs": [],
   "source": [
    "# df.to_csv(\"ranked_softmax_processed_data.csv\")"
   ]
  }
 ],
 "metadata": {
  "kernelspec": {
   "display_name": "Python 3",
   "language": "python",
   "name": "python3"
  },
  "language_info": {
   "codemirror_mode": {
    "name": "ipython",
    "version": 3
   },
   "file_extension": ".py",
   "mimetype": "text/x-python",
   "name": "python",
   "nbconvert_exporter": "python",
   "pygments_lexer": "ipython3",
   "version": "3.6.5"
  }
 },
 "nbformat": 4,
 "nbformat_minor": 1
}
