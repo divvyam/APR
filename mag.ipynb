{
 "cells": [
  {
   "cell_type": "code",
   "execution_count": null,
   "metadata": {
    "_uuid": "46fd49295b665721d524e5d197d6a95c861a04ba"
   },
   "outputs": [],
   "source": [
    "import os\n",
    "import csv\n",
    "import pandas as pd\n",
    "import numpy as np\n",
    "\n",
    "import datetime\n",
    "from pandas.io.json import json_normalize\n",
    "import matplotlib.pyplot as plt\n",
    "import seaborn as sns\n",
    "color = sns.color_palette()\n",
    "\n",
    "%matplotlib inline\n",
    "\n",
    "from plotly import tools\n",
    "import plotly.offline as py\n",
    "py.init_notebook_mode(connected=True)\n",
    "import plotly.graph_objs as go\n",
    "import squarify\n",
    "\n",
    "from sklearn import model_selection, preprocessing, metrics\n",
    "plt.style.use('fivethirtyeight')\n",
    "\n",
    "print(os.getcwd())\n",
    "print(os.listdir(\"../\"))"
   ]
  },
  {
   "cell_type": "code",
   "execution_count": null,
   "metadata": {
    "_uuid": "58882658662cf6ce89fa49b5865c433145b79076",
    "scrolled": true
   },
   "outputs": [],
   "source": [
    "def clean_data(df):\n",
    "    #since first column contains row number\n",
    "#     df.drop([\"Row_num\"], axis=1)\n",
    "    #removing  and kesEntityId as simillar fields are already present\n",
    "    df = df.drop(columns=[\"Row_num\",\"kesEntityId\"],axis=1)\n",
    "    df[\"Popularity\"] = df[\"Popularity\"].apply(pd.to_numeric,downcast='float')\n",
    "    df[\"Year\"] = df[\"Year\"].apply(pd.to_numeric,downcast='unsigned')\n",
    "    df[\"Month\"] = df[\"Month\"].apply(pd.to_numeric,downcast='unsigned')\n",
    "    df = df.dropna(subset=['Venue'])\n",
    "    return df"
   ]
  },
  {
   "cell_type": "code",
   "execution_count": null,
   "metadata": {
    "_uuid": "c313ba7bc8ad30eddf94d59dcad39362a348dcc6"
   },
   "outputs": [],
   "source": [
    "df_pub = pd.read_csv(\"../input/scopus-data/ProcessedScopusData.csv\")\n",
    "# If this doesn't work, please change it to the path where the file is locaed in your PC\n",
    "# df_pub = pd.read_csv(\"Data/ProcessedScopusData.csv\")"
   ]
  },
  {
   "cell_type": "code",
   "execution_count": null,
   "metadata": {
    "_uuid": "cb974cc7b9a752f335d022377437c349fb8642a2"
   },
   "outputs": [],
   "source": [
    "df_pub.head()"
   ]
  },
  {
   "cell_type": "code",
   "execution_count": null,
   "metadata": {
    "_uuid": "279398cf3313d739b569f574e6074e27cefe0240"
   },
   "outputs": [],
   "source": [
    "def append_pub_score(df):\n",
    "    print(\"Unique Publications from Scopus:\",len(df_pub.Title.unique()))\n",
    "    # Analysing Common Publications\n",
    "    vfn_list = df.Venue.unique().tolist()\n",
    "    scopus_list = df_pub.Title.unique().tolist()\n",
    "    count = 0\n",
    "    for pub in scopus_list:\n",
    "        if pub in vfn_list:\n",
    "            count +=1\n",
    "    print(\"Publications present in Dataset:\",count)\n",
    "    print(\"Shape Before\",df.shape)\n",
    "    df = df[df.Venue.isin(scopus_list)]\n",
    "    print(\"Shape After\",df.shape)\n",
    "    #score appending\n",
    "    score_dict = pd.Series(df_pub.SJR.values,index=df_pub.Title).to_dict()\n",
    "    df[\"Publication_Rank\"] = df.apply(lambda row: score_dict[row[\"Venue\"]],axis = 1)\n",
    "    return df\n",
    "\n",
    "def extract_field(row):\n",
    "    val = str(row[\"Domain\"])\n",
    "    index = val.rfind(\"FN\")\n",
    "    val = val[index+3:len(val)]\n",
    "    val = val.strip(\":}] '\")\n",
    "    return val\n",
    "\n",
    "def get_num_authors(row):\n",
    "    vals = row[\"Authors\"].split(\"},\")\n",
    "    return len(vals)\n",
    "def get_open_access(df):\n",
    "    def get_label(val):\n",
    "        if val == \"YES\":\n",
    "            return 1\n",
    "        else:\n",
    "            return 0\n",
    "    #score appending\n",
    "    open_dict = pd.Series(df_pub.OpenAccess.values,index=df_pub.Title).to_dict()\n",
    "    df[\"OpenAccess\"] = df.apply(lambda row: get_label(open_dict[row[\"Venue\"]]),axis = 1)\n",
    "    return df\n",
    "\n",
    "def get_num_domains(row):\n",
    "    if not pd.isnull(row[\"Domain\"]):\n",
    "        json_obj = ast.literal_eval(row[\"Domain\"])\n",
    "        if json_obj:\n",
    "            return len(json_obj)\n",
    "    return 0"
   ]
  },
  {
   "cell_type": "code",
   "execution_count": null,
   "metadata": {
    "_uuid": "53233bed795c7bef73f8954e5125c8982d909c02"
   },
   "outputs": [],
   "source": [
    "label_dict = {\"C\":0,\"J\":1,\"CJ\":2,\"O\":3}\n",
    "def find_conference_type(row):\n",
    "    if pd.isnull(row[\"Conference\"]) and pd.isnull(row[\"Journal\"]):\n",
    "        return label_dict[\"O\"]\n",
    "    elif pd.isnull(row[\"Conference\"]):\n",
    "        return label_dict[\"J\"]\n",
    "    elif pd.isnull(row[\"Journal\"]):\n",
    "        return label_dict[\"C\"]\n",
    "    else:\n",
    "        return label_dict[\"CJ\"]"
   ]
  },
  {
   "cell_type": "code",
   "execution_count": null,
   "metadata": {
    "_uuid": "9d57b8da22246e6b63c80f18ce99402a61145f9f"
   },
   "outputs": [],
   "source": [
    "def tidy_split(df, column, sep='|', keep=False):\n",
    "    indexes = list()\n",
    "    id_values = list()\n",
    "    name_values = list()\n",
    "    df = df.dropna(subset=[column])\n",
    "    for i, presplit in enumerate(df[column].astype(str)):\n",
    "        values = presplit.split(sep)\n",
    "        if keep and len(values) > 1:\n",
    "            indexes.append(i)\n",
    "            id_values.append(presplit)\n",
    "        for value in values:\n",
    "            indexes.append(i)\n",
    "            val = value\n",
    "            index1 = val.find(\"AuId\")\n",
    "            index2 = val.find(\"AfN\")\n",
    "            index3 = val.find(\"'S'\")\n",
    "            if index3 < index1:\n",
    "                val = val[index1+4:index2]\n",
    "                val = val.strip(\"', :\")\n",
    "            else:\n",
    "                val = val[index1+4:index3]\n",
    "                val = val.strip(\"', :\")                \n",
    "            id_values.append(val)\n",
    "            index1 = value.find(\"AuN\")\n",
    "            val = value[index1+3:]\n",
    "            val = val.strip(\"': }]\")\n",
    "            name_values.append(val)\n",
    "    new_df = df.iloc[indexes, :].copy()\n",
    "    del df\n",
    "    new_df[column+\"_Id\"] = id_values\n",
    "    del new_df\n",
    "    new_new_df = new_df.iloc[:, :].copy()\n",
    "    new_new_df[column+\"_Name\"] = name_values\n",
    "    return new_new_df"
   ]
  },
  {
   "cell_type": "code",
   "execution_count": null,
   "metadata": {
    "_uuid": "160a079098ca48923a3d01d3ab31a48c83a0dc93"
   },
   "outputs": [],
   "source": [
    "def process_year(df):\n",
    "    # Make more sensible column names\n",
    "    rename_dict = {\"AA\": \"Authors\", \n",
    "                   \"C\": \"Conference\", \n",
    "                   \"CC\": \"Citation_count\",\n",
    "                   \"ECC\": \"Expected_count\",\n",
    "                   \"D\": \"Date\", \n",
    "                   \"F\": \"Domain\", \n",
    "                   \"J\": \"Journal\", \n",
    "                   \"RId\": \"References\", \n",
    "                   \"Ti\": \"Title\", \n",
    "                   \"VFN\": \"Venue\", \n",
    "                   \"W\": \"Words\", \n",
    "                   \"Y\": \"Year\", \n",
    "                   \"logprob\":\"Popularity\",\n",
    "                   \"Unnamed: 0\": \"Row_num\"}\n",
    "    df.rename(index=str, columns=rename_dict, inplace=True)\n",
    "    df.drop_duplicates(subset=['Title'], inplace=True)\n",
    "    df[\"Month\"] = pd.to_datetime(df[\"Date\"]).dt.month\n",
    "    df = clean_data(df)\n",
    "    df = append_pub_score(df)\n",
    "    df[\"Publication Type\"] = df.apply(lambda row:find_conference_type(row),axis=1)\n",
    "    df[\"Number_Of_authors\"] = df.apply(lambda row:get_num_authors(row), axis = 1)\n",
    "    return df"
   ]
  },
  {
   "cell_type": "code",
   "execution_count": null,
   "metadata": {
    "_uuid": "84ab90dee99dd6123cf5ac182279833ca1649d8a"
   },
   "outputs": [],
   "source": [
    "# df = pd.read_csv(\"../input/mag-2013/mag_2013.csv\")"
   ]
  },
  {
   "cell_type": "code",
   "execution_count": null,
   "metadata": {
    "_uuid": "9016cc8bc784a09f3ab41cc95115adbcc560a984"
   },
   "outputs": [],
   "source": [
    "# only for year 2013\n",
    "# df = df[df['D'] != \"-20.259\"]"
   ]
  },
  {
   "cell_type": "code",
   "execution_count": null,
   "metadata": {
    "_uuid": "0540769347b899c896f42090084fe66b3bece32d"
   },
   "outputs": [],
   "source": [
    "# df = process_year(df)"
   ]
  },
  {
   "cell_type": "code",
   "execution_count": null,
   "metadata": {
    "_uuid": "d0ff4542f6f1b8442a2462beee3199a36c70b9c7"
   },
   "outputs": [],
   "source": [
    "# df.to_csv(\"mag_2013_processed.csv\")"
   ]
  },
  {
   "cell_type": "code",
   "execution_count": null,
   "metadata": {
    "_uuid": "5d1abd32ba5ad7c8fe3df8a76a33be8a923fafa7"
   },
   "outputs": [],
   "source": [
    "print(os.listdir(\"../input/\"))"
   ]
  },
  {
   "cell_type": "code",
   "execution_count": null,
   "metadata": {
    "_uuid": "0837b685bdba1a91db8c407bdf324dc6ee22f8dc"
   },
   "outputs": [],
   "source": [
    "columns = ['Unnamed: 0','Authors', 'Conference','Citation_count','Date','Expected_count','Domain','Id','Journal','References','Title','Venue','Words','Year','Popularity','Month','Publication_Rank','Publication Type','Number_Of_authors']"
   ]
  },
  {
   "cell_type": "code",
   "execution_count": null,
   "metadata": {
    "_uuid": "1a0818183568ad420a028de7a70150696174b824"
   },
   "outputs": [],
   "source": [
    "df = pd.DataFrame(columns = columns)\n",
    "# please give a path that works on your machine. Keep all the processed files in this path\n",
    "path = \"../input/processedmagdata\"\n",
    "for file in os.listdir(path):\n",
    "#     print(file)\n",
    "    df_temp = pd.read_csv(path+\"/\"+file)\n",
    "    df = df.append(df_temp)"
   ]
  },
  {
   "cell_type": "code",
   "execution_count": null,
   "metadata": {
    "_uuid": "d2fd4a4aa86122e8ba8a7e2bcb33fe28fd45c330"
   },
   "outputs": [],
   "source": [
    "# df = get_open_access(df)"
   ]
  },
  {
   "cell_type": "code",
   "execution_count": null,
   "metadata": {
    "_uuid": "b5e8e78d5647090a2a7a6e9cdfde7ed7dcb4f248"
   },
   "outputs": [],
   "source": [
    "# df.isna().sum()"
   ]
  },
  {
   "cell_type": "code",
   "execution_count": null,
   "metadata": {
    "_uuid": "bdb36bf74550114983f41fc4b3dcff254942c896"
   },
   "outputs": [],
   "source": [
    "# df.head()"
   ]
  },
  {
   "cell_type": "code",
   "execution_count": null,
   "metadata": {
    "_uuid": "7f932bdf63b631da639d10372424ca0375ed8af1"
   },
   "outputs": [],
   "source": [
    "# No duplicate values :)\n",
    "# df[df.duplicated()]"
   ]
  },
  {
   "cell_type": "code",
   "execution_count": null,
   "metadata": {
    "_uuid": "cb34a2a6f7097562acfc9f00f7c90c507cb29333"
   },
   "outputs": [],
   "source": [
    "#size of data\n",
    "# df.shape"
   ]
  },
  {
   "cell_type": "code",
   "execution_count": null,
   "metadata": {
    "_uuid": "14b96495d899e75cfd3895fcf742a0dc91ace262"
   },
   "outputs": [],
   "source": [
    "# df[\"Publication Type\"].value_counts()"
   ]
  },
  {
   "cell_type": "code",
   "execution_count": null,
   "metadata": {
    "_uuid": "321ec7a9a10d8a3691d14e003747c0dc24a5ac1d"
   },
   "outputs": [],
   "source": [
    "# Number of rows with 0 citation count and 0 References\n",
    "# df[ (df['References'].isnull()) & (df['Citation_count']==0)].shape[0]"
   ]
  },
  {
   "cell_type": "code",
   "execution_count": null,
   "metadata": {
    "_uuid": "9dcd8173b5764ea7bbb93dd64b7166d832b7099a"
   },
   "outputs": [],
   "source": [
    "#?\n",
    "df = df.drop(['Unnamed: 0'],axis = 1)"
   ]
  },
  {
   "cell_type": "code",
   "execution_count": null,
   "metadata": {
    "_uuid": "71ecddd0360c65e34f501fcdd506c1e6a58674b1"
   },
   "outputs": [],
   "source": [
    "#?\n",
    "df.dropna(subset=['Publication_Rank'], how='all', inplace = True)"
   ]
  },
  {
   "cell_type": "code",
   "execution_count": null,
   "metadata": {
    "_uuid": "3c34935fb136d4e423a2fbaa9937a0f2739d1dbe"
   },
   "outputs": [],
   "source": [
    "sns.set(style=\"darkgrid\",font_scale=1.3)\n",
    "ax = sns.countplot(x=\"Publication Type\", data=df)"
   ]
  },
  {
   "cell_type": "code",
   "execution_count": null,
   "metadata": {
    "_uuid": "2c66a334f73cd02c8e5dfdc65c71c6612cb447f9"
   },
   "outputs": [],
   "source": [
    "# paper publication throughout the period\n",
    "plt.figure(figsize=(13,6))\n",
    "sns.set(style=\"darkgrid\",font_scale=1.3)\n",
    "ax = sns.countplot(x=\"Year\", data=df)\n",
    "plt.suptitle(\"Distribution of Paper published in Years\")"
   ]
  },
  {
   "cell_type": "code",
   "execution_count": null,
   "metadata": {
    "_uuid": "b50960ab2a4dfbff1da597d41543e3b2cc29e8ee"
   },
   "outputs": [],
   "source": [
    "# paper publication around a year\n",
    "plt.figure(figsize=(13,6))\n",
    "sns.set(style=\"darkgrid\",font_scale=1.3)\n",
    "ax = sns.countplot(x=\"Month\", data=df)\n",
    "ax.set_xticklabels([\"January\",\"February\",\"March\", \"April\", \"May\", \"June\", \"July\", \"August\", \"September\", \"October\",\"November\", \"December\"])\n",
    "plt.suptitle(\"Number of paper published in each month\")"
   ]
  },
  {
   "cell_type": "code",
   "execution_count": null,
   "metadata": {
    "_uuid": "96f80b40a588d5d5fb9a4bace7b4a02e6c8ef5bd"
   },
   "outputs": [],
   "source": [
    "# max(df.Number_Of_authors)"
   ]
  },
  {
   "cell_type": "code",
   "execution_count": null,
   "metadata": {
    "_uuid": "ca5412f6373b313352df04803a4a80ff2a7b0258"
   },
   "outputs": [],
   "source": [
    "# df.sort_values(by=[\"Number_Of_authors\"], ascending=False).head()"
   ]
  },
  {
   "cell_type": "code",
   "execution_count": null,
   "metadata": {
    "_uuid": "52735880d2e4852f71951ad615e930557cecd20f"
   },
   "outputs": [],
   "source": [
    "# Number of authors for the paper, Group data according to number of authors\n",
    "bins = [0, 10, 20, 40, 60, 80, 100, 200, 400, 500, np.inf]\n",
    "# author_groups = pd.cut(df[\"Number_Of_authors\"], bins)\n",
    "# df[\"author_groups\"] = author_groups\n",
    "plt.figure(figsize=(10,4))\n",
    "sns.set(style=\"darkgrid\",font_scale=1.1)\n",
    "sss = pd.cut(df['Number_Of_authors'], bins=bins)\n",
    "ax = sss.value_counts(sort=False).plot.bar(rot=15)\n",
    "for index, row in sss.iterrows():\n",
    "    g.text(row.name,row.tip, row.total_bill,2, color='black', ha=\"center\")\n",
    "# sns.distplot(sss)\n",
    "\n",
    "plt.suptitle(\"Number of authors for given paper\")"
   ]
  },
  {
   "cell_type": "code",
   "execution_count": null,
   "metadata": {
    "_uuid": "8c312b4f530f4c88b78842650044fca6ff60487b"
   },
   "outputs": [],
   "source": [
    "sss.value_counts()"
   ]
  },
  {
   "cell_type": "code",
   "execution_count": null,
   "metadata": {
    "_uuid": "5c5e72fa34547507ca940a665cb493650abda8f8"
   },
   "outputs": [],
   "source": [
    "import json\n",
    "import ast\n",
    "# obj = json.loads(\"[{'AuId': 2168721218, 'S': 1, 'AuN': 'emelia j benjamin'},]\")\n",
    "obj = ast.literal_eval(df[\"Authors\"][24093])\n",
    "print(len(obj))\n",
    "print(json.dumps(obj[0], indent=2))\n",
    "universities = { _obj[\"AfN\"] for _obj in obj if \"AfN\" in _obj}\n",
    "print(universities)"
   ]
  },
  {
   "cell_type": "code",
   "execution_count": null,
   "metadata": {
    "_uuid": "7a4a125902935bbc4a524205a9f0f314be6e85a8"
   },
   "outputs": [],
   "source": [
    "df[\"Topic\"] = df.apply(lambda row: extract_field(row),axis = 1)"
   ]
  },
  {
   "cell_type": "code",
   "execution_count": null,
   "metadata": {
    "_uuid": "3e3f1fa126c37bcd19b6c46270c459ccf0b15cca"
   },
   "outputs": [],
   "source": [
    "# Keeping the top topics only\n",
    "top_topics = [\"medicine\",\"biology\",\"chemistry\",\"physics\",\"psychology\",\"materials science\",\"economics\",\"mathematics\",\"geology\",\"computer science\",\"sociology\",\"environmental science\",\"engineering\",\"business\",\"political science\",\"geography\",\"history\",\"philosophy\",\"artificial intelligence\",\"art\"]\n",
    "topic_list = []\n",
    "for index,row in df.iterrows():\n",
    "    if row[\"Topic\"] not in top_topics:\n",
    "        topic_list.append(df_pub[df_pub[\"Title\"] == row[\"Venue\"]][\"Subject Area\"].tolist()[0])\n",
    "    else:\n",
    "        topic_list.append(row[\"Topic\"])\n",
    "df[\"Topic\"] = topic_list\n",
    "del topic_list"
   ]
  },
  {
   "cell_type": "code",
   "execution_count": null,
   "metadata": {
    "_uuid": "9db9ef0155a8ef22b6757391bebe30eb08545853"
   },
   "outputs": [],
   "source": [
    "plt.figure(figsize=(13,6))\n",
    "top_10 = df[\"Topic\"].value_counts()[0:10]\n",
    "print(top_10)\n",
    "top_10.plot(kind = \"bar\")"
   ]
  },
  {
   "cell_type": "code",
   "execution_count": null,
   "metadata": {
    "_uuid": "52bd1255a57489e5925702713e22d736d10a6151"
   },
   "outputs": [],
   "source": [
    "topic_list = df[\"Topic\"].tolist()\n",
    "topic_dict = {}\n",
    "i=0\n",
    "for topic in topic_list:\n",
    "    topic_dict[topic] = i\n",
    "    i += 1"
   ]
  },
  {
   "cell_type": "code",
   "execution_count": null,
   "metadata": {
    "_uuid": "326e4c67c03d11cf92213cfdc4a8df825b8c0b25"
   },
   "outputs": [],
   "source": [
    "venue_list = df[\"Venue\"].tolist()\n",
    "venue_dict = {}\n",
    "i=0\n",
    "for venue in venue_list:\n",
    "    venue_dict[venue] = i\n",
    "    i += 1"
   ]
  },
  {
   "cell_type": "code",
   "execution_count": null,
   "metadata": {
    "_uuid": "16722486ee31e7642efab181e7a2780dce39ca0c"
   },
   "outputs": [],
   "source": [
    "# df[\"Topic_Label\"] = df.apply(lambda row: topic_dict[row[\"Topic\"]],axis = 1)\n",
    "df[\"Year Since Publication\"] = df.apply(lambda row: 2018-row[\"Year\"],axis =1)\n",
    "df[\"Venue_label\"] = df.apply(lambda row: venue_dict[row[\"Venue\"]],axis = 1)\n",
    "df[\"Topic_label\"] = df.apply(lambda row: topic_dict[row[\"Topic\"]],axis = 1)"
   ]
  },
  {
   "cell_type": "code",
   "execution_count": null,
   "metadata": {
    "_uuid": "0d15944e5723f0939078f41da421f0c07cad856b"
   },
   "outputs": [],
   "source": [
    "del venue_list\n",
    "del venue_dict\n",
    "del topic_list\n",
    "del topic_dict"
   ]
  },
  {
   "cell_type": "code",
   "execution_count": null,
   "metadata": {
    "_uuid": "73fb9d4b7df84d0137bb6ef39211284f409e07b0"
   },
   "outputs": [],
   "source": [
    "outlink_map = {}\n",
    "inlink_map = {}\n",
    "df_new = df[df[\"References\"].notnull()]\n",
    "for index, row in df_new.iterrows():\n",
    "    ref = row[\"References\"]\n",
    "    ref_list = list(map(int,ref.strip(\"[]'\").split(\",\")))\n",
    "    outlink_map[row[\"Id\"]] = ref_list\n",
    "    for ref in ref_list:\n",
    "        listi = inlink_map.get(ref, [])\n",
    "        listi.append(row[\"Id\"])\n",
    "        inlink_map[ref] = listi"
   ]
  },
  {
   "cell_type": "code",
   "execution_count": null,
   "metadata": {
    "_uuid": "11ae31ad9925e4bb1970747e3f495fddc7e79fec"
   },
   "outputs": [],
   "source": [
    "def calculate_page_rank():\n",
    "    count = 0\n",
    "    page_year = {row[\"Id\"]:row[\"Year\"] for _t, row in df.iterrows()}\n",
    "    year_citation_count = { page_year[index]:0 for index in page_year}\n",
    "    year_paper_count = { page_year[index]:0 for index in page_year}\n",
    "    avg_year_citation_count = {}\n",
    "    for index in page_year:\n",
    "        year = page_year[index]\n",
    "        len_outlink = len(outlink_map.get(index, []))\n",
    "        if len_outlink > 0:\n",
    "            year_citation_count[year] += len_outlink\n",
    "            year_paper_count[year] += 1\n",
    "    for year in year_citation_count:\n",
    "        if year_paper_count[year] > 0:\n",
    "            avg_year_citation_count[year] = year_citation_count[year]/year_paper_count[year]\n",
    "    page_rank = {}\n",
    "    updated_page_rank = {}\n",
    "    for index in df[\"Id\"]:\n",
    "        page_rank[index] = 1\n",
    "    while True:\n",
    "        count += 1\n",
    "        flag = True\n",
    "        for key in page_rank:\n",
    "            cs = page_rank[key]\n",
    "            if key in inlink_map:\n",
    "                inlink_list = inlink_map[key]\n",
    "                ns = 0\n",
    "                for link in inlink_list:\n",
    "                    if link in page_rank and link in outlink_map:\n",
    "                        ns += page_rank[link]/len(outlink_map[link])\n",
    "                #ns = 0.15 + (0.85 * ns)\n",
    "                ns = 0.15 + float(0.85) * (ns/avg_year_citation_count[page_year[key]])\n",
    "                if cs != ns:\n",
    "                    flag = False\n",
    "                updated_page_rank[key] = ns\n",
    "        if flag == True:\n",
    "            print(count)\n",
    "            break\n",
    "        page_rank = updated_page_rank\n",
    "        updated_page_rank = {}\n",
    "        max_score = max(page_rank.values())\n",
    "        print(f\"max score is {max_score}\")\n",
    "        page_rank = { index:score/max_score for index, score in page_rank.items()}\n",
    "        return page_rank"
   ]
  },
  {
   "cell_type": "code",
   "execution_count": null,
   "metadata": {
    "_uuid": "46652242cea394b2855919dde313a39be7e50ad1"
   },
   "outputs": [],
   "source": [
    "page_rank = calculate_page_rank()\n",
    "print(max(page_rank.values()))\n",
    "print(sum(page_rank.values()))"
   ]
  },
  {
   "cell_type": "code",
   "execution_count": null,
   "metadata": {
    "_uuid": "ead0cd3a2ba6b55fea2d8e1321855d016dcf3b41"
   },
   "outputs": [],
   "source": [
    "del inlink_map\n",
    "del outlink_map"
   ]
  },
  {
   "cell_type": "code",
   "execution_count": null,
   "metadata": {
    "_uuid": "b19f35a3938a1a9bc87cd28e3839089d0b40db6c"
   },
   "outputs": [],
   "source": [
    "df[\"page_rank\"] = 0\n",
    "def update_rank(row):\n",
    "    if row[\"Id\"] in page_rank:\n",
    "        return page_rank[row[\"Id\"]]\n",
    "    else:\n",
    "        return 0\n",
    "df[\"page_rank\"] = df.apply(lambda row: update_rank(row),axis = 1)\n",
    "df[\"page_rank\"][0:10]"
   ]
  },
  {
   "cell_type": "code",
   "execution_count": null,
   "metadata": {
    "_uuid": "0f49cc35e40b10d52c8b0df5d75d1f2c55f7db3f"
   },
   "outputs": [],
   "source": [
    "# df.to_csv(\"ranked_processed_data.csv\")"
   ]
  },
  {
   "cell_type": "code",
   "execution_count": null,
   "metadata": {
    "_uuid": "af48e8114eafaf43ac37e4f83648bffe1c6e4716"
   },
   "outputs": [],
   "source": [
    "del page_rank"
   ]
  },
  {
   "cell_type": "code",
   "execution_count": null,
   "metadata": {
    "_uuid": "6672ac63ff14de0ad0c48fabea3472b2a411ed0b"
   },
   "outputs": [],
   "source": [
    "cf_list = {}\n",
    "cf_score = {}\n",
    "i = 0\n",
    "for index,row in df.iterrows():\n",
    "    info_list = cf_list.get(row[\"Venue\"],[0,0])\n",
    "    info_list[0] += row[\"page_rank\"]\n",
    "    info_list[1] += 1\n",
    "    cf_list[row[\"Venue\"]] = info_list\n",
    "    i += 1\n",
    "for key,value in cf_list.items():\n",
    "    score = value[0]/value[1]\n",
    "    cf_score[key] = score"
   ]
  },
  {
   "cell_type": "code",
   "execution_count": null,
   "metadata": {
    "_uuid": "7eb5d0afaba736ba720064a7f9e8816f3babf62d"
   },
   "outputs": [],
   "source": [
    "del cf_list"
   ]
  },
  {
   "cell_type": "code",
   "execution_count": null,
   "metadata": {
    "_uuid": "b7ded385c4dbfed113dd0fe849ddd9698b70819c"
   },
   "outputs": [],
   "source": [
    "df.head()"
   ]
  },
  {
   "cell_type": "code",
   "execution_count": null,
   "metadata": {
    "_uuid": "d801848a16828d46b862a2f87881373c46c49e70"
   },
   "outputs": [],
   "source": [
    "# author_score = {}\n",
    "# author_list = {}\n",
    "# for index,row in df.iterrows():\n",
    "#     values = row[\"Authors\"].split(\"},\")\n",
    "#     for value in values:\n",
    "#         val = value\n",
    "#         index1 = val.find(\"AuId\")\n",
    "#         index2 = val.find(\"AfN\")\n",
    "#         index3 = val.find(\"'S'\")\n",
    "#         if index3 < index1:\n",
    "#             val = val[index1+4:index2]\n",
    "#             val = val.strip(\"', :\")\n",
    "#         else:\n",
    "#             val = val[index1+4:index3]\n",
    "#             val = val.strip(\"', :\")                \n",
    "#         auth_id = val\n",
    "#         index1 = value.find(\"AuN\")\n",
    "#         val = value[index1+3:]\n",
    "#         val = val.strip(\"': }]\")\n",
    "#         auth_name = val\n",
    "#         auth_info = author_list.get(auth_id,[\"\",0,0])\n",
    "#         auth_info[0] = auth_name\n",
    "#         auth_info[1] += row[\"page_rank\"] * cf_score[row[\"Venue\"]]\n",
    "#         auth_info[2] += 1\n",
    "#         author_list[auth_id] = auth_info\n",
    "# for key, value in author_list.items():\n",
    "#     auth_info = author_list.get(key,[\"\",0,0])\n",
    "#     author_score[key] = auth_info[1]/auth_info[2]"
   ]
  },
  {
   "cell_type": "code",
   "execution_count": null,
   "metadata": {
    "_uuid": "d7844a21bffb6bc5de9ed64050fafae67ccff68f"
   },
   "outputs": [],
   "source": [
    "author_score = {}\n",
    "author_list = {}\n",
    "for index,row in df.iterrows():\n",
    "    values = row[\"Authors\"].split(\"},\")\n",
    "    for value in values:\n",
    "        val = value\n",
    "        index1 = val.find(\"AuId\")\n",
    "        index2 = val.find(\"AfN\")\n",
    "        index3 = val.find(\"'S'\")\n",
    "        if index3 < index1:\n",
    "            val = val[index1+4:index2]\n",
    "            val = val.strip(\"', :\")\n",
    "        else:\n",
    "            val = val[index1+4:index3]\n",
    "            val = val.strip(\"', :\")                \n",
    "        auth_id = val\n",
    "        index1 = value.find(\"AuN\")\n",
    "        val = value[index1+3:]\n",
    "        val = val.strip(\"': }]\")\n",
    "        auth_name = val\n",
    "        auth_info = author_list.get(auth_id,[\"\",0,0,0,set()])\n",
    "        auth_info[0] = auth_name\n",
    "        auth_info[1] += row[\"page_rank\"] * cf_score[row[\"Venue\"]]\n",
    "        auth_info[2] += 1\n",
    "        auth_info[3] += row[\"Citation_count\"]\n",
    "        auth_info[4].add(row[\"Venue\"])\n",
    "        author_list[auth_id] = auth_info\n",
    "for key, value in author_list.items():\n",
    "    auth_info = author_list.get(key,[\"\",0,0])\n",
    "    author_score[key] = auth_info[1]/auth_info[2]"
   ]
  },
  {
   "cell_type": "code",
   "execution_count": null,
   "metadata": {
    "_uuid": "0a11188aec4a925ae15c7d51bdc4b2d75619f737"
   },
   "outputs": [],
   "source": [
    "def get_author_papers(auth_id):\n",
    "    auth_info = author_list.get(auth_id,[\"\",0,0,0])\n",
    "    return auth_info[2]\n",
    "def get_author_citation(auth_id):\n",
    "    auth_info = author_list.get(auth_id,[\"\",0,0,0])\n",
    "    return auth_info[3]\n",
    "def get_author_name(auth_id):\n",
    "    auth_info = author_list.get(auth_id,[\"\",0,0,0])\n",
    "    return auth_info[0]\n",
    "def get_author_publications(auth_id):\n",
    "    auth_info = author_list.get(auth_id,[\"\",0,0,0])\n",
    "    return len(auth_info[4])"
   ]
  },
  {
   "cell_type": "code",
   "execution_count": null,
   "metadata": {
    "_uuid": "7c4af276db415595ae7b0a33b01741b8b53cf0a6"
   },
   "outputs": [],
   "source": [
    "columns = [\"Author Id\",\"Author Name\",\"Number Of Papers\",\"Number Of Publications\",\"Author Score\",\"Number Of Citations\"]\n",
    "df_authors = pd.DataFrame(np.nan, index=range(0,len(author_score.keys())),columns=columns)\n",
    "df_authors[\"Author Id\"] = author_score.keys()\n",
    "df_authors[\"Author Score\"] = author_score.values()\n",
    "df_authors[\"Number Of Citations\"] = df_authors.apply(lambda row: get_author_citation(row[\"Author Id\"]),axis = 1)\n",
    "df_authors[\"Number Of Papers\"] = df_authors.apply(lambda row: get_author_papers(row[\"Author Id\"]),axis = 1)\n",
    "df_authors[\"Author Name\"] = df_authors.apply(lambda row: get_author_name(row[\"Author Id\"]),axis = 1)\n",
    "df_authors[\"Number Of Publications\"] = df_authors.apply(lambda row: get_author_publications(row[\"Author Id\"]),axis = 1)"
   ]
  },
  {
   "cell_type": "code",
   "execution_count": null,
   "metadata": {
    "_uuid": "8953dc634956bdea498c04b183a3690c38be0931"
   },
   "outputs": [],
   "source": [
    "del author_list\n",
    "# del author_score\n",
    "del cf_score"
   ]
  },
  {
   "cell_type": "code",
   "execution_count": null,
   "metadata": {
    "_uuid": "294479b5e0257689e580f3af6fd4e48aa6651f5a"
   },
   "outputs": [],
   "source": [
    "# df = tidy_split(df,\"Authors\",\"},\")"
   ]
  },
  {
   "cell_type": "code",
   "execution_count": null,
   "metadata": {
    "_uuid": "08ccd8938462e6fbd625b4c9aee80034d21e4f93"
   },
   "outputs": [],
   "source": [
    "def get_avg_author_score(row):\n",
    "    values = row[\"Authors\"].split(\"},\")\n",
    "    sum_score = 0\n",
    "    for value in values:\n",
    "        val = value\n",
    "        index1 = val.find(\"AuId\")\n",
    "        index2 = val.find(\"AfN\")\n",
    "        index3 = val.find(\"'S'\")\n",
    "        if index3 < index1:\n",
    "            val = val[index1+4:index2]\n",
    "            val = val.strip(\"', :\")\n",
    "        else:\n",
    "            val = val[index1+4:index3]\n",
    "            val = val.strip(\"', :\")                \n",
    "        auth_id = val\n",
    "        sum_score += author_score[auth_id]\n",
    "#         sum_score = df_authors[df_authors[\"Author Id\"] == auth_id][\"Author Score\"]\n",
    "    return sum_score/row[\"Number_Of_authors\"]"
   ]
  },
  {
   "cell_type": "code",
   "execution_count": null,
   "metadata": {
    "_uuid": "f483219f214e2fbf297266b4aabe0dd573d86d42"
   },
   "outputs": [],
   "source": [
    "df[\"Avg_Author_score\"] = df.apply(lambda row: get_avg_author_score(row),axis = 1)"
   ]
  },
  {
   "cell_type": "code",
   "execution_count": null,
   "metadata": {
    "_uuid": "1cec32f51653e0c5bfa8e64e50cfaf8771b3f3da"
   },
   "outputs": [],
   "source": [
    "def get_first_author(row):\n",
    "    values = row[\"Authors\"].split(\"},\")\n",
    "    val = values[0]\n",
    "    index1 = val.find(\"AuId\")\n",
    "    index2 = val.find(\"AfN\")\n",
    "    index3 = val.find(\"'S'\")\n",
    "    if index3 < index1:\n",
    "        val = val[index1+4:index2]\n",
    "        val = val.strip(\"', :\")\n",
    "    else:\n",
    "        val = val[index1+4:index3]\n",
    "        val = val.strip(\"', :\")                \n",
    "    auth_id = val\n",
    "    return auth_id\n",
    "def get_first_author_score(row):\n",
    "    values = row[\"Authors\"].split(\"},\")\n",
    "    val = values[0]\n",
    "    index1 = val.find(\"AuId\")\n",
    "    index2 = val.find(\"AfN\")\n",
    "    index3 = val.find(\"'S'\")\n",
    "    if index3 < index1:\n",
    "        val = val[index1+4:index2]\n",
    "        val = val.strip(\"', :\")\n",
    "    else:\n",
    "        val = val[index1+4:index3]\n",
    "        val = val.strip(\"', :\")                \n",
    "    auth_id = val\n",
    "    return author_score[auth_id]\n",
    "#     return df[df[\"Author Id\"] == auth_id][\"Author Score\"]"
   ]
  },
  {
   "cell_type": "code",
   "execution_count": null,
   "metadata": {
    "_uuid": "a2c22cf302ff3ed7794b2bb1ef6d596cfc568a91"
   },
   "outputs": [],
   "source": [
    "df[\"FirstAuthor\"] = df.apply(lambda row: get_first_author(row),axis = 1)\n",
    "df[\"FirstAuthorScore\"] = df.apply(lambda row: get_first_author_score(row),axis = 1)"
   ]
  },
  {
   "cell_type": "code",
   "execution_count": null,
   "metadata": {
    "_uuid": "53e52362ee45a238a80836ad501dba29b8ce8c20"
   },
   "outputs": [],
   "source": [
    "del author_score"
   ]
  },
  {
   "cell_type": "code",
   "execution_count": null,
   "metadata": {
    "_uuid": "e8953bb8c8f09aa5a916761a2ecae51269e7e105"
   },
   "outputs": [],
   "source": [
    "df[\"Domain_count\"] = df.apply(lambda row:get_num_domains(row), axis = 1)"
   ]
  },
  {
   "cell_type": "code",
   "execution_count": null,
   "metadata": {
    "_uuid": "8f17f0738f949d2460e2d070e49be236de90f242"
   },
   "outputs": [],
   "source": [
    "df.head()"
   ]
  },
  {
   "cell_type": "code",
   "execution_count": null,
   "metadata": {
    "_uuid": "46552181297e26b3fdcecfa4cb6288f797d40675"
   },
   "outputs": [],
   "source": [
    "df.to_csv(\"final_featured_data.csv\")"
   ]
  },
  {
   "cell_type": "code",
   "execution_count": null,
   "metadata": {
    "_uuid": "60b24a5ab8f81c3b62d56cc705a3c5de6bbf386a"
   },
   "outputs": [],
   "source": [
    "features = ['Avg_Author_score','FirstAuthor','FirstAuthorScore','Citation_count','Id','Year','Popularity','Month','Publication_Rank','Publication Type','Number_Of_authors','Year Since Publication','Venue_label','Domain_count','Topic_label']"
   ]
  },
  {
   "cell_type": "code",
   "execution_count": null,
   "metadata": {
    "_uuid": "ebe3019087a13dfaafc48e2ed7119138af366835"
   },
   "outputs": [],
   "source": [
    "df[\"FirstAuthor\"] = df[\"FirstAuthor\"].astype(int)\n",
    "df[\"Number_Of_authors\"] = df[\"Number_Of_authors\"].astype(int)\n",
    "df[\"Publication Type\"] = df[\"Publication Type\"].astype(int)\n",
    "df[\"Month\"] = df[\"Month\"].astype(int)\n",
    "df[\"Id\"] = df[\"Id\"].astype(int)\n",
    "df[\"Year\"] = df[\"Year\"].astype(int)\n",
    "df[\"Citation_count\"] = df[\"Citation_count\"].astype(int)"
   ]
  },
  {
   "cell_type": "code",
   "execution_count": null,
   "metadata": {
    "_uuid": "0f44afb7776b60cd85b0635ed6dd04ff9b03714a"
   },
   "outputs": [],
   "source": [
    "df_train = df[df[\"Year\"] <= 2010]\n",
    "df_dev = df[df[\"Year\"] == 2011]\n",
    "df_eval = df[df[\"Year\"] > 2011]"
   ]
  },
  {
   "cell_type": "code",
   "execution_count": null,
   "metadata": {
    "_uuid": "6fdc8225c514979b6db14e4113573bc1a13e24ad"
   },
   "outputs": [],
   "source": [
    "# df.dtypes"
   ]
  },
  {
   "cell_type": "code",
   "execution_count": null,
   "metadata": {
    "_uuid": "0a02aa57f46a0535fc5e8d96535a54d201a6065d"
   },
   "outputs": [],
   "source": [
    "# df.shape"
   ]
  },
  {
   "cell_type": "code",
   "execution_count": null,
   "metadata": {
    "_uuid": "573245d1a73e436e3d633e545f8b48cdeb179de8"
   },
   "outputs": [],
   "source": [
    "import lightgbm as lgb \n",
    "\n",
    "lgb_params = {\"objective\" : \"regression\", \"metric\" : \"rmse\",\n",
    "              \"num_leaves\" : 70, \"learning_rate\" : 0.01, \n",
    "              \"bagging_fraction\" : 0.75, \"feature_fraction\" : 0.8, \"bagging_frequency\" : 9}\n",
    "    \n",
    "lgb_train = lgb.Dataset(df_train[features], label=df_train[\"page_rank\"])\n",
    "lgb_val = lgb.Dataset(df_dev[features], label=df_dev[\"page_rank\"])\n",
    "model = lgb.LGBMRegressor(boosting_type='gbdt',num_leaves=31,max_depth=-1, \n",
    "learning_rate=0.01, \n",
    "n_estimators=1000, \n",
    "max_bin=255, \n",
    "subsample_for_bin=50000, \n",
    "objective=None, \n",
    "min_split_gain=0, \n",
    "min_child_weight=3,\n",
    "min_child_samples=10, \n",
    "subsample=1, \n",
    "subsample_freq=1, \n",
    "colsample_bytree=1, \n",
    "reg_alpha=0.1, \n",
    "reg_lambda=0, \n",
    "seed=17,\n",
    "silent=False, \n",
    "nthread=-1)\n",
    "model.fit(df_train[features], df_train[\"page_rank\"], eval_set=[(df_dev[features], df_dev[\"page_rank\"])])"
   ]
  },
  {
   "cell_type": "code",
   "execution_count": null,
   "metadata": {
    "_uuid": "e7df1f97eeb3bcd56bcfbd8d3757964a4cab9db2"
   },
   "outputs": [],
   "source": [
    "pred_dev = model.predict(df_dev[features])\n",
    "pred_test = model.predict(df_eval[features])"
   ]
  },
  {
   "cell_type": "code",
   "execution_count": null,
   "metadata": {
    "_uuid": "8fcf0fce22f4c7df1a65774481d9196b573ce7b9"
   },
   "outputs": [],
   "source": [
    "df_eval['prob'] = pred_test"
   ]
  },
  {
   "cell_type": "code",
   "execution_count": null,
   "metadata": {
    "_uuid": "017cc2f310ebc4aedbb2a21f43aebb5992409d1a"
   },
   "outputs": [],
   "source": [
    "import math\n",
    "\n",
    "def sigmoid(x):\n",
    "  return 1 / (1 + math.exp(-x))"
   ]
  },
  {
   "cell_type": "code",
   "execution_count": null,
   "metadata": {
    "_uuid": "01a2ab6a22cfd84a02dafbf8ecf219d73401cf01"
   },
   "outputs": [],
   "source": [
    "df_eval['prob'] = df_eval.apply (lambda row: sigmoid(row[\"page_rank\"]),axis=1)\n",
    "df_eval = df_eval.sort_values(by=['prob'],ascending=False)\n",
    "print(df_eval[0:100])"
   ]
  },
  {
   "cell_type": "code",
   "execution_count": null,
   "metadata": {
    "_uuid": "34314b3c6c3dc0b4fa70388902368bb441bb85eb"
   },
   "outputs": [],
   "source": [
    "imp_list = model.feature_importances_"
   ]
  },
  {
   "cell_type": "code",
   "execution_count": null,
   "metadata": {
    "_uuid": "d956fa128f4f1db8b36923fdd1e44004a22bfd98"
   },
   "outputs": [],
   "source": [
    "num = sum(imp_list)"
   ]
  },
  {
   "cell_type": "code",
   "execution_count": null,
   "metadata": {
    "_uuid": "16cc050c8692dc67d1403c264fe926b90e42ff4e"
   },
   "outputs": [],
   "source": [
    "import matplotlib.pyplot as plt\n",
    "import seaborn as sns\n",
    "import warnings\n",
    "warnings.simplefilter(action='ignore', category=FutureWarning)\n",
    "\n",
    "# sorted(zip(clf.feature_importances_, X.columns), reverse=True)\n",
    "feature_imp = pd.DataFrame(sorted(zip(model.feature_importances_,features)), columns=['Value','Feature'])\n",
    "\n",
    "plt.figure(figsize=(20, 10))\n",
    "sns.barplot(x=\"Value\", y=\"Feature\", data=feature_imp.sort_values(by=\"Value\", ascending=False))\n",
    "plt.title('LightGBM Features (avg over folds)')\n",
    "plt.tight_layout()\n",
    "plt.show()\n",
    "plt.savefig('lgbm_importances-01.png')"
   ]
  },
  {
   "cell_type": "code",
   "execution_count": null,
   "metadata": {
    "_uuid": "1a4b4d565da71f4a89630651c0492b275c4a0cc5"
   },
   "outputs": [],
   "source": [
    "df_eval.to_csv(\"Model_output_rank.csv\")"
   ]
  },
  {
   "cell_type": "code",
   "execution_count": null,
   "metadata": {
    "_uuid": "072fc2a7cca45a3db8b576a4561c3763680b45be"
   },
   "outputs": [],
   "source": [
    "df_eval.head()"
   ]
  },
  {
   "cell_type": "code",
   "execution_count": null,
   "metadata": {
    "_uuid": "a4b96698d1e9b6c5ff68942f5ff1c6181274c3da"
   },
   "outputs": [],
   "source": [
    "author_score = {}\n",
    "author_list = {}\n",
    "for index,row in df_eval.iterrows():\n",
    "    values = row[\"Authors\"].split(\"},\")\n",
    "    for value in values:\n",
    "        val = value\n",
    "        index1 = val.find(\"AuId\")\n",
    "        index2 = val.find(\"AfN\")\n",
    "        index3 = val.find(\"'S'\")\n",
    "        if index3 < index1:\n",
    "            val = val[index1+4:index2]\n",
    "            val = val.strip(\"', :\")\n",
    "        else:\n",
    "            val = val[index1+4:index3]\n",
    "            val = val.strip(\"', :\")                \n",
    "        auth_id = val\n",
    "        index1 = value.find(\"AuN\")\n",
    "        val = value[index1+3:]\n",
    "        val = val.strip(\"': }]\")\n",
    "        auth_name = val\n",
    "        auth_info = author_list.get(auth_id,[0,0])\n",
    "        auth_info[0] += row[\"page_rank\"] * row[\"prob\"]\n",
    "        auth_info[1] += 1\n",
    "        author_list[auth_id] = auth_info\n",
    "for key, value in author_list.items():\n",
    "    auth_info = author_list.get(key,[0,0])\n",
    "    author_score[key] = auth_info[0]/auth_info[1]"
   ]
  },
  {
   "cell_type": "code",
   "execution_count": null,
   "metadata": {
    "_uuid": "81c4e032d8d6b901112adfe2d1b39dc0e1c200f8"
   },
   "outputs": [],
   "source": [
    "def get_author_new_score(auth_id):\n",
    "    if auth_id in author_score.keys():\n",
    "        return author_score[auth_id]\n",
    "    else:\n",
    "        return 0"
   ]
  },
  {
   "cell_type": "code",
   "execution_count": null,
   "metadata": {
    "_uuid": "84da0d0dc961a9ea4ab3a7e6cdbb22e9b6e1752b"
   },
   "outputs": [],
   "source": [
    "del authr_list\n",
    "del author_score"
   ]
  },
  {
   "cell_type": "code",
   "execution_count": null,
   "metadata": {
    "_uuid": "f9d18817251fb03fa37811535c1a7bf937345862"
   },
   "outputs": [],
   "source": [
    "df_authors[\"Pred Score\"] = df_authors.apply(lambda row: get_author_new_score(row[\"Author Id\"]),axis = 1)"
   ]
  },
  {
   "cell_type": "code",
   "execution_count": null,
   "metadata": {
    "_uuid": "3ed05f51f28043b074ac78882cc75e0af2b999d3"
   },
   "outputs": [],
   "source": [
    "df_authors.to_csv(\"Author_Table.csv\")"
   ]
  }
 ],
 "metadata": {
  "kernelspec": {
   "display_name": "Python 3",
   "language": "python",
   "name": "python3"
  },
  "language_info": {
   "codemirror_mode": {
    "name": "ipython",
    "version": 3
   },
   "file_extension": ".py",
   "mimetype": "text/x-python",
   "name": "python",
   "nbconvert_exporter": "python",
   "pygments_lexer": "ipython3",
   "version": "3.7.1"
  }
 },
 "nbformat": 4,
 "nbformat_minor": 1
}
